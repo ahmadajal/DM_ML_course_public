{
  "cells": [
    {
      "cell_type": "markdown",
      "source": [
        "# Lab 2.2 Introduction to Data Analysis through examples"
      ],
      "metadata": {}
    },
    {
      "cell_type": "markdown",
      "source": [
        "## Setup and preliminaries"
      ],
      "metadata": {}
    },
    {
      "cell_type": "code",
      "source": [
        "# Render our plots inline\n",
        "%matplotlib inline\n",
        "%config InlineBackend.figure_format = 'retina'"
      ],
      "outputs": [],
      "execution_count": null,
      "metadata": {}
    },
    {
      "cell_type": "code",
      "source": [
        "import pandas as pd\n",
        "import numpy as np\n",
        "import matplotlib\n",
        "import matplotlib.pyplot as plt\n",
        "import seaborn as sns"
      ],
      "outputs": [],
      "execution_count": null,
      "metadata": {}
    },
    {
      "cell_type": "markdown",
      "source": [
        "We type some code to simply change the visual style of the plots. (The code below is optional and not necessary, and for now you do not need to understand what exactly is happening.)"
      ],
      "metadata": {}
    },
    {
      "cell_type": "code",
      "source": [
        "# Make the graphs a bit bigger\n",
        "matplotlib.style.use(['seaborn-talk', 'seaborn-ticks', 'seaborn-whitegrid'])"
      ],
      "outputs": [],
      "execution_count": null,
      "metadata": {}
    },
    {
      "cell_type": "markdown",
      "source": [
        "## Basic Example: Creating a DataFrame from Scratch\n",
        "\n",
        "This is an example of creating a dataframe by passing a list of dictionaries."
      ],
      "metadata": {}
    },
    {
      "cell_type": "code",
      "source": [
        "df = pd.DataFrame([ \n",
        "    {\"First Name\": \"Michalis\", \"Last Name\":\" Vlachos\"},\n",
        "    {\"First Name\": \"John\", \"Last Name\":\" Doe\"},\n",
        "    {\"Last Name\":\"Trump\"}\n",
        "])\n"
      ],
      "outputs": [],
      "execution_count": null,
      "metadata": {}
    },
    {
      "cell_type": "code",
      "source": [
        "df"
      ],
      "outputs": [],
      "execution_count": null,
      "metadata": {}
    },
    {
      "cell_type": "markdown",
      "source": [
        "## part 1: Restaurant inspection results in NYC"
      ],
      "metadata": {}
    },
    {
      "cell_type": "markdown",
      "source": [
        "We will use a dataset with restaurant inspection results in NYC which is stored at `/data/restaurants.csv`.\n"
      ],
      "metadata": {}
    },
    {
      "cell_type": "markdown",
      "source": [
        "### Reading a CSV file\n",
        "We can directly load csv file from the url with pandas"
      ],
      "metadata": {}
    },
    {
      "cell_type": "code",
      "source": [
        "import pandas as pd\n",
        "restaurants = pd.read_csv('https://data.cityofnewyork.us/api/views/43nn-pn8j/rows.csv?accessType=DOWNLOAD', \n",
        "                          encoding='utf_8', \n",
        "                          dtype = 'unicode',\n",
        "                          parse_dates = True,\n",
        "                          infer_datetime_format = True,\n",
        "                          low_memory=False)"
      ],
      "outputs": [],
      "execution_count": null,
      "metadata": {}
    },
    {
      "cell_type": "markdown",
      "source": [
        "Alternatively, you can first download it and then load it from a local directory in your computer(in case you are not using colab)"
      ],
      "metadata": {}
    },
    {
      "cell_type": "code",
      "source": [
        "# # Creates a folder \"data\" under the current folder\n",
        "# !mkdir -p data\n",
        "# # Removes any prior file if it exists\n",
        "# !rm -f data/restaurant.csv\n",
        "# # Fetches the most recent dataset and stores it under the folder data\n",
        "# !curl 'https://data.cityofnewyork.us/api/views/43nn-pn8j/rows.csv?accessType=DOWNLOAD' -o data/restaurant.csv"
      ],
      "outputs": [],
      "execution_count": null,
      "metadata": {}
    },
    {
      "cell_type": "code",
      "source": [
        "restaurants = pd.read_csv('data/restaurant.csv', \n",
        "                          encoding='utf_8', \n",
        "                          dtype = 'unicode',\n",
        "                          parse_dates = True,\n",
        "                          infer_datetime_format = True,\n",
        "                          low_memory=False)"
      ],
      "outputs": [],
      "execution_count": null,
      "metadata": {}
    },
    {
      "cell_type": "markdown",
      "source": [
        "Let's take a look at the first 5 rows of the dataframe"
      ],
      "metadata": {}
    },
    {
      "cell_type": "code",
      "source": [
        "restaurants.head(5)"
      ],
      "outputs": [],
      "execution_count": null,
      "metadata": {}
    },
    {
      "cell_type": "markdown",
      "source": [
        "The read_csv method has many options, and you can read further in the [online documentation](http://pandas.pydata.org/pandas-docs/stable/generated/pandas.io.parsers.read_csv.html)."
      ],
      "metadata": {}
    },
    {
      "cell_type": "markdown",
      "source": [
        "### Descriptive statistics\n",
        "\n",
        "We can use the method \"describe()\" to get a quick overview of the data in the dataframe."
      ],
      "metadata": {}
    },
    {
      "cell_type": "code",
      "source": [
        "restaurants.describe()"
      ],
      "outputs": [],
      "execution_count": null,
      "metadata": {}
    },
    {
      "cell_type": "markdown",
      "source": [
        "We can also check the data types for each column"
      ],
      "metadata": {}
    },
    {
      "cell_type": "code",
      "source": [
        "restaurants.dtypes"
      ],
      "outputs": [],
      "execution_count": null,
      "metadata": {}
    },
    {
      "cell_type": "markdown",
      "source": [
        "The `object` type is a string. For many of these, we would like to change the data types for a few columns, using the `pd.to_numeric` and `pd.to_datetime` functions. We examine how to convert data types below."
      ],
      "metadata": {}
    },
    {
      "cell_type": "markdown",
      "source": [
        "### Descriptive Statistics for Numeric Variables\n"
      ],
      "metadata": {}
    },
    {
      "cell_type": "markdown",
      "source": [
        "#### Converting Data Types to Numeric"
      ],
      "metadata": {}
    },
    {
      "cell_type": "markdown",
      "source": [
        "The `object` type is a string. When we want to convert an object to numeric, we can use the `pd.to_numeric` function, as shown below:"
      ],
      "metadata": {}
    },
    {
      "cell_type": "code",
      "source": [
        "restaurants[[\"SCORE\"]].head()"
      ],
      "outputs": [],
      "execution_count": null,
      "metadata": {}
    },
    {
      "cell_type": "code",
      "source": [
        "restaurants[\"SCORE\"] = pd.to_numeric(restaurants[\"SCORE\"])\n",
        "restaurants.dtypes"
      ],
      "outputs": [],
      "execution_count": null,
      "metadata": {}
    },
    {
      "cell_type": "markdown",
      "source": [
        "#### Basic descriptive statistics for numeric variables\n",
        "\n",
        "And now that SCORE is a numeric variable, we can get more detailed descriptive statistics for the variable using the `.describe()` command:"
      ],
      "metadata": {}
    },
    {
      "cell_type": "code",
      "source": [
        "# For column names without a space, we can also access directly the column as follows:\n",
        "restaurants.SCORE.describe()"
      ],
      "outputs": [],
      "execution_count": null,
      "metadata": {}
    },
    {
      "cell_type": "markdown",
      "source": [
        "And now that SCORE is a numeric variable, we can examine its distribution by using the `hist` command of Pandas, which creates a histogram. (The histogram is also available as `plot.hist`, or `plot(kind='hist'))`.)"
      ],
      "metadata": {}
    },
    {
      "cell_type": "code",
      "source": [
        "restaurants[\"SCORE\"].hist()"
      ],
      "outputs": [],
      "execution_count": null,
      "metadata": {}
    },
    {
      "cell_type": "markdown",
      "source": [
        "By default, the histogram has ~10 bars in out plot. We can change the resolution of the histogram using the `bins` variable. Larger number of `bins` allow for higher resolution, but if we increase the number too much, many bins end up having very few, or no data points. For example, experiment with changing the balue of bins below, and change the value from 50 to something bigger."
      ],
      "metadata": {}
    },
    {
      "cell_type": "code",
      "source": [
        "restaurants[\"SCORE\"].hist(bins=50)"
      ],
      "outputs": [],
      "execution_count": null,
      "metadata": {}
    },
    {
      "cell_type": "code",
      "source": [
        "# A quick exposure to various options of the \"hist\" command \n",
        "restaurants.SCORE.hist(bins=50, # use 50 bars\n",
        "                          range=(0,50), # x-axis from 0 to 50\n",
        "                          density=False,  # show normalized count (density=True), or raw counts (density= False)\n",
        "                          figsize=(15,5), # controls the size of the plot\n",
        "                          alpha = 0.8 # make the plot 20% transparent\n",
        "                         )"
      ],
      "outputs": [],
      "execution_count": null,
      "metadata": {}
    },
    {
      "cell_type": "markdown",
      "source": [
        "#### Kernel Density Estimation (KDE)\n",
        "\n",
        "An alternative to histograms is to use the **kernel density**, which estimates a continuous function, instead of the bucketized counts, which tends to be discontunuous and bumpy. We can access this usind the `.plot(kind='kde')` command:"
      ],
      "metadata": {}
    },
    {
      "cell_type": "code",
      "source": [
        "# This plots the density of a numeric attribute\n",
        "# kde = kernel density estimation\n",
        "restaurants.SCORE.plot(\n",
        "    kind='kde', \n",
        "    color='Black', \n",
        "    xlim=(0,50), \n",
        "    figsize=(15,5)\n",
        ")"
      ],
      "outputs": [],
      "execution_count": null,
      "metadata": {}
    },
    {
      "cell_type": "markdown",
      "source": [
        "### Converting Dates"
      ],
      "metadata": {}
    },
    {
      "cell_type": "markdown",
      "source": [
        "Now let's convert the dates columns into the appropriate data types. Let's take a look at a few dates."
      ],
      "metadata": {}
    },
    {
      "cell_type": "code",
      "source": [
        "restaurants[\"GRADE DATE\"].head(10)"
      ],
      "outputs": [],
      "execution_count": null,
      "metadata": {}
    },
    {
      "cell_type": "markdown",
      "source": [
        "For that, we need to understand first how to [parse dates using the Python conventions](https://docs.python.org/3/library/datetime.html#strftime-and-strptime-behavior).\n",
        "\n",
        "The relevant entries from the table are:\n",
        "* `%m` Month as a zero-padded decimal number.\n",
        "* `%d` \tDay of the month as a zero-padded decimal number.\n",
        "* `%Y` Year with century as a decimal number.\n",
        "\n",
        "Now, we can specify how to parse these dates. (In principle, we can let Pandas do this automatically, but it is _much_ faster if we specify it ourselves. It is also much less error-prone.)"
      ],
      "metadata": {}
    },
    {
      "cell_type": "code",
      "source": [
        "restaurants[\"GRADE DATE\"] = pd.to_datetime(restaurants[\"GRADE DATE\"], format=\"%m/%d/%Y\")\n",
        "restaurants[\"RECORD DATE\"] = pd.to_datetime(restaurants[\"RECORD DATE\"], format=\"%m/%d/%Y\")\n",
        "restaurants[\"INSPECTION DATE\"] = pd.to_datetime(restaurants[\"INSPECTION DATE\"], format=\"%m/%d/%Y\")"
      ],
      "outputs": [],
      "execution_count": null,
      "metadata": {}
    },
    {
      "cell_type": "code",
      "source": [
        "restaurants.dtypes"
      ],
      "outputs": [],
      "execution_count": null,
      "metadata": {}
    },
    {
      "cell_type": "code",
      "source": [
        "restaurants[[\"INSPECTION DATE\", \"GRADE DATE\", \"RECORD DATE\"]].describe()"
      ],
      "outputs": [],
      "execution_count": null,
      "metadata": {}
    },
    {
      "cell_type": "markdown",
      "source": [
        "#### Exercise\n",
        "\n",
        "* Plot a histogram for `INSPECTION DATE`, `GRADE DATE`, `RECORD DATE`. What do you see?\n",
        "* Try modifying the `bins` parameter. What are the results?\n",
        "* The `range=(start, finish)` command is often useful, when we want to focus on a particular part of the dataset. Try using that for  `INSPECTION DATE` to limit the dates to be between 1/1/2014 and 05/31/2018."
      ],
      "metadata": {}
    },
    {
      "cell_type": "code",
      "source": [
        "# Not very appealing\n",
        "restaurants['INSPECTION DATE'].hist()"
      ],
      "outputs": [],
      "execution_count": null,
      "metadata": {
        "solution2": "hidden"
      }
    },
    {
      "cell_type": "code",
      "source": [
        "restaurants['GRADE DATE'].hist()"
      ],
      "outputs": [],
      "execution_count": null,
      "metadata": {
        "solution2": "hidden"
      }
    },
    {
      "cell_type": "code",
      "source": [
        "restaurants['INSPECTION DATE'].hist(\n",
        "    range = ('1/1/2014','9/30/2018'), # limit the range of dates, ignore the 1/1/1990 faulty valye\n",
        "    bins = 57, # number of months in the range -- computed manually\n",
        "    figsize = (15,5) # resize 15-width, 5-height\n",
        ")"
      ],
      "outputs": [],
      "execution_count": null,
      "metadata": {
        "solution2": "hidden"
      }
    },
    {
      "cell_type": "code",
      "source": [
        "restaurants['GRADE DATE'].hist(\n",
        "    range = ('1/1/2014','9/30/2018'), # limit the range of dates, ignore the 1/1/1990 faulty valye\n",
        "    bins = 57, # number of months in the range -- computed manually\n",
        "    figsize = (15,5) # resize 15-width, 5-height\n",
        ")"
      ],
      "outputs": [],
      "execution_count": null,
      "metadata": {
        "solution2": "hidden"
      }
    },
    {
      "cell_type": "markdown",
      "source": [
        "### Categorical Variables\n",
        "\n",
        "This is less important, but sometimes we want to specify variables to be \"Categorical\". This is most commonly useful when we have variables that have an implicit order (e.g., the A/B/C grade of the restaurant)."
      ],
      "metadata": {}
    },
    {
      "cell_type": "code",
      "source": [
        "restaurants[\"BORO\"] =  pd.Categorical(restaurants[\"BORO\"], ordered=False)\n",
        "restaurants[\"GRADE\"] =  pd.Categorical(restaurants[\"GRADE\"], categories = ['A', 'B', 'C'], ordered=True)\n",
        "restaurants[\"VIOLATION CODE\"] =  pd.Categorical(restaurants[\"VIOLATION CODE\"], ordered=False)\n",
        "restaurants[\"CRITICAL FLAG\"] =  pd.Categorical(restaurants[\"CRITICAL FLAG\"], ordered=False)\n",
        "restaurants[\"ACTION\"] =  pd.Categorical(restaurants[\"ACTION\"], ordered=False)\n",
        "restaurants[\"CUISINE DESCRIPTION\"] =  pd.Categorical(restaurants[\"CUISINE DESCRIPTION\"], ordered=False)\n",
        "restaurants.dtypes"
      ],
      "outputs": [],
      "execution_count": null,
      "metadata": {}
    },
    {
      "cell_type": "markdown",
      "source": [
        "### Analyzing the content of the columns"
      ],
      "metadata": {}
    },
    {
      "cell_type": "markdown",
      "source": [
        "We can also get quick statistics about the common values that appear in each column:"
      ],
      "metadata": {}
    },
    {
      "cell_type": "code",
      "source": [
        "restaurants[\"DBA\"].value_counts()[:10] "
      ],
      "outputs": [],
      "execution_count": null,
      "metadata": {}
    },
    {
      "cell_type": "code",
      "source": [
        "restaurants[\"CUISINE DESCRIPTION\"].value_counts()[:5]"
      ],
      "outputs": [],
      "execution_count": null,
      "metadata": {}
    },
    {
      "cell_type": "markdown",
      "source": [
        "And we can use the \"plot\" command to plot the resulting histogram. (More details at http://pandas.pydata.org/pandas-docs/stable/visualization.html) We also revisit plotting below."
      ],
      "metadata": {}
    },
    {
      "cell_type": "code",
      "source": [
        "restaurants[\"CUISINE DESCRIPTION\"].value_counts()[:5].plot(kind='bar')"
      ],
      "outputs": [],
      "execution_count": null,
      "metadata": {}
    },
    {
      "cell_type": "code",
      "source": [
        "popular = restaurants[\"CUISINE DESCRIPTION\"].value_counts()\n",
        "popular"
      ],
      "outputs": [],
      "execution_count": null,
      "metadata": {}
    },
    {
      "cell_type": "markdown",
      "source": [
        "Hm, that does not look nice. Let's shorten the name of the cuisine for the _\"Latin (Cuban, Dominican, Puerto Rican, South & Central American)\"_ and replace it with _\"Latin American\"_. We will use the `replace` command in Pandas:"
      ],
      "metadata": {}
    },
    {
      "cell_type": "code",
      "source": [
        "restaurants[\"CUISINE DESCRIPTION\"].replace(\n",
        "    to_replace='Latin (Cuban, Dominican, Puerto Rican, South & Central American)',\n",
        "    value = 'Latin American',\n",
        "    inplace=True\n",
        ")"
      ],
      "outputs": [],
      "execution_count": null,
      "metadata": {}
    },
    {
      "cell_type": "code",
      "source": [
        "restaurants[\"CUISINE DESCRIPTION\"].replace(\n",
        "    to_replace='CafÃ©/Coffee/Tea',\n",
        "    value = 'Cafe/Coffee/Tea',\n",
        "    inplace=True\n",
        ")\n"
      ],
      "outputs": [],
      "execution_count": null,
      "metadata": {}
    },
    {
      "cell_type": "code",
      "source": [
        "popular = restaurants[\"CUISINE DESCRIPTION\"].value_counts()\n",
        "popular[:5].plot(kind='bar')"
      ],
      "outputs": [],
      "execution_count": null,
      "metadata": {}
    },
    {
      "cell_type": "markdown",
      "source": [
        "Let's do the similar histogram for the violation codes"
      ],
      "metadata": {}
    },
    {
      "cell_type": "code",
      "source": [
        "restaurants[\"VIOLATION CODE\"].head(5)"
      ],
      "outputs": [],
      "execution_count": null,
      "metadata": {}
    },
    {
      "cell_type": "code",
      "source": [
        "violation_counts = restaurants[\"VIOLATION CODE\"].value_counts();\n",
        "violation_counts[0:10]"
      ],
      "outputs": [],
      "execution_count": null,
      "metadata": {}
    },
    {
      "cell_type": "code",
      "source": [
        "violation_counts[0:20].plot(kind='bar')"
      ],
      "outputs": [],
      "execution_count": null,
      "metadata": {}
    },
    {
      "cell_type": "markdown",
      "source": [
        "#### Exercise\n",
        "\n",
        "* Create a plot showing the number of inspections that happen across **boroughs**. Use the `BORO` column and the `value_counts()` function."
      ],
      "metadata": {}
    },
    {
      "cell_type": "code",
      "source": [
        "restaurants['BORO'].value_counts()"
      ],
      "outputs": [],
      "execution_count": null,
      "metadata": {
        "solution2": "hidden"
      }
    },
    {
      "cell_type": "code",
      "source": [
        "# Same as above; works only for attribute names without spaces\n",
        "restaurants.BORO.value_counts()"
      ],
      "outputs": [],
      "execution_count": null,
      "metadata": {
        "solution2": "hidden"
      }
    },
    {
      "cell_type": "code",
      "source": [
        "restaurants['BORO'].value_counts().plot(kind='bar')"
      ],
      "outputs": [],
      "execution_count": null,
      "metadata": {
        "solution2": "hidden"
      }
    },
    {
      "cell_type": "code",
      "source": [
        "restaurants['BORO'].value_counts().plot(kind='barh')"
      ],
      "outputs": [],
      "execution_count": null,
      "metadata": {
        "solution2": "hidden"
      }
    },
    {
      "cell_type": "markdown",
      "source": [
        "### Selecting a subset of the columns\n",
        "\n",
        "In a dataframe, we can specify the column(s) that we want to keep, and get back another dataframe with just the subset of the columns that we want to keep."
      ],
      "metadata": {}
    },
    {
      "cell_type": "code",
      "source": [
        "restaurants[ [\"DBA\", \"GRADE\", \"GRADE DATE\"] ].head()"
      ],
      "outputs": [],
      "execution_count": null,
      "metadata": {}
    },
    {
      "cell_type": "code",
      "source": [
        "columns = [\"GRADE DATE\",\"VIOLATION CODE\", \"DBA\", \"SCORE\"]\n",
        "restaurants[ columns ].head()"
      ],
      "outputs": [],
      "execution_count": null,
      "metadata": {}
    },
    {
      "cell_type": "markdown",
      "source": [
        "### Selecting rows\n",
        "\n",
        "To select rows, we can use the following approach, where we generate a list of boolean values, one for each row of the dataframe, and then we use the list to select which of the rows of the dataframe we want to keep\""
      ],
      "metadata": {}
    },
    {
      "cell_type": "code",
      "source": [
        "# Create the condition \"has mice\" for code 04L\n",
        "mice = (restaurants[\"VIOLATION CODE\"] == \"04L\")\n",
        "mice.head()"
      ],
      "outputs": [],
      "execution_count": null,
      "metadata": {}
    },
    {
      "cell_type": "code",
      "source": [
        "# Apply the condition to the dataframe \"restaurants\" and store the result \n",
        "# in a dataframe called  has_mice\n",
        "has_mice = restaurants[mice]\n",
        "has_mice.head()"
      ],
      "outputs": [],
      "execution_count": null,
      "metadata": {}
    },
    {
      "cell_type": "code",
      "source": [
        "# List the most frequent DBA values in the data of restaurants that have mice\n",
        "has_mice[\"DBA\"].value_counts()[:20]"
      ],
      "outputs": [],
      "execution_count": null,
      "metadata": {}
    },
    {
      "cell_type": "code",
      "source": [
        "has_mice[\"CAMIS\"].value_counts()[:5]"
      ],
      "outputs": [],
      "execution_count": null,
      "metadata": {}
    },
    {
      "cell_type": "code",
      "source": [
        "condition = (has_mice[\"CAMIS\"] == '41259444')\n",
        "has_mice[condition].head()"
      ],
      "outputs": [],
      "execution_count": null,
      "metadata": {}
    },
    {
      "cell_type": "markdown",
      "source": [
        "And we can use more complex conditions. "
      ],
      "metadata": {}
    },
    {
      "cell_type": "code",
      "source": [
        "mice_Brooklyn =  ( (restaurants[\"VIOLATION CODE\"] == \"04L\") \n",
        "                    & (restaurants[\"BORO\"] == \"Brooklyn\") )"
      ],
      "outputs": [],
      "execution_count": null,
      "metadata": {}
    },
    {
      "cell_type": "code",
      "source": [
        "has_mice_brooklyn = restaurants[mice_Brooklyn]\n",
        "has_mice_brooklyn.head()"
      ],
      "outputs": [],
      "execution_count": null,
      "metadata": {}
    },
    {
      "cell_type": "code",
      "source": [
        "has_mice_brooklyn[\"DBA\"].value_counts()[:20]"
      ],
      "outputs": [],
      "execution_count": null,
      "metadata": {}
    },
    {
      "cell_type": "markdown",
      "source": [
        "### Pivot Tables\n",
        "\n",
        "[Pivot tables](http://pandas.pydata.org/pandas-docs/stable/generated/pandas.pivot_table.html) is one of the most commonly used exploratory tools, and in Pandas they are extremely flexible. \n",
        "\n",
        "For example, let's try to count the number of restaurants that are inspected every day. "
      ],
      "metadata": {}
    },
    {
      "cell_type": "code",
      "source": [
        "pivot = pd.pivot_table(\n",
        "    data = restaurants, \n",
        "    index = 'INSPECTION DATE', # specifies the rows\n",
        "    values = 'CAMIS',  # specifies the content of the cells\n",
        "    aggfunc = 'count' # we ask to count how many different CAMIS values we see\n",
        ")"
      ],
      "outputs": [],
      "execution_count": null,
      "metadata": {}
    },
    {
      "cell_type": "code",
      "source": [
        "pivot.head(20)"
      ],
      "outputs": [],
      "execution_count": null,
      "metadata": {}
    },
    {
      "cell_type": "markdown",
      "source": [
        "Now, let's plot this. By default, Pandas considers the \"index\" column to be the x-axis, and plots the rest."
      ],
      "metadata": {}
    },
    {
      "cell_type": "code",
      "source": [
        "pivot.plot()"
      ],
      "outputs": [],
      "execution_count": null,
      "metadata": {}
    },
    {
      "cell_type": "markdown",
      "source": [
        "#### Deleting rows from a DataFrame\n",
        "\n",
        "Hm, that '1900-01-01' line is messing things up. Let's delete it, using the `drop` command. Notice a few things:\n",
        "* We use the `pd.to_datetime` command to convert the '1900-01-01' string into a datetime data type.\n",
        "* We use the `axis='index'` parameter means that we delete a **row** with that index value. (The `axis='columns'` means that we delete a column.). Often you will see `axis=0` (equivalent to `axis='index'`) and `axis=1` (equivalent to `axis='columns'`).\n",
        "* The `inplace=True` means that we change directly the dataframe, instead of returning a new dataframe that does not have the deleted value."
      ],
      "metadata": {}
    },
    {
      "cell_type": "code",
      "source": [
        "pivot.drop(pd.to_datetime('1900-01-01'), axis='index', inplace=True) "
      ],
      "outputs": [],
      "execution_count": null,
      "metadata": {}
    },
    {
      "cell_type": "code",
      "source": [
        "pivot.head(5)"
      ],
      "outputs": [],
      "execution_count": null,
      "metadata": {}
    },
    {
      "cell_type": "markdown",
      "source": [
        "And let's plot again."
      ],
      "metadata": {}
    },
    {
      "cell_type": "code",
      "source": [
        "pivot.plot(figsize=(10,5))"
      ],
      "outputs": [],
      "execution_count": null,
      "metadata": {}
    },
    {
      "cell_type": "code",
      "source": [
        "pivot.tail(50).plot()"
      ],
      "outputs": [],
      "execution_count": null,
      "metadata": {}
    },
    {
      "cell_type": "markdown",
      "source": [
        "#### Changing date granularity \n",
        "\n",
        "We can also use the [resample](http://pandas.pydata.org/pandas-docs/stable/generated/pandas.DataFrame.resample.html) command to change the frequency from one day, to, say, 7 days. Then we can compute, say, the average (`mean()`) for these days, or the total number (`sum()`) of inspections."
      ],
      "metadata": {}
    },
    {
      "cell_type": "code",
      "source": [
        "pivot.resample('1W').mean().tail(10)"
      ],
      "outputs": [],
      "execution_count": null,
      "metadata": {}
    },
    {
      "cell_type": "markdown",
      "source": [
        "Now, let's plot this. By default, Pandas considers the \"index\" column to be the x-axis, and plots the rest."
      ],
      "metadata": {}
    },
    {
      "cell_type": "code",
      "source": [
        "# Plot the average number of inspections, over 7-day periods\n",
        "pivot.resample('7D').mean().plot()"
      ],
      "outputs": [],
      "execution_count": null,
      "metadata": {}
    },
    {
      "cell_type": "code",
      "source": [
        "# Plot the total number of inspections, over 1-month periods\n",
        "pivot.resample('1M').sum().plot()"
      ],
      "outputs": [],
      "execution_count": null,
      "metadata": {}
    },
    {
      "cell_type": "code",
      "source": [
        "plot = pivot.resample('7D').mean().plot()\n",
        "plot.set_xlabel(\"Date of Inspection\")\n",
        "plot.set_ylabel(\"Average Number of Inspections (7-day average)\")\n",
        "plot.set_title(\"Analysis of Number of Inspections over Time\");"
      ],
      "outputs": [],
      "execution_count": null,
      "metadata": {}
    },
    {
      "cell_type": "markdown",
      "source": [
        "#### Pivot Table with two (or more) variables)\n",
        "\n",
        "We would like to break down the results by borough, so we add the `column` parameter."
      ],
      "metadata": {}
    },
    {
      "cell_type": "code",
      "source": [
        "pivot2 = pd.pivot_table(\n",
        "    data = restaurants, #\n",
        "    index = 'INSPECTION DATE', \n",
        "    columns = 'BORO', \n",
        "    values = 'CAMIS', \n",
        "    aggfunc = 'count'\n",
        ")\n",
        "pivot2.head(10)"
      ],
      "outputs": [],
      "execution_count": null,
      "metadata": {}
    },
    {
      "cell_type": "markdown",
      "source": [
        "##### Deleting rows and columns\n",
        "\n",
        "Now, you will notice that there are a few columns and rows that are just noise. The first row with date *'1900-01-01'* is clearly noise. We can use the `drop` command of Pandas to drop these."
      ],
      "metadata": {}
    },
    {
      "cell_type": "code",
      "source": [
        "# The axis='index' (or axis=0) means that we delete a row with that index value\n",
        "pivot2 = pivot2.drop(pd.to_datetime('1900-01-01'), axis='index') "
      ],
      "outputs": [],
      "execution_count": null,
      "metadata": {}
    },
    {
      "cell_type": "code",
      "source": [
        "pivot2.tail(5)"
      ],
      "outputs": [],
      "execution_count": null,
      "metadata": {}
    },
    {
      "cell_type": "code",
      "source": [
        "# We resample the index, to keep only dates every one month\n",
        "# For that one month period, we compute the average value\n",
        "pivot2.resample('1M').mean().tail(10)"
      ],
      "outputs": [],
      "execution_count": null,
      "metadata": {}
    },
    {
      "cell_type": "code",
      "source": [
        "# If we plot a dataframe then by default the index column\n",
        "# in our case the INSPECTION DATE becomes the x-asis\n",
        "# and all the columns become separate lines in the plot\n",
        "pivot2.resample('1M').mean().plot(figsize=(10,5))\n",
        "\n",
        "# Potential Exercise, if we have time: \n",
        "# Drop the last date, which corresponds to an incomplete month"
      ],
      "outputs": [],
      "execution_count": null,
      "metadata": {}
    },
    {
      "cell_type": "markdown",
      "source": [
        "### (Optional, FYI) Advanced Pivot Tables\n",
        "\n",
        "We can also add multiple attributes in the index and columns. It is also possible to have multiple aggregation functions, and we can even define our own aggregation functions."
      ],
      "metadata": {}
    },
    {
      "cell_type": "code",
      "source": [
        "# We write a function that returns the \n",
        "# number of unique items in a list x \n",
        "def count_unique(x):\n",
        "    return len(set(x))\n",
        "\n",
        "# We break down by BORO and GRADE, and also calculate \n",
        "# inspections in unique (unique restaurants) \n",
        "# and non-unique entries (effectuvely, violations)\n",
        "pivot_advanced = pd.pivot_table(\n",
        "    data = restaurants, #\n",
        "    index = 'GRADE DATE', \n",
        "    columns = ['BORO', 'GRADE'],\n",
        "    values = 'CAMIS', \n",
        "    aggfunc = ['count', count_unique]\n",
        ")\n",
        "\n",
        "# Take the total number of inspections (unique and non-unique)\n",
        "agg = pivot_advanced.resample('1M').sum()\n",
        "\n",
        "# Show the last 5 entries and show the transpose (.T) \n",
        "agg.tail().T"
      ],
      "outputs": [],
      "execution_count": null,
      "metadata": {}
    },
    {
      "cell_type": "markdown",
      "source": [
        "### Exercise 1 \n",
        "\n",
        "Now let's do the same exercise, but instead of counting the number of inspections, we want to compute the average score assigned by the inspectors. Hint: We will need to change the `values` and the `aggfunc` parameters in the `pivot_table` function above."
      ],
      "metadata": {}
    },
    {
      "cell_type": "code",
      "source": [
        "pivot = pd.pivot_table(\n",
        "    data = restaurants, \n",
        "    index = 'INSPECTION DATE', # specifies the rows\n",
        "    values = 'SCORE',  # specifies the content of the cells\n",
        "    aggfunc = 'mean' # compute the average SCORE\n",
        ")"
      ],
      "outputs": [],
      "execution_count": null,
      "metadata": {}
    },
    {
      "cell_type": "code",
      "source": [
        "pivot.plot(figsize=(10,4))"
      ],
      "outputs": [],
      "execution_count": null,
      "metadata": {}
    },
    {
      "cell_type": "code",
      "source": [
        "pivot.resample('1M').mean().tail(10)"
      ],
      "outputs": [],
      "execution_count": null,
      "metadata": {}
    },
    {
      "cell_type": "markdown",
      "source": [
        "\n",
        "\n",
        "### Exercise 2\n",
        "\n",
        "We now want to examine if different cuisines have different inspection scores. Compute the average inspection score by cuisine. Use the `sort_values()` command ([documentation](https://pandas.pydata.org/pandas-docs/stable/generated/pandas.DataFrame.sort_values.html)) to order cuisines by their inspection scores."
      ],
      "metadata": {}
    },
    {
      "cell_type": "code",
      "source": [
        "pivot = pd.pivot_table(\n",
        "    data = restaurants, \n",
        "    index = 'INSPECTION DATE', # dates are the rows\n",
        "    columns = 'CUISINE DESCRIPTION', # cuisines are the columns\n",
        "    values = 'SCORE',  # we analyze the SCORE\n",
        "    aggfunc = 'mean' # compute the average SCORE\n",
        ")\n",
        "# Select 3 columns (american, frenchn, chinese), compute the average score for a month\n",
        "# and plot the results\n",
        "pivot[ [\"American\", \"French\", \"Chinese\"] ].resample('1M').mean().plot(figsize=(10,4))\n",
        "plt.ylabel(\"score\");"
      ],
      "outputs": [],
      "execution_count": null,
      "metadata": {}
    },
    {
      "cell_type": "markdown",
      "source": [
        "## Part 2: NYPD Vehicle Collisions\n",
        "\n",
        "* We interacted with the NYC Restaurant Inspection Data. Now, let's download another dataset, and do some analysis. We will focus on the [NYPD Vehicle Collisions](https://data.cityofnewyork.us/Public-Safety/NYPD-Motor-Vehicle-Collisions/h9gi-nx95/data) data set.\n"
      ],
      "metadata": {}
    },
    {
      "cell_type": "markdown",
      "source": [
        "Load the accidents dataset from url \n"
      ],
      "metadata": {}
    },
    {
      "cell_type": "code",
      "source": [
        "df = pd.read_csv('https://data.cityofnewyork.us/api/views/h9gi-nx95/rows.csv?accessType=DOWNLOAD', low_memory=False)"
      ],
      "outputs": [],
      "execution_count": null,
      "metadata": {}
    },
    {
      "cell_type": "markdown",
      "source": [
        "Or you can first download it and then load it with pandas"
      ],
      "metadata": {}
    },
    {
      "cell_type": "code",
      "source": [
        "# !curl 'https://data.cityofnewyork.us/api/views/h9gi-nx95/rows.csv?accessType=DOWNLOAD' -o data/accidents.csv"
      ],
      "outputs": [],
      "execution_count": null,
      "metadata": {}
    },
    {
      "cell_type": "code",
      "source": [
        "# df = pd.read_csv(\"data/accidents.csv\", low_memory=False)"
      ],
      "outputs": [],
      "execution_count": null,
      "metadata": {}
    },
    {
      "cell_type": "code",
      "source": [
        "len(df)"
      ],
      "outputs": [],
      "execution_count": null,
      "metadata": {}
    },
    {
      "cell_type": "markdown",
      "source": [
        "Find out the most common contributing factors to the collisions. \n",
        " "
      ],
      "metadata": {}
    },
    {
      "cell_type": "code",
      "source": [
        "df['CONTRIBUTING FACTOR VEHICLE 1'].value_counts().head(11)"
      ],
      "outputs": [],
      "execution_count": null,
      "metadata": {}
    },
    {
      "cell_type": "markdown",
      "source": [
        "Now let's plot a histogram of the above list. Note that we skip the first element."
      ],
      "metadata": {}
    },
    {
      "cell_type": "code",
      "source": [
        "df['CONTRIBUTING FACTOR VEHICLE 1'].value_counts()[1:11].plot(kind='barh')"
      ],
      "outputs": [],
      "execution_count": null,
      "metadata": {}
    },
    {
      "cell_type": "markdown",
      "source": [
        "Break down the number of collisions by borough."
      ],
      "metadata": {}
    },
    {
      "cell_type": "code",
      "source": [
        "df.BOROUGH.value_counts().plot(kind='barh')"
      ],
      "outputs": [],
      "execution_count": null,
      "metadata": {}
    },
    {
      "cell_type": "markdown",
      "source": [
        "Find out the how many collisions had 0 persons injured, 1 persons injured, etc. persons injured in each accident. Use the `value_counts()` approach. You may also find the `.plot(logy=True)` option useful when you create the plot to make the y-axis logarigthmic.\n",
        " "
      ],
      "metadata": {}
    },
    {
      "cell_type": "code",
      "source": [
        "plot = (\n",
        "    df['NUMBER OF PERSONS INJURED'] # take the num of injuries column\n",
        "    .value_counts() # compure the freuquency of each value\n",
        "    .sort_index() # sort the results based on the index value instead of the frequency, \n",
        "                  # which is the default for value_counts\n",
        "    .plot( # and plot the results\n",
        "        kind='line', # we use a line plot because the x-axis is numeric/continuous\n",
        "        marker='o',  # we use a marker to mark where we have data points \n",
        "        logy=True # make the y-axis logarithmic\n",
        "    )\n",
        ")\n",
        "plot.set_xlabel(\"Number of injuries\")\n",
        "plot.set_ylabel(\"Number of collisions\");"
      ],
      "outputs": [],
      "execution_count": null,
      "metadata": {}
    },
    {
      "cell_type": "markdown",
      "source": [
        "Break down the accidents by borough and contributing factor. Use the `pivot_table` function of Pandas\n",
        " "
      ],
      "metadata": {}
    },
    {
      "cell_type": "code",
      "source": [
        "pivot = pd.pivot_table(\n",
        "    data = df,\n",
        "    index = 'CONTRIBUTING FACTOR VEHICLE 1',\n",
        "    columns = 'BOROUGH',\n",
        "    aggfunc = 'count',\n",
        "    values = 'COLLISION_ID'\n",
        ")\n",
        "pivot.head(10)"
      ],
      "outputs": [],
      "execution_count": null,
      "metadata": {}
    },
    {
      "cell_type": "markdown",
      "source": [
        "Find the dates with the most accidents. Can you figure out what happened on these days? \n"
      ],
      "metadata": {}
    },
    {
      "cell_type": "code",
      "source": [
        "df.DATE.value_counts().head(10)"
      ],
      "outputs": [],
      "execution_count": null,
      "metadata": {}
    },
    {
      "cell_type": "markdown",
      "source": [
        "Plot the number of accidents per day. (Hint: Ensure that your date column is in the right datatype and that it is properly sorted, before plotting)\n"
      ],
      "metadata": {}
    },
    {
      "cell_type": "code",
      "source": [
        "df.DATE = pd.to_datetime(df.DATE, format=\"%m/%d/%Y\")"
      ],
      "outputs": [],
      "execution_count": null,
      "metadata": {}
    },
    {
      "cell_type": "code",
      "source": [
        "(\n",
        "    df.DATE.value_counts() # count the number of accidents per day\n",
        "    .sort_index() # sort the dates\n",
        "    .resample('1M') # take periods of 1 month\n",
        "    .sum() # sum the number of accidents per month\n",
        "    .drop(pd.to_datetime('2019-04-30'), axis='index') # drop the current month\n",
        "    .plot() # plot the result\n",
        ");"
      ],
      "outputs": [],
      "execution_count": null,
      "metadata": {
        "solution2": "hidden"
      }
    },
    {
      "cell_type": "markdown",
      "source": [
        "Plot the accidents in map. Use a scatter plot using the `plot(kind='scatter', x=..., y=....)` command, and use the `LATITUDE` and `LONGITUDE` parameters. (Hint: **You will have to remove bad data points before getting into the right visual result**. To do this, specify a selection condition to limit the lat/long values to be values that are proper for the NYC region.)"
      ],
      "metadata": {}
    },
    {
      "cell_type": "code",
      "source": [
        "cleandf = df[(df.LONGITUDE<-50) & (df.LONGITUDE>-74.5) & (df.LATITUDE< 41)]\n",
        "\n",
        "cleandf[ (df.LATITUDE>40) & (df.LATITUDE<41) & (df.LONGITUDE> -74.6) & (df.LONGITUDE<-50) ].plot(\n",
        "    figsize = (20,15),\n",
        "    kind = 'scatter',\n",
        "    x = 'LONGITUDE',\n",
        "    y = 'LATITUDE',\n",
        "    s = 1, # make each dot to be very small \n",
        "    alpha = 0.05 # makes each point 95% transparent\n",
        ")\n"
      ],
      "outputs": [],
      "execution_count": null,
      "metadata": {}
    },
    {
      "cell_type": "markdown",
      "source": [
        "Plot the accidents in map as above, but limit the data only to accidents with at least one injury."
      ],
      "metadata": {}
    },
    {
      "cell_type": "code",
      "source": [
        "mask_injured = cleandf['NUMBER OF PERSONS INJURED']>=1\n",
        "injured_df = cleandf[mask_injured]\n",
        "\n",
        "injured_df.plot(\n",
        "    kind = 'scatter',\n",
        "    x = 'LONGITUDE',\n",
        "    y = 'LATITUDE',\n",
        "    s = 1, # make the size of the marker 1 pixel\n",
        "    figsize = (20,15), # increase the size of the figure\n",
        "    alpha = 0.05 # make each dot to be 95% transparent \n",
        ")"
      ],
      "outputs": [],
      "execution_count": null,
      "metadata": {
        "solution2": "hidden"
      }
    },
    {
      "cell_type": "markdown",
      "source": [
        "### Creating 2d histograms, density plots, and contour plots\n",
        "In the picture above, we can visually see that Manhattan, especially eastern midtown, and the area downtown near the entrance to the bridges, has a higher density. We can also derive histograms and density plots on 2-dimensions."
      ],
      "metadata": {}
    },
    {
      "cell_type": "markdown",
      "source": [
        "#### Hexagonal bin plot\n",
        "The hexbin plot created a 2-d histogram, where the color signals the number of points within a particular area. The `gridsize` parameter indicates the number of hexagones in the x direction. Higher values offer higher granularity, but very high values tend to create sparsity, when we do not have enough data points."
      ],
      "metadata": {}
    },
    {
      "cell_type": "code",
      "source": [
        "# Hexbin plot\n",
        "cleandf.plot(\n",
        "    kind='hexbin',\n",
        "    x='LONGITUDE',\n",
        "    y='LATITUDE',\n",
        "    gridsize=100,\n",
        "    cmap=plt.cm.Blues,\n",
        "    figsize=(10, 7))"
      ],
      "outputs": [],
      "execution_count": null,
      "metadata": {}
    },
    {
      "cell_type": "markdown",
      "source": [
        "#### 2d density  and contour plots\n",
        "An alternative to the hexbin plots is to use density plots in two dimensions."
      ],
      "metadata": {}
    },
    {
      "cell_type": "code",
      "source": [
        "# Basic 2D density plot\n",
        "plt.subplots(figsize=(20, 15))\n",
        "\n",
        "# We take a sample, because density plots take a long time to compute\n",
        "# and a sample is typically as good as the full dataset\n",
        "sample = cleandf.sample(10000)\n",
        "\n",
        "sns.kdeplot(\n",
        "    sample.LONGITUDE,\n",
        "    sample.LATITUDE,\n",
        "    gridsize=100,  # controls the resolution\n",
        "    cmap=plt.cm.rainbow,  # color scheme\n",
        "    shade= True, # whether to have a density plot (True), or just the contours (False)\n",
        "    alpha=0.5,\n",
        "    shade_lowest=False,\n",
        "    n_levels=50  # How many contours/levels to have\n",
        ")"
      ],
      "outputs": [],
      "execution_count": null,
      "metadata": {}
    },
    {
      "cell_type": "code",
      "source": [
        "# Basic 2D contour plot\n",
        "plt.subplots(figsize=(20, 15))\n",
        "\n",
        "# We take a sample, because density plots take a long time to compute\n",
        "# and a sample is typically as good as the full dataset\n",
        "sample = cleandf.sample(10000)\n",
        "\n",
        "sns.kdeplot(\n",
        "    sample.LONGITUDE,\n",
        "    sample.LATITUDE,\n",
        "    gridsize=100,\n",
        "    cmap=plt.cm.rainbow,\n",
        "    shade=False,\n",
        "    shade_lowest=False,\n",
        "    n_levels=25)"
      ],
      "outputs": [],
      "execution_count": null,
      "metadata": {}
    },
    {
      "cell_type": "markdown",
      "source": [
        "### Combining plots\n",
        "So far, we examined how to create individual plots. We can even combine multiple plots together, using the ax parameter. So, let's say that we want to combine the scatter plots with the contour plot above:"
      ],
      "metadata": {}
    },
    {
      "cell_type": "code",
      "source": [
        "sample = cleandf.sample(10000)\n",
        "\n",
        "scatterplot = cleandf.plot(\n",
        "    kind='scatter',\n",
        "    x='LONGITUDE',\n",
        "    y='LATITUDE',\n",
        "    figsize=(20, 15),\n",
        "    s=0.5,\n",
        "    alpha=0.1)\n",
        "\n",
        "sns.kdeplot(\n",
        "    sample.LONGITUDE,\n",
        "    sample.LATITUDE,\n",
        "    gridsize=100,\n",
        "    cmap=plt.cm.rainbow,\n",
        "    shade=False,\n",
        "    shade_lowest=False,\n",
        "    n_levels=20,\n",
        "    alpha=1,\n",
        "    ax=scatterplot)"
      ],
      "outputs": [],
      "execution_count": null,
      "metadata": {}
    },
    {
      "cell_type": "markdown",
      "source": [
        "### Bonus plots"
      ],
      "metadata": {}
    },
    {
      "cell_type": "code",
      "source": [
        "# In the code below, we create three plots\n",
        "# One with  all the accidents (in black)\n",
        "# One with all accidents that resulted in an injury (with orange)\n",
        "# One with all the accidents with deaths (with red dots) \n",
        "# Then wen combine the  plots using the \"ax\" parameter\n",
        "\n",
        "df = pd.read_csv(\"data/accidents.csv\", low_memory=False)\n",
        "\n",
        "# We put conditions to keep only rows that \n",
        "# have reasonable values for LONGITUDE and LATITUDE\n",
        "# The & character is the \"AND\" in Pandas\n",
        "# the df.LATITUDE is equivalent to df['LATITUDE']\n",
        "cleandf = df[ (df.LATITUDE > 40) & (df.LATITUDE < 41) & (df.LONGITUDE < -72) & (df.LONGITUDE > -74.5) ]\n",
        "\n",
        "\n",
        "all_accidents_plot = cleandf.plot (\n",
        "    kind='scatter',\n",
        "    x = 'LONGITUDE',\n",
        "    y = 'LATITUDE',\n",
        "    figsize = (20, 18), # changes the size of the plot to be bigger and square\n",
        "    color = 'black',\n",
        "    alpha = 0.05, # makes the data points transparent (1 = opaque, 0 fully transparent)\n",
        "    s = 0.5 # make the size of the market just 0.5 pixel\n",
        ")\n",
        "\n",
        "# We will keep only entries with at least one injury\n",
        "# note that we cannot use the df.NUMBER OF PERSON INJURED notation\n",
        "# because the attribute contains spaces.\n",
        "mask_injured = cleandf['NUMBER OF PERSONS INJURED']>=1\n",
        "injured_plot = cleandf[mask_injured].plot (\n",
        "    kind='scatter',\n",
        "    x = 'LONGITUDE',\n",
        "    y = 'LATITUDE',\n",
        "    figsize = (20, 18), # changes the size of the plot to be bigger and square\n",
        "    alpha = 0.1, # makes the data points transparent (1 = opaque, 0 fully transparent)\n",
        "    color = 'orange',\n",
        "    ax = all_accidents_plot, # the ax parameter allows us to combine plots\n",
        "    s = 1 # make the size of the market just 1 pixel\n",
        ")\n",
        "\n",
        "# we want only accidents with at least one death\n",
        "mask_killed = cleandf['NUMBER OF PERSONS KILLED']>=1\n",
        "cleandf[mask_killed].plot (\n",
        "    kind='scatter',\n",
        "    x = 'LONGITUDE',\n",
        "    y = 'LATITUDE',\n",
        "    figsize = (20, 18), # changes the size of the plot to be bigger and square\n",
        "    alpha = 0.85, # makes the data points transparent (1 = opaque, 0 fully transparent)\n",
        "    s = 5, # make the size of the market 5 pixels, to be more visible\n",
        "    color = 'red',\n",
        "    ax = injured_plot # the ax parameter allows us to combine plots\n",
        ")"
      ],
      "outputs": [],
      "execution_count": null,
      "metadata": {}
    },
    {
      "cell_type": "code",
      "source": [
        "# Same as above, but with a 2-d density estimation for the location of\n",
        "# accidents that resulted in at least one death\n",
        "\n",
        "cleandf = df[ (df.LATITUDE > 40) & (df.LATITUDE < 41) & (df.LONGITUDE < -72) & (df.LONGITUDE > -74.5) ]\n",
        "\n",
        "\n",
        "all_accidents_plot = cleandf.plot (\n",
        "    kind='scatter',\n",
        "    x = 'LONGITUDE',\n",
        "    y = 'LATITUDE',\n",
        "    figsize = (20, 18), # changes the size of the plot to be bigger and square\n",
        "    color = 'black',\n",
        "    alpha = 0.05, # makes the data points transparent (1 = opaque, 0 fully transparent)\n",
        "    s = 0.5 # make the size of the market just 0.5 pixel\n",
        ")\n",
        "\n",
        "# We will keep only entries with at least one injury\n",
        "# note that we cannot use the df.NUMBER OF PERSON INJURED notation\n",
        "# because the attribute contains spaces.\n",
        "mask_injured = cleandf['NUMBER OF PERSONS INJURED']>=1\n",
        "injured_plot = cleandf[mask_injured].plot (\n",
        "    kind='scatter',\n",
        "    x = 'LONGITUDE',\n",
        "    y = 'LATITUDE',\n",
        "    figsize = (20, 18), # changes the size of the plot to be bigger and square\n",
        "    alpha = 0.1, # makes the data points transparent (1 = opaque, 0 fully transparent)\n",
        "    color = 'orange',\n",
        "    ax = all_accidents_plot, # the ax parameter allows us to combine plots\n",
        "    s = 1 # make the size of the market just 1 pixel\n",
        ")\n",
        "\n",
        "# we want only accidents with at least one death\n",
        "mask_killed = cleandf['NUMBER OF PERSONS KILLED']>=1\n",
        "killed_plot = cleandf[mask_killed].plot (\n",
        "    kind='scatter',\n",
        "    x = 'LONGITUDE',\n",
        "    y = 'LATITUDE',\n",
        "    figsize = (20, 18), # changes the size of the plot to be bigger and square\n",
        "    alpha = 0.85, # makes the data points transparent (1 = opaque, 0 fully transparent)\n",
        "    s = 5, # make the size of the market 5 pixels, to be more visible\n",
        "    color = 'red',\n",
        "    ax = injured_plot # the ax parameter allows us to combine plots\n",
        ")\n",
        "\n",
        "sns.set_style(\"white\")\n",
        "mask = cleandf['NUMBER OF PERSONS KILLED']>=1\n",
        "sample = cleandf[mask] # .sample(10000)\n",
        "\n",
        "sns.kdeplot(sample.LONGITUDE, sample.LATITUDE, gridsize=100,\n",
        "            cmap=plt.cm.BuGn, shade=False, shade_lowest=True, n_levels=20, alpha=0.75, ax = killed_plot)\n"
      ],
      "outputs": [],
      "execution_count": null,
      "metadata": {}
    }
  ],
  "metadata": {
    "kernel_info": {
      "name": "python3"
    },
    "kernelspec": {
      "name": "python3",
      "language": "python",
      "display_name": "Python 3"
    },
    "language_info": {
      "name": "python",
      "version": "3.7.3",
      "mimetype": "text/x-python",
      "codemirror_mode": {
        "name": "ipython",
        "version": 3
      },
      "pygments_lexer": "ipython3",
      "nbconvert_exporter": "python",
      "file_extension": ".py"
    },
    "nteract": {
      "version": "0.14.5"
    }
  },
  "nbformat": 4,
  "nbformat_minor": 1
}
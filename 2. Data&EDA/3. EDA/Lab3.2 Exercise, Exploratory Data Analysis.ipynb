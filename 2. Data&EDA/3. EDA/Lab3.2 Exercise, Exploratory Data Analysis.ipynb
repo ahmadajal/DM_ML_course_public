{
 "cells": [
  {
   "cell_type": "markdown",
   "metadata": {},
   "source": [
    "# Exploratory Data Analysis\n",
    "\n",
    "## Goals\n",
    "The goal is to learn to use pandas to load a dataset, perform a basic analysis, and answer some questions that we may have about that data.\n",
    "\n",
    "## Introduction\n",
    "\n",
    "The first steps before performing an analysis in a dataset, is to simply \"explore\" it. This is called **Exploratory Data Analysis**, or EDA, for short. The term was coined by [John Tukey](https://en.wikipedia.org/wiki/John_Tukey). (Sidenote: among other things, he also co-invented the Fast Fourier Transform.) If you are interested to learn more about EDA, then you can read this short encyclopedia [article](https://www.stat.berkeley.edu/~brill/Papers/EDASage.pdf) or the \"[Art of Data Science](http://bedford-computing.co.uk/learning/wp-content/uploads/2016/09/artofdatascience.pdf)\" handbook.\n",
    "\n",
    "### Goals of Exploratory Data Analysis\n",
    "\n",
    "1. To determine if there are any problems with your dataset.\n",
    "2. To determine whether the question you are asking can be answered by the data that you have.\n",
    "3. To develop a sketch of the answer to your question.\n",
    "\n",
    "### Exploratory Data Analysis checklist\n",
    "\n",
    "1. Formulate your question\n",
    "2. Read in your data\n",
    "3. \"Check the packaging\" (rows, columns, types, etc.)\n",
    "4. Look at the top and the bottom of your data \n",
    "5. Check your “n”s (do you see the expected number of rows, columns?)\n",
    "6. Validate with at least one external data source \n",
    "7. Make a plot\n",
    "8. Try the easy solution first\n",
    "9. Follow up (do you have the right data? do you need other data? do you have the right question?)\n",
    "\n",
    "For this exercise we will download the MovieLens dataset. It has been used many times as a testbed for recommendation algorithms, i.e. to predict which movies the user may be interested in watching, similar to what Netflix does. There are various versions of the dataset. We will use the \"Movielens 1 Million\", which contains approximately one Million ratings of movies that users watched.\n",
    "\n",
    "## Questions\n",
    "These are the questions that we are interested in answering:\n",
    "\n",
    "1. How many movies?\n",
    "2. How many users?\n",
    "3. How many ratings?\n",
    "4. What is the distribution of ratings?\n",
    "5. What is the average rating across all users?\n",
    "6. What is the average rating across *per user*?\n",
    "7. Which are the most-watched movies?\n",
    "8. Which are the most-favorite movies (best avergae rating)?\n",
    "9. Which are the most popular geners?\n",
    "10. What is the rating distribution per movies?\n",
    "11. What is the movie distribution per year?\n",
    "12. What is the distribution of jobs for users?\n",
    "13. Viusalize the distribution of the number of ratings per movie with a box plot.\n",
    "14. Read about treemap and try to visualize the distribution of genres using it.\n",
    "15. Read about [jointplot](https://seaborn.pydata.org/generated/seaborn.jointplot.html) from seaborn documentation. What can you say about the relationship between the number of ratings for a movie and its average rating?\n",
    "11. Find groups of users that have watched at least 20 similar movies.\n",
    "12. If someone has watched \"The Matrix\" which other movie would you recommend?\n",
    "\n",
    "\n",
    "## Downloading the necessary file(s)\n",
    "You may download MovieLens from [here](https://grouplens.org/datasets/movielens/20m/), or it's always better if we do it programmatically!"
   ]
  },
  {
   "cell_type": "markdown",
   "metadata": {},
   "source": [
    "You can load the raw data directly from github. Note that you should get the column names from readme. (check github)"
   ]
  },
  {
   "cell_type": "code",
   "execution_count": null,
   "metadata": {},
   "outputs": [],
   "source": [
    "# import libraries\n",
    "import pandas as pd\n",
    "import numpy as np\n",
    "import matplotlib.pyplot as plt\n",
    "%matplotlib inline\n",
    "%config InlineBackend.figure_format = 'retina'"
   ]
  },
  {
   "cell_type": "code",
   "execution_count": null,
   "metadata": {},
   "outputs": [],
   "source": [
    "# movies data\n",
    "movies = pd.read_csv('https://raw.githubusercontent.com/ahmadajal/DM_ML_course_public/master/2.%20Data%26EDA/data/ml-1m/movies.dat', delimiter = '::', \n",
    "                     names = ['movie_id', 'title', 'genres'], header=0, encoding='latin1')\n",
    "# ratings data\n",
    "ratings = pd.read_csv('https://raw.githubusercontent.com/ahmadajal/DM_ML_course_public/master/2.%20Data%26EDA/data/ml-1m/ratings.dat', delimiter = '::', \n",
    "                      names=['UserID','MovieID', 'Rating', 'Timestamp'], header=0)\n",
    "# users data\n",
    "users = pd.read_csv('https://raw.githubusercontent.com/ahmadajal/DM_ML_course_public/master/2.%20Data%26EDA/data/ml-1m/users.dat', delimiter = '::',\n",
    "                   names=['UserID', 'Gender', 'Age' ,'Occupation', 'Zip-code'], header=0)\n"
   ]
  },
  {
   "cell_type": "code",
   "execution_count": null,
   "metadata": {},
   "outputs": [],
   "source": [
    "movies.head()"
   ]
  },
  {
   "cell_type": "code",
   "execution_count": null,
   "metadata": {},
   "outputs": [],
   "source": [
    "ratings.head()"
   ]
  },
  {
   "cell_type": "code",
   "execution_count": null,
   "metadata": {},
   "outputs": [],
   "source": [
    "users.head()"
   ]
  },
  {
   "cell_type": "markdown",
   "metadata": {},
   "source": [
    "split title and release year in separate columns"
   ]
  },
  {
   "cell_type": "code",
   "execution_count": null,
   "metadata": {},
   "outputs": [],
   "source": [
    "movies['year'] = movies.title.str.extract(\"\\((\\d{4})\\)\", expand=True)\n",
    "movies.head()"
   ]
  },
  {
   "cell_type": "markdown",
   "metadata": {},
   "source": [
    "Correcting the datatype of the columns:\n",
    "    \n",
    "right now if you check the data type of columns, the new column `year` is object wheras it should be integer."
   ]
  },
  {
   "cell_type": "code",
   "execution_count": null,
   "metadata": {},
   "outputs": [],
   "source": [
    "# TO DO: convert column year to integer\n",
    "\n"
   ]
  },
  {
   "cell_type": "markdown",
   "metadata": {},
   "source": [
    "Convert the timestamp in ratings table to date type and add a new column `date` to the rating table"
   ]
  },
  {
   "cell_type": "code",
   "execution_count": null,
   "metadata": {},
   "outputs": [],
   "source": [
    "# TO DO: convert timestamp to date and add a new column called date to ratings\n",
    "\n"
   ]
  },
  {
   "cell_type": "markdown",
   "metadata": {},
   "source": [
    "We have the description of the occupation codes from readme. Let's apply a mapping to convert occupation codes to description in the users dataframe."
   ]
  },
  {
   "cell_type": "code",
   "execution_count": null,
   "metadata": {},
   "outputs": [],
   "source": [
    "# TO DO: map the occupation codes to the jobs name using the readme\n",
    "job_code = {0:  \"other or not specified\",\n",
    " 1:  \"academic/educator\",\n",
    " 2:  \"artist\",\n",
    " 3:  \"clerical/admin\",\n",
    " 4:  \"college/grad student\",\n",
    " 5:  \"customer service\",\n",
    " 6:  \"doctor/health care\",\n",
    " 7:  \"executive/managerial\",\n",
    " 8:  \"farmer\",\n",
    " 9:  \"homemaker\",\n",
    "10:  \"K-12 student\",\n",
    "11:  \"lawyer\",\n",
    "12:  \"programmer\",\n",
    "13:  \"retired\",\n",
    "14:  \"sales/marketing\",\n",
    "15:  \"scientist\",\n",
    "16:  \"self-employed\",\n",
    "17:  \"technician/engineer\",\n",
    "18:  \"tradesman/craftsman\",\n",
    "19:  \"unemployed\",\n",
    "20:  \"writer\"}\n",
    "users[\"Occupation\"] = users[\"Occupation\"].map(job_code)\n",
    "\n",
    "users.head()"
   ]
  },
  {
   "cell_type": "markdown",
   "metadata": {},
   "source": [
    "### Q1, Q2, Q3: Number of movies, users and ratings"
   ]
  },
  {
   "cell_type": "code",
   "execution_count": null,
   "metadata": {},
   "outputs": [],
   "source": [
    "print(\"number of users: \", ratings.groupby(\"UserID\").count().shape[0])\n",
    "# TO DO:\n",
    "print(\"number of movies: \")\n",
    "print(\"number of ratings: \")"
   ]
  },
  {
   "cell_type": "markdown",
   "metadata": {},
   "source": [
    "### Q4: Distribution of ratings"
   ]
  },
  {
   "cell_type": "code",
   "execution_count": null,
   "metadata": {},
   "outputs": [],
   "source": [
    "# hint: make a bar plot"
   ]
  },
  {
   "cell_type": "markdown",
   "metadata": {},
   "source": [
    "### Q5, Q6: Average rating\n"
   ]
  },
  {
   "cell_type": "code",
   "execution_count": null,
   "metadata": {},
   "outputs": [],
   "source": [
    "# across all users\n",
    "print(\"avg rating across all users: \", np.mean(ratings[\"Rating\"]))"
   ]
  },
  {
   "cell_type": "code",
   "execution_count": null,
   "metadata": {},
   "outputs": [],
   "source": [
    "# per user"
   ]
  },
  {
   "cell_type": "markdown",
   "metadata": {},
   "source": [
    "### Q7, Q8: most watched movies"
   ]
  },
  {
   "cell_type": "code",
   "execution_count": null,
   "metadata": {},
   "outputs": [],
   "source": [
    "# mereg the dataframes to match the movie id to movie name\n",
    "df = pd.merge(movies,ratings,left_on='movie_id', right_on=\"MovieID\")\n",
    "df.head()"
   ]
  },
  {
   "cell_type": "code",
   "execution_count": null,
   "metadata": {},
   "outputs": [],
   "source": [
    "# most watched movies\n",
    "# TO DO"
   ]
  },
  {
   "cell_type": "code",
   "execution_count": null,
   "metadata": {},
   "outputs": [],
   "source": [
    "# movies with best avg ratings\n",
    "# TO DO"
   ]
  },
  {
   "cell_type": "code",
   "execution_count": null,
   "metadata": {},
   "outputs": [],
   "source": [
    "# Do both of the above simultanously: \n",
    "# create Dataframe: ratings count and mean rating per movie"
   ]
  },
  {
   "cell_type": "markdown",
   "metadata": {},
   "source": [
    "### Q9: Most popular geners\n"
   ]
  },
  {
   "cell_type": "code",
   "execution_count": null,
   "metadata": {},
   "outputs": [],
   "source": [
    "# most popular genres (with most ratings)\n",
    "most_popular_genre = df.groupby('genres', as_index = False)['UserID'].count()\n",
    "most_popular_genre = most_popular_genre.rename(columns={'UserID' : 'Total ratings'})\n",
    "most_popular_genre.sort_values('Total ratings',ascending=False).head(10)"
   ]
  },
  {
   "cell_type": "code",
   "execution_count": null,
   "metadata": {},
   "outputs": [],
   "source": [
    "# movies distribution per genres\n",
    "# TO DO"
   ]
  },
  {
   "cell_type": "markdown",
   "metadata": {},
   "source": [
    "## Visual Data Analysis\n"
   ]
  },
  {
   "cell_type": "code",
   "execution_count": null,
   "metadata": {},
   "outputs": [],
   "source": [
    "# select plot style\n",
    "plt.style.use('ggplot')\n",
    "\n",
    "# import libraries\n",
    "import matplotlib.pyplot as plt\n",
    "import seaborn as sns\n",
    "sns.set_style('white')\n",
    "%matplotlib inline"
   ]
  },
  {
   "cell_type": "markdown",
   "metadata": {},
   "source": [
    "### Q10, Q11"
   ]
  },
  {
   "cell_type": "markdown",
   "metadata": {},
   "source": [
    "#### Distribution of ratings per movie (with ratings count  > 50)"
   ]
  },
  {
   "cell_type": "code",
   "execution_count": null,
   "metadata": {},
   "outputs": [],
   "source": [
    "# plot a graph that indicates that most of the movies have less than 2000 ratings\n",
    "# TO DO"
   ]
  },
  {
   "cell_type": "markdown",
   "metadata": {},
   "source": [
    "#### Movies distribution per year (> 1985)"
   ]
  },
  {
   "cell_type": "code",
   "execution_count": null,
   "metadata": {},
   "outputs": [],
   "source": [
    "# most movies have been released after 1985\n",
    "# TO DO"
   ]
  },
  {
   "cell_type": "markdown",
   "metadata": {},
   "source": [
    "### Q12"
   ]
  },
  {
   "cell_type": "markdown",
   "metadata": {},
   "source": [
    "#### Users distribution per occupation"
   ]
  },
  {
   "cell_type": "code",
   "execution_count": null,
   "metadata": {},
   "outputs": [],
   "source": [
    "sns.factorplot(\"Occupation\", data=users, aspect=3, kind=\"count\", color=\"b\").set_xticklabels(rotation=90, fontsize=15)"
   ]
  },
  {
   "cell_type": "markdown",
   "metadata": {},
   "source": [
    "### Q13\n",
    "#### box plot\n",
    "You can see that most of the movies in the data set have less than 1000 ratings. Therefore we see a lost of outliers i the box plot."
   ]
  },
  {
   "cell_type": "code",
   "execution_count": null,
   "metadata": {},
   "outputs": [],
   "source": [
    "# TO DO: box plot of the ratingCount column in the df_ratingCount data frame\n"
   ]
  },
  {
   "cell_type": "markdown",
   "metadata": {},
   "source": [
    "#### violon plot\n",
    "It is very similar to box plot except that it features a kernel density estimation of the underlying distribution. for more information check <a href=\"https://seaborn.pydata.org/generated/seaborn.violinplot.html\">this documentation</a>."
   ]
  },
  {
   "cell_type": "code",
   "execution_count": null,
   "metadata": {},
   "outputs": [],
   "source": [
    "plt.figure(figsize=(5,8))\n",
    "sns.set_style(\"whitegrid\")\n",
    "sns.violinplot(\"ratingCount\", data=df_ratingCount, orient='v');"
   ]
  },
  {
   "cell_type": "markdown",
   "metadata": {},
   "source": [
    "### Q14\n",
    "Let's plot the treemap for the first 10 popular genres."
   ]
  },
  {
   "cell_type": "code",
   "execution_count": null,
   "metadata": {},
   "outputs": [],
   "source": [
    "best_10_genres = most_popular_genre.sort_values('Total ratings',ascending=False).head(10)"
   ]
  },
  {
   "cell_type": "code",
   "execution_count": null,
   "metadata": {},
   "outputs": [],
   "source": [
    "best_10_genres"
   ]
  },
  {
   "cell_type": "markdown",
   "metadata": {},
   "source": [
    "We may use a colormap from matplotlib. Note that here both the intensity of the color and the size of the square indicates the value."
   ]
  },
  {
   "cell_type": "code",
   "execution_count": null,
   "metadata": {},
   "outputs": [],
   "source": [
    "import squarify\n",
    "import matplotlib\n",
    "plt.figure(figsize=(8,8))\n",
    "cmap = matplotlib.cm.Reds\n",
    "mini=min(best_10_genres[\"Total ratings\"])\n",
    "maxi=max(best_10_genres[\"Total ratings\"])\n",
    "norm = matplotlib.colors.Normalize(vmin=mini, vmax=maxi)\n",
    "colors = [cmap(norm(value)) for value in best_10_genres[\"Total ratings\"]]\n",
    "squarify.plot(sizes=best_10_genres[\"Total ratings\"], label=best_10_genres[\"genres\"], color=colors,alpha=.6 )\n",
    "plt.axis('off')\n",
    "plt.show()"
   ]
  },
  {
   "cell_type": "markdown",
   "metadata": {},
   "source": [
    "### Q 15\n",
    "#### Relationship between number of ratings - ratings mean\n",
    "\n",
    "We can see that the movies with the most ratings tend to have better average of ratings."
   ]
  },
  {
   "cell_type": "code",
   "execution_count": null,
   "metadata": {},
   "outputs": [],
   "source": [
    "# TO DO: try to do it yourself. it is a bonus!\n"
   ]
  },
  {
   "cell_type": "code",
   "execution_count": null,
   "metadata": {},
   "outputs": [],
   "source": []
  }
 ],
 "metadata": {
  "kernelspec": {
   "display_name": "Python 3",
   "language": "python",
   "name": "python3"
  },
  "language_info": {
   "codemirror_mode": {
    "name": "ipython",
    "version": 3
   },
   "file_extension": ".py",
   "mimetype": "text/x-python",
   "name": "python",
   "nbconvert_exporter": "python",
   "pygments_lexer": "ipython3",
   "version": "3.6.7"
  }
 },
 "nbformat": 4,
 "nbformat_minor": 2
}

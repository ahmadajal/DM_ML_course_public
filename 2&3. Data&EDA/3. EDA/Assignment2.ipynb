{
  "cells": [
    {
      "cell_type": "markdown",
      "source": [
        "# Assignment 2\n",
        "\n",
        "For this assignment we will download the MovieLens dataset. It has been used many times as a testbed for recommendation algorithms, i.e. to predict which movies the user may be interested in watching, similar to what Netflix does. There are various versions of the dataset. We will use the \"Movielens 1 Million\", which contains approximately one Million ratings of movies that users watched.\n",
        "\n",
        "\n",
        "\n",
        ">After you complete the questions in this notebook, go to Moodle and fill in the [Quiz for Assignment 2](https://moodle.unil.ch/mod/quiz/view.php?id=719528) where you have to answer questions related to this notebook. **Note:** The answers should be supported by code in the notebook you submit and not just random choices.\n",
        "\n",
        "\n",
        "\n",
        "## Downloading the necessary file(s)\n",
        "You may download MovieLens from [here](https://grouplens.org/datasets/movielens/1m/), or it's always better if we do it programmatically!"
      ],
      "metadata": {}
    },
    {
      "cell_type": "markdown",
      "source": [
        "In case you are using colab, you can load the raw data directly from github.\n",
        "Go to the [data folder](https://github.com/ahmadajal/DM_ML_course_public/tree/master/2%263.%20Data%26EDA/data/ml-1m) of week 2&3 in github and copy the link of the raw files.\n",
        "\n",
        "If you wish to do it with jupyter notebook, then download the files from [here](http://files.grouplens.org/datasets/movielens/ml-1m.zip)."
      ],
      "metadata": {}
    },
    {
      "cell_type": "code",
      "source": [
        "# import libraries\n",
        "import pandas as pd\n",
        "import numpy as np\n",
        "import matplotlib.pyplot as plt\n",
        "%matplotlib inline\n",
        "%config InlineBackend.figure_format = 'retina'"
      ],
      "outputs": [],
      "execution_count": 1,
      "metadata": {}
    },
    {
      "cell_type": "code",
      "source": [
        "# movies data\n",
        "movies_link = #find the link of the raw file from github\n",
        "movies = pd.read_csv(movies_link, delimiter = '::', \n",
        "                     names = ['movie_id', 'title', 'genres'], header = 0)\n",
        "# ratings data\n",
        "ratings_link = #find the link of the raw file from github\n",
        "ratings = pd.read_csv(ratings_link, delimiter = '::', \n",
        "                      names=['UserID','MovieID', 'Rating', 'Timestamp'], header = 0)\n",
        "# users data\n",
        "users_link = #find the link of the raw file from github\n",
        "users = pd.read_csv(users_link, delimiter = '::',\n",
        "                   names=['UserID', 'Gender', 'Age' ,'Occupation', 'Zip-code'], header=0)\n"
      ],
      "outputs": [],
      "execution_count": null,
      "metadata": {}
    },
    {
      "cell_type": "code",
      "source": [
        "movies.head()"
      ],
      "outputs": [],
      "execution_count": null,
      "metadata": {}
    },
    {
      "cell_type": "code",
      "source": [
        "ratings.head()"
      ],
      "outputs": [],
      "execution_count": null,
      "metadata": {}
    },
    {
      "cell_type": "code",
      "source": [
        "users.head()"
      ],
      "outputs": [],
      "execution_count": null,
      "metadata": {}
    },
    {
      "cell_type": "markdown",
      "source": [
        "Split the title and the release year in separate columns"
      ],
      "metadata": {}
    },
    {
      "cell_type": "code",
      "source": [
        "movies['year'] = movies.title.str.extract(\"\\((\\d{4})\\)\", expand=True)\n",
        "movies.head()"
      ],
      "outputs": [],
      "execution_count": null,
      "metadata": {}
    },
    {
      "cell_type": "markdown",
      "source": [
        "Correcting the datatype of the columns:\n",
        "    \n",
        "Right now if you check the data type of columns, the new column `year` is an `object` wheras it should be `integer`."
      ],
      "metadata": {}
    },
    {
      "cell_type": "code",
      "source": [
        "# TO DO: convert column year to integer\n",
        "\n"
      ],
      "outputs": [],
      "execution_count": null,
      "metadata": {}
    },
    {
      "cell_type": "markdown",
      "source": [
        "Convert the timestamp in ratings table to date type and add a new column `date` to the rating table"
      ],
      "metadata": {}
    },
    {
      "cell_type": "code",
      "source": [
        "# TO DO: convert timestamp to date and add a new column called date to ratings\n",
        "\n"
      ],
      "outputs": [],
      "execution_count": null,
      "metadata": {}
    },
    {
      "cell_type": "markdown",
      "source": [
        "We have the description of the occupation codes from readme. Let's apply a mapping to convert occupation codes to description in the users dataframe."
      ],
      "metadata": {}
    },
    {
      "cell_type": "code",
      "source": [
        "# We do this for you: map the occupation codes to the jobs name using the readme\n",
        "job_code = {0:  \"other or not specified\",\n",
        " 1:  \"academic/educator\",\n",
        " 2:  \"artist\",\n",
        " 3:  \"clerical/admin\",\n",
        " 4:  \"college/grad student\",\n",
        " 5:  \"customer service\",\n",
        " 6:  \"doctor/health care\",\n",
        " 7:  \"executive/managerial\",\n",
        " 8:  \"farmer\",\n",
        " 9:  \"homemaker\",\n",
        "10:  \"K-12 student\",\n",
        "11:  \"lawyer\",\n",
        "12:  \"programmer\",\n",
        "13:  \"retired\",\n",
        "14:  \"sales/marketing\",\n",
        "15:  \"scientist\",\n",
        "16:  \"self-employed\",\n",
        "17:  \"technician/engineer\",\n",
        "18:  \"tradesman/craftsman\",\n",
        "19:  \"unemployed\",\n",
        "20:  \"writer\"}\n",
        "users[\"Occupation\"] = users[\"Occupation\"].map(job_code)\n",
        "\n",
        "users.head()"
      ],
      "outputs": [],
      "execution_count": null,
      "metadata": {}
    },
    {
      "cell_type": "markdown",
      "source": [
        "### Q1, Q2, Q3: Number of movies, users and ratings\n",
        "How many movies?\n",
        "\n",
        "How many users?\n",
        "\n",
        "How many ratings?"
      ],
      "metadata": {}
    },
    {
      "cell_type": "code",
      "source": [
        "print(\"number of users: \", ratings.groupby(\"UserID\").count().shape[0])\n",
        "# TO DO:\n",
        "print(\"number of movies: \")\n",
        "print(\"number of ratings: \")"
      ],
      "outputs": [],
      "execution_count": null,
      "metadata": {}
    },
    {
      "cell_type": "markdown",
      "source": [
        "### Q4: Distribution of ratings\n",
        "What is the distribution of ratings? Can you find the median and mode values?"
      ],
      "metadata": {}
    },
    {
      "cell_type": "code",
      "source": [
        "# hint: make a bar plot"
      ],
      "outputs": [],
      "execution_count": null,
      "metadata": {}
    },
    {
      "cell_type": "markdown",
      "source": [
        "### Q5, Q6: Average rating\n",
        "What is the average rating across all users?\n",
        "\n",
        "What is the average rating across *per user*?"
      ],
      "metadata": {}
    },
    {
      "cell_type": "code",
      "source": [
        "# across all users\n",
        "print(\"avg rating across all users: \", np.mean(ratings[\"Rating\"]))"
      ],
      "outputs": [],
      "execution_count": null,
      "metadata": {}
    },
    {
      "cell_type": "code",
      "source": [
        "# per user\n",
        "# hint: read about `groupby` in pandas"
      ],
      "outputs": [],
      "execution_count": null,
      "metadata": {}
    },
    {
      "cell_type": "markdown",
      "source": [
        "### Q7, Q8, Q9: most watched movies\n",
        "Which are the most-watched movies?\n",
        "\n",
        "Which are the most-favorite movies (best avergae rating)?\n",
        "\n",
        "Create a dataframe which has both of the above values for each movie in separate columns"
      ],
      "metadata": {}
    },
    {
      "cell_type": "code",
      "source": [
        "# mereg the dataframes to match the movie id to movie name\n",
        "df = pd.merge(movies,ratings,left_on='movie_id', right_on=\"MovieID\")\n",
        "df.head()"
      ],
      "outputs": [],
      "execution_count": null,
      "metadata": {}
    },
    {
      "cell_type": "code",
      "source": [
        "# most watched movies\n",
        "# TO DO"
      ],
      "outputs": [],
      "execution_count": null,
      "metadata": {}
    },
    {
      "cell_type": "code",
      "source": [
        "# movies with best avg ratings\n",
        "# TO DO"
      ],
      "outputs": [],
      "execution_count": null,
      "metadata": {}
    },
    {
      "cell_type": "code",
      "source": [
        "# Do both of the above simultanously: \n",
        "# create Dataframe: ratings count and mean rating per movie"
      ],
      "outputs": [],
      "execution_count": null,
      "metadata": {}
    },
    {
      "cell_type": "markdown",
      "source": [
        "### For fun!\n",
        "Let's try to find the poster of the popular movies in our dataset.\n",
        "\n",
        "To do so we can use [tmdbsimple](https://pypi.org/project/tmdbsimple/) which is a wrapper, written in Python, for The Movie Database (TMDb) API v3.\n",
        "\n",
        "You will need an API key to The Movie Database to access the API. To obtain a key, follow these steps:\n",
        "\n",
        "- Register for and verify an [account](https://www.themoviedb.org/account/signup).\n",
        "- [Log into](https://www.themoviedb.org/login) your account.\n",
        "- Select the API section on left side of your account page.\n",
        "- Click on the link to generate a new API key and follow the instructions.\n"
      ],
      "metadata": {}
    },
    {
      "cell_type": "code",
      "source": [
        "# first we need to install the package\n",
        "!pip install tmdbsimple"
      ],
      "outputs": [],
      "execution_count": null,
      "metadata": {}
    },
    {
      "cell_type": "code",
      "source": [
        "import tmdbsimple as tmdb\n",
        "import time\n",
        "\n",
        "\n",
        "class TMDB():\n",
        "    \"\"\"For retrieving image poster.\n",
        "\n",
        "    \"\"\"\n",
        "    poster_prefix = \"http://image.tmdb.org/t/p/w200\"\n",
        "    tmdb_api_key = \"YOUR_API_KEY_HERE\"\n",
        "\n",
        "    def __init__(self):\n",
        "        tmdb.API_KEY = self.tmdb_api_key\n",
        "\n",
        "    def search(self, search_string):\n",
        "        search = tmdb.Search()\n",
        "        response = search.movie(query=search_string)\n",
        "        return response\n",
        "\n",
        "    def get_poster_path_by_name(self, search_string):\n",
        "        \"\"\"Return just the poster path for the movie\"\"\"\n",
        "\n",
        "        response = self.search(search_string)\n",
        "        for hit in response[\"results\"]:\n",
        "            return self.poster_prefix + hit[\"poster_path\"]\n",
        "\n",
        "    def get_poster_path_by_id(self, tmdb_id):\n",
        "        movie = tmdb.Movies(tmdb_id)\n",
        "        response = movie.info()\n",
        "\n",
        "        return self.poster_prefix + response[\"poster_path\"]\n",
        "        return self.poster_prefix + response[\"poster_path\"]\n",
        "\n",
        "\n",
        "if __name__ == '__main__':\n",
        "    start_time = time.time()\n",
        "\n",
        "    # check tmdb\n",
        "    print(TMDB().get_poster_path_by_name(\"Jurassic Park\"))\n",
        "\n",
        "    print(\"--- %s seconds ---\" % (time.time() - start_time))"
      ],
      "outputs": [],
      "execution_count": null,
      "metadata": {}
    },
    {
      "cell_type": "markdown",
      "source": [
        "Now we try to find the poster for the 10 most popular movies in the dataset"
      ],
      "metadata": {}
    },
    {
      "cell_type": "code",
      "source": [
        "first_10_movies = df_ratingCount.head(10).reset_index()\n",
        "first_10_movies[\"title\"] = first_10_movies[\"title\"].map(lambda x: x.strip()[:-6])\n",
        "first_10_movies[\"link to poster\"] = first_10_movies[\"title\"].map(TMDB().get_poster_path_by_name)\n",
        "first_10_movies"
      ],
      "outputs": [],
      "execution_count": null,
      "metadata": {}
    },
    {
      "cell_type": "code",
      "source": [
        "from IPython.display import Image\n",
        "from IPython.display import display, HTML\n",
        "\n",
        "def make_html(image_url):\n",
        "     return '<img src=\"{}\" style=\"display:inline;margin:1px\" width=\"80\" height=\"100\"/>'\\\n",
        "            .format(image_url)\n",
        "\n",
        "# poster for Terminator 2\n",
        "display(HTML(make_html(first_10_movies[\"link to poster\"][6])))"
      ],
      "outputs": [],
      "execution_count": null,
      "metadata": {}
    },
    {
      "cell_type": "markdown",
      "source": [
        "### Q9: Most popular geners\n",
        "Which are the most popular geners?"
      ],
      "metadata": {}
    },
    {
      "cell_type": "code",
      "source": [
        "# most popular genres (with most ratings)\n",
        "# hint: use `groupby` to find the number of ratigs per genre and use `sort_values` to sort them"
      ],
      "outputs": [],
      "execution_count": null,
      "metadata": {}
    },
    {
      "cell_type": "code",
      "source": [
        "# movies distribution per genres\n",
        "# TO DO"
      ],
      "outputs": [],
      "execution_count": null,
      "metadata": {}
    },
    {
      "cell_type": "markdown",
      "source": [
        "## Visual Data Analysis\n"
      ],
      "metadata": {}
    },
    {
      "cell_type": "code",
      "source": [
        "# select plot style\n",
        "plt.style.use('ggplot')\n",
        "\n",
        "# import libraries\n",
        "import matplotlib.pyplot as plt\n",
        "import seaborn as sns\n",
        "sns.set_style('white')\n",
        "%matplotlib inline"
      ],
      "outputs": [],
      "execution_count": null,
      "metadata": {}
    },
    {
      "cell_type": "markdown",
      "source": [
        "### Q10, Q11"
      ],
      "metadata": {}
    },
    {
      "cell_type": "markdown",
      "source": [
        "#### Distribution of ratings per movie (with ratings count  > 50)\n",
        "What is the rating distribution per movies?\n",
        "\n",
        "What is the movie distribution per release year?"
      ],
      "metadata": {}
    },
    {
      "cell_type": "code",
      "source": [
        "# hint: filter out movies with less than 50 ratings and then plot a histogram\n",
        "# hint: you may use the same dataframe that you created for Q7\n",
        "# TO DO"
      ],
      "outputs": [],
      "execution_count": null,
      "metadata": {}
    },
    {
      "cell_type": "markdown",
      "source": [
        "#### Movies distribution per release year (> 1985)"
      ],
      "metadata": {}
    },
    {
      "cell_type": "code",
      "source": [
        "# hint: histogram of movies that have been released after 1960\n",
        "# TO DO"
      ],
      "outputs": [],
      "execution_count": null,
      "metadata": {}
    },
    {
      "cell_type": "markdown",
      "source": [
        "### Q12"
      ],
      "metadata": {}
    },
    {
      "cell_type": "markdown",
      "source": [
        "#### Users distribution per occupation\n",
        "What is the distribution of jobs for users?"
      ],
      "metadata": {}
    },
    {
      "cell_type": "code",
      "source": [
        "# hint: use `factorplot` from seaborn package"
      ],
      "outputs": [],
      "execution_count": null,
      "metadata": {}
    },
    {
      "cell_type": "markdown",
      "source": [
        "### Q13\n",
        "#### box plot\n",
        "Viusalize the distribution of the number of ratings per movie with a box plot. Identify the outliers."
      ],
      "metadata": {}
    },
    {
      "cell_type": "code",
      "source": [
        "# TO DO: box plot of the number of ratings for each movie. use the dataframe that you created\n",
        "# for Q7\n"
      ],
      "outputs": [],
      "execution_count": null,
      "metadata": {}
    },
    {
      "cell_type": "markdown",
      "source": [
        "#### violon plot\n",
        "It is very similar to box plot except that it features a kernel density estimation of the underlying distribution. for more information check <a href=\"https://seaborn.pydata.org/generated/seaborn.violinplot.html\">this documentation</a>."
      ],
      "metadata": {}
    },
    {
      "cell_type": "code",
      "source": [
        "plt.figure(figsize=(5,8))\n",
        "sns.set_style(\"whitegrid\")\n",
        "sns.violinplot(\"ratingCount\", data=df_ratingCount, orient='v');"
      ],
      "outputs": [],
      "execution_count": null,
      "metadata": {}
    },
    {
      "cell_type": "markdown",
      "source": [
        "### Q 14\n",
        "#### Relationship between number of ratings - ratings mean\n",
        "\n",
        "Read about [jointplot](https://seaborn.pydata.org/generated/seaborn.jointplot.html) from seaborn documentation. What can you say about the relationship between the number of ratings for a movie and its average rating?"
      ],
      "metadata": {}
    },
    {
      "cell_type": "code",
      "source": [
        "# hint: use `joinplot` from seaborn package\n"
      ],
      "outputs": [],
      "execution_count": 1,
      "metadata": {}
    },
    {
      "cell_type": "markdown",
      "source": [
        "### Q15 (bonus)\n",
        "Read about treemap and try to visualize the distribution of 10 most populated genres using it.\n"
      ],
      "metadata": {}
    },
    {
      "cell_type": "code",
      "source": [
        "best_10_genres = most_popular_genre.sort_values('Total ratings',ascending=False).head(10)"
      ],
      "outputs": [],
      "execution_count": null,
      "metadata": {}
    },
    {
      "cell_type": "code",
      "source": [
        "best_10_genres"
      ],
      "outputs": [],
      "execution_count": null,
      "metadata": {}
    },
    {
      "cell_type": "markdown",
      "source": [
        "We may use a colormap from matplotlib. Note that here both the intensity of the color and the size of the square indicates the value. Check the package `squarify` to learn how to plot treemaps"
      ],
      "metadata": {}
    },
    {
      "cell_type": "code",
      "source": [
        "# TO DO: tree map"
      ],
      "outputs": [],
      "execution_count": null,
      "metadata": {}
    }
  ],
  "metadata": {
    "kernelspec": {
      "name": "python3",
      "language": "python",
      "display_name": "Python 3"
    },
    "language_info": {
      "name": "python",
      "version": "3.7.3",
      "mimetype": "text/x-python",
      "codemirror_mode": {
        "name": "ipython",
        "version": 3
      },
      "pygments_lexer": "ipython3",
      "nbconvert_exporter": "python",
      "file_extension": ".py"
    },
    "kernel_info": {
      "name": "python3"
    },
    "nteract": {
      "version": "0.15.0"
    }
  },
  "nbformat": 4,
  "nbformat_minor": 2
}
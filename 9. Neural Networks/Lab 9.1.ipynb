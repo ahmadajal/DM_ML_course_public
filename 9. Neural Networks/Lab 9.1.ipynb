{
 "cells": [
  {
   "cell_type": "markdown",
   "metadata": {},
   "source": [
    "# Deep Learning: EA FIFA"
   ]
  },
  {
   "cell_type": "code",
   "execution_count": null,
   "metadata": {},
   "outputs": [],
   "source": [
    "%matplotlib inline\n",
    "import numpy as np\n",
    "import matplotlib.pyplot as plt\n",
    "import pandas as pd\n",
    "from sklearn.model_selection import train_test_split\n",
    "from sklearn.preprocessing import LabelEncoder\n",
    "from sklearn.metrics import confusion_matrix\n",
    "from keras.utils import np_utils\n",
    "from keras.models import Sequential\n",
    "from keras.layers.core import Dense, Dropout, Activation, Flatten\n",
    "from keras import optimizers"
   ]
  },
  {
   "cell_type": "markdown",
   "metadata": {},
   "source": [
    "## Load training data"
   ]
  },
  {
   "cell_type": "code",
   "execution_count": null,
   "metadata": {},
   "outputs": [],
   "source": [
    "df = pd.read_csv('EA_FIFA.csv')\n",
    "df.columns"
   ]
  },
  {
   "cell_type": "markdown",
   "metadata": {},
   "source": [
    "## Regression"
   ]
  },
  {
   "cell_type": "code",
   "execution_count": null,
   "metadata": {},
   "outputs": [],
   "source": [
    "# selecting a set of features\n",
    "df_reg = df.filter(['Rating', 'Weak_foot', 'Skill_Moves',\n",
    "       'Ball_Control', 'Dribbling', 'Marking', 'Sliding_Tackle',\n",
    "       'Standing_Tackle', 'Aggression', 'Reactions', 'Attacking_Position',\n",
    "       'Interceptions', 'Vision', 'Composure', 'Crossing', 'Short_Pass',\n",
    "       'Long_Pass', 'Acceleration', 'Speed', 'Stamina', 'Strength', 'Balance',\n",
    "       'Agility', 'Jumping', 'Heading', 'Shot_Power', 'Finishing',\n",
    "       'Long_Shots', 'Curve', 'Freekick_Accuracy', 'Penalties', 'Volleys',\n",
    "       'GK_Positioning', 'GK_Diving', 'GK_Kicking', 'GK_Handling',\n",
    "       'GK_Reflexes'], axis=1)\n",
    "df_reg.head()"
   ]
  },
  {
   "cell_type": "code",
   "execution_count": null,
   "metadata": {},
   "outputs": [],
   "source": [
    "df_reg.shape"
   ]
  },
  {
   "cell_type": "code",
   "execution_count": null,
   "metadata": {},
   "outputs": [],
   "source": [
    "X_train, X_test, y_train, y_test = train_test_split(df_reg.drop(['Rating'], axis=1), df_reg['Rating'],\n",
    "                                                    random_state=13, test_size=0.2)"
   ]
  },
  {
   "cell_type": "code",
   "execution_count": null,
   "metadata": {},
   "outputs": [],
   "source": [
    "np.random.seed(1125)\n",
    "\n",
    "# Build the model\n",
    "#create model\n",
    "model_reg = Sequential()\n",
    "\n",
    "#add model layers, remember that for the first layer you would need to specify the size of the input\n",
    "#also as this is a regression problem, we would only need one outpot neuron (which is the y we predict)\n",
    "# TO do\n",
    "\n",
    "\n",
    "\n",
    "\n",
    "# Compile the model, you would need to choose the appropriate loss and metrics for a regression problem\n",
    "# TO DO\n",
    "model_reg.compile(loss= , optimizer= , metrics=[])"
   ]
  },
  {
   "cell_type": "code",
   "execution_count": null,
   "metadata": {},
   "outputs": [],
   "source": [
    "#summary of the model\n",
    "model_reg.summary()"
   ]
  },
  {
   "cell_type": "code",
   "execution_count": null,
   "metadata": {},
   "outputs": [],
   "source": [
    "# Train the model and store training history\n",
    "model_reg_hist = model_reg.fit(X_train, y_train, batch_size=64, epochs=50,\n",
    "                               verbose=0, validation_split=0.2) "
   ]
  },
  {
   "cell_type": "code",
   "execution_count": null,
   "metadata": {},
   "outputs": [],
   "source": [
    "# Evaluate the model\n",
    "score = model_reg.evaluate(X_test, y_test, verbose=0)\n",
    "y_pred = model_reg.predict(X_test)\n",
    "y_pred = [y[0] for y in y_pred]"
   ]
  },
  {
   "cell_type": "code",
   "execution_count": null,
   "metadata": {},
   "outputs": [],
   "source": [
    "# test loss\n",
    "print(score[0])"
   ]
  },
  {
   "cell_type": "markdown",
   "metadata": {},
   "source": [
    "### observe your regression model performance\n",
    "Now try to observe the performance of your regression model through `predicted vs actual` and `fitted vs residual` plots."
   ]
  },
  {
   "cell_type": "code",
   "execution_count": null,
   "metadata": {},
   "outputs": [],
   "source": [
    "fig, axes = plt.subplots(1, 2, figsize=(20, 8))\n",
    "axes[0].scatter(y_test, y_pred, s=10, alpha=0.6)\n",
    "axes[0].set_xlabel('Actual Rating', size=16)\n",
    "axes[0].set_ylabel('Predicted Rating', size=16)\n",
    "\n",
    "res = y_test - y_pred\n",
    "axes[1].scatter(res, y_pred, s=10, alpha=0.6)\n",
    "axes[1].set_xlabel('Residuals', size=16)\n",
    "plt.tight_layout()"
   ]
  },
  {
   "cell_type": "markdown",
   "metadata": {},
   "source": [
    "## Classification"
   ]
  },
  {
   "cell_type": "code",
   "execution_count": null,
   "metadata": {},
   "outputs": [],
   "source": [
    "df_clf = df.filter(['Preffered_Position', 'Weak_foot', 'Skill_Moves',\n",
    "       'Ball_Control', 'Dribbling', 'Marking', 'Sliding_Tackle',\n",
    "       'Standing_Tackle', 'Aggression', 'Reactions', 'Attacking_Position',\n",
    "       'Interceptions', 'Vision', 'Composure', 'Crossing', 'Short_Pass',\n",
    "       'Long_Pass', 'Acceleration', 'Speed', 'Stamina', 'Strength', 'Balance',\n",
    "       'Agility', 'Jumping', 'Heading', 'Shot_Power', 'Finishing',\n",
    "       'Long_Shots', 'Curve', 'Freekick_Accuracy', 'Penalties', 'Volleys',\n",
    "       'GK_Positioning', 'GK_Diving', 'GK_Kicking', 'GK_Handling',\n",
    "       'GK_Reflexes'], axis=1)\n",
    "df_clf.head()"
   ]
  },
  {
   "cell_type": "code",
   "execution_count": null,
   "metadata": {},
   "outputs": [],
   "source": [
    "df['Preffered_Position'].unique()"
   ]
  },
  {
   "cell_type": "markdown",
   "metadata": {},
   "source": [
    "### simplifying the categories"
   ]
  },
  {
   "cell_type": "code",
   "execution_count": null,
   "metadata": {},
   "outputs": [],
   "source": [
    "# As you see above, we have 292 categories. Try to simplify these into more coarser categories. For example\n",
    "# you can only take the first position\n",
    "# TO DO\n",
    "\n",
    "df_clf['Position'] = "
   ]
  },
  {
   "cell_type": "code",
   "execution_count": null,
   "metadata": {},
   "outputs": [],
   "source": [
    "df_clf['Position'].unique()"
   ]
  },
  {
   "cell_type": "code",
   "execution_count": null,
   "metadata": {},
   "outputs": [],
   "source": [
    "X = df_clf.drop(['Position', 'Preffered_Position'], axis=1)\n",
    "\n",
    "# one-hot encoding\n",
    "nb_classes = len(df_clf['Position'].unique())\n",
    "y = np_utils.to_categorical(LabelEncoder().fit_transform(df_clf['Position']), nb_classes)"
   ]
  },
  {
   "cell_type": "code",
   "execution_count": null,
   "metadata": {
    "scrolled": true
   },
   "outputs": [],
   "source": [
    "X_train, X_test, y_train, y_test = train_test_split(X, y, random_state=13, test_size=0.2)"
   ]
  },
  {
   "cell_type": "code",
   "execution_count": null,
   "metadata": {},
   "outputs": [],
   "source": [
    "#create model\n",
    "model_clf = Sequential()\n",
    "\n",
    "#add layers to model, remember that for the first layer you would need to specify the size of the input\n",
    "#also as this is a regression problem, we would need nb_classes output neurons\n",
    "# TO do\n",
    "\n",
    "\n",
    "\n",
    "# Compile the model, you would need to choose the appropriate loss and metrics for a multi-class\n",
    "# classification problem\n",
    "# TO DO\n",
    "model_clf.compile(loss= , optimizer=, metrics=[])"
   ]
  },
  {
   "cell_type": "code",
   "execution_count": null,
   "metadata": {
    "scrolled": false
   },
   "outputs": [],
   "source": [
    "# Train the model and store training history\n",
    "model_clf_hist = model_clf.fit(X_train, y_train, batch_size=128, epochs=50, verbose=1, validation_split=0.2) "
   ]
  },
  {
   "cell_type": "code",
   "execution_count": null,
   "metadata": {},
   "outputs": [],
   "source": [
    "# Evaluate the model\n",
    "plt.figure(figsize=(15,15))\n",
    "plt.plot(model_clf_hist.history['val_accuracy']) # or model_hist.history['val_acc'] depending on tf version\n",
    "plt.show()"
   ]
  },
  {
   "cell_type": "code",
   "execution_count": null,
   "metadata": {},
   "outputs": [],
   "source": [
    "# evaluate model on unseen data\n",
    "score = model_clf.evaluate(X_test, y_test, verbose=0)\n",
    "print('Test score:', score[0])\n",
    "print('Test accuracy:', score[1])\n"
   ]
  },
  {
   "cell_type": "code",
   "execution_count": null,
   "metadata": {},
   "outputs": [],
   "source": []
  }
 ],
 "metadata": {
  "kernelspec": {
   "display_name": "Python 3",
   "language": "python",
   "name": "python3"
  },
  "language_info": {
   "codemirror_mode": {
    "name": "ipython",
    "version": 3
   },
   "file_extension": ".py",
   "mimetype": "text/x-python",
   "name": "python",
   "nbconvert_exporter": "python",
   "pygments_lexer": "ipython3",
   "version": "3.7.3"
  }
 },
 "nbformat": 4,
 "nbformat_minor": 1
}

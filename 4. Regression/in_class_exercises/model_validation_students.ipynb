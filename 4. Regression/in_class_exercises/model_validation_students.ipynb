{
  "cells": [
    {
      "cell_type": "markdown",
      "source": [
        "# Linear Regression: Model Validation\n",
        "\n",
        "We will examine how well the model generalizes to new observations."
      ],
      "metadata": {}
    },
    {
      "cell_type": "markdown",
      "source": [
        "## Step 1: Loading the data\n",
        "\n",
        "Read the data file into a Pandas DataFrame called `home_data`."
      ],
      "metadata": {}
    },
    {
      "cell_type": "code",
      "source": [
        "import pandas as pd\n",
        "\n",
        "# Path of the file to read\n",
        "data_path = \"train.csv\"\n",
        "home_data = pd.read_csv(data_path)\n",
        "\n",
        "print(\"Setup Complete\")\n",
        "home_data.head()"
      ],
      "outputs": [
        {
          "output_type": "stream",
          "name": "stdout",
          "text": [
            "Setup Complete\n"
          ]
        },
        {
          "output_type": "execute_result",
          "execution_count": 25,
          "data": {
            "text/plain": [
              "   Id  MSSubClass MSZoning  LotFrontage  LotArea Street Alley LotShape  \\\n",
              "0   1          60       RL         65.0     8450   Pave   NaN      Reg   \n",
              "1   2          20       RL         80.0     9600   Pave   NaN      Reg   \n",
              "2   3          60       RL         68.0    11250   Pave   NaN      IR1   \n",
              "3   4          70       RL         60.0     9550   Pave   NaN      IR1   \n",
              "4   5          60       RL         84.0    14260   Pave   NaN      IR1   \n",
              "\n",
              "  LandContour Utilities  ... PoolArea PoolQC Fence MiscFeature MiscVal MoSold  \\\n",
              "0         Lvl    AllPub  ...        0    NaN   NaN         NaN       0      2   \n",
              "1         Lvl    AllPub  ...        0    NaN   NaN         NaN       0      5   \n",
              "2         Lvl    AllPub  ...        0    NaN   NaN         NaN       0      9   \n",
              "3         Lvl    AllPub  ...        0    NaN   NaN         NaN       0      2   \n",
              "4         Lvl    AllPub  ...        0    NaN   NaN         NaN       0     12   \n",
              "\n",
              "  YrSold  SaleType  SaleCondition  SalePrice  \n",
              "0   2008        WD         Normal     208500  \n",
              "1   2007        WD         Normal     181500  \n",
              "2   2008        WD         Normal     223500  \n",
              "3   2006        WD        Abnorml     140000  \n",
              "4   2008        WD         Normal     250000  \n",
              "\n",
              "[5 rows x 81 columns]"
            ],
            "text/html": [
              "<div>\n",
              "<style scoped>\n",
              "    .dataframe tbody tr th:only-of-type {\n",
              "        vertical-align: middle;\n",
              "    }\n",
              "\n",
              "    .dataframe tbody tr th {\n",
              "        vertical-align: top;\n",
              "    }\n",
              "\n",
              "    .dataframe thead th {\n",
              "        text-align: right;\n",
              "    }\n",
              "</style>\n",
              "<table border=\"1\" class=\"dataframe\">\n",
              "  <thead>\n",
              "    <tr style=\"text-align: right;\">\n",
              "      <th></th>\n",
              "      <th>Id</th>\n",
              "      <th>MSSubClass</th>\n",
              "      <th>MSZoning</th>\n",
              "      <th>LotFrontage</th>\n",
              "      <th>LotArea</th>\n",
              "      <th>Street</th>\n",
              "      <th>Alley</th>\n",
              "      <th>LotShape</th>\n",
              "      <th>LandContour</th>\n",
              "      <th>Utilities</th>\n",
              "      <th>...</th>\n",
              "      <th>PoolArea</th>\n",
              "      <th>PoolQC</th>\n",
              "      <th>Fence</th>\n",
              "      <th>MiscFeature</th>\n",
              "      <th>MiscVal</th>\n",
              "      <th>MoSold</th>\n",
              "      <th>YrSold</th>\n",
              "      <th>SaleType</th>\n",
              "      <th>SaleCondition</th>\n",
              "      <th>SalePrice</th>\n",
              "    </tr>\n",
              "  </thead>\n",
              "  <tbody>\n",
              "    <tr>\n",
              "      <th>0</th>\n",
              "      <td>1</td>\n",
              "      <td>60</td>\n",
              "      <td>RL</td>\n",
              "      <td>65.0</td>\n",
              "      <td>8450</td>\n",
              "      <td>Pave</td>\n",
              "      <td>NaN</td>\n",
              "      <td>Reg</td>\n",
              "      <td>Lvl</td>\n",
              "      <td>AllPub</td>\n",
              "      <td>...</td>\n",
              "      <td>0</td>\n",
              "      <td>NaN</td>\n",
              "      <td>NaN</td>\n",
              "      <td>NaN</td>\n",
              "      <td>0</td>\n",
              "      <td>2</td>\n",
              "      <td>2008</td>\n",
              "      <td>WD</td>\n",
              "      <td>Normal</td>\n",
              "      <td>208500</td>\n",
              "    </tr>\n",
              "    <tr>\n",
              "      <th>1</th>\n",
              "      <td>2</td>\n",
              "      <td>20</td>\n",
              "      <td>RL</td>\n",
              "      <td>80.0</td>\n",
              "      <td>9600</td>\n",
              "      <td>Pave</td>\n",
              "      <td>NaN</td>\n",
              "      <td>Reg</td>\n",
              "      <td>Lvl</td>\n",
              "      <td>AllPub</td>\n",
              "      <td>...</td>\n",
              "      <td>0</td>\n",
              "      <td>NaN</td>\n",
              "      <td>NaN</td>\n",
              "      <td>NaN</td>\n",
              "      <td>0</td>\n",
              "      <td>5</td>\n",
              "      <td>2007</td>\n",
              "      <td>WD</td>\n",
              "      <td>Normal</td>\n",
              "      <td>181500</td>\n",
              "    </tr>\n",
              "    <tr>\n",
              "      <th>2</th>\n",
              "      <td>3</td>\n",
              "      <td>60</td>\n",
              "      <td>RL</td>\n",
              "      <td>68.0</td>\n",
              "      <td>11250</td>\n",
              "      <td>Pave</td>\n",
              "      <td>NaN</td>\n",
              "      <td>IR1</td>\n",
              "      <td>Lvl</td>\n",
              "      <td>AllPub</td>\n",
              "      <td>...</td>\n",
              "      <td>0</td>\n",
              "      <td>NaN</td>\n",
              "      <td>NaN</td>\n",
              "      <td>NaN</td>\n",
              "      <td>0</td>\n",
              "      <td>9</td>\n",
              "      <td>2008</td>\n",
              "      <td>WD</td>\n",
              "      <td>Normal</td>\n",
              "      <td>223500</td>\n",
              "    </tr>\n",
              "    <tr>\n",
              "      <th>3</th>\n",
              "      <td>4</td>\n",
              "      <td>70</td>\n",
              "      <td>RL</td>\n",
              "      <td>60.0</td>\n",
              "      <td>9550</td>\n",
              "      <td>Pave</td>\n",
              "      <td>NaN</td>\n",
              "      <td>IR1</td>\n",
              "      <td>Lvl</td>\n",
              "      <td>AllPub</td>\n",
              "      <td>...</td>\n",
              "      <td>0</td>\n",
              "      <td>NaN</td>\n",
              "      <td>NaN</td>\n",
              "      <td>NaN</td>\n",
              "      <td>0</td>\n",
              "      <td>2</td>\n",
              "      <td>2006</td>\n",
              "      <td>WD</td>\n",
              "      <td>Abnorml</td>\n",
              "      <td>140000</td>\n",
              "    </tr>\n",
              "    <tr>\n",
              "      <th>4</th>\n",
              "      <td>5</td>\n",
              "      <td>60</td>\n",
              "      <td>RL</td>\n",
              "      <td>84.0</td>\n",
              "      <td>14260</td>\n",
              "      <td>Pave</td>\n",
              "      <td>NaN</td>\n",
              "      <td>IR1</td>\n",
              "      <td>Lvl</td>\n",
              "      <td>AllPub</td>\n",
              "      <td>...</td>\n",
              "      <td>0</td>\n",
              "      <td>NaN</td>\n",
              "      <td>NaN</td>\n",
              "      <td>NaN</td>\n",
              "      <td>0</td>\n",
              "      <td>12</td>\n",
              "      <td>2008</td>\n",
              "      <td>WD</td>\n",
              "      <td>Normal</td>\n",
              "      <td>250000</td>\n",
              "    </tr>\n",
              "  </tbody>\n",
              "</table>\n",
              "<p>5 rows × 81 columns</p>\n",
              "</div>"
            ]
          },
          "metadata": {}
        }
      ],
      "execution_count": 25,
      "metadata": {
        "collapsed": false,
        "outputHidden": false,
        "inputHidden": false
      }
    },
    {
      "cell_type": "markdown",
      "source": [
        "We will select the **features** which by convention are called **X**. We will also choose the target variable which we typically call `y`."
      ],
      "metadata": {}
    },
    {
      "cell_type": "markdown",
      "source": [
        "## Step 2: Create X\n",
        "Now you will create a DataFrame called **`X`** holding the predictive features.\n",
        "\n",
        "Since you want only some columns from the original data, you'll first create a list with the names of the columns you want in `X`.\n",
        "\n",
        "There are a number of columns you can put in the list (you can copy and paste the whole list to save some typing, though you'll still need to add quotes):\n",
        " * LotArea\n",
        "  * YearBuilt\n",
        "  * FullBath\n",
        "\n",
        "After you've created that list of features, use it to create the DataFrame that you'll use to fit the model."
      ],
      "metadata": {}
    },
    {
      "cell_type": "code",
      "source": [
        "feature_names = [---]\n",
        "\n",
        "X = home_data[feature_names]\n",
        "y = home_data[\"SalePrice\"]"
      ],
      "outputs": [],
      "execution_count": 38,
      "metadata": {
        "collapsed": false,
        "outputHidden": false,
        "inputHidden": false
      }
    },
    {
      "cell_type": "markdown",
      "source": [
        "We create the linear model with all the features and compute its MAE."
      ],
      "metadata": {}
    },
    {
      "cell_type": "code",
      "source": [
        "from sklearn.linear_model import LinearRegression\n",
        "from sklearn.metrics import mean_absolute_error\n",
        "\n",
        "model = LinearRegression()\n",
        "model.fit(X,y)\n",
        "\n",
        "predicted = model.predict(X)\n",
        "mae = mean_absolute_error(predicted, y)\n",
        " \n",
        "print(\"MAE = %.2f\" % mae)"
      ],
      "outputs": [],
      "execution_count": null,
      "metadata": {
        "collapsed": false,
        "outputHidden": false,
        "inputHidden": false
      }
    },
    {
      "cell_type": "markdown",
      "source": [
        "How much is the MAE? You should find a value of 40372.31"
      ],
      "metadata": {}
    },
    {
      "cell_type": "markdown",
      "source": [
        "# Exercise on Train/Test Split\n",
        "\n",
        "## Step 1: Split Your Data\n",
        "Use the `train_test_split` function to split up your data.\n",
        "\n",
        "Give it the argument `random_state=1` so the `check` functions know what to expect when verifying your code.\n",
        "\n",
        "Recall, your features are loaded in the DataFrame **X** and your target is loaded in **y**."
      ],
      "metadata": {}
    },
    {
      "cell_type": "code",
      "source": [
        "# Import the train_test_split function and uncomment\n",
        "# from _ import _\n",
        "\n",
        "# fill in and uncomment\n",
        "# train_X, val_X, train_y, val_y = train_test_split(---, ---, random_state=1)"
      ],
      "outputs": [],
      "execution_count": 40,
      "metadata": {
        "collapsed": false,
        "outputHidden": false,
        "inputHidden": false
      }
    },
    {
      "cell_type": "code",
      "source": [
        "# Import the train_test_split function and uncomment\n",
        "from sklearn.model_selection import train_test_split\n",
        "train_X, val_X, train_y, val_y = train_test_split(X, y, random_state=1)"
      ],
      "outputs": [],
      "execution_count": 62,
      "metadata": {
        "collapsed": false,
        "outputHidden": false,
        "inputHidden": true
      }
    },
    {
      "cell_type": "markdown",
      "source": [
        "## Step 2: Specify and Fit the Model\n",
        "\n",
        "Create a `LinearRegression` model and fit it to the relevant data."
      ],
      "metadata": {}
    },
    {
      "cell_type": "code",
      "source": [
        "# Specify the model\n",
        "iowa_model = LinearRegression()\n",
        "\n",
        "# Fit the model with the *TRAINING* data\n",
        "iowa_model.fit(train_X, train_y)"
      ],
      "outputs": [
        {
          "output_type": "execute_result",
          "execution_count": 42,
          "data": {
            "text/plain": [
              "LinearRegression(copy_X=True, fit_intercept=True, n_jobs=None,\n",
              "         normalize=False)"
            ]
          },
          "metadata": {}
        }
      ],
      "execution_count": 42,
      "metadata": {
        "collapsed": false,
        "outputHidden": false,
        "inputHidden": false
      }
    },
    {
      "cell_type": "markdown",
      "source": [
        "## Step 3: Make Predictions with Validation data\n"
      ],
      "metadata": {}
    },
    {
      "cell_type": "code",
      "source": [
        "# Predict with all validation observations\n",
        "#val_predictions = ____"
      ],
      "outputs": [],
      "execution_count": 43,
      "metadata": {
        "collapsed": false,
        "outputHidden": false,
        "inputHidden": false
      }
    },
    {
      "cell_type": "code",
      "source": [
        "val_predictions = iowa_model.predict(val_X)"
      ],
      "outputs": [],
      "execution_count": 44,
      "metadata": {
        "collapsed": false,
        "outputHidden": false,
        "inputHidden": true
      }
    },
    {
      "cell_type": "markdown",
      "source": [
        "## Step 4: Calculate the Mean Absolute Error in Validation Data"
      ],
      "metadata": {}
    },
    {
      "cell_type": "code",
      "source": [
        "#from sklearn.metrics import mean_absolute_error\n",
        "#val_mae = ____\n",
        "\n",
        "# uncomment following line to see the validation_mae\n",
        "#print(val_mae)\n"
      ],
      "outputs": [],
      "execution_count": 47,
      "metadata": {
        "collapsed": false,
        "outputHidden": false,
        "inputHidden": false
      }
    },
    {
      "cell_type": "code",
      "source": [
        "val_mae = mean_absolute_error(val_predictions, val_y)\n",
        "print(val_mae)"
      ],
      "outputs": [],
      "execution_count": null,
      "metadata": {
        "collapsed": false,
        "outputHidden": false,
        "inputHidden": true
      }
    },
    {
      "cell_type": "markdown",
      "source": [
        "Using the training data the MAE was ~40000 and now it is ~41500. It has increased which is what we expected."
      ],
      "metadata": {}
    },
    {
      "cell_type": "markdown",
      "source": [
        "# Comparing Models of Different \"Complexity\"\n"
      ],
      "metadata": {}
    },
    {
      "cell_type": "code",
      "source": [
        "def model_mae(train_X, val_X, train_y, val_y):\n",
        "    \"\"\"\n",
        "    Computes the MAE for a DataFrame\n",
        "    \"\"\"\n",
        "    model = LinearRegression()\n",
        "    model.fit(train_X, train_y)\n",
        "    preds_val = model.predict(val_X)\n",
        "    mae = mean_absolute_error(val_y, preds_val)\n",
        "    return(mae)"
      ],
      "outputs": [],
      "execution_count": 49,
      "metadata": {
        "collapsed": false,
        "outputHidden": false,
        "inputHidden": false
      }
    },
    {
      "cell_type": "markdown",
      "source": [
        "Let's see which are the attributes that are most correlated with the SalePrice."
      ],
      "metadata": {}
    },
    {
      "cell_type": "code",
      "source": [
        "feature_names = ['LotArea', 'YearBuilt', '1stFlrSF', '2ndFlrSF', 'FullBath', 'BedroomAbvGr', 'TotRmsAbvGrd', 'OverallQual',\n",
        "'OverallCond', 'KitchenAbvGr', 'WoodDeckSF', 'OpenPorchSF',\n",
        "'EnclosedPorch',\n",
        "'3SsnPorch',\n",
        "'ScreenPorch',\n",
        "'PoolArea',  'SalePrice']\n",
        "\n",
        "# select data corresponding to features in feature_names\n",
        "home_data = pd.read_csv(data_path)\n",
        "df = home_data[feature_names]\n",
        "corr = df.corr().iloc[:-1,-1].to_frame() #just correlation of last column to rest\n",
        "corr.style.background_gradient(cmap='coolwarm').set_precision(2)"
      ],
      "outputs": [
        {
          "output_type": "execute_result",
          "execution_count": 50,
          "data": {
            "text/plain": [
              "<pandas.io.formats.style.Styler at 0x7faa38b26e80>"
            ],
            "text/html": [
              "<style  type=\"text/css\" >\n",
              "    #T_edb3c5a4_ebea_11e9_b203_acde48001122row0_col0 {\n",
              "            background-color:  #cad8ef;\n",
              "            color:  #000000;\n",
              "        }    #T_edb3c5a4_ebea_11e9_b203_acde48001122row1_col0 {\n",
              "            background-color:  #f7a98b;\n",
              "            color:  #000000;\n",
              "        }    #T_edb3c5a4_ebea_11e9_b203_acde48001122row2_col0 {\n",
              "            background-color:  #ee8468;\n",
              "            color:  #000000;\n",
              "        }    #T_edb3c5a4_ebea_11e9_b203_acde48001122row3_col0 {\n",
              "            background-color:  #dadce0;\n",
              "            color:  #000000;\n",
              "        }    #T_edb3c5a4_ebea_11e9_b203_acde48001122row4_col0 {\n",
              "            background-color:  #f4987a;\n",
              "            color:  #000000;\n",
              "        }    #T_edb3c5a4_ebea_11e9_b203_acde48001122row5_col0 {\n",
              "            background-color:  #a7c5fe;\n",
              "            color:  #000000;\n",
              "        }    #T_edb3c5a4_ebea_11e9_b203_acde48001122row6_col0 {\n",
              "            background-color:  #f6a586;\n",
              "            color:  #000000;\n",
              "        }    #T_edb3c5a4_ebea_11e9_b203_acde48001122row7_col0 {\n",
              "            background-color:  #b40426;\n",
              "            color:  #f1f1f1;\n",
              "        }    #T_edb3c5a4_ebea_11e9_b203_acde48001122row8_col0 {\n",
              "            background-color:  #4e68d8;\n",
              "            color:  #000000;\n",
              "        }    #T_edb3c5a4_ebea_11e9_b203_acde48001122row9_col0 {\n",
              "            background-color:  #3b4cc0;\n",
              "            color:  #f1f1f1;\n",
              "        }    #T_edb3c5a4_ebea_11e9_b203_acde48001122row10_col0 {\n",
              "            background-color:  #dcdddd;\n",
              "            color:  #000000;\n",
              "        }    #T_edb3c5a4_ebea_11e9_b203_acde48001122row11_col0 {\n",
              "            background-color:  #d9dce1;\n",
              "            color:  #000000;\n",
              "        }    #T_edb3c5a4_ebea_11e9_b203_acde48001122row12_col0 {\n",
              "            background-color:  #3d50c3;\n",
              "            color:  #f1f1f1;\n",
              "        }    #T_edb3c5a4_ebea_11e9_b203_acde48001122row13_col0 {\n",
              "            background-color:  #799cf8;\n",
              "            color:  #000000;\n",
              "        }    #T_edb3c5a4_ebea_11e9_b203_acde48001122row14_col0 {\n",
              "            background-color:  #93b5fe;\n",
              "            color:  #000000;\n",
              "        }    #T_edb3c5a4_ebea_11e9_b203_acde48001122row15_col0 {\n",
              "            background-color:  #8caffe;\n",
              "            color:  #000000;\n",
              "        }</style><table id=\"T_edb3c5a4_ebea_11e9_b203_acde48001122\" ><thead>    <tr>        <th class=\"blank level0\" ></th>        <th class=\"col_heading level0 col0\" >SalePrice</th>    </tr></thead><tbody>\n",
              "                <tr>\n",
              "                        <th id=\"T_edb3c5a4_ebea_11e9_b203_acde48001122level0_row0\" class=\"row_heading level0 row0\" >LotArea</th>\n",
              "                        <td id=\"T_edb3c5a4_ebea_11e9_b203_acde48001122row0_col0\" class=\"data row0 col0\" >0.26</td>\n",
              "            </tr>\n",
              "            <tr>\n",
              "                        <th id=\"T_edb3c5a4_ebea_11e9_b203_acde48001122level0_row1\" class=\"row_heading level0 row1\" >YearBuilt</th>\n",
              "                        <td id=\"T_edb3c5a4_ebea_11e9_b203_acde48001122row1_col0\" class=\"data row1 col0\" >0.52</td>\n",
              "            </tr>\n",
              "            <tr>\n",
              "                        <th id=\"T_edb3c5a4_ebea_11e9_b203_acde48001122level0_row2\" class=\"row_heading level0 row2\" >1stFlrSF</th>\n",
              "                        <td id=\"T_edb3c5a4_ebea_11e9_b203_acde48001122row2_col0\" class=\"data row2 col0\" >0.61</td>\n",
              "            </tr>\n",
              "            <tr>\n",
              "                        <th id=\"T_edb3c5a4_ebea_11e9_b203_acde48001122level0_row3\" class=\"row_heading level0 row3\" >2ndFlrSF</th>\n",
              "                        <td id=\"T_edb3c5a4_ebea_11e9_b203_acde48001122row3_col0\" class=\"data row3 col0\" >0.32</td>\n",
              "            </tr>\n",
              "            <tr>\n",
              "                        <th id=\"T_edb3c5a4_ebea_11e9_b203_acde48001122level0_row4\" class=\"row_heading level0 row4\" >FullBath</th>\n",
              "                        <td id=\"T_edb3c5a4_ebea_11e9_b203_acde48001122row4_col0\" class=\"data row4 col0\" >0.56</td>\n",
              "            </tr>\n",
              "            <tr>\n",
              "                        <th id=\"T_edb3c5a4_ebea_11e9_b203_acde48001122level0_row5\" class=\"row_heading level0 row5\" >BedroomAbvGr</th>\n",
              "                        <td id=\"T_edb3c5a4_ebea_11e9_b203_acde48001122row5_col0\" class=\"data row5 col0\" >0.17</td>\n",
              "            </tr>\n",
              "            <tr>\n",
              "                        <th id=\"T_edb3c5a4_ebea_11e9_b203_acde48001122level0_row6\" class=\"row_heading level0 row6\" >TotRmsAbvGrd</th>\n",
              "                        <td id=\"T_edb3c5a4_ebea_11e9_b203_acde48001122row6_col0\" class=\"data row6 col0\" >0.53</td>\n",
              "            </tr>\n",
              "            <tr>\n",
              "                        <th id=\"T_edb3c5a4_ebea_11e9_b203_acde48001122level0_row7\" class=\"row_heading level0 row7\" >OverallQual</th>\n",
              "                        <td id=\"T_edb3c5a4_ebea_11e9_b203_acde48001122row7_col0\" class=\"data row7 col0\" >0.79</td>\n",
              "            </tr>\n",
              "            <tr>\n",
              "                        <th id=\"T_edb3c5a4_ebea_11e9_b203_acde48001122level0_row8\" class=\"row_heading level0 row8\" >OverallCond</th>\n",
              "                        <td id=\"T_edb3c5a4_ebea_11e9_b203_acde48001122row8_col0\" class=\"data row8 col0\" >-0.078</td>\n",
              "            </tr>\n",
              "            <tr>\n",
              "                        <th id=\"T_edb3c5a4_ebea_11e9_b203_acde48001122level0_row9\" class=\"row_heading level0 row9\" >KitchenAbvGr</th>\n",
              "                        <td id=\"T_edb3c5a4_ebea_11e9_b203_acde48001122row9_col0\" class=\"data row9 col0\" >-0.14</td>\n",
              "            </tr>\n",
              "            <tr>\n",
              "                        <th id=\"T_edb3c5a4_ebea_11e9_b203_acde48001122level0_row10\" class=\"row_heading level0 row10\" >WoodDeckSF</th>\n",
              "                        <td id=\"T_edb3c5a4_ebea_11e9_b203_acde48001122row10_col0\" class=\"data row10 col0\" >0.32</td>\n",
              "            </tr>\n",
              "            <tr>\n",
              "                        <th id=\"T_edb3c5a4_ebea_11e9_b203_acde48001122level0_row11\" class=\"row_heading level0 row11\" >OpenPorchSF</th>\n",
              "                        <td id=\"T_edb3c5a4_ebea_11e9_b203_acde48001122row11_col0\" class=\"data row11 col0\" >0.32</td>\n",
              "            </tr>\n",
              "            <tr>\n",
              "                        <th id=\"T_edb3c5a4_ebea_11e9_b203_acde48001122level0_row12\" class=\"row_heading level0 row12\" >EnclosedPorch</th>\n",
              "                        <td id=\"T_edb3c5a4_ebea_11e9_b203_acde48001122row12_col0\" class=\"data row12 col0\" >-0.13</td>\n",
              "            </tr>\n",
              "            <tr>\n",
              "                        <th id=\"T_edb3c5a4_ebea_11e9_b203_acde48001122level0_row13\" class=\"row_heading level0 row13\" >3SsnPorch</th>\n",
              "                        <td id=\"T_edb3c5a4_ebea_11e9_b203_acde48001122row13_col0\" class=\"data row13 col0\" >0.045</td>\n",
              "            </tr>\n",
              "            <tr>\n",
              "                        <th id=\"T_edb3c5a4_ebea_11e9_b203_acde48001122level0_row14\" class=\"row_heading level0 row14\" >ScreenPorch</th>\n",
              "                        <td id=\"T_edb3c5a4_ebea_11e9_b203_acde48001122row14_col0\" class=\"data row14 col0\" >0.11</td>\n",
              "            </tr>\n",
              "            <tr>\n",
              "                        <th id=\"T_edb3c5a4_ebea_11e9_b203_acde48001122level0_row15\" class=\"row_heading level0 row15\" >PoolArea</th>\n",
              "                        <td id=\"T_edb3c5a4_ebea_11e9_b203_acde48001122row15_col0\" class=\"data row15 col0\" >0.092</td>\n",
              "            </tr>\n",
              "    </tbody></table>"
            ]
          },
          "metadata": {}
        }
      ],
      "execution_count": 50,
      "metadata": {
        "collapsed": false,
        "outputHidden": false,
        "inputHidden": false
      }
    },
    {
      "cell_type": "code",
      "source": [
        "# let's put them in decreasing order of correlation\n",
        "feature_names = ['OverallQual', '1stFlrSF', 'FullBath', 'TotRmsAbvGrd', 'TotRmsAbvGrd', 'YearBuilt', '2ndFlrSF',  'WoodDeckSF',  'OpenPorchSF', 'LotArea', 'BedroomAbvGr', 'ScreenPorch', 'PoolArea', '3SsnPorch']\n",
        "\n",
        "X = home_data[feature_names]\n",
        "y = home_data[\"SalePrice\"]\n",
        "\n",
        "# Split into validation and training data\n",
        "train_X, val_X, train_y, val_y = train_test_split(X, y, random_state=1)\n",
        "\n",
        "mae_test_all = []\n",
        "mae_train_all = []\n",
        "\n",
        "for numfeatures in range(1,len(feature_names)+1):\n",
        "   \n",
        "    #select the first numfeatures\n",
        "    train_X_new = train_X.iloc[:,0:numfeatures]\n",
        "    val_X_new = val_X.iloc[:,0:numfeatures]\n",
        "    \n",
        "    mae_test = model_mae(train_X_new, val_X_new, train_y, val_y)\n",
        "    mae_train = model_mae(train_X_new, train_X_new, train_y, train_y)\n",
        "    \n",
        "    print(\"Number of features:%d \\t MAE - test:%.2f \\t MAE - train:%.2f\" % (numfeatures, mae_test, mae_train))\n",
        "    \n",
        "    mae_test_all.append(mae_test)\n",
        "    mae_train_all.append(mae_train)"
      ],
      "outputs": [
        {
          "output_type": "stream",
          "name": "stdout",
          "text": [
            "Number of features:1 \t MAE - test:31935.50 \t MAE - train:34190.91\n",
            "Number of features:2 \t MAE - test:29733.66 \t MAE - train:30297.92\n",
            "Number of features:3 \t MAE - test:29080.38 \t MAE - train:29493.53\n",
            "Number of features:4 \t MAE - test:27883.46 \t MAE - train:28543.82\n",
            "Number of features:5 \t MAE - test:27883.46 \t MAE - train:28543.82\n",
            "Number of features:6 \t MAE - test:27105.95 \t MAE - train:27415.74\n",
            "Number of features:7 \t MAE - test:24762.12 \t MAE - train:25579.53\n",
            "Number of features:8 \t MAE - test:24494.40 \t MAE - train:25119.03\n",
            "Number of features:9 \t MAE - test:24521.96 \t MAE - train:25029.03\n",
            "Number of features:10 \t MAE - test:24199.52 \t MAE - train:24427.43\n",
            "Number of features:11 \t MAE - test:23598.35 \t MAE - train:24337.18\n",
            "Number of features:12 \t MAE - test:23712.03 \t MAE - train:24285.12\n",
            "Number of features:13 \t MAE - test:24125.12 \t MAE - train:24345.66\n",
            "Number of features:14 \t MAE - test:24058.95 \t MAE - train:24370.44\n"
          ]
        }
      ],
      "execution_count": 53,
      "metadata": {
        "collapsed": false,
        "outputHidden": false,
        "inputHidden": false
      }
    },
    {
      "cell_type": "code",
      "source": [
        "%matplotlib inline\n",
        "import matplotlib.pyplot as plt\n",
        "\n",
        "plt.plot(range(1,15), mae_test_all, 'r-')\n",
        "plt.plot(range(1,15), mae_train_all, 'k-')\n",
        "plt.legend(['Test','Train'])"
      ],
      "outputs": [
        {
          "output_type": "execute_result",
          "execution_count": 61,
          "data": {
            "text/plain": [
              "<matplotlib.legend.Legend at 0x7faa08d11a90>"
            ]
          },
          "metadata": {}
        },
        {
          "output_type": "display_data",
          "data": {
            "text/plain": [
              "<Figure size 432x288 with 1 Axes>"
            ],
            "image/png": "[encoded data removed]"
          },
          "metadata": {
            "needs_background": "light"
          }
        }
      ],
      "execution_count": 61,
      "metadata": {
        "collapsed": false,
        "outputHidden": false,
        "inputHidden": false
      }
    },
    {
      "cell_type": "markdown",
      "source": [
        "How many dimensions should we keep?"
      ],
      "metadata": {}
    },
    {
      "cell_type": "code",
      "source": [],
      "outputs": [],
      "execution_count": null,
      "metadata": {
        "collapsed": false,
        "outputHidden": false,
        "inputHidden": false
      }
    }
  ],
  "metadata": {
    "kernel_info": {
      "name": "python3"
    },
    "language_info": {
      "name": "python",
      "version": "3.7.3",
      "mimetype": "text/x-python",
      "codemirror_mode": {
        "name": "ipython",
        "version": 3
      },
      "pygments_lexer": "ipython3",
      "nbconvert_exporter": "python",
      "file_extension": ".py"
    },
    "kernelspec": {
      "name": "python3",
      "language": "python",
      "display_name": "Python 3"
    },
    "nteract": {
      "version": "0.15.0"
    }
  },
  "nbformat": 4,
  "nbformat_minor": 0
}
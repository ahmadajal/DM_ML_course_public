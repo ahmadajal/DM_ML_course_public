{
 "cells": [
  {
   "cell_type": "markdown",
   "metadata": {},
   "source": [
    "# User-User Collaborative Filtering From Scratch\n",
    "Here you will implement User-User Collaborative Filtering from scratch i.e. by only using numpy and scipy libraries. We will use the MovieLens 20M dataset.\n",
    "\n",
    "**PREREQUISITE:** Download the MovieLens 20M dataset from <http://files.grouplens.org/datasets/movielens/ml-20m.zip>. Extract the contents of the zip file as a folder named `data` located in the same folder as this notebook. You should have a file `ml-20m/ratings.csv`, which is what we'll be working with. \n",
    "\n",
    "**TASK:** Your job is to understand the notebook and also *fill in the missing code*. The place to enter your code is clearly marked with comments (try to do these parts, you will learn a lot!).\n",
    "\n",
    "**Note:** Wehenevr we set the `DEBUG` variable to True, it means that we are going to use a subsample of the ratings. This is only in order to reduce the execution time of our code."
   ]
  },
  {
   "cell_type": "code",
   "execution_count": 96,
   "metadata": {},
   "outputs": [
    {
     "name": "stdout",
     "output_type": "stream",
     "text": [
      "Requirement already satisfied: wget in /home/ahmad/anaconda3/lib/python3.7/site-packages (3.2)\n",
      "mkdir: cannot create directory ‘data’: File exists\n"
     ]
    }
   ],
   "source": [
    "# downloading the data\n",
    "!pip install wget\n",
    "!mkdir data\n",
    "import wget\n",
    "filename = wget.download(\"http://files.grouplens.org/datasets/movielens/ml-20m.zip\", out=\"data/ml-20m.zip\")"
   ]
  },
  {
   "cell_type": "code",
   "execution_count": 97,
   "metadata": {},
   "outputs": [],
   "source": [
    "# unzip the zip file to get the data-sets\n",
    "!unzip data/ml-20m.zip"
   ]
  },
  {
   "cell_type": "markdown",
   "metadata": {},
   "source": [
    "## Preparation"
   ]
  },
  {
   "cell_type": "markdown",
   "metadata": {},
   "source": [
    "### Import modules\n",
    "Import python modules we will be using. "
   ]
  },
  {
   "cell_type": "code",
   "execution_count": 1,
   "metadata": {},
   "outputs": [],
   "source": [
    "import csv\n",
    "import pandas as pd\n",
    "import numpy as np\n",
    "from scipy import sparse as sp\n",
    "from scipy.sparse.linalg import norm\n",
    "import sklearn.preprocessing as pp"
   ]
  },
  {
   "cell_type": "markdown",
   "metadata": {},
   "source": [
    "Set some formatting options."
   ]
  },
  {
   "cell_type": "code",
   "execution_count": 2,
   "metadata": {},
   "outputs": [],
   "source": [
    "np.set_printoptions(threshold=500, precision=4)\n",
    "pd.options.display.max_seq_items = 20\n",
    "pd.options.display.max_rows = 20"
   ]
  },
  {
   "cell_type": "markdown",
   "metadata": {},
   "source": [
    "### Read the data\n",
    "Load data from csv file located in `ml-100k/u.data`. The result is stored in a `pandas.DataFrame` called `ratings_raw`."
   ]
  },
  {
   "cell_type": "code",
   "execution_count": 3,
   "metadata": {},
   "outputs": [],
   "source": [
    "ratings_raw = pd.read_csv('ml-20m/ratings.csv')\n",
    "movies = pd.read_csv('ml-20m/movies.csv')\n",
    "links = pd.read_csv('ml-20m/links.csv')"
   ]
  },
  {
   "cell_type": "markdown",
   "metadata": {},
   "source": [
    "Let's see what the data look like."
   ]
  },
  {
   "cell_type": "code",
   "execution_count": 4,
   "metadata": {},
   "outputs": [
    {
     "data": {
      "text/html": [
       "<div>\n",
       "<style scoped>\n",
       "    .dataframe tbody tr th:only-of-type {\n",
       "        vertical-align: middle;\n",
       "    }\n",
       "\n",
       "    .dataframe tbody tr th {\n",
       "        vertical-align: top;\n",
       "    }\n",
       "\n",
       "    .dataframe thead th {\n",
       "        text-align: right;\n",
       "    }\n",
       "</style>\n",
       "<table border=\"1\" class=\"dataframe\">\n",
       "  <thead>\n",
       "    <tr style=\"text-align: right;\">\n",
       "      <th></th>\n",
       "      <th>userId</th>\n",
       "      <th>movieId</th>\n",
       "      <th>rating</th>\n",
       "      <th>timestamp</th>\n",
       "    </tr>\n",
       "  </thead>\n",
       "  <tbody>\n",
       "    <tr>\n",
       "      <td>0</td>\n",
       "      <td>1</td>\n",
       "      <td>2</td>\n",
       "      <td>3.5</td>\n",
       "      <td>1112486027</td>\n",
       "    </tr>\n",
       "    <tr>\n",
       "      <td>1</td>\n",
       "      <td>1</td>\n",
       "      <td>29</td>\n",
       "      <td>3.5</td>\n",
       "      <td>1112484676</td>\n",
       "    </tr>\n",
       "    <tr>\n",
       "      <td>2</td>\n",
       "      <td>1</td>\n",
       "      <td>32</td>\n",
       "      <td>3.5</td>\n",
       "      <td>1112484819</td>\n",
       "    </tr>\n",
       "    <tr>\n",
       "      <td>3</td>\n",
       "      <td>1</td>\n",
       "      <td>47</td>\n",
       "      <td>3.5</td>\n",
       "      <td>1112484727</td>\n",
       "    </tr>\n",
       "    <tr>\n",
       "      <td>4</td>\n",
       "      <td>1</td>\n",
       "      <td>50</td>\n",
       "      <td>3.5</td>\n",
       "      <td>1112484580</td>\n",
       "    </tr>\n",
       "  </tbody>\n",
       "</table>\n",
       "</div>"
      ],
      "text/plain": [
       "   userId  movieId  rating   timestamp\n",
       "0       1        2     3.5  1112486027\n",
       "1       1       29     3.5  1112484676\n",
       "2       1       32     3.5  1112484819\n",
       "3       1       47     3.5  1112484727\n",
       "4       1       50     3.5  1112484580"
      ]
     },
     "metadata": {},
     "output_type": "display_data"
    },
    {
     "data": {
      "text/html": [
       "<div>\n",
       "<style scoped>\n",
       "    .dataframe tbody tr th:only-of-type {\n",
       "        vertical-align: middle;\n",
       "    }\n",
       "\n",
       "    .dataframe tbody tr th {\n",
       "        vertical-align: top;\n",
       "    }\n",
       "\n",
       "    .dataframe thead th {\n",
       "        text-align: right;\n",
       "    }\n",
       "</style>\n",
       "<table border=\"1\" class=\"dataframe\">\n",
       "  <thead>\n",
       "    <tr style=\"text-align: right;\">\n",
       "      <th></th>\n",
       "      <th>movieId</th>\n",
       "      <th>title</th>\n",
       "      <th>genres</th>\n",
       "    </tr>\n",
       "  </thead>\n",
       "  <tbody>\n",
       "    <tr>\n",
       "      <td>0</td>\n",
       "      <td>1</td>\n",
       "      <td>Toy Story (1995)</td>\n",
       "      <td>Adventure|Animation|Children|Comedy|Fantasy</td>\n",
       "    </tr>\n",
       "    <tr>\n",
       "      <td>1</td>\n",
       "      <td>2</td>\n",
       "      <td>Jumanji (1995)</td>\n",
       "      <td>Adventure|Children|Fantasy</td>\n",
       "    </tr>\n",
       "    <tr>\n",
       "      <td>2</td>\n",
       "      <td>3</td>\n",
       "      <td>Grumpier Old Men (1995)</td>\n",
       "      <td>Comedy|Romance</td>\n",
       "    </tr>\n",
       "    <tr>\n",
       "      <td>3</td>\n",
       "      <td>4</td>\n",
       "      <td>Waiting to Exhale (1995)</td>\n",
       "      <td>Comedy|Drama|Romance</td>\n",
       "    </tr>\n",
       "    <tr>\n",
       "      <td>4</td>\n",
       "      <td>5</td>\n",
       "      <td>Father of the Bride Part II (1995)</td>\n",
       "      <td>Comedy</td>\n",
       "    </tr>\n",
       "  </tbody>\n",
       "</table>\n",
       "</div>"
      ],
      "text/plain": [
       "   movieId                               title  \\\n",
       "0        1                    Toy Story (1995)   \n",
       "1        2                      Jumanji (1995)   \n",
       "2        3             Grumpier Old Men (1995)   \n",
       "3        4            Waiting to Exhale (1995)   \n",
       "4        5  Father of the Bride Part II (1995)   \n",
       "\n",
       "                                        genres  \n",
       "0  Adventure|Animation|Children|Comedy|Fantasy  \n",
       "1                   Adventure|Children|Fantasy  \n",
       "2                               Comedy|Romance  \n",
       "3                         Comedy|Drama|Romance  \n",
       "4                                       Comedy  "
      ]
     },
     "metadata": {},
     "output_type": "display_data"
    },
    {
     "data": {
      "text/html": [
       "<div>\n",
       "<style scoped>\n",
       "    .dataframe tbody tr th:only-of-type {\n",
       "        vertical-align: middle;\n",
       "    }\n",
       "\n",
       "    .dataframe tbody tr th {\n",
       "        vertical-align: top;\n",
       "    }\n",
       "\n",
       "    .dataframe thead th {\n",
       "        text-align: right;\n",
       "    }\n",
       "</style>\n",
       "<table border=\"1\" class=\"dataframe\">\n",
       "  <thead>\n",
       "    <tr style=\"text-align: right;\">\n",
       "      <th></th>\n",
       "      <th>movieId</th>\n",
       "      <th>imdbId</th>\n",
       "      <th>tmdbId</th>\n",
       "    </tr>\n",
       "  </thead>\n",
       "  <tbody>\n",
       "    <tr>\n",
       "      <td>0</td>\n",
       "      <td>1</td>\n",
       "      <td>114709</td>\n",
       "      <td>862.0</td>\n",
       "    </tr>\n",
       "    <tr>\n",
       "      <td>1</td>\n",
       "      <td>2</td>\n",
       "      <td>113497</td>\n",
       "      <td>8844.0</td>\n",
       "    </tr>\n",
       "    <tr>\n",
       "      <td>2</td>\n",
       "      <td>3</td>\n",
       "      <td>113228</td>\n",
       "      <td>15602.0</td>\n",
       "    </tr>\n",
       "    <tr>\n",
       "      <td>3</td>\n",
       "      <td>4</td>\n",
       "      <td>114885</td>\n",
       "      <td>31357.0</td>\n",
       "    </tr>\n",
       "    <tr>\n",
       "      <td>4</td>\n",
       "      <td>5</td>\n",
       "      <td>113041</td>\n",
       "      <td>11862.0</td>\n",
       "    </tr>\n",
       "  </tbody>\n",
       "</table>\n",
       "</div>"
      ],
      "text/plain": [
       "   movieId  imdbId   tmdbId\n",
       "0        1  114709    862.0\n",
       "1        2  113497   8844.0\n",
       "2        3  113228  15602.0\n",
       "3        4  114885  31357.0\n",
       "4        5  113041  11862.0"
      ]
     },
     "metadata": {},
     "output_type": "display_data"
    },
    {
     "name": "stdout",
     "output_type": "stream",
     "text": [
      "Distinct users: 138493\n",
      "Distinct items: 26744\n"
     ]
    }
   ],
   "source": [
    "display(ratings_raw.head())\n",
    "display(movies.head())\n",
    "display(links.head())\n",
    "print(\"Distinct users:\", len(ratings_raw.userId.unique()))\n",
    "print(\"Distinct items:\", len(ratings_raw.movieId.unique()))"
   ]
  },
  {
   "cell_type": "markdown",
   "metadata": {},
   "source": [
    "Lets visualize some of the movie data. We will use [tmdbsimple](https://pypi.org/project/tmdbsimple/) which is a wrapper, written in Python, for The Movie Database (TMDb) API v3."
   ]
  },
  {
   "cell_type": "code",
   "execution_count": 9,
   "metadata": {},
   "outputs": [
    {
     "name": "stdout",
     "output_type": "stream",
     "text": [
      "Collecting tmdbsimple\n",
      "  Downloading https://files.pythonhosted.org/packages/52/d7/e84d96acfff3154bd84cc139472fb3d1293fabf20cd150833b3229c1e40d/tmdbsimple-2.2.0-py2.py3-none-any.whl\n",
      "Requirement already satisfied: requests in /home/ahmad/anaconda3/lib/python3.7/site-packages (from tmdbsimple) (2.22.0)\n",
      "Requirement already satisfied: certifi>=2017.4.17 in /home/ahmad/anaconda3/lib/python3.7/site-packages (from requests->tmdbsimple) (2019.9.11)\n",
      "Requirement already satisfied: urllib3!=1.25.0,!=1.25.1,<1.26,>=1.21.1 in /home/ahmad/anaconda3/lib/python3.7/site-packages (from requests->tmdbsimple) (1.24.2)\n",
      "Requirement already satisfied: chardet<3.1.0,>=3.0.2 in /home/ahmad/anaconda3/lib/python3.7/site-packages (from requests->tmdbsimple) (3.0.4)\n",
      "Requirement already satisfied: idna<2.9,>=2.5 in /home/ahmad/anaconda3/lib/python3.7/site-packages (from requests->tmdbsimple) (2.8)\n",
      "Installing collected packages: tmdbsimple\n",
      "Successfully installed tmdbsimple-2.2.0\n"
     ]
    }
   ],
   "source": [
    "# you may already have this package as we used it in week 2\n",
    "!pip install tmdbsimple"
   ]
  },
  {
   "cell_type": "code",
   "execution_count": 23,
   "metadata": {},
   "outputs": [],
   "source": [
    "from tmdb_class import TMDB # we have provided a python class called tmdb_class.py to retrieve the url of poster images\n",
    "from IPython.display import Image\n",
    "from IPython.display import display, HTML\n",
    "\n",
    "# which movies did user watch?\n",
    "def make_html(image_url):\n",
    "     return '<img src=\"{}\" style=\"display:inline;margin:1px\" width=\"100\" height=\"100\"/>'\\\n",
    "            .format(image_url)\n",
    "        \n",
    "def show_movies_for_user(userId, verbose=False, show_all=False):\n",
    "    \"\"\"Retrieve posters of top rated movies for userId.\n",
    "    \n",
    "    Note: this accepts the original user id\n",
    "    \"\"\"\n",
    "    html = ''\n",
    "    max_movies = 10\n",
    "    i=0\n",
    "    \n",
    "    user_movies = ratings_raw[ratings_raw.userId == userId][\"movieId\"]\n",
    "    print(\"User \", userId , \" watched \", len(user_movies), ' movies') \n",
    "    \n",
    "    user_movies = ratings_raw[ratings_raw.userId == userId].sort_values(\"rating\", ascending=False) \n",
    "    for index, row in user_movies.iterrows():\n",
    "        movieId = row[\"movieId\"]\n",
    "        movie_item = links[links.movieId == movieId]\n",
    "        tmdbId = movie_item[\"tmdbId\"].item()\n",
    "        if verbose:\n",
    "            print(movieId, tmdbId)\n",
    "        if np.isnan(tmdbId):\n",
    "            url = None\n",
    "        else:\n",
    "            url = TMDB().get_poster_path_by_id(int(tmdbId))\n",
    "        html = html + make_html(url)\n",
    "        i +=1\n",
    "        \n",
    "        if ~show_all and (i == max_movies):\n",
    "                break\n",
    "        \n",
    "    display(HTML(html))"
   ]
  },
  {
   "cell_type": "code",
   "execution_count": 25,
   "metadata": {},
   "outputs": [
    {
     "name": "stdout",
     "output_type": "stream",
     "text": [
      "User  5  watched  66  movies\n",
      "1362    9390.0\n",
      "Name: tmdbId, dtype: float64\n",
      "1393.0 9390.0\n"
     ]
    },
    {
     "name": "stderr",
     "output_type": "stream",
     "text": [
      "/home/ahmad/anaconda3/lib/python3.7/site-packages/ipykernel_launcher.py:26: FutureWarning: `item` has been deprecated and will be removed in a future version\n"
     ]
    },
    {
     "name": "stdout",
     "output_type": "stream",
     "text": [
      "708   NaN\n",
      "Name: tmdbId, dtype: float64\n",
      "720.0 nan\n",
      "373    1637.0\n",
      "Name: tmdbId, dtype: float64\n",
      "377.0 1637.0\n",
      "376    36955.0\n",
      "Name: tmdbId, dtype: float64\n",
      "380.0 36955.0\n",
      "436    11566.0\n",
      "Name: tmdbId, dtype: float64\n",
      "440.0 11566.0\n",
      "450    37233.0\n",
      "Name: tmdbId, dtype: float64\n",
      "454.0 37233.0\n",
      "453    5503.0\n",
      "Name: tmdbId, dtype: float64\n",
      "457.0 5503.0\n",
      "767    602.0\n",
      "Name: tmdbId, dtype: float64\n",
      "780.0 602.0\n",
      "724    664.0\n",
      "Name: tmdbId, dtype: float64\n",
      "736.0 664.0\n",
      "496    788.0\n",
      "Name: tmdbId, dtype: float64\n",
      "500.0 788.0\n"
     ]
    },
    {
     "data": {
      "text/html": [
       "<img src=\"http://image.tmdb.org/t/p/w200/99YTEdKOKDRClsscOpJfdkbaTrQ.jpg\" style=\"display:inline;margin:1px\" width=\"100\" height=\"100\"/><img src=\"None\" style=\"display:inline;margin:1px\" width=\"100\" height=\"100\"/><img src=\"http://image.tmdb.org/t/p/w200/u5ZqizbcZ0RZhVqmu8lSU4SARBT.jpg\" style=\"display:inline;margin:1px\" width=\"100\" height=\"100\"/><img src=\"http://image.tmdb.org/t/p/w200/mTAHr5h5i64hTLqo0cW2X2083Cx.jpg\" style=\"display:inline;margin:1px\" width=\"100\" height=\"100\"/><img src=\"http://image.tmdb.org/t/p/w200/d8RP3iz7QVlkPAuEX4y6jMd2rC2.jpg\" style=\"display:inline;margin:1px\" width=\"100\" height=\"100\"/><img src=\"http://image.tmdb.org/t/p/w200/2yKjIGzQF5mhG634MwG6oBTH1ce.jpg\" style=\"display:inline;margin:1px\" width=\"100\" height=\"100\"/><img src=\"http://image.tmdb.org/t/p/w200/3gzLGFBoJM1xlNk0Ulzp0cJ6uPp.jpg\" style=\"display:inline;margin:1px\" width=\"100\" height=\"100\"/><img src=\"http://image.tmdb.org/t/p/w200/bqLlWZJdhrS0knfEJRkquW7L8z2.jpg\" style=\"display:inline;margin:1px\" width=\"100\" height=\"100\"/><img src=\"http://image.tmdb.org/t/p/w200/tKdDCkmb6obEhWEMLgGUUz5nDNs.jpg\" style=\"display:inline;margin:1px\" width=\"100\" height=\"100\"/><img src=\"http://image.tmdb.org/t/p/w200/jowem7ShDXxMd2mXq26cy5LDEHP.jpg\" style=\"display:inline;margin:1px\" width=\"100\" height=\"100\"/>"
      ],
      "text/plain": [
       "<IPython.core.display.HTML object>"
      ]
     },
     "metadata": {},
     "output_type": "display_data"
    }
   ],
   "source": [
    "# let's see which movies user 5 watches\n",
    "show_movies_for_user(5, verbose=True) "
   ]
  },
  {
   "cell_type": "code",
   "execution_count": 28,
   "metadata": {},
   "outputs": [],
   "source": [
    "# some helper functions\n",
    "def get_name_for_movie_id(movie_id):\n",
    "    \"\"\"Returns the name of a movie_id (based on ratings_raw)\"\"\"\n",
    "    \n",
    "    try: \n",
    "        movie_name = movies[movies.movieId == movie_id][\"title\"].item()\n",
    "    except KeyError:\n",
    "        movie_name = None\n",
    "    return movie_name\n",
    "    \n",
    "    \n",
    "def show_genres_histogram_for_user(user_id):\n",
    "    \"\"\"Create histogram of movies genres user_id has watched.\n",
    "    \n",
    "    Note: this uses the original user_id NOT the userIDX\n",
    "    \"\"\"\n",
    "    \n",
    "    user_movies = ratings_raw[ratings_raw.userId == user_id][\"movieId\"]\n",
    "    print(\"User \", user_id , \" watched \", len(user_movies), ' movies') \n",
    "    user_movies_with_genre = movies[movies.movieId.isin(user_movies)]\n",
    "    display(user_movies_with_genre)\n",
    "    \n",
    "    genres_list = []\n",
    "    for index, row in user_movies_with_genre.iterrows():\n",
    "        genres_list += row[\"genres\"].split('|')\n",
    "    \n",
    "    df_genres = pd.DataFrame(genres_list, columns=['genres'])\n",
    "    \n",
    "    df_genres.groupby('genres').size().sort_values().plot(kind='barh')"
   ]
  },
  {
   "cell_type": "code",
   "execution_count": 29,
   "metadata": {},
   "outputs": [
    {
     "name": "stdout",
     "output_type": "stream",
     "text": [
      "User  5  watched  66  movies\n"
     ]
    },
    {
     "data": {
      "text/html": [
       "<div>\n",
       "<style scoped>\n",
       "    .dataframe tbody tr th:only-of-type {\n",
       "        vertical-align: middle;\n",
       "    }\n",
       "\n",
       "    .dataframe tbody tr th {\n",
       "        vertical-align: top;\n",
       "    }\n",
       "\n",
       "    .dataframe thead th {\n",
       "        text-align: right;\n",
       "    }\n",
       "</style>\n",
       "<table border=\"1\" class=\"dataframe\">\n",
       "  <thead>\n",
       "    <tr style=\"text-align: right;\">\n",
       "      <th></th>\n",
       "      <th>movieId</th>\n",
       "      <th>title</th>\n",
       "      <th>genres</th>\n",
       "    </tr>\n",
       "  </thead>\n",
       "  <tbody>\n",
       "    <tr>\n",
       "      <td>1</td>\n",
       "      <td>2</td>\n",
       "      <td>Jumanji (1995)</td>\n",
       "      <td>Adventure|Children|Fantasy</td>\n",
       "    </tr>\n",
       "    <tr>\n",
       "      <td>10</td>\n",
       "      <td>11</td>\n",
       "      <td>American President, The (1995)</td>\n",
       "      <td>Comedy|Drama|Romance</td>\n",
       "    </tr>\n",
       "    <tr>\n",
       "      <td>16</td>\n",
       "      <td>17</td>\n",
       "      <td>Sense and Sensibility (1995)</td>\n",
       "      <td>Drama|Romance</td>\n",
       "    </tr>\n",
       "    <tr>\n",
       "      <td>59</td>\n",
       "      <td>60</td>\n",
       "      <td>Indian in the Cupboard, The (1995)</td>\n",
       "      <td>Adventure|Children|Fantasy</td>\n",
       "    </tr>\n",
       "    <tr>\n",
       "      <td>61</td>\n",
       "      <td>62</td>\n",
       "      <td>Mr. Holland's Opus (1995)</td>\n",
       "      <td>Drama</td>\n",
       "    </tr>\n",
       "    <tr>\n",
       "      <td>...</td>\n",
       "      <td>...</td>\n",
       "      <td>...</td>\n",
       "      <td>...</td>\n",
       "    </tr>\n",
       "    <tr>\n",
       "      <td>1171</td>\n",
       "      <td>1196</td>\n",
       "      <td>Star Wars: Episode V - The Empire Strikes Back...</td>\n",
       "      <td>Action|Adventure|Sci-Fi</td>\n",
       "    </tr>\n",
       "    <tr>\n",
       "      <td>1173</td>\n",
       "      <td>1198</td>\n",
       "      <td>Raiders of the Lost Ark (Indiana Jones and the...</td>\n",
       "      <td>Action|Adventure</td>\n",
       "    </tr>\n",
       "    <tr>\n",
       "      <td>1184</td>\n",
       "      <td>1210</td>\n",
       "      <td>Star Wars: Episode VI - Return of the Jedi (1983)</td>\n",
       "      <td>Action|Adventure|Sci-Fi</td>\n",
       "    </tr>\n",
       "    <tr>\n",
       "      <td>1263</td>\n",
       "      <td>1291</td>\n",
       "      <td>Indiana Jones and the Last Crusade (1989)</td>\n",
       "      <td>Action|Adventure</td>\n",
       "    </tr>\n",
       "    <tr>\n",
       "      <td>1362</td>\n",
       "      <td>1393</td>\n",
       "      <td>Jerry Maguire (1996)</td>\n",
       "      <td>Drama|Romance</td>\n",
       "    </tr>\n",
       "  </tbody>\n",
       "</table>\n",
       "<p>66 rows × 3 columns</p>\n",
       "</div>"
      ],
      "text/plain": [
       "      movieId                                              title  \\\n",
       "1           2                                     Jumanji (1995)   \n",
       "10         11                     American President, The (1995)   \n",
       "16         17                       Sense and Sensibility (1995)   \n",
       "59         60                 Indian in the Cupboard, The (1995)   \n",
       "61         62                          Mr. Holland's Opus (1995)   \n",
       "...       ...                                                ...   \n",
       "1171     1196  Star Wars: Episode V - The Empire Strikes Back...   \n",
       "1173     1198  Raiders of the Lost Ark (Indiana Jones and the...   \n",
       "1184     1210  Star Wars: Episode VI - Return of the Jedi (1983)   \n",
       "1263     1291          Indiana Jones and the Last Crusade (1989)   \n",
       "1362     1393                               Jerry Maguire (1996)   \n",
       "\n",
       "                          genres  \n",
       "1     Adventure|Children|Fantasy  \n",
       "10          Comedy|Drama|Romance  \n",
       "16                 Drama|Romance  \n",
       "59    Adventure|Children|Fantasy  \n",
       "61                         Drama  \n",
       "...                          ...  \n",
       "1171     Action|Adventure|Sci-Fi  \n",
       "1173            Action|Adventure  \n",
       "1184     Action|Adventure|Sci-Fi  \n",
       "1263            Action|Adventure  \n",
       "1362               Drama|Romance  \n",
       "\n",
       "[66 rows x 3 columns]"
      ]
     },
     "metadata": {},
     "output_type": "display_data"
    },
    {
     "data": {
      "image/png": "[encoded data removed]",
      "text/plain": [
       "<Figure size 432x288 with 1 Axes>"
      ]
     },
     "metadata": {
      "needs_background": "light"
     },
     "output_type": "display_data"
    }
   ],
   "source": [
    "# now we can see what user 5 watches\n",
    "show_genres_histogram_for_user(5)"
   ]
  },
  {
   "cell_type": "markdown",
   "metadata": {},
   "source": [
    "### Truncate the data\n",
    "\n",
    "To speed things up, we will work with a *truncated* version of the data, containing up to 10000 users and 1000 movies. \n",
    "\n",
    "**Important:** To see results with the full dataset, set `DEBUG = False`, and **rerun all cells starting from the top**. But be careful this may take a long time."
   ]
  },
  {
   "cell_type": "code",
   "execution_count": 30,
   "metadata": {},
   "outputs": [],
   "source": [
    "DEBUG = True\n",
    "if DEBUG: \n",
    "    ratings_raw = ratings_raw[ (ratings_raw['userId'] < 10000) & (ratings_raw['movieId'] < 1000) ]"
   ]
  },
  {
   "cell_type": "markdown",
   "metadata": {},
   "source": [
    "### Preprocess the data\n",
    "Make sure that movies and users have consecutive indexes starting from 0. Also drop the timestamp column.\n",
    "\n",
    "The resulting \"cleaned\" data are stored in `ratings`."
   ]
  },
  {
   "cell_type": "code",
   "execution_count": 31,
   "metadata": {},
   "outputs": [
    {
     "name": "stdout",
     "output_type": "stream",
     "text": [
      "There are 9924 users, 968 items and 394638 ratings.\n"
     ]
    },
    {
     "data": {
      "text/html": [
       "<div>\n",
       "<style scoped>\n",
       "    .dataframe tbody tr th:only-of-type {\n",
       "        vertical-align: middle;\n",
       "    }\n",
       "\n",
       "    .dataframe tbody tr th {\n",
       "        vertical-align: top;\n",
       "    }\n",
       "\n",
       "    .dataframe thead th {\n",
       "        text-align: right;\n",
       "    }\n",
       "</style>\n",
       "<table border=\"1\" class=\"dataframe\">\n",
       "  <thead>\n",
       "    <tr style=\"text-align: right;\">\n",
       "      <th></th>\n",
       "      <th>user</th>\n",
       "      <th>item</th>\n",
       "      <th>rating</th>\n",
       "    </tr>\n",
       "  </thead>\n",
       "  <tbody>\n",
       "    <tr>\n",
       "      <td>0</td>\n",
       "      <td>0</td>\n",
       "      <td>1</td>\n",
       "      <td>3.5</td>\n",
       "    </tr>\n",
       "    <tr>\n",
       "      <td>1</td>\n",
       "      <td>0</td>\n",
       "      <td>28</td>\n",
       "      <td>3.5</td>\n",
       "    </tr>\n",
       "    <tr>\n",
       "      <td>2</td>\n",
       "      <td>0</td>\n",
       "      <td>31</td>\n",
       "      <td>3.5</td>\n",
       "    </tr>\n",
       "    <tr>\n",
       "      <td>3</td>\n",
       "      <td>0</td>\n",
       "      <td>46</td>\n",
       "      <td>3.5</td>\n",
       "    </tr>\n",
       "    <tr>\n",
       "      <td>4</td>\n",
       "      <td>0</td>\n",
       "      <td>49</td>\n",
       "      <td>3.5</td>\n",
       "    </tr>\n",
       "    <tr>\n",
       "      <td>5</td>\n",
       "      <td>0</td>\n",
       "      <td>110</td>\n",
       "      <td>3.5</td>\n",
       "    </tr>\n",
       "    <tr>\n",
       "      <td>6</td>\n",
       "      <td>0</td>\n",
       "      <td>148</td>\n",
       "      <td>4.0</td>\n",
       "    </tr>\n",
       "    <tr>\n",
       "      <td>7</td>\n",
       "      <td>0</td>\n",
       "      <td>219</td>\n",
       "      <td>4.0</td>\n",
       "    </tr>\n",
       "    <tr>\n",
       "      <td>8</td>\n",
       "      <td>0</td>\n",
       "      <td>249</td>\n",
       "      <td>4.0</td>\n",
       "    </tr>\n",
       "    <tr>\n",
       "      <td>9</td>\n",
       "      <td>0</td>\n",
       "      <td>256</td>\n",
       "      <td>4.0</td>\n",
       "    </tr>\n",
       "    <tr>\n",
       "      <td>10</td>\n",
       "      <td>0</td>\n",
       "      <td>289</td>\n",
       "      <td>4.0</td>\n",
       "    </tr>\n",
       "    <tr>\n",
       "      <td>11</td>\n",
       "      <td>0</td>\n",
       "      <td>292</td>\n",
       "      <td>4.0</td>\n",
       "    </tr>\n",
       "    <tr>\n",
       "      <td>12</td>\n",
       "      <td>0</td>\n",
       "      <td>314</td>\n",
       "      <td>4.0</td>\n",
       "    </tr>\n",
       "    <tr>\n",
       "      <td>13</td>\n",
       "      <td>0</td>\n",
       "      <td>332</td>\n",
       "      <td>3.5</td>\n",
       "    </tr>\n",
       "    <tr>\n",
       "      <td>14</td>\n",
       "      <td>0</td>\n",
       "      <td>362</td>\n",
       "      <td>3.5</td>\n",
       "    </tr>\n",
       "    <tr>\n",
       "      <td>15</td>\n",
       "      <td>0</td>\n",
       "      <td>534</td>\n",
       "      <td>4.0</td>\n",
       "    </tr>\n",
       "    <tr>\n",
       "      <td>16</td>\n",
       "      <td>0</td>\n",
       "      <td>580</td>\n",
       "      <td>3.5</td>\n",
       "    </tr>\n",
       "    <tr>\n",
       "      <td>17</td>\n",
       "      <td>0</td>\n",
       "      <td>584</td>\n",
       "      <td>3.5</td>\n",
       "    </tr>\n",
       "    <tr>\n",
       "      <td>18</td>\n",
       "      <td>0</td>\n",
       "      <td>638</td>\n",
       "      <td>3.0</td>\n",
       "    </tr>\n",
       "    <tr>\n",
       "      <td>19</td>\n",
       "      <td>0</td>\n",
       "      <td>890</td>\n",
       "      <td>3.5</td>\n",
       "    </tr>\n",
       "  </tbody>\n",
       "</table>\n",
       "</div>"
      ],
      "text/plain": [
       "    user  item  rating\n",
       "0      0     1     3.5\n",
       "1      0    28     3.5\n",
       "2      0    31     3.5\n",
       "3      0    46     3.5\n",
       "4      0    49     3.5\n",
       "5      0   110     3.5\n",
       "6      0   148     4.0\n",
       "7      0   219     4.0\n",
       "8      0   249     4.0\n",
       "9      0   256     4.0\n",
       "10     0   289     4.0\n",
       "11     0   292     4.0\n",
       "12     0   314     4.0\n",
       "13     0   332     3.5\n",
       "14     0   362     3.5\n",
       "15     0   534     4.0\n",
       "16     0   580     3.5\n",
       "17     0   584     3.5\n",
       "18     0   638     3.0\n",
       "19     0   890     3.5"
      ]
     },
     "metadata": {},
     "output_type": "display_data"
    }
   ],
   "source": [
    "movieIds = ratings_raw.movieId.unique()\n",
    "movieIds.sort()\n",
    "userIds = ratings_raw.userId.unique()\n",
    "userIds.sort()\n",
    "\n",
    "m = userIds.size\n",
    "n = movieIds.size\n",
    "numRatings = len(ratings_raw)\n",
    "\n",
    "print (\"There are\", m, \"users,\", n, \"items and\", numRatings, \"ratings.\")\n",
    "\n",
    "\n",
    "## movies and users should have consecutive indexes starting from 0\n",
    "# dictionaries to convert move id to consecutive index and vice versa\n",
    "movieId_to_movieIDX = dict(zip(movieIds, range(0, movieIds.size)))\n",
    "movieIDX_to_movieId = dict(zip(range(0, movieIds.size), movieIds))\n",
    "\n",
    "# dictionaries to convert user id to consecutive index and vice versa\n",
    "userId_to_userIDX = dict(zip(userIds, range(0, userIds.size )))\n",
    "userIDX_to_userId = dict(zip(range(0, userIds.size), userIds))\n",
    "\n",
    "## drop timestamps\n",
    "ratings = pd.concat([ratings_raw['userId'].map(userId_to_userIDX),\n",
    "                     ratings_raw['movieId'].map(movieId_to_movieIDX),\n",
    "                     ratings_raw['rating']], axis=1)\n",
    "ratings.columns = ['user', 'item', 'rating']\n",
    "\n",
    "display(ratings.head(20))"
   ]
  },
  {
   "cell_type": "code",
   "execution_count": 32,
   "metadata": {},
   "outputs": [
    {
     "data": {
      "text/plain": [
       "1"
      ]
     },
     "execution_count": 32,
     "metadata": {},
     "output_type": "execute_result"
    }
   ],
   "source": [
    "# example\n",
    "movieIDX_to_movieId[0]"
   ]
  },
  {
   "cell_type": "markdown",
   "metadata": {},
   "source": [
    "### Create the Ratings Matrix\n",
    "\n",
    "We will convert the `ratings` `DataFrame` into a **Ratings Matrix**. Because it is very sparse, we will use the `scipy.sparse` module to efficiently store and access it.\n",
    "\n",
    "Specifically, we will create two versions of the same ratings matrix:\n",
    "- `R` is our basic matrix and is optimized for dot products, which will be useful when computing user-user similarities; `R` is stored in the Compressed Sparse Row format (`csr_matrix`).\n",
    "- `R_dok` is a different view of the ratings matrix, which allows to quickly test whether a user-item rating exists; `R_dok` is stored in the Dictionary Of Keys format (`dok_matrix`) so you can access the data like a dictionary (which is fast)."
   ]
  },
  {
   "cell_type": "code",
   "execution_count": 33,
   "metadata": {},
   "outputs": [
    {
     "name": "stdout",
     "output_type": "stream",
     "text": [
      "R[0, 534] value is  4.0\n",
      "R_dok[(0, 534)] value is  4.0\n"
     ]
    }
   ],
   "source": [
    "R = sp.csr_matrix((ratings.rating, (ratings.user, ratings.item))) # input is (data value, (index 0, index 1))\n",
    "R_dok = R.todok()\n",
    "# a simple test: user 0 item 534 should have a rating of 4\n",
    "print(\"R[0, 534] value is \", R[0, 534])\n",
    "print(\"R_dok[(0, 534)] value is \", R_dok[(0,534)])\n"
   ]
  },
  {
   "cell_type": "code",
   "execution_count": 34,
   "metadata": {},
   "outputs": [
    {
     "name": "stdout",
     "output_type": "stream",
     "text": [
      "There are m = 9924 users, n = 968 items and 394638 ratings.\n"
     ]
    }
   ],
   "source": [
    "m = R.shape[0]\n",
    "n = R.shape[1]\n",
    "numRatings = R.count_nonzero()\n",
    "\n",
    "print(\"There are m =\", m, \"users, n =\", n, \"items and\", numRatings, \"ratings.\")"
   ]
  },
  {
   "cell_type": "markdown",
   "metadata": {},
   "source": [
    "## The fun starts here!"
   ]
  },
  {
   "cell_type": "markdown",
   "metadata": {},
   "source": [
    "### User Average Ratings"
   ]
  },
  {
   "cell_type": "markdown",
   "metadata": {},
   "source": [
    "The following code computes the average rating of each user. This will be used for mean-centering, i.e., when computing similarities, as well as for making predictions."
   ]
  },
  {
   "cell_type": "code",
   "execution_count": 35,
   "metadata": {},
   "outputs": [
    {
     "name": "stdout",
     "output_type": "stream",
     "text": [
      "user_avgs [3.6667 4.2857 4.0588 ... 3.3441 3.2368 4.2333]\n"
     ]
    }
   ],
   "source": [
    "user_sums = R.sum(axis=1).A1 ## matrix converted to 1-D array via .A1\n",
    "user_cnts = np.diff(R.indptr) ## equivalent to, but faster than: user_cnts = (R != 0).sum(axis=1).A1\n",
    "user_avgs = user_sums / user_cnts\n",
    "print(\"user_avgs\", user_avgs)"
   ]
  },
  {
   "cell_type": "markdown",
   "metadata": {},
   "source": [
    "[This thread](https://stackoverflow.com/questions/52299420/scipy-csr-matrix-understand-indptr) in stack overflow, explains the method `indptr` for a sparse matrix in scipy clearly. Recommended to read for those who are inerested or got confused with the above code."
   ]
  },
  {
   "cell_type": "markdown",
   "metadata": {},
   "source": [
    "In what follows we will have 4 exercises for you. Just follow these exercises and try to fill in the missing parts of the code. after each part we have some examples with answers, so that you can sanity-check the functions that you have completed. This parts are marked by **DEBUG**. \n",
    "\n",
    "In the end you will have your own recommendar system, built from scratch. Have fun :)"
   ]
  },
  {
   "cell_type": "markdown",
   "metadata": {},
   "source": [
    "### Exercise1: compute User-User Similarity \n",
    "\n",
    "The following function computes the mean-centered cosine similarity between two users.\n",
    "\n",
    "*Tricks* that might be useful:\n",
    "\n",
    "To subtract a scalar value `y` from all nonzero entries of a sparse vector `x`, do:\n",
    "```\n",
    "x.data = x.data - y\n",
    "```\n",
    "\n",
    "The dot product of a sparse vector `x` to sparse vector `y` is:\n",
    "```\n",
    "x.dot(y.T)\n",
    "```\n",
    "\n",
    "The norm of a sparse vector `x` is:\n",
    "```\n",
    "norm(x)\n",
    "```\n",
    "\n",
    "\n",
    "If a sparse vector `x` has only a single item, you can access it by:\n",
    "```\n",
    "x.A.item()\n",
    "```\n",
    "\n",
    "Note that `x.A` returns the dense representation of sparse vector `x`."
   ]
  },
  {
   "cell_type": "code",
   "execution_count": 52,
   "metadata": {},
   "outputs": [
    {
     "name": "stdout",
     "output_type": "stream",
     "text": [
      "<class 'numpy.ndarray'>\n",
      "  (0, 0)\t120.0\n",
      "[[120.]]\n",
      "120.0\n"
     ]
    }
   ],
   "source": [
    "# some tests\n",
    "u = R[1,:].copy() \n",
    "v = R[2,:].copy()\n",
    "print(type(u.data))\n",
    "print(u.dot(v.T))\n",
    "print(u.dot(v.T).A)\n",
    "print(u.dot(v.T).A.item())\n"
   ]
  },
  {
   "cell_type": "code",
   "execution_count": 53,
   "metadata": {},
   "outputs": [],
   "source": [
    "def compute_pairwise_user_similarity(u_id, v_id):\n",
    "    \"\"\"Computes the cosine similarity between two user ids.\n",
    "    dot(A,B)/norm(A)*norm(B)\n",
    "    \"\"\"\n",
    "    u = R[u_id,:].copy()\n",
    "    v = R[v_id,:].copy()\n",
    "    \n",
    "    ########## START HERE ##########\n",
    "    ### compute the numerator and denominator\n",
    "    # first compute the numerator i.e. dot product of the mean centered arrays\n",
    "    u.data = u.data - user_avgs[u_id]\n",
    "    # TO DO\n",
    "    v.data = \n",
    "    \n",
    "    numerator =  ## dot product for sparse representations\n",
    "    \n",
    "    denominator = # norm(u) * norm(v)\n",
    "    \n",
    "    ##########  END HERE  ##########\n",
    "    \n",
    "    if denominator == 0:\n",
    "        similarity = 0.;\n",
    "    else:\n",
    "        similarity = numerator/denominator\n",
    "    \n",
    "    return similarity"
   ]
  },
  {
   "cell_type": "markdown",
   "metadata": {},
   "source": [
    "**DEBUG:** For the truncated dataset, the following should output ~ `0.03585`."
   ]
  },
  {
   "cell_type": "code",
   "execution_count": 54,
   "metadata": {},
   "outputs": [
    {
     "name": "stdout",
     "output_type": "stream",
     "text": [
      "0.035854994610888584\n"
     ]
    }
   ],
   "source": [
    "if DEBUG:\n",
    "    sim = compute_pairwise_user_similarity(2, 6)\n",
    "    print(sim)"
   ]
  },
  {
   "cell_type": "markdown",
   "metadata": {},
   "source": [
    "### Exercise 2: User to all Users Similarities \n",
    "\n",
    "The following function computes the mean-centered cosine similarities of a given user to all other users.\n",
    "\n",
    "You should use the `compute_pairwise_user_similarity` function defined above.\n",
    "\n",
    "\n",
    "You will get a **bonus point**, if you can avoid the for loop and **NOT** invoke `compute_pairwise_user_similarity`. The idea is to obtain a copy, say `R_copy`, of matrix `R` that has its rows mean-centered and normalized. This way the given user can be represented by a mean-centered and normalized vector `u`. Then, to obtain the similarity of the user to all others, one needs to take the dot product `R_copy.dot(u.T)`. "
   ]
  },
  {
   "cell_type": "code",
   "execution_count": 55,
   "metadata": {},
   "outputs": [],
   "source": [
    "def compute_user_similarities(u_id):\n",
    "    uU = np.empty((m,)) # we have m users\n",
    "\n",
    "    ########## START HERE ##########\n",
    "    ### you may use a for loop for this function\n",
    "    # TO DO\n",
    "    for v_id in range(m):\n",
    "        sim = # pairwise similarity u_id and v_id\n",
    "        uU[v_id] = sim\n",
    "    ##########  END HERE  ##########\n",
    "    \n",
    "    return uU\n",
    "\n",
    "def compute_user_similarities_fast(u_id):\n",
    "    uU = np.empty((m,))\n",
    "    \n",
    "    global user_avgs, user_cnts # we already derived these two vectors\n",
    "    \n",
    "    ########## START BONUS ##########\n",
    "    R_copy = R.copy() ## create a copy to work with\n",
    "    # TO DO: repeat each user_avg, user_cnt times\n",
    "    user_avgs_repeated = np.repeat()\n",
    "\n",
    "    R_copy.data -= user_avgs_repeated ## R_copy is now mean centered\n",
    "    \n",
    "    ## normalize rows to unit norm\n",
    "    # TO DO\n",
    "    R_copy = pp.normalize() ## normalize each row: elements divided by the row norm\n",
    "    u = R_copy[u_id, :]\n",
    "\n",
    "    uU = R_copy.dot(u.T).A.flatten() ## dot product; convert to dense matrix, then flatten\n",
    "    ##########  END BONUS  ##########\n",
    "    return uU"
   ]
  },
  {
   "cell_type": "markdown",
   "metadata": {},
   "source": [
    "**DEBUG:** For the truncated dataset, the following should again output ~ `0.03585`."
   ]
  },
  {
   "cell_type": "code",
   "execution_count": 56,
   "metadata": {},
   "outputs": [
    {
     "name": "stdout",
     "output_type": "stream",
     "text": [
      "Time= 12.554702997207642\n",
      "Time= 0.013548612594604492\n",
      "0.0358549946108886\n"
     ]
    }
   ],
   "source": [
    "import time\n",
    "if DEBUG:\n",
    "    start = time.time()\n",
    "    uU = compute_user_similarities(2)\n",
    "    print(\"Time=\", (time.time()-start))\n",
    "    \n",
    "    start = time.time()\n",
    "    uU = compute_user_similarities_fast(2)\n",
    "    print(\"Time=\", (time.time()-start))\n",
    "    \n",
    "    print(uU[6])"
   ]
  },
  {
   "cell_type": "code",
   "execution_count": 67,
   "metadata": {},
   "outputs": [
    {
     "name": "stdout",
     "output_type": "stream",
     "text": [
      "(9924,)\n",
      "[ 0.1318  0.1268  1.     ...  0.0994  0.0856 -0.0639]\n"
     ]
    }
   ],
   "source": [
    "print(uU.shape); print(uU) ## uU stores the similarity of that user to all the other users."
   ]
  },
  {
   "cell_type": "code",
   "execution_count": 72,
   "metadata": {},
   "outputs": [
    {
     "data": {
      "text/plain": [
       "1871"
      ]
     },
     "execution_count": 72,
     "metadata": {},
     "output_type": "execute_result"
    }
   ],
   "source": [
    "np.argsort(uU)[-2] # most similar user to user with user index 2"
   ]
  },
  {
   "cell_type": "markdown",
   "metadata": {},
   "source": [
    "Now let's compare the top 10 rated movies by user index 2 and user index 1871 which is the most similar user to user index 2."
   ]
  },
  {
   "cell_type": "code",
   "execution_count": 76,
   "metadata": {},
   "outputs": [
    {
     "name": "stdout",
     "output_type": "stream",
     "text": [
      "User  3  watched  34  movies\n"
     ]
    },
    {
     "name": "stderr",
     "output_type": "stream",
     "text": [
      "/home/ahmad/anaconda3/lib/python3.7/site-packages/ipykernel_launcher.py:26: FutureWarning: `item` has been deprecated and will be removed in a future version\n"
     ]
    },
    {
     "data": {
      "text/html": [
       "<img src=\"http://image.tmdb.org/t/p/w200/c414cDeQ9b6qLPLeKmiJuLDUREJ.jpg\" style=\"display:inline;margin:1px\" width=\"100\" height=\"100\"/><img src=\"http://image.tmdb.org/t/p/w200/btTdmkgIvOi0FFip1sPuZI2oQG6.jpg\" style=\"display:inline;margin:1px\" width=\"100\" height=\"100\"/><img src=\"http://image.tmdb.org/t/p/w200/dlTWhgLHdEgSmCa8nEFgN7Hfu05.jpg\" style=\"display:inline;margin:1px\" width=\"100\" height=\"100\"/><img src=\"http://image.tmdb.org/t/p/w200/qjAyTj2BSth1EQ89vNfo0JYVPFN.jpg\" style=\"display:inline;margin:1px\" width=\"100\" height=\"100\"/><img src=\"http://image.tmdb.org/t/p/w200/3gzLGFBoJM1xlNk0Ulzp0cJ6uPp.jpg\" style=\"display:inline;margin:1px\" width=\"100\" height=\"100\"/><img src=\"http://image.tmdb.org/t/p/w200/rPdtLWNsZmAtoZl9PK7S2wE3qiS.jpg\" style=\"display:inline;margin:1px\" width=\"100\" height=\"100\"/><img src=\"http://image.tmdb.org/t/p/w200/wjrXjlNpDq9U8vYmAwf420yDFtn.jpg\" style=\"display:inline;margin:1px\" width=\"100\" height=\"100\"/><img src=\"http://image.tmdb.org/t/p/w200/9O7gLzmreU0nGkIB6K3BsJbzvNv.jpg\" style=\"display:inline;margin:1px\" width=\"100\" height=\"100\"/><img src=\"http://image.tmdb.org/t/p/w200/vfzE3pjE5G7G7kcZWrA3fnbZo7V.jpg\" style=\"display:inline;margin:1px\" width=\"100\" height=\"100\"/><img src=\"http://image.tmdb.org/t/p/w200/39WsfbB5BshvdbPAYRFXdsjC481.jpg\" style=\"display:inline;margin:1px\" width=\"100\" height=\"100\"/>"
      ],
      "text/plain": [
       "<IPython.core.display.HTML object>"
      ]
     },
     "metadata": {},
     "output_type": "display_data"
    }
   ],
   "source": [
    "show_movies_for_user(userIDX_to_userId[2])"
   ]
  },
  {
   "cell_type": "code",
   "execution_count": 77,
   "metadata": {},
   "outputs": [
    {
     "name": "stdout",
     "output_type": "stream",
     "text": [
      "User  1883  watched  14  movies\n"
     ]
    },
    {
     "name": "stderr",
     "output_type": "stream",
     "text": [
      "/home/ahmad/anaconda3/lib/python3.7/site-packages/ipykernel_launcher.py:26: FutureWarning: `item` has been deprecated and will be removed in a future version\n"
     ]
    },
    {
     "data": {
      "text/html": [
       "<img src=\"http://image.tmdb.org/t/p/w200/jgJoRWltoS17nD5MAQ1yK2Ztefw.jpg\" style=\"display:inline;margin:1px\" width=\"100\" height=\"100\"/><img src=\"http://image.tmdb.org/t/p/w200/lbsuDUaTH9POXWb4Inyck8gZFck.jpg\" style=\"display:inline;margin:1px\" width=\"100\" height=\"100\"/><img src=\"http://image.tmdb.org/t/p/w200/uzMI1WbliKbXbjvdiDKnwb2ndsG.jpg\" style=\"display:inline;margin:1px\" width=\"100\" height=\"100\"/><img src=\"http://image.tmdb.org/t/p/w200/qjAyTj2BSth1EQ89vNfo0JYVPFN.jpg\" style=\"display:inline;margin:1px\" width=\"100\" height=\"100\"/><img src=\"http://image.tmdb.org/t/p/w200/rPdtLWNsZmAtoZl9PK7S2wE3qiS.jpg\" style=\"display:inline;margin:1px\" width=\"100\" height=\"100\"/><img src=\"http://image.tmdb.org/t/p/w200/9O7gLzmreU0nGkIB6K3BsJbzvNv.jpg\" style=\"display:inline;margin:1px\" width=\"100\" height=\"100\"/><img src=\"http://image.tmdb.org/t/p/w200/ceIEEgMqm3FxHmY9OdYGGA0Jr8J.jpg\" style=\"display:inline;margin:1px\" width=\"100\" height=\"100\"/><img src=\"http://image.tmdb.org/t/p/w200/pyEkyYgtyjOX1R9EYyUcgbK1sTn.jpg\" style=\"display:inline;margin:1px\" width=\"100\" height=\"100\"/><img src=\"http://image.tmdb.org/t/p/w200/efFW4euBJIha6WVJoBPSfyui2Aa.jpg\" style=\"display:inline;margin:1px\" width=\"100\" height=\"100\"/><img src=\"http://image.tmdb.org/t/p/w200/c414cDeQ9b6qLPLeKmiJuLDUREJ.jpg\" style=\"display:inline;margin:1px\" width=\"100\" height=\"100\"/>"
      ],
      "text/plain": [
       "<IPython.core.display.HTML object>"
      ]
     },
     "metadata": {},
     "output_type": "display_data"
    }
   ],
   "source": [
    "show_movies_for_user(userIDX_to_userId[1871])"
   ]
  },
  {
   "cell_type": "markdown",
   "metadata": {},
   "source": [
    "### Exercise 3: Create User Neighborhood "
   ]
  },
  {
   "cell_type": "markdown",
   "metadata": {},
   "source": [
    "The following function creates the user neighborhood of a given user. It takes as input, the target user `u_id` and the target item`i_id`, and uses additional parameters, the size `k` of the neighborhood, and a flag `with_abs_sim`.\n",
    "\n",
    "If `with_abs_sim` is `True`, the neighborhood should contain up to `k` users with the highest absolute similarity to the target user `u_id`.\n",
    "\n",
    "If `with_abs_sim` is `False`, the neighborhood should contain up to `k` users with the highest similarity to the target user `u_id`.\n",
    "\n",
    "The output of the function is `nh`, a `Dictionary` containing key-value entries of the form `v_id : sim(u_id, v_id)`, where `v_id` is another user and `sim(u_id, v_id)` is the similarity between `u_id` and `v_id`.\n",
    "\n",
    "**Note:** The neighborhood of the target user should not contain itself, i.e., `u_id`, and only include users that have rated the target item `i_id`.\n",
    "\n",
    "\n",
    "*Tricks* that might be useful:\n",
    "\n",
    "`np.absolute(x)` returns an array containing the absolute values of each element in array `x`.\n",
    "\n",
    "`np.argsort(x)` returns an array with the indices that sort array `x` in *increasing* order.\n",
    "\n",
    "`x[::-1]` returns the reversed array of `x`. So, `np.argsort(x)[::-1]` contains the indices that sort x in *decreasing* order.\n",
    "\n",
    "To check if user `u_id` has rated item `i_id`, the `R_dok` view of the ratings matrix is helpful:\n",
    "```\n",
    "(u_id, i_id) in R_dok\n",
    "```"
   ]
  },
  {
   "cell_type": "code",
   "execution_count": 78,
   "metadata": {},
   "outputs": [],
   "source": [
    "\n",
    "def create_user_neighborhood(u_id, i_id, k=5, with_abs_sim = False):\n",
    "    \"\"\" Neighborhood for user \"u_id\" that have also watched item \"i_id\"\n",
    "    \"\"\"\n",
    "    nh = {} ## the neighborhood dict with (user id: similarity) entries\n",
    "    ## nh should not contain u_id and only include users that have rated i_id; there should be at most k neighbors\n",
    "    \n",
    "    uU = compute_user_similarities(u_id)\n",
    "    uU_copy = uU.copy() ## so that we can modify it, but also keep the original\n",
    "    \n",
    "    ########## START HERE ##########\n",
    "    \n",
    "    if with_abs_sim:\n",
    "        uU_copy = np.absolute(uU_copy)  # we only care about the absolute value of the similarity\n",
    "    \n",
    "    # TO DO: derive the user_ids sorted by decreasing similarity (or absolute similarity) to u_id\n",
    "    user_ids =  \n",
    "    \n",
    "    count = 0\n",
    "    for v_id in user_ids:\n",
    "        if v_id == u_id: ## ignore self\n",
    "            continue # go to the next iterate of the loop \n",
    "        # TO DO: replace the 'condition' such that it ignores users that have not rated i_id\n",
    "        if condition: \n",
    "            continue\n",
    "        nh[v_id] = uU[v_id]\n",
    "        count += 1\n",
    "        if count == k:\n",
    "            break\n",
    "    \n",
    "    ##########  END HERE  ##########\n",
    "    \n",
    "    return nh"
   ]
  },
  {
   "cell_type": "markdown",
   "metadata": {},
   "source": [
    "**DEBUG:** For the truncated dataset, the following should output sth like:\n",
    "```\n",
    "{550: 0.2971362420132689, 7231: 0.2740097242608031, 128: 0.26790790730529773, 6929: 0.25874452246587126, 3590: 0.251786413056871}\n",
    "```"
   ]
  },
  {
   "cell_type": "code",
   "execution_count": 79,
   "metadata": {},
   "outputs": [
    {
     "name": "stderr",
     "output_type": "stream",
     "text": [
      "/home/ahmad/anaconda3/lib/python3.7/site-packages/ipykernel_launcher.py:6: FutureWarning: `item` has been deprecated and will be removed in a future version\n",
      "  \n"
     ]
    },
    {
     "name": "stdout",
     "output_type": "stream",
     "text": [
      "Toy Story (1995)\n",
      "{2277: 0.5055001013308688, 7488: 0.4110518505839984, 9076: 0.4069446168341043, 6925: 0.39736879002769154, 4473: 0.3824178087706099}\n"
     ]
    }
   ],
   "source": [
    "if DEBUG:\n",
    "    print(get_name_for_movie_id(movie_id=movieIDX_to_movieId[0]))\n",
    "    nh = create_user_neighborhood(u_id=userId_to_userIDX[6], i_id=0)\n",
    "    print(nh)"
   ]
  },
  {
   "cell_type": "markdown",
   "metadata": {},
   "source": [
    "Now we have seen what are the most similar users to user 6 that have also watched `Toy Story`"
   ]
  },
  {
   "cell_type": "code",
   "execution_count": 80,
   "metadata": {},
   "outputs": [
    {
     "name": "stdout",
     "output_type": "stream",
     "text": [
      "User  6  watched  23  movies\n"
     ]
    },
    {
     "name": "stderr",
     "output_type": "stream",
     "text": [
      "/home/ahmad/anaconda3/lib/python3.7/site-packages/ipykernel_launcher.py:26: FutureWarning: `item` has been deprecated and will be removed in a future version\n"
     ]
    },
    {
     "data": {
      "text/html": [
       "<img src=\"http://image.tmdb.org/t/p/w200/rhIRbceoE9lR4veEXuwCC2wARtG.jpg\" style=\"display:inline;margin:1px\" width=\"100\" height=\"100\"/><img src=\"http://image.tmdb.org/t/p/w200/1PVKS17pIBFsIhgFws2uagPDNLW.jpg\" style=\"display:inline;margin:1px\" width=\"100\" height=\"100\"/><img src=\"http://image.tmdb.org/t/p/w200/jQh15y5YB7bWz1NtffNZmRw0s9D.jpg\" style=\"display:inline;margin:1px\" width=\"100\" height=\"100\"/><img src=\"http://image.tmdb.org/t/p/w200/1ryNXjmwdCTqLXxXCG9BGvZyMOH.jpg\" style=\"display:inline;margin:1px\" width=\"100\" height=\"100\"/><img src=\"http://image.tmdb.org/t/p/w200/m0MZabFBNtMuFn3oNcq45M1Jws3.jpg\" style=\"display:inline;margin:1px\" width=\"100\" height=\"100\"/><img src=\"http://image.tmdb.org/t/p/w200/kBmwWeSN3ajnYHZ3dSybEobxEPI.jpg\" style=\"display:inline;margin:1px\" width=\"100\" height=\"100\"/><img src=\"http://image.tmdb.org/t/p/w200/wRTkvqRTB05gcGInsnGqVgLkb3t.jpg\" style=\"display:inline;margin:1px\" width=\"100\" height=\"100\"/><img src=\"http://image.tmdb.org/t/p/w200/rwAixULX9OJUu9kdDUBFZpLmLk1.jpg\" style=\"display:inline;margin:1px\" width=\"100\" height=\"100\"/><img src=\"http://image.tmdb.org/t/p/w200/5V10mg1rAbwWYNF6IjnEYokIR8f.jpg\" style=\"display:inline;margin:1px\" width=\"100\" height=\"100\"/><img src=\"http://image.tmdb.org/t/p/w200/5bqI54aIyPDzPKkScwJprzbAsIi.jpg\" style=\"display:inline;margin:1px\" width=\"100\" height=\"100\"/>"
      ],
      "text/plain": [
       "<IPython.core.display.HTML object>"
      ]
     },
     "metadata": {},
     "output_type": "display_data"
    },
    {
     "name": "stdout",
     "output_type": "stream",
     "text": [
      "User  6  watched  23  movies\n"
     ]
    },
    {
     "data": {
      "text/html": [
       "<div>\n",
       "<style scoped>\n",
       "    .dataframe tbody tr th:only-of-type {\n",
       "        vertical-align: middle;\n",
       "    }\n",
       "\n",
       "    .dataframe tbody tr th {\n",
       "        vertical-align: top;\n",
       "    }\n",
       "\n",
       "    .dataframe thead th {\n",
       "        text-align: right;\n",
       "    }\n",
       "</style>\n",
       "<table border=\"1\" class=\"dataframe\">\n",
       "  <thead>\n",
       "    <tr style=\"text-align: right;\">\n",
       "      <th></th>\n",
       "      <th>movieId</th>\n",
       "      <th>title</th>\n",
       "      <th>genres</th>\n",
       "    </tr>\n",
       "  </thead>\n",
       "  <tbody>\n",
       "    <tr>\n",
       "      <td>0</td>\n",
       "      <td>1</td>\n",
       "      <td>Toy Story (1995)</td>\n",
       "      <td>Adventure|Animation|Children|Comedy|Fantasy</td>\n",
       "    </tr>\n",
       "    <tr>\n",
       "      <td>2</td>\n",
       "      <td>3</td>\n",
       "      <td>Grumpier Old Men (1995)</td>\n",
       "      <td>Comedy|Romance</td>\n",
       "    </tr>\n",
       "    <tr>\n",
       "      <td>6</td>\n",
       "      <td>7</td>\n",
       "      <td>Sabrina (1995)</td>\n",
       "      <td>Comedy|Romance</td>\n",
       "    </tr>\n",
       "    <tr>\n",
       "      <td>16</td>\n",
       "      <td>17</td>\n",
       "      <td>Sense and Sensibility (1995)</td>\n",
       "      <td>Drama|Romance</td>\n",
       "    </tr>\n",
       "    <tr>\n",
       "      <td>51</td>\n",
       "      <td>52</td>\n",
       "      <td>Mighty Aphrodite (1995)</td>\n",
       "      <td>Comedy|Drama|Romance</td>\n",
       "    </tr>\n",
       "    <tr>\n",
       "      <td>...</td>\n",
       "      <td>...</td>\n",
       "      <td>...</td>\n",
       "      <td>...</td>\n",
       "    </tr>\n",
       "    <tr>\n",
       "      <td>730</td>\n",
       "      <td>743</td>\n",
       "      <td>Spy Hard (1996)</td>\n",
       "      <td>Comedy</td>\n",
       "    </tr>\n",
       "    <tr>\n",
       "      <td>749</td>\n",
       "      <td>762</td>\n",
       "      <td>Striptease (1996)</td>\n",
       "      <td>Comedy|Crime</td>\n",
       "    </tr>\n",
       "    <tr>\n",
       "      <td>767</td>\n",
       "      <td>780</td>\n",
       "      <td>Independence Day (a.k.a. ID4) (1996)</td>\n",
       "      <td>Action|Adventure|Sci-Fi|Thriller</td>\n",
       "    </tr>\n",
       "    <tr>\n",
       "      <td>775</td>\n",
       "      <td>788</td>\n",
       "      <td>Nutty Professor, The (1996)</td>\n",
       "      <td>Comedy|Fantasy|Romance|Sci-Fi</td>\n",
       "    </tr>\n",
       "    <tr>\n",
       "      <td>789</td>\n",
       "      <td>802</td>\n",
       "      <td>Phenomenon (1996)</td>\n",
       "      <td>Drama|Romance</td>\n",
       "    </tr>\n",
       "  </tbody>\n",
       "</table>\n",
       "<p>23 rows × 3 columns</p>\n",
       "</div>"
      ],
      "text/plain": [
       "     movieId                                 title  \\\n",
       "0          1                      Toy Story (1995)   \n",
       "2          3               Grumpier Old Men (1995)   \n",
       "6          7                        Sabrina (1995)   \n",
       "16        17          Sense and Sensibility (1995)   \n",
       "51        52               Mighty Aphrodite (1995)   \n",
       "..       ...                                   ...   \n",
       "730      743                       Spy Hard (1996)   \n",
       "749      762                     Striptease (1996)   \n",
       "767      780  Independence Day (a.k.a. ID4) (1996)   \n",
       "775      788           Nutty Professor, The (1996)   \n",
       "789      802                     Phenomenon (1996)   \n",
       "\n",
       "                                          genres  \n",
       "0    Adventure|Animation|Children|Comedy|Fantasy  \n",
       "2                                 Comedy|Romance  \n",
       "6                                 Comedy|Romance  \n",
       "16                                 Drama|Romance  \n",
       "51                          Comedy|Drama|Romance  \n",
       "..                                           ...  \n",
       "730                                       Comedy  \n",
       "749                                 Comedy|Crime  \n",
       "767             Action|Adventure|Sci-Fi|Thriller  \n",
       "775                Comedy|Fantasy|Romance|Sci-Fi  \n",
       "789                                Drama|Romance  \n",
       "\n",
       "[23 rows x 3 columns]"
      ]
     },
     "metadata": {},
     "output_type": "display_data"
    },
    {
     "data": {
      "image/png": "[encoded data removed]",
      "text/plain": [
       "<Figure size 432x288 with 1 Axes>"
      ]
     },
     "metadata": {
      "needs_background": "light"
     },
     "output_type": "display_data"
    }
   ],
   "source": [
    "show_movies_for_user(6)\n",
    "show_genres_histogram_for_user(6)"
   ]
  },
  {
   "cell_type": "code",
   "execution_count": 81,
   "metadata": {
    "scrolled": false
   },
   "outputs": [
    {
     "name": "stdout",
     "output_type": "stream",
     "text": [
      "User  2290  watched  24  movies\n"
     ]
    },
    {
     "name": "stderr",
     "output_type": "stream",
     "text": [
      "/home/ahmad/anaconda3/lib/python3.7/site-packages/ipykernel_launcher.py:26: FutureWarning: `item` has been deprecated and will be removed in a future version\n"
     ]
    },
    {
     "data": {
      "text/html": [
       "<img src=\"http://image.tmdb.org/t/p/w200/rhIRbceoE9lR4veEXuwCC2wARtG.jpg\" style=\"display:inline;margin:1px\" width=\"100\" height=\"100\"/><img src=\"http://image.tmdb.org/t/p/w200/1ryNXjmwdCTqLXxXCG9BGvZyMOH.jpg\" style=\"display:inline;margin:1px\" width=\"100\" height=\"100\"/><img src=\"http://image.tmdb.org/t/p/w200/kBmwWeSN3ajnYHZ3dSybEobxEPI.jpg\" style=\"display:inline;margin:1px\" width=\"100\" height=\"100\"/><img src=\"http://image.tmdb.org/t/p/w200/e64sOI48hQXyru7naBFyssKFxVd.jpg\" style=\"display:inline;margin:1px\" width=\"100\" height=\"100\"/><img src=\"http://image.tmdb.org/t/p/w200/1PVKS17pIBFsIhgFws2uagPDNLW.jpg\" style=\"display:inline;margin:1px\" width=\"100\" height=\"100\"/><img src=\"http://image.tmdb.org/t/p/w200/jQh15y5YB7bWz1NtffNZmRw0s9D.jpg\" style=\"display:inline;margin:1px\" width=\"100\" height=\"100\"/><img src=\"http://image.tmdb.org/t/p/w200/3a5nomeyzJF4gG26HouCtce99ki.jpg\" style=\"display:inline;margin:1px\" width=\"100\" height=\"100\"/><img src=\"http://image.tmdb.org/t/p/w200/rZhCekNwWmkiLVpsYhSWfl9TkME.jpg\" style=\"display:inline;margin:1px\" width=\"100\" height=\"100\"/><img src=\"http://image.tmdb.org/t/p/w200/btTdmkgIvOi0FFip1sPuZI2oQG6.jpg\" style=\"display:inline;margin:1px\" width=\"100\" height=\"100\"/><img src=\"http://image.tmdb.org/t/p/w200/bnjSUzRUNaKQLN678wpK8zsD8jF.jpg\" style=\"display:inline;margin:1px\" width=\"100\" height=\"100\"/>"
      ],
      "text/plain": [
       "<IPython.core.display.HTML object>"
      ]
     },
     "metadata": {},
     "output_type": "display_data"
    },
    {
     "name": "stdout",
     "output_type": "stream",
     "text": [
      "User  2290  watched  24  movies\n"
     ]
    },
    {
     "data": {
      "text/html": [
       "<div>\n",
       "<style scoped>\n",
       "    .dataframe tbody tr th:only-of-type {\n",
       "        vertical-align: middle;\n",
       "    }\n",
       "\n",
       "    .dataframe tbody tr th {\n",
       "        vertical-align: top;\n",
       "    }\n",
       "\n",
       "    .dataframe thead th {\n",
       "        text-align: right;\n",
       "    }\n",
       "</style>\n",
       "<table border=\"1\" class=\"dataframe\">\n",
       "  <thead>\n",
       "    <tr style=\"text-align: right;\">\n",
       "      <th></th>\n",
       "      <th>movieId</th>\n",
       "      <th>title</th>\n",
       "      <th>genres</th>\n",
       "    </tr>\n",
       "  </thead>\n",
       "  <tbody>\n",
       "    <tr>\n",
       "      <td>0</td>\n",
       "      <td>1</td>\n",
       "      <td>Toy Story (1995)</td>\n",
       "      <td>Adventure|Animation|Children|Comedy|Fantasy</td>\n",
       "    </tr>\n",
       "    <tr>\n",
       "      <td>4</td>\n",
       "      <td>5</td>\n",
       "      <td>Father of the Bride Part II (1995)</td>\n",
       "      <td>Comedy</td>\n",
       "    </tr>\n",
       "    <tr>\n",
       "      <td>6</td>\n",
       "      <td>7</td>\n",
       "      <td>Sabrina (1995)</td>\n",
       "      <td>Comedy|Romance</td>\n",
       "    </tr>\n",
       "    <tr>\n",
       "      <td>16</td>\n",
       "      <td>17</td>\n",
       "      <td>Sense and Sensibility (1995)</td>\n",
       "      <td>Drama|Romance</td>\n",
       "    </tr>\n",
       "    <tr>\n",
       "      <td>61</td>\n",
       "      <td>62</td>\n",
       "      <td>Mr. Holland's Opus (1995)</td>\n",
       "      <td>Drama</td>\n",
       "    </tr>\n",
       "    <tr>\n",
       "      <td>...</td>\n",
       "      <td>...</td>\n",
       "      <td>...</td>\n",
       "      <td>...</td>\n",
       "    </tr>\n",
       "    <tr>\n",
       "      <td>734</td>\n",
       "      <td>747</td>\n",
       "      <td>Stupids, The (1996)</td>\n",
       "      <td>Comedy</td>\n",
       "    </tr>\n",
       "    <tr>\n",
       "      <td>767</td>\n",
       "      <td>780</td>\n",
       "      <td>Independence Day (a.k.a. ID4) (1996)</td>\n",
       "      <td>Action|Adventure|Sci-Fi|Thriller</td>\n",
       "    </tr>\n",
       "    <tr>\n",
       "      <td>789</td>\n",
       "      <td>802</td>\n",
       "      <td>Phenomenon (1996)</td>\n",
       "      <td>Drama|Romance</td>\n",
       "    </tr>\n",
       "    <tr>\n",
       "      <td>823</td>\n",
       "      <td>838</td>\n",
       "      <td>Emma (1996)</td>\n",
       "      <td>Comedy|Drama|Romance</td>\n",
       "    </tr>\n",
       "    <tr>\n",
       "      <td>864</td>\n",
       "      <td>880</td>\n",
       "      <td>Island of Dr. Moreau, The (1996)</td>\n",
       "      <td>Sci-Fi|Thriller</td>\n",
       "    </tr>\n",
       "  </tbody>\n",
       "</table>\n",
       "<p>24 rows × 3 columns</p>\n",
       "</div>"
      ],
      "text/plain": [
       "     movieId                                 title  \\\n",
       "0          1                      Toy Story (1995)   \n",
       "4          5    Father of the Bride Part II (1995)   \n",
       "6          7                        Sabrina (1995)   \n",
       "16        17          Sense and Sensibility (1995)   \n",
       "61        62             Mr. Holland's Opus (1995)   \n",
       "..       ...                                   ...   \n",
       "734      747                   Stupids, The (1996)   \n",
       "767      780  Independence Day (a.k.a. ID4) (1996)   \n",
       "789      802                     Phenomenon (1996)   \n",
       "823      838                           Emma (1996)   \n",
       "864      880      Island of Dr. Moreau, The (1996)   \n",
       "\n",
       "                                          genres  \n",
       "0    Adventure|Animation|Children|Comedy|Fantasy  \n",
       "4                                         Comedy  \n",
       "6                                 Comedy|Romance  \n",
       "16                                 Drama|Romance  \n",
       "61                                         Drama  \n",
       "..                                           ...  \n",
       "734                                       Comedy  \n",
       "767             Action|Adventure|Sci-Fi|Thriller  \n",
       "789                                Drama|Romance  \n",
       "823                         Comedy|Drama|Romance  \n",
       "864                              Sci-Fi|Thriller  \n",
       "\n",
       "[24 rows x 3 columns]"
      ]
     },
     "metadata": {},
     "output_type": "display_data"
    },
    {
     "data": {
      "image/png": "[encoded data removed]",
      "text/plain": [
       "<Figure size 432x288 with 1 Axes>"
      ]
     },
     "metadata": {
      "needs_background": "light"
     },
     "output_type": "display_data"
    }
   ],
   "source": [
    "# Now we can see what movies the userIDX 2277 (the most similar to user_id=6) has watched.\n",
    "show_movies_for_user(userIDX_to_userId[2277])\n",
    "show_genres_histogram_for_user(userIDX_to_userId[2277])"
   ]
  },
  {
   "cell_type": "markdown",
   "metadata": {},
   "source": [
    "### Exercise 4: Predict a Rating \n",
    "\n",
    "Finally! We can now try to predict a rating of a given user who has not rated an item so far. Follow the instructions bellow to see how we can do this!"
   ]
  },
  {
   "cell_type": "markdown",
   "metadata": {},
   "source": [
    "The following function predicts the rating user `u_id` would give to item `i_id`. It uses the flag `with_deviations` to make the prediction.\n",
    "\n",
    "If `with_deviations` is `True`, the prediction is made over *rating deviations*:\n",
    "$$ s(u,i) = \\overline{r_u} + \\frac{\\sum_{v \\in N(u;i)}w_{uv} (r_{vi}-\\overline{r_v})}{\\sum_{v \\in N(u;i)} |w_{uv}|} .$$\n",
    "\n",
    "If `with_deviations` is `False`, the prediction is made directly over ratings:\n",
    "$$ s(u,i) = \\frac{\\sum_{v \\in N(u;i)}w_{uv} r_{vi}}{\\sum_{v \\in N(u;i)} |w_{uv}|} .$$\n",
    "\n",
    "The output of the function is the predicted rating `prediction`."
   ]
  },
  {
   "cell_type": "code",
   "execution_count": 86,
   "metadata": {},
   "outputs": [],
   "source": [
    "\n",
    "def predict_rating(u_id, i_id, k, with_deviations=True, with_abs_sim=False):\n",
    "    '''\n",
    "    predict the rating of user u_id for item i_id \n",
    "    '''\n",
    "    \n",
    "    print(\"Movie name:\", get_name_for_movie_id(movie_id=movieIDX_to_movieId[i_id]))\n",
    "    \n",
    "    if (u_id, i_id) in R_dok:\n",
    "        print(\"user idx\", u_id, \"has rated item idx\", i_id, \"with\", R[u_id, i_id])\n",
    "    else:\n",
    "        print(\"user idx\", u_id, \"has not rated item idx\", i_id)\n",
    "    print(\"k:\", k, \"with_deviations:\", with_deviations, \"with_abs_sim:\", with_abs_sim)\n",
    "    \n",
    "    \n",
    "    nh = create_user_neighborhood(u_id, i_id, k=k, with_abs_sim=with_abs_sim)\n",
    "    \n",
    "    neighborhood_weighted_avg = 0.\n",
    "\n",
    "    ########## START HERE ##########\n",
    "    ### you should compute neighborhood_weighted_avg, which is the fraction in the above formulas\n",
    "    \n",
    "    sum_scores = 0.\n",
    "    sum_weights = 0.\n",
    "    for neighbor_id, similarity in nh.items():\n",
    "        # TO DO: find the neighbor rating from R matrix. R[neighbor_id, i_id]\n",
    "        neighbor_rating = \n",
    "        if with_deviations:\n",
    "            # TO DO: in this case similarity should be multiplied by (neighbor_rating - neighbor_avg)\n",
    "            sum_scores += \n",
    "        else:\n",
    "            sum_scores += similarity * neighbor_rating\n",
    "        sum_weights += abs(similarity)\n",
    "        \n",
    "    neighborhood_weighted_avg = sum_scores/sum_weights\n",
    "    \n",
    "    ##########  END HERE  ##########\n",
    "    \n",
    "    if with_deviations:\n",
    "        prediction = user_avgs[u_id] + neighborhood_weighted_avg\n",
    "        print(\"prediction\", prediction, \"(user_avg\", user_avgs[u_id], \"offset\", neighborhood_weighted_avg, \")\")\n",
    "    else:\n",
    "        prediction = neighborhood_weighted_avg\n",
    "        print(\"prediction\", prediction, \"(user_avg\", user_avgs[u_id], \")\")\n",
    "        \n",
    "    return prediction"
   ]
  },
  {
   "cell_type": "markdown",
   "metadata": {},
   "source": [
    "**DEBUG:** For the truncated dataset, the following should output sth like:\n",
    "```\n",
    "Movie name: Sudden Death (1995)\n",
    "user 6 has not rated item 8\n",
    "k: 50 with_deviations: True with_abs_sim: True\n",
    "prediction 2.7554307504988773 (user_avg 3.2830188679245285 offset -0.527588117425651 )\n",
    "```"
   ]
  },
  {
   "cell_type": "code",
   "execution_count": 87,
   "metadata": {},
   "outputs": [
    {
     "name": "stderr",
     "output_type": "stream",
     "text": [
      "/home/ahmad/anaconda3/lib/python3.7/site-packages/ipykernel_launcher.py:6: FutureWarning: `item` has been deprecated and will be removed in a future version\n",
      "  \n"
     ]
    },
    {
     "name": "stdout",
     "output_type": "stream",
     "text": [
      "Movie name: Sudden Death (1995)\n",
      "user idx 6 has not rated item idx 8\n",
      "k: 50 with_deviations: True with_abs_sim: True\n",
      "prediction 2.7554307504988773 (user_avg 3.2830188679245285 offset -0.527588117425651 )\n"
     ]
    }
   ],
   "source": [
    "with_deviations = True\n",
    "if DEBUG:\n",
    "    k = 50\n",
    "    with_deviations = True\n",
    "    with_abs_sim = True\n",
    "    predict_rating(6, 8, k=50, with_deviations = with_deviations, with_abs_sim=with_abs_sim)"
   ]
  },
  {
   "cell_type": "code",
   "execution_count": 88,
   "metadata": {},
   "outputs": [
    {
     "name": "stderr",
     "output_type": "stream",
     "text": [
      "/home/ahmad/anaconda3/lib/python3.7/site-packages/ipykernel_launcher.py:6: FutureWarning: `item` has been deprecated and will be removed in a future version\n",
      "  \n"
     ]
    },
    {
     "name": "stdout",
     "output_type": "stream",
     "text": [
      "Movie name: Father of the Bride Part II (1995)\n",
      "user idx 6 has not rated item idx 4\n",
      "k: 50 with_deviations: True with_abs_sim: True\n",
      "prediction 2.936704850230231 (user_avg 3.2830188679245285 offset -0.3463140176942977 )\n"
     ]
    }
   ],
   "source": [
    "if DEBUG:\n",
    "    k = 50\n",
    "    with_deviations = True\n",
    "    with_abs_sim = True\n",
    "    predict_rating(6, movieId_to_movieIDX[5], k=50, with_deviations = with_deviations, with_abs_sim=with_abs_sim)"
   ]
  }
 ],
 "metadata": {
  "kernelspec": {
   "display_name": "Python 3",
   "language": "python",
   "name": "python3"
  },
  "language_info": {
   "codemirror_mode": {
    "name": "ipython",
    "version": 3
   },
   "file_extension": ".py",
   "mimetype": "text/x-python",
   "name": "python",
   "nbconvert_exporter": "python",
   "pygments_lexer": "ipython3",
   "version": "3.7.3"
  }
 },
 "nbformat": 4,
 "nbformat_minor": 2
}

{
  "cells": [
    {
      "cell_type": "markdown",
      "source": [
        "# Lab1 - Exercise 1 - Python Notebooks\n",
        "\n",
        "**Goal:** To further familiarize ourselves with Python notebooks.\n",
        "\n",
        "**Exercise:** Create the notebook that you see in the image below.\n",
        "\n",
        "![image_exercise](assets/exerciseLab1.png)"
      ],
      "metadata": {}
    },
    {
      "cell_type": "markdown",
      "source": [
        "Start below with your solution...good luck!"
      ],
      "metadata": {}
    },
    {
      "cell_type": "markdown",
      "source": [],
      "metadata": {}
    }
  ],
  "metadata": {
    "kernel_info": {
      "name": "python3"
    },
    "language_info": {
      "name": "python",
      "version": "3.7.3",
      "mimetype": "text/x-python",
      "codemirror_mode": {
        "name": "ipython",
        "version": 3
      },
      "pygments_lexer": "ipython3",
      "nbconvert_exporter": "python",
      "file_extension": ".py"
    },
    "kernelspec": {
      "name": "python3",
      "language": "python",
      "display_name": "Python 3"
    },
    "nteract": {
      "version": "0.14.5"
    }
  },
  "nbformat": 4,
  "nbformat_minor": 0
}
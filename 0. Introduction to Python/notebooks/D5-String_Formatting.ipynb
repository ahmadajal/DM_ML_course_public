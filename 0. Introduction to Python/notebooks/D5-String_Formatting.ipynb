{
 "cells": [
  {
   "cell_type": "markdown",
   "metadata": {},
   "source": [
    "# String Formatting"
   ]
  },
  {
   "cell_type": "markdown",
   "metadata": {},
   "source": [
    "Often one wants to embed other information into strings, sometimes with special formatting constraints. In python, one may insert special formatting characters into strings that convey what type of data should be inserted and where, and how the \"stringified\" form should be formatted. For instance:"
   ]
  },
  {
   "cell_type": "code",
   "execution_count": null,
   "metadata": {},
   "outputs": [],
   "source": [
    "print('Coordinates: {latitude}, {longitude}'.format(latitude='37.24N', longitude='115.81W'))"
   ]
  },
  {
   "cell_type": "markdown",
   "metadata": {},
   "source": [
    "Or we can have the parameter values being variables:"
   ]
  },
  {
   "cell_type": "code",
   "execution_count": null,
   "metadata": {},
   "outputs": [],
   "source": [
    "lat = '37.24N'\n",
    "lon = '115.81W'\n",
    "print('Coordinates: {latitude}, {longitude}'.format(latitude=lat, longitude=lon))"
   ]
  },
  {
   "cell_type": "markdown",
   "metadata": {},
   "source": [
    "We can of course re-order and use multiple times the placeholders:"
   ]
  },
  {
   "cell_type": "code",
   "execution_count": null,
   "metadata": {},
   "outputs": [],
   "source": [
    "lat = '37.24N'\n",
    "lon = '115.81W'\n",
    "print('Latitude: {latitude}, Longitude: {longitude} ==> [{latitude}, {longitude}]'\n",
    "      .format(latitude=lat, longitude=lon))"
   ]
  },
  {
   "cell_type": "markdown",
   "metadata": {},
   "source": [
    "#### More formatting options\n",
    "\n",
    "Below we will see a few more options, mainly for formatting numbers. (For a more detailed treatment on string formatting options, [see here](https://docs.python.org/3.5/library/string.html#format-string-syntax).) We can achieve the formatting by adding after the number/name the character `:` follows by a set of formatting options."
   ]
  },
  {
   "cell_type": "markdown",
   "metadata": {},
   "source": [
    "```\n",
    "field       ::=  \"{\" field_name [\":\" format_spec] \"}\"\n",
    "format_spec ::=  [[fill character]align][sign][width][,][.precision][type]\n",
    "align       ::=  \"<\" | \">\" | \"=\" | \"^\"\n",
    "sign        ::=  \"+\" | \"-\" | \" \"\n",
    "width       ::=  number of digits in total (if width has a 0 in front, we add 0's for zero-padding)\n",
    "precision   ::=  number of decimal points\n",
    "```"
   ]
  },
  {
   "cell_type": "markdown",
   "metadata": {},
   "source": [
    "Some common `type`s: \n",
    "\n",
    "* `d` integer\n",
    "* `f` floating point\n",
    "* `%` percent\n",
    "* `e` exponential format\n",
    "* `c` character\n",
    "* `s` string \n"
   ]
  },
  {
   "cell_type": "markdown",
   "metadata": {},
   "source": [
    "##### Formatting decimal numbers"
   ]
  },
  {
   "cell_type": "code",
   "execution_count": null,
   "metadata": {},
   "outputs": [],
   "source": [
    "# Without the use of placeholders. Notice the spaces before and after the result.\n",
    "print(\"Result: |\",100/23,\"|\")"
   ]
  },
  {
   "cell_type": "code",
   "execution_count": null,
   "metadata": {},
   "outputs": [],
   "source": [
    "# Using a placeholder. Notice that the spaces around the number disappear.\n",
    "print(\"Result: |{num}|\".format(num=100/23))"
   ]
  },
  {
   "cell_type": "code",
   "execution_count": null,
   "metadata": {},
   "outputs": [],
   "source": [
    "# Now we specify the type of \"num\" and we say it will be a floating point\n",
    "# Notice that we got a smaller number of decimal digits.\n",
    "print(\"Result: |{num:f}|\".format(num=100/23))"
   ]
  },
  {
   "cell_type": "code",
   "execution_count": null,
   "metadata": {},
   "outputs": [],
   "source": [
    "# Now let's specify the length that we want to reserve for the string\n",
    "# The number above took a total of 8 characters (including the decimal)\n",
    "# Now let's specify that we have 10 characters available.\n",
    "# Notice the spaces in front of the number in the result\n",
    "print(\"Result: |{num:10f}|\".format(num=100/23))"
   ]
  },
  {
   "cell_type": "code",
   "execution_count": null,
   "metadata": {},
   "outputs": [],
   "source": [
    "# Keep six digits for the whole number, out of which 3 for the decimals\n",
    "print(\"Result: |{num:6.3f}|\".format(num=100/23))"
   ]
  },
  {
   "cell_type": "code",
   "execution_count": null,
   "metadata": {},
   "outputs": [],
   "source": [
    "# Compare with having 8 digits, 3 for decimals\n",
    "print(\"Result: |{num:8.3f}|\".format(num=100/23))"
   ]
  },
  {
   "cell_type": "code",
   "execution_count": null,
   "metadata": {},
   "outputs": [],
   "source": [
    "# Or having 8 digits, 5 for decimals\n",
    "print(\"Result: |{num:8.5f}|\".format(num=100/23))"
   ]
  },
  {
   "cell_type": "code",
   "execution_count": null,
   "metadata": {},
   "outputs": [],
   "source": [
    "# Keep seven digits for the whole number, out of which 2 for the decimals\n",
    "print(\"Result: |{num:7.2f}|\".format(num=100/23))\n",
    "print(\"Result: |{num:7.2f}|\".format(num=1000/23))\n",
    "print(\"Result: |{num:7.2f}|\".format(num=10000/23))\n",
    "print(\"Result: |{num:7.2f}|\".format(num=100000/23))\n",
    "print(\"Result: |{num:7.2f}|\".format(num=1000000/23))"
   ]
  },
  {
   "cell_type": "markdown",
   "metadata": {},
   "source": [
    "##### Extra options: Comma-separated thousands, zero padding"
   ]
  },
  {
   "cell_type": "code",
   "execution_count": null,
   "metadata": {},
   "outputs": [],
   "source": [
    "# Sixteen digits total and four decimal digits, with comma-separated thousands\n",
    "print(\"Result: |{num:16,.4f}|\".format(num=1000000/7))"
   ]
  },
  {
   "cell_type": "code",
   "execution_count": null,
   "metadata": {},
   "outputs": [],
   "source": [
    "# Same example without the comma-separator\n",
    "print(\"Result: |{num:16.4f}|\".format(num=1000000/7))"
   ]
  },
  {
   "cell_type": "code",
   "execution_count": null,
   "metadata": {},
   "outputs": [],
   "source": [
    "# Keep six digits for the whole number, out of which 3 for the decimals, with zero padding in front\n",
    "print(\"Result: |{num:07.3f}|\".format(num=100/23))"
   ]
  },
  {
   "cell_type": "code",
   "execution_count": null,
   "metadata": {},
   "outputs": [],
   "source": [
    "# Floating point with three seven digits\n",
    "print(\"Result: |{num:.7f}|\".format(num=100/23))"
   ]
  },
  {
   "cell_type": "markdown",
   "metadata": {},
   "source": [
    "##### Percentages, alignment"
   ]
  },
  {
   "cell_type": "code",
   "execution_count": null,
   "metadata": {},
   "outputs": [],
   "source": [
    "correct = 19\n",
    "total = 22\n",
    "# Expressing a percentage: We use % instead of f\n",
    "# We ask for 7 characters total, and two decimal numbers.\n",
    "# The 7 characters include the % sign, and the decimal point\n",
    "# so we have three characters allocated for the integer part\n",
    "# Our number has only two digits in the integer, so we get an \n",
    "# empty space in front\n",
    "print('Correct answers: |{result:7.2%}|'.format(result=correct /total))"
   ]
  },
  {
   "cell_type": "code",
   "execution_count": null,
   "metadata": {},
   "outputs": [],
   "source": [
    "# alignment\n",
    "# < means left alignment\n",
    "# 30 means 30 characters allocated for the message\n",
    "# s means string (it is the default, and often omitted)\n",
    "print('|{message:<30s}|'.format(message='left aligned message'))"
   ]
  },
  {
   "cell_type": "code",
   "execution_count": null,
   "metadata": {},
   "outputs": [],
   "source": [
    "# ^ means center alignment\n",
    "print('|{message:^30s}|'.format(message='centered message'))"
   ]
  },
  {
   "cell_type": "code",
   "execution_count": null,
   "metadata": {},
   "outputs": [],
   "source": [
    "# > means right alignment\n",
    "print('|{message:>30s}|'.format(message='right aligned message'))"
   ]
  },
  {
   "cell_type": "code",
   "execution_count": null,
   "metadata": {},
   "outputs": [],
   "source": [
    "# fill\n",
    "print('|{message:#<80s}|'.format(message='left aligned with # chars as fill'))\n",
    "print('|{message:#>80s}|'.format(message='right aligned with # chars as fill'))\n",
    "print('|{message:#^80s}|'.format(message='centered with # chars as fill'))"
   ]
  },
  {
   "cell_type": "markdown",
   "metadata": {},
   "source": [
    "## Exercise\n"
   ]
  },
  {
   "cell_type": "markdown",
   "metadata": {},
   "source": [
    "\n",
    "We have a list of people and scores to display. \n",
    "\n",
    "Write code that:\n",
    "* Align the names to the left, and the scores to the right\n",
    "* Allocate 10 characters for the name, and 5 characters for the score (5 for the integer, one for the decimal point, and 1 for decimal number)\n",
    "\n",
    "We want the outcome to look like this:\n",
    "\n",
    "```\n",
    "Name      Score\n",
    "----      -----\n",
    "Beth       10.0\n",
    "Frederick   8.5\n",
    "Panos       7.1\n",
    "``` \n"
   ]
  },
  {
   "cell_type": "code",
   "execution_count": null,
   "metadata": {},
   "outputs": [],
   "source": [
    "name1 = \"Beth\"\n",
    "name2 = \"Frederick\"\n",
    "name3 = \"Panos\"\n",
    "score1 = 10.0\n",
    "score2 = 8.51324\n",
    "score3 = 7.12321\n",
    "template_header = \"{name:10s}\\t{score:>7s}\"\n",
    "template_row    = \"{name:10s}\\t{score:7.1f}\"\n",
    "\n",
    "print(template_header.format(name=\"NAME\", score=\"SCORE\"))\n",
    "print(template_header.format(name=\"----\", score=\"-----\"))\n",
    "print(template_row.format(name=name1, score=score1))\n",
    "print(template_row.format(name=name2, score=score2))\n",
    "print(template_row.format(name=name3, score=score3))"
   ]
  },
  {
   "cell_type": "markdown",
   "metadata": {
    "solution2": "hidden",
    "solution2_first": true
   },
   "source": [
    "### Solution"
   ]
  },
  {
   "cell_type": "code",
   "execution_count": null,
   "metadata": {
    "solution2": "hidden"
   },
   "outputs": [],
   "source": [
    "# Solution; do not use this before trying your own solution\n",
    "\n",
    "name1 = \"Beth\"\n",
    "name2 = \"Frederick\"\n",
    "name3 = \"Panos\"\n",
    "score1 = 10.0\n",
    "score2 = 8.51324\n",
    "score3 = 7.12321\n",
    "# Different formatting for headers and the data rows\n",
    "# since we cannot apply floating point formatting to the \n",
    "# strings in the header\n",
    "template_header = \"{name:10s}\\t{score:>7s}\"\n",
    "template_row    = \"{name:10s}\\t{score:7.1f}\"\n",
    "# Print the header lines with the header template\n",
    "print(template_header.format(name=\"NAME\", score=\"SCORE\"))\n",
    "print(template_header.format(name=\"----\", score=\"-----\"))\n",
    "# Print the data lines with the data template\n",
    "print(template_row.format(name=name1, score=score1))\n",
    "print(template_row.format(name=name2, score=score2))\n",
    "print(template_row.format(name=name3, score=score3))"
   ]
  },
  {
   "cell_type": "code",
   "execution_count": null,
   "metadata": {
    "solution2": "hidden"
   },
   "outputs": [],
   "source": [
    "print(\"{name:10s}\\t{score:7.1f}\".format(name=name1, score=score1))\n",
    "print(\"{name:10s}\\t{score:7.1f}\".format(name=name2, score=score2))\n",
    "print(\"{name:10s}\\t{score:7.1f}\".format(name=name3, score=score3))"
   ]
  },
  {
   "cell_type": "code",
   "execution_count": null,
   "metadata": {
    "solution2": "hidden"
   },
   "outputs": [],
   "source": [
    "# Notice that we cannot use the :7.1f formatting \n",
    "# for the \"score\" variable, when \"score\" is a string\n",
    "# print(\"{name:10s}\\t{score:7.1f}\".format(name=\"NAME\", score=\"SCORE\"))\n",
    "print(\"{name:10s}\\t{score:7.1f}\".format(name=name1, score=score1))\n",
    "print(\"{name:10s}\\t{score:7.1f}\".format(name=name2, score=score2))\n",
    "print(\"{name:10s}\\t{score:7.1f}\".format(name=name3, score=score3))"
   ]
  },
  {
   "cell_type": "code",
   "execution_count": null,
   "metadata": {
    "solution2": "hidden"
   },
   "outputs": [],
   "source": [
    "print(\"{name:10s}\\t{score:>7s}\".format(name=\"NAME\", score=\"SCORE\"))\n",
    "print(\"{name:10s}\\t{score:7.1f}\".format(name=name1, score=score1))\n",
    "print(\"{name:10s}\\t{score:7.1f}\".format(name=name2, score=score2))\n",
    "print(\"{name:10s}\\t{score:7.1f}\".format(name=name3, score=score3))"
   ]
  },
  {
   "cell_type": "code",
   "execution_count": null,
   "metadata": {
    "solution2": "hidden"
   },
   "outputs": [],
   "source": [
    "print(\"{name:10s}\\t{score:>7s}\".format(name=\"NAME\", score=\"SCORE\"))\n",
    "print(\"{name:10s}\\t{score:>7s}\".format(name=\"----\", score=\"-----\"))\n",
    "print(\"{name:10s}\\t{score:7.1f}\".format(name=name1, score=score1))\n",
    "print(\"{name:10s}\\t{score:7.1f}\".format(name=name2, score=score2))\n",
    "print(\"{name:10s}\\t{score:7.1f}\".format(name=name3, score=score3))"
   ]
  },
  {
   "cell_type": "code",
   "execution_count": null,
   "metadata": {
    "solution2": "hidden"
   },
   "outputs": [],
   "source": [
    "template_header = \"{name:10s}\\t{score:>7s}\"\n",
    "template_row    = \"{name:10s}\\t{score:7.1f}\""
   ]
  },
  {
   "cell_type": "code",
   "execution_count": null,
   "metadata": {
    "solution2": "hidden"
   },
   "outputs": [],
   "source": [
    "print(template_header.format(name=\"NAME\", score=\"SCORE\"))\n",
    "print(template_header.format(name=\"----\", score=\"-----\"))\n",
    "print(template_row.format(name=name1, score=score1))\n",
    "print(template_row.format(name=name2, score=score2))\n",
    "print(template_row.format(name=name3, score=score3))"
   ]
  }
 ],
 "metadata": {
  "kernelspec": {
   "display_name": "Python 3",
   "language": "python",
   "name": "python3"
  },
  "language_info": {
   "codemirror_mode": {
    "name": "ipython",
    "version": 3
   },
   "file_extension": ".py",
   "mimetype": "text/x-python",
   "name": "python",
   "nbconvert_exporter": "python",
   "pygments_lexer": "ipython3",
   "version": "3.6.6"
  }
 },
 "nbformat": 4,
 "nbformat_minor": 1
}

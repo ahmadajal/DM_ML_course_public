{
 "cells": [
  {
   "cell_type": "markdown",
   "metadata": {},
   "source": [
    "# Lab 3: Supervised Learning, Linear Regression"
   ]
  },
  {
   "cell_type": "code",
   "execution_count": 76,
   "metadata": {},
   "outputs": [
    {
     "name": "stdout",
     "output_type": "stream",
     "text": [
      "The autoreload extension is already loaded. To reload it, use:\n",
      "  %reload_ext autoreload\n"
     ]
    }
   ],
   "source": [
    "# Useful starting lines\n",
    "%matplotlib inline\n",
    "import numpy as np\n",
    "import matplotlib.pyplot as plt\n",
    "from matplotlib import collections  as mc\n",
    "%load_ext autoreload\n",
    "%autoreload 2\n",
    "import pandas as pd \n",
    "import seaborn as sns\n",
    "from sklearn.preprocessing import LabelEncoder, OneHotEncoder\n",
    "sns.set_style(\"white\")"
   ]
  },
  {
   "cell_type": "markdown",
   "metadata": {},
   "source": [
    "## 1. Load the data\n",
    "We are going to use the advertisment data. The task is to figure out how different means of advertisment influence the amount of sales of a product\n",
    "    \n",
    "Let's Load the data with Pandas!"
   ]
  },
  {
   "cell_type": "code",
   "execution_count": 65,
   "metadata": {},
   "outputs": [
    {
     "data": {
      "text/html": [
       "<div>\n",
       "<style scoped>\n",
       "    .dataframe tbody tr th:only-of-type {\n",
       "        vertical-align: middle;\n",
       "    }\n",
       "\n",
       "    .dataframe tbody tr th {\n",
       "        vertical-align: top;\n",
       "    }\n",
       "\n",
       "    .dataframe thead th {\n",
       "        text-align: right;\n",
       "    }\n",
       "</style>\n",
       "<table border=\"1\" class=\"dataframe\">\n",
       "  <thead>\n",
       "    <tr style=\"text-align: right;\">\n",
       "      <th></th>\n",
       "      <th>id</th>\n",
       "      <th>TV</th>\n",
       "      <th>Radio</th>\n",
       "      <th>Newspaper</th>\n",
       "      <th>Sales</th>\n",
       "    </tr>\n",
       "  </thead>\n",
       "  <tbody>\n",
       "    <tr>\n",
       "      <th>0</th>\n",
       "      <td>1</td>\n",
       "      <td>230.1</td>\n",
       "      <td>37.8</td>\n",
       "      <td>69.2</td>\n",
       "      <td>22.1</td>\n",
       "    </tr>\n",
       "    <tr>\n",
       "      <th>1</th>\n",
       "      <td>2</td>\n",
       "      <td>44.5</td>\n",
       "      <td>39.3</td>\n",
       "      <td>45.1</td>\n",
       "      <td>10.4</td>\n",
       "    </tr>\n",
       "    <tr>\n",
       "      <th>2</th>\n",
       "      <td>3</td>\n",
       "      <td>17.2</td>\n",
       "      <td>45.9</td>\n",
       "      <td>69.3</td>\n",
       "      <td>9.3</td>\n",
       "    </tr>\n",
       "    <tr>\n",
       "      <th>3</th>\n",
       "      <td>4</td>\n",
       "      <td>151.5</td>\n",
       "      <td>41.3</td>\n",
       "      <td>58.5</td>\n",
       "      <td>18.5</td>\n",
       "    </tr>\n",
       "    <tr>\n",
       "      <th>4</th>\n",
       "      <td>5</td>\n",
       "      <td>180.8</td>\n",
       "      <td>10.8</td>\n",
       "      <td>58.4</td>\n",
       "      <td>12.9</td>\n",
       "    </tr>\n",
       "  </tbody>\n",
       "</table>\n",
       "</div>"
      ],
      "text/plain": [
       "   id     TV  Radio  Newspaper  Sales\n",
       "0   1  230.1   37.8       69.2   22.1\n",
       "1   2   44.5   39.3       45.1   10.4\n",
       "2   3   17.2   45.9       69.3    9.3\n",
       "3   4  151.5   41.3       58.5   18.5\n",
       "4   5  180.8   10.8       58.4   12.9"
      ]
     },
     "execution_count": 65,
     "metadata": {},
     "output_type": "execute_result"
    }
   ],
   "source": [
    "ad_df = pd.read_csv('data/Advertising.csv')\n",
    "# view the first 5 rows \n",
    "ad_df.head()"
   ]
  },
  {
   "cell_type": "markdown",
   "metadata": {},
   "source": [
    "In what follows we will try a simple linear regression using only one feature, that is, we want to predict the sales using only the TV advertisments."
   ]
  },
  {
   "cell_type": "markdown",
   "metadata": {},
   "source": [
    "## 2. Least squares: closed form solution\n",
    "since in 1D linear regression we are fitting a line on the data, we need to find two parameters, constant and slope.\n",
    "\n",
    "As we saw in the lecture we have a closed form solution for these 2 parameters. \n",
    "$slope = \\frac{\\Sigma X_{i} y_{i} - \\frac{1}{n}\\Sigma X_{i} \\Sigma y_{i}}{\\Sigma X_{i}^{2} - \\frac{1}{n}(\\Sigma X_{i})^{2}}$, $constant = \\bar{y} - slope * \\bar{X}$\n"
   ]
  },
  {
   "cell_type": "code",
   "execution_count": 67,
   "metadata": {},
   "outputs": [],
   "source": [
    "#number of data points\n",
    "n = ad_df.shape[0]\n",
    "#making the data matrix and outputs\n",
    "X = np.array(ad_df[\"TV\"])\n",
    "y = np.array(ad_df[\"Sales\"])"
   ]
  },
  {
   "cell_type": "code",
   "execution_count": 68,
   "metadata": {},
   "outputs": [
    {
     "data": {
      "text/plain": [
       "((200,), (200,))"
      ]
     },
     "execution_count": 68,
     "metadata": {},
     "output_type": "execute_result"
    }
   ],
   "source": [
    "X.shape, y.shape"
   ]
  },
  {
   "cell_type": "code",
   "execution_count": 69,
   "metadata": {},
   "outputs": [
    {
     "name": "stdout",
     "output_type": "stream",
     "text": [
      "slope:  0.04753664043301973 constant:  7.032593549127697\n"
     ]
    }
   ],
   "source": [
    "# closed form solution: calculating the slope and the constant\n",
    "slope = (np.inner(X, y) - sum(X)*sum(y) / n) / (sum(X**2) - sum(X)**2 / n)\n",
    "constant = np.mean(y) - slope * np.mean(X)\n",
    "print(\"slope: \", slope, \"constant: \", constant)"
   ]
  },
  {
   "cell_type": "code",
   "execution_count": 77,
   "metadata": {},
   "outputs": [
    {
     "data": {
      "image/png": "[encoded data removed]",
      "text/plain": [
       "<Figure size 720x504 with 1 Axes>"
      ]
     },
     "metadata": {},
     "output_type": "display_data"
    }
   ],
   "source": [
    "fig, ax = plt.subplots(figsize=(10, 7))\n",
    "ax.scatter(X, y, marker='o', color='red', s=40)\n",
    "# plot the line for regression fit, gets the xy coordinates of the end points\n",
    "x_1 = np.array(ax.get_xlim())\n",
    "y_1 = constant + slope * x_1\n",
    "ax.plot(x_1, y_1, color='blue', linewidth=2)\n",
    "\n",
    "# let's also plot the error bars\n",
    "\n",
    "lines = []\n",
    "for i, x_ in enumerate(X): \n",
    "    origin = (X[i], constant + slope * X[i])\n",
    "    end = (X[i], y[i])\n",
    "    lines.append([origin, end])    \n",
    "lc = mc.LineCollection(lines, linewidths=1)\n",
    "ax.add_collection(lc)\n",
    "\n",
    "ax.set_xlabel('TV', size=14)\n",
    "ax.set_ylabel('Sales', size=14)\n",
    "plt.tight_layout();"
   ]
  },
  {
   "cell_type": "markdown",
   "metadata": {},
   "source": [
    "## 3. Gradient Descent\n",
    "Another approach to find the optimal weights $\\omega$ is to use iterative algorithms such as Gradient Descent. These methods are very important as in most of the cases it is not possible to find a closed form solution to $\\omega$.\n"
   ]
  },
  {
   "cell_type": "code",
   "execution_count": 78,
   "metadata": {},
   "outputs": [],
   "source": [
    "#append a column of ones to X, we do this to make sure that the dimensions of the matrices match\n",
    "X = np.concatenate((np.ones(n).reshape(n,1), X.reshape(-1,1)), axis=1)"
   ]
  },
  {
   "cell_type": "code",
   "execution_count": 79,
   "metadata": {},
   "outputs": [],
   "source": [
    "class gradient_decsent():\n",
    "    def __init__(self, initial_w=0, gamma=0, max_epochs=50):\n",
    "        self.initial_w = initial_w\n",
    "        self.gamma = gamma\n",
    "        self.max_epochs = max_epochs\n",
    "    \n",
    "    def calculate_loss(self, y, x, w):\n",
    "        \"\"\"\n",
    "        calculate mse\n",
    "        \"\"\"\n",
    "        e = y - x.dot(w)\n",
    "        loss = 0.5*np.mean(e**2)\n",
    "        return loss\n",
    "    \n",
    "    def calculate_gradient(self, y, x, w):\n",
    "        \"\"\"\n",
    "        calculating the gradient of mse\n",
    "        \"\"\"\n",
    "        e = y - x.dot(w)\n",
    "        grad = -1 * x.T.dot(e) / len(e)\n",
    "        return grad\n",
    "    \n",
    "    def update(self, y, x, w):\n",
    "        \"\"\"\n",
    "        update step of GD\n",
    "        \"\"\"\n",
    "        n, d = x.shape\n",
    "        grad = self.calculate_gradient(y, x, w)\n",
    "        w_new = w - self.gamma * grad\n",
    "        return w_new\n",
    "        \n",
    "    def train(self, y, x):\n",
    "        \"\"\"\n",
    "        training\n",
    "        returns the vector of all loss values and weigths after training\n",
    "        \"\"\"\n",
    "        n, d = x.shape\n",
    "        w = self.initial_w\n",
    "        ws = []\n",
    "        losses = []\n",
    "        for n_epoch in range(self.max_epochs):\n",
    "            w = self.update(y, x, w)\n",
    "            ws.append(w)\n",
    "            losses.append(self.calculate_loss(y, x, w))\n",
    "        return losses, ws\n"
   ]
  },
  {
   "cell_type": "markdown",
   "metadata": {},
   "source": [
    "We would need to <a, href=\"https://towardsdatascience.com/normalization-vs-standardization-quantitative-analysis-a91e8a79cebf\">standardize</a> the data before applying GD "
   ]
  },
  {
   "cell_type": "code",
   "execution_count": 81,
   "metadata": {},
   "outputs": [],
   "source": [
    "X[:,1] = X[:,1] - np.mean(X[:,1], axis=0)\n",
    "X[:,1] = X[:,1] / np.std(X[:,1], axis=0)\n",
    "#--\n",
    "y = y - np.mean(y, axis=0)\n",
    "y = y / np.std(y, axis=0)"
   ]
  },
  {
   "cell_type": "code",
   "execution_count": 82,
   "metadata": {},
   "outputs": [
    {
     "name": "stdout",
     "output_type": "stream",
     "text": [
      "[-2.80997448e-16  7.82213261e-01]\n"
     ]
    }
   ],
   "source": [
    "GD = gradient_decsent(initial_w=np.array([0,0]), gamma=0.2, max_epochs=50)\n",
    "losses, ws = GD.train(y, X)\n",
    "print(ws[-1])"
   ]
  },
  {
   "cell_type": "code",
   "execution_count": 83,
   "metadata": {},
   "outputs": [],
   "source": [
    "def GD_vis(losses, ws, w0_range, w1_range, X, y, n_iter=None):\n",
    "    w0, w1 = np.meshgrid(w0_range, w1_range)\n",
    "    grid_losses = np.zeros((len(w0_range), len(w1_range)))\n",
    "    for i in range(len(w0_range)):\n",
    "        for j in range(len(w1_range)):\n",
    "            w = np.array([w0[i,j], w1[i,j]])\n",
    "            grid_losses[i,j] = GD.calculate_loss(y, X, w)\n",
    "    fig = plt.figure(figsize=(10,7))\n",
    "\n",
    "    # plot contourf\n",
    "    ax1 = fig.add_subplot(1, 2, 1)\n",
    "    cp = ax1.contourf(w0, w1, grid_losses, cmap=plt.cm.jet)\n",
    "    fig.colorbar(cp, ax=ax1)\n",
    "    ax1.set_xlabel(r'$w_0$')\n",
    "    ax1.set_ylabel(r'$w_1$')\n",
    "    # put a marker at the minimum\n",
    "    ax1.plot(ws[-1][0], ws[-1][1], marker='*', color='r', markersize=20)\n",
    "\n",
    "    # plot f(x)\n",
    "    ax2 = fig.add_subplot(1, 2, 2)\n",
    "    ax2.scatter(X[:,1], y, marker=\".\", color='r', s=15)\n",
    "    ax2.set_xlabel(\"x\")\n",
    "    ax2.set_ylabel(\"y\")\n",
    "    ax2.grid()\n",
    "    ws_to_plot = np.stack(ws)\n",
    "    if n_iter is not None:\n",
    "        ws_to_plot = ws_to_plot[:n_iter]\n",
    "    ax1.plot(\n",
    "        ws_to_plot[:, 0], ws_to_plot[:, 1],\n",
    "        marker='o', color='w', markersize=10)\n",
    "    x_1 = np.array(ax2.get_xlim())\n",
    "    y_1 = ws_to_plot[-1, 0] + ws_to_plot[-1, 1] * x_1\n",
    "    ax2.plot(x_1, y_1, color='blue', linewidth=2);\n",
    "    return fig"
   ]
  },
  {
   "cell_type": "markdown",
   "metadata": {},
   "source": [
    "Let's see how it progresses through time"
   ]
  },
  {
   "cell_type": "code",
   "execution_count": 84,
   "metadata": {},
   "outputs": [
    {
     "data": {
      "application/vnd.jupyter.widget-view+json": {
       "model_id": "e2e00d76916a4b51a1133159b076d90b",
       "version_major": 2,
       "version_minor": 0
      },
      "text/plain": [
       "interactive(children=(IntSlider(value=1, description='n_iter', max=50, min=1), Output()), _dom_classes=('widge…"
      ]
     },
     "metadata": {},
     "output_type": "display_data"
    },
    {
     "data": {
      "text/plain": [
       "<function __main__.plot_figure(n_iter)>"
      ]
     },
     "execution_count": 84,
     "metadata": {},
     "output_type": "execute_result"
    }
   ],
   "source": [
    "# Time Visualization\n",
    "from ipywidgets import IntSlider, interact\n",
    "def plot_figure(n_iter):\n",
    "    fig = GD_vis(losses, ws, np.linspace(-1e-18, -4e-16, 100), np.linspace(0,1,100), X, y, n_iter)\n",
    "    fig.set_size_inches(10.0, 6.0)\n",
    "\n",
    "interact(plot_figure, n_iter=IntSlider(min=1, max=len(ws)))"
   ]
  },
  {
   "cell_type": "markdown",
   "metadata": {},
   "source": [
    "## 4. Using Sklearn\n",
    "When using sklearn we don't need to add a column of ones to the data in order to have the constant parameter. sklearn takes care of it, you should just pass the `fit_intercept` argument to be True (which is also the default value for this argument)"
   ]
  },
  {
   "cell_type": "code",
   "execution_count": 85,
   "metadata": {},
   "outputs": [],
   "source": [
    "# Use the original data again\n",
    "X = np.array(ad_df[\"TV\"]).reshape((-1, 1))\n",
    "y = np.array(ad_df[\"Sales\"])"
   ]
  },
  {
   "cell_type": "code",
   "execution_count": 86,
   "metadata": {},
   "outputs": [
    {
     "data": {
      "text/plain": [
       "LinearRegression(copy_X=True, fit_intercept=True, n_jobs=1, normalize=False)"
      ]
     },
     "execution_count": 86,
     "metadata": {},
     "output_type": "execute_result"
    }
   ],
   "source": [
    "from sklearn.linear_model import LinearRegression\n",
    "LR = LinearRegression(fit_intercept=True)\n",
    "LR.fit(X, y)"
   ]
  },
  {
   "cell_type": "code",
   "execution_count": 87,
   "metadata": {},
   "outputs": [
    {
     "name": "stdout",
     "output_type": "stream",
     "text": [
      "slope:  0.047536640433019764\n",
      "constant:  7.032593549127693\n",
      "R^2 score:  0.611875050850071\n"
     ]
    }
   ],
   "source": [
    "print(\"slope: \", LR.coef_[0])\n",
    "print(\"constant: \", LR.intercept_)\n",
    "print(\"R^2 score: \", LR.score(X, y))"
   ]
  },
  {
   "cell_type": "code",
   "execution_count": 88,
   "metadata": {},
   "outputs": [
    {
     "data": {
      "text/plain": [
       "array([16.53992164])"
      ]
     },
     "execution_count": 88,
     "metadata": {},
     "output_type": "execute_result"
    }
   ],
   "source": [
    "#predict the Sales of a product with 200 TV advertisments\n",
    "LR.predict(np.array(200))"
   ]
  },
  {
   "cell_type": "markdown",
   "metadata": {},
   "source": [
    "## 5.Using more features for prediction\n",
    "Let's try to use more features to predict the sales. For example we can observe the effect of TV and Radio advertisment in the same time.\n"
   ]
  },
  {
   "cell_type": "code",
   "execution_count": 89,
   "metadata": {},
   "outputs": [
    {
     "data": {
      "text/plain": [
       "((200, 2), (200,))"
      ]
     },
     "execution_count": 89,
     "metadata": {},
     "output_type": "execute_result"
    }
   ],
   "source": [
    "#let's start with 2 features\n",
    "#making the data matrix and outputs\n",
    "X = np.array(house_df[[\"TV\", \"Radio\"]])\n",
    "y = np.array(house_df[\"Sales\"])\n",
    "X.shape, y.shape"
   ]
  },
  {
   "cell_type": "code",
   "execution_count": 90,
   "metadata": {},
   "outputs": [
    {
     "name": "stdout",
     "output_type": "stream",
     "text": [
      "params:  [0.04575482 0.18799423]\n",
      "constant:  2.9210999124051362\n",
      "R^2 score:  0.8971942610828956\n"
     ]
    }
   ],
   "source": [
    "LR = LinearRegression(fit_intercept=True)\n",
    "LR.fit(X, y)\n",
    "print(\"params: \", LR.coef_)\n",
    "print(\"constant: \", LR.intercept_)\n",
    "print(\"R^2 score: \", LR.score(X, y))"
   ]
  },
  {
   "cell_type": "code",
   "execution_count": 102,
   "metadata": {},
   "outputs": [
    {
     "name": "stdout",
     "output_type": "stream",
     "text": [
      "TV:  200 Radio:  50 Sales:  [21.47177426]\n",
      "TV:  200 Radio:  30 Sales:  [17.71188973]\n"
     ]
    }
   ],
   "source": [
    "# predict\n",
    "print(\"TV: \", 200, \"Radio: \", 50, \"Sales: \", LR.predict(np.array([200, 50]).reshape(-1,2)))\n",
    "print(\"TV: \", 200, \"Radio: \", 30, \"Sales: \", LR.predict(np.array([200, 30]).reshape(-1,2)))"
   ]
  },
  {
   "cell_type": "code",
   "execution_count": 103,
   "metadata": {},
   "outputs": [
    {
     "name": "stdout",
     "output_type": "stream",
     "text": [
      "params:  [ 0.04576465  0.18853002 -0.00103749]\n",
      "constant:  2.9388893694594067\n",
      "R^2 score:  0.8972106381789521\n"
     ]
    }
   ],
   "source": [
    "# with 3 features\n",
    "X = np.array(house_df[[\"TV\", \"Radio\", \"Newspaper\"]])\n",
    "y = np.array(house_df[\"Sales\"])\n",
    "LR.fit(X, y)\n",
    "print(\"params: \", LR.coef_)\n",
    "print(\"constant: \", LR.intercept_)\n",
    "print(\"R^2 score: \", LR.score(X, y))"
   ]
  },
  {
   "cell_type": "markdown",
   "metadata": {},
   "source": [
    "## 6.Using polynomial features (polynomial combination of features)\n",
    "Sometimes the data cannot be explained by just a linear model and using a linear model causes high error. In these cases we can add polynomial features to the data which is equivalent to fitting polynomial functions on the data points."
   ]
  },
  {
   "cell_type": "code",
   "execution_count": 125,
   "metadata": {},
   "outputs": [],
   "source": [
    "from sklearn.preprocessing import PolynomialFeatures\n",
    "poly = PolynomialFeatures(2)\n",
    "X = np.array(house_df[[\"TV\", \"Radio\"]])\n",
    "y = np.array(house_df[\"Sales\"])\n",
    "X_poly = poly.fit_transform(X)"
   ]
  },
  {
   "cell_type": "code",
   "execution_count": 126,
   "metadata": {},
   "outputs": [
    {
     "data": {
      "text/plain": [
       "(200, 6)"
      ]
     },
     "execution_count": 126,
     "metadata": {},
     "output_type": "execute_result"
    }
   ],
   "source": [
    "X_poly.shape"
   ]
  },
  {
   "cell_type": "code",
   "execution_count": 129,
   "metadata": {},
   "outputs": [
    {
     "name": "stdout",
     "output_type": "stream",
     "text": [
      "params:  [ 5.19444187e+00  5.09930683e-02  2.65400299e-02 -1.09816273e-04\n",
      "  1.07462080e-03  1.86076136e-04]\n",
      "R^2 score:  0.986039101078374\n"
     ]
    }
   ],
   "source": [
    "LR = LinearRegression(fit_intercept=False) # we don't need fit intercept sice polynomial features function add a column of ones to the data \n",
    "LR.fit(X_poly, y)\n",
    "print(\"params: \", LR.coef_)\n",
    "print(\"R^2 score: \", LR.score(X_poly, y))"
   ]
  },
  {
   "cell_type": "markdown",
   "metadata": {},
   "source": [
    "Read about $R^2$ measure and you will be able to compare these models."
   ]
  },
  {
   "cell_type": "markdown",
   "metadata": {},
   "source": [
    "## 7.Train/Test split and overfitting"
   ]
  },
  {
   "cell_type": "markdown",
   "metadata": {},
   "source": [
    "We can keep the test data out of the training and try to predict the sales for the unseen data in the test set. We can also calculate the mse for training and test data."
   ]
  },
  {
   "cell_type": "markdown",
   "metadata": {},
   "source": [
    "Now let's see the effect of adding more polynomial features. Addin too much of these features may cause overfitting. We can check this by looking into the test error."
   ]
  },
  {
   "cell_type": "code",
   "execution_count": 134,
   "metadata": {},
   "outputs": [],
   "source": [
    "from sklearn.model_selection import train_test_split\n",
    "from sklearn.metrics import mean_squared_error"
   ]
  },
  {
   "cell_type": "code",
   "execution_count": 135,
   "metadata": {},
   "outputs": [],
   "source": [
    "# let's only use 2 features\n",
    "X = np.array(house_df[[\"TV\", \"Radio\"]])\n",
    "y = np.array(house_df[\"Sales\"])"
   ]
  },
  {
   "cell_type": "code",
   "execution_count": 155,
   "metadata": {},
   "outputs": [
    {
     "data": {
      "text/plain": [
       "Text(0, 0.5, 'error')"
      ]
     },
     "execution_count": 155,
     "metadata": {},
     "output_type": "execute_result"
    },
    {
     "data": {
      "image/png": "[encoded data removed]",
      "text/plain": [
       "<Figure size 432x288 with 1 Axes>"
      ]
     },
     "metadata": {},
     "output_type": "display_data"
    }
   ],
   "source": [
    "train_err = []\n",
    "test_err = []\n",
    "# X = X[:,0].reshape(-1,1)\n",
    "for f in range(1,7):\n",
    "    poly = PolynomialFeatures(f)\n",
    "    X_poly = poly.fit_transform(X)\n",
    "    X_train, X_test, y_train, y_test = train_test_split(X_poly, y, test_size=0.2, random_state=10)\n",
    "    LR = LinearRegression(fit_intercept=False)\n",
    "    LR.fit(X_train, y_train)\n",
    "    train_err.append(mean_squared_error(y_train, LR.predict(X_train)))\n",
    "    test_err.append(mean_squared_error(y_test, LR.predict(X_test)))\n",
    "plt.plot(range(1,7), train_err, label=\"train_error\")\n",
    "plt.plot(range(1,7), test_err, label=\"test_error\")\n",
    "plt.legend(fontsize=10)\n",
    "plt.xlabel(\"polynomial degree\")\n",
    "plt.ylabel(\"error\")\n",
    "# plt.ylim([0, 100]);"
   ]
  },
  {
   "cell_type": "markdown",
   "metadata": {},
   "source": [
    "To avoid overfitting we can penalize the norm of the weight vector. This is called regularization. We will use linear regression with l2 regularizer. By tuning the regularization parameter $\\alpha$ we can minimize the test error."
   ]
  },
  {
   "cell_type": "code",
   "execution_count": 164,
   "metadata": {},
   "outputs": [
    {
     "name": "stderr",
     "output_type": "stream",
     "text": [
      "/Applications/anaconda/lib/python3.6/site-packages/scipy/linalg/basic.py:40: RuntimeWarning: scipy.linalg.solve\n",
      "Ill-conditioned matrix detected. Result is not guaranteed to be accurate.\n",
      "Reciprocal condition number/precision: 1.6718419302946927e-22 / 1.1102230246251565e-16\n",
      "  RuntimeWarning)\n",
      "/Applications/anaconda/lib/python3.6/site-packages/scipy/linalg/basic.py:40: RuntimeWarning: scipy.linalg.solve\n",
      "Ill-conditioned matrix detected. Result is not guaranteed to be accurate.\n",
      "Reciprocal condition number/precision: 3.343683860589385e-22 / 1.1102230246251565e-16\n",
      "  RuntimeWarning)\n",
      "/Applications/anaconda/lib/python3.6/site-packages/scipy/linalg/basic.py:40: RuntimeWarning: scipy.linalg.solve\n",
      "Ill-conditioned matrix detected. Result is not guaranteed to be accurate.\n",
      "Reciprocal condition number/precision: 5.0155257908840785e-22 / 1.1102230246251565e-16\n",
      "  RuntimeWarning)\n",
      "/Applications/anaconda/lib/python3.6/site-packages/scipy/linalg/basic.py:40: RuntimeWarning: scipy.linalg.solve\n",
      "Ill-conditioned matrix detected. Result is not guaranteed to be accurate.\n",
      "Reciprocal condition number/precision: 6.687367721178771e-22 / 1.1102230246251565e-16\n",
      "  RuntimeWarning)\n",
      "/Applications/anaconda/lib/python3.6/site-packages/scipy/linalg/basic.py:40: RuntimeWarning: scipy.linalg.solve\n",
      "Ill-conditioned matrix detected. Result is not guaranteed to be accurate.\n",
      "Reciprocal condition number/precision: 8.359209651473464e-22 / 1.1102230246251565e-16\n",
      "  RuntimeWarning)\n",
      "/Applications/anaconda/lib/python3.6/site-packages/scipy/linalg/basic.py:40: RuntimeWarning: scipy.linalg.solve\n",
      "Ill-conditioned matrix detected. Result is not guaranteed to be accurate.\n",
      "Reciprocal condition number/precision: 1.0031051581768157e-21 / 1.1102230246251565e-16\n",
      "  RuntimeWarning)\n",
      "/Applications/anaconda/lib/python3.6/site-packages/scipy/linalg/basic.py:40: RuntimeWarning: scipy.linalg.solve\n",
      "Ill-conditioned matrix detected. Result is not guaranteed to be accurate.\n",
      "Reciprocal condition number/precision: 1.1702893512062848e-21 / 1.1102230246251565e-16\n",
      "  RuntimeWarning)\n",
      "/Applications/anaconda/lib/python3.6/site-packages/scipy/linalg/basic.py:40: RuntimeWarning: scipy.linalg.solve\n",
      "Ill-conditioned matrix detected. Result is not guaranteed to be accurate.\n",
      "Reciprocal condition number/precision: 1.337473544235754e-21 / 1.1102230246251565e-16\n",
      "  RuntimeWarning)\n",
      "/Applications/anaconda/lib/python3.6/site-packages/scipy/linalg/basic.py:40: RuntimeWarning: scipy.linalg.solve\n",
      "Ill-conditioned matrix detected. Result is not guaranteed to be accurate.\n",
      "Reciprocal condition number/precision: 1.504657737265223e-21 / 1.1102230246251565e-16\n",
      "  RuntimeWarning)\n",
      "/Applications/anaconda/lib/python3.6/site-packages/scipy/linalg/basic.py:40: RuntimeWarning: scipy.linalg.solve\n",
      "Ill-conditioned matrix detected. Result is not guaranteed to be accurate.\n",
      "Reciprocal condition number/precision: 1.6718419302946924e-21 / 1.1102230246251565e-16\n",
      "  RuntimeWarning)\n"
     ]
    }
   ],
   "source": [
    "from sklearn.linear_model import Ridge\n",
    "poly = PolynomialFeatures(4)\n",
    "X_poly = poly.fit_transform(X)\n",
    "X_train, X_test, y_train, y_test = train_test_split(X_poly, y, test_size=0.2, random_state=10)\n",
    "test_err = []\n",
    "for alpha in np.linspace(0.1, 1, num=10):\n",
    "    ridge_regression = Ridge(alpha=alpha)\n",
    "    ridge_regression.fit(X_train, y_train)\n",
    "    test_err.append(mean_squared_error(y_test, ridge_regression.predict(X_test)))\n",
    "    "
   ]
  },
  {
   "cell_type": "code",
   "execution_count": 165,
   "metadata": {},
   "outputs": [
    {
     "data": {
      "image/png": "[encoded data removed]",
      "text/plain": [
       "<Figure size 432x288 with 1 Axes>"
      ]
     },
     "metadata": {},
     "output_type": "display_data"
    }
   ],
   "source": [
    "plt.plot(np.linspace(0, 1, num=10), test_err)\n",
    "plt.xlabel(\"alpha\")\n",
    "plt.ylabel(\"test error\");"
   ]
  },
  {
   "cell_type": "markdown",
   "metadata": {},
   "source": [
    "## 7.Cross validation\n",
    "The standard way to do a hyperparameter tuning is through cross validation. We need to make sure that our model has a has a good generalisation power and performs well on unseen data. Therefore we have to keep 3 different sets of data: training set, validation set and test set."
   ]
  },
  {
   "cell_type": "code",
   "execution_count": 166,
   "metadata": {},
   "outputs": [
    {
     "data": {
      "text/plain": [
       "RidgeCV(alphas=(0.1, 1.0, 10.0), cv=None, fit_intercept=False, gcv_mode=None,\n",
       "    normalize=False, scoring=None, store_cv_values=False)"
      ]
     },
     "execution_count": 166,
     "metadata": {},
     "output_type": "execute_result"
    }
   ],
   "source": [
    "# we use ridge regression with built in cross validation\n",
    "# by default sklearn does leave-one-out cross validation\n",
    "from sklearn.linear_model import RidgeCV\n",
    "ridge = RidgeCV(fit_intercept=False)\n",
    "ridge.fit(X_train, y_train)"
   ]
  },
  {
   "cell_type": "code",
   "execution_count": 167,
   "metadata": {},
   "outputs": [
    {
     "data": {
      "text/plain": [
       "array([ 3.28500624e+00,  1.35356249e-01,  4.27956557e-02, -1.08816280e-03,\n",
       "        8.84653000e-04,  1.54600699e-04, -8.32974911e-06,  1.05239451e-06,\n",
       "       -1.53288711e-05,  3.47516616e-05, -4.00352478e-03, -5.15937805e-04,\n",
       "       -1.00967241e-04, -1.87601836e-05, -2.12713007e-06])"
      ]
     },
     "execution_count": 167,
     "metadata": {},
     "output_type": "execute_result"
    }
   ],
   "source": [
    "ridge.coef_"
   ]
  },
  {
   "cell_type": "code",
   "execution_count": 168,
   "metadata": {},
   "outputs": [
    {
     "data": {
      "text/plain": [
       "0.1"
      ]
     },
     "execution_count": 168,
     "metadata": {},
     "output_type": "execute_result"
    }
   ],
   "source": [
    "# best regularizer\n",
    "ridge.alpha_"
   ]
  },
  {
   "cell_type": "markdown",
   "metadata": {},
   "source": [
    "## Complementary material\n",
    "### General closed form solution to linear regression:\n",
    "\n",
    "In Linear regression we want to find the weights (parameters) that minimize the mean squared error which can be written in the form: $\\frac{1}{n} (X\\omega - y)^{\\top}(X\\omega -y)$, where $X, y, \\omega$ are data matrix, outputs and weights respectively. By taking a derivative w.r.t $\\omega$ we can find the closed form solution: $\\omega = (X^{\\top}X)^{-1}X^{\\top}y$"
   ]
  },
  {
   "cell_type": "code",
   "execution_count": 519,
   "metadata": {},
   "outputs": [
    {
     "name": "stdout",
     "output_type": "stream",
     "text": [
      "[ 260.10635737   78.68320945]\n"
     ]
    }
   ],
   "source": [
    "#let's solve the equation to find w\n",
    "A = X.T.dot(X)\n",
    "B = X.T.dot(y)\n",
    "#use numpy to solve a linear system of equations\n",
    "w = np.linalg.solve(A, B)\n",
    "print(w)"
   ]
  },
  {
   "cell_type": "code",
   "execution_count": 520,
   "metadata": {},
   "outputs": [
    {
     "data": {
      "text/plain": [
       "array([ 260.10635737,   78.68320945])"
      ]
     },
     "execution_count": 520,
     "metadata": {},
     "output_type": "execute_result"
    }
   ],
   "source": [
    "# compare the result with sklearn\n",
    "LR = LinearRegression(fit_intercept=False)\n",
    "LR.fit(X, y)\n",
    "LR.coef_"
   ]
  }
 ],
 "metadata": {
  "kernelspec": {
   "display_name": "Python 3",
   "language": "python",
   "name": "python3"
  },
  "language_info": {
   "codemirror_mode": {
    "name": "ipython",
    "version": 3
   },
   "file_extension": ".py",
   "mimetype": "text/x-python",
   "name": "python",
   "nbconvert_exporter": "python",
   "pygments_lexer": "ipython3",
   "version": "3.6.7"
  }
 },
 "nbformat": 4,
 "nbformat_minor": 2
}

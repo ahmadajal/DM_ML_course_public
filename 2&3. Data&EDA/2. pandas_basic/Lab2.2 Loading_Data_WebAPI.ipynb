{
  "cells": [
    {
      "cell_type": "markdown",
      "source": [
        "# Getting Data from Web APIs\n",
        "\n",
        "### Many of the data that exist on the Internet can be retrieved by calling the right APIs. (=Application Programming Interface)\n",
        "\n",
        "\n",
        "Here we will connect to a weather API, which is provided by [openweathermap](https://openweathermap.org).\n",
        "\n",
        "https://openweathermap.org/\n",
        "\n",
        "<img src=\"http://openweathermap.org/themes/openweathermap/assets/img/history%20bulk%20examples/history_bulk_example.png\"/>\n",
        "<br>\n",
        "\n",
        "Typically, to connect to a web API, you have to register first to get a \"key\" (=a random number), which you pass as a parameter at the proper URL.\n",
        "\n",
        "I have already registered and gotten a key, which is given in the **`appid`** variable of the code.\n",
        "\n",
        "When you call a web-service you provide several parameters which have the format of `http://some.URL.com/endpoint?parameter1=value&parameter2=value`\n",
        "\n",
        "In the weather service below we provide three parameters:\n",
        "\n",
        "- `appid`: this is the key that we got when we registered for the service\n",
        "- `units`: for this we give the value `metric` to get back the degrees in Celcius instead of Fahrenheit.\n",
        "- `q`: this is the location for which we wish to get the weather for, e.g., London,UK\n"
      ],
      "metadata": {}
    },
    {
      "cell_type": "code",
      "source": [
        "#we import some packages that we need\n",
        "import requests # this is for calling the service\n",
        "from pprint import pprint\n",
        "import json"
      ],
      "outputs": [],
      "execution_count": 4,
      "metadata": {
        "collapsed": false,
        "outputHidden": false,
        "inputHidden": false
      }
    },
    {
      "cell_type": "markdown",
      "source": [
        "## Asking the Location\n",
        "\n",
        "Then we can define some important variables and ask the user for which location he/she wants to retrieve the weather about.\n",
        "\n",
        "Below we *hardcode* the `location` to Lausnnae, but you can also uncomment the final command so that you let the user enter any location that the user wants."
      ],
      "metadata": {}
    },
    {
      "cell_type": "code",
      "source": [
        "appid = 'cc7787771556273e2c5082eb676e48e1'\n",
        "location = 'Lausanne'\n",
        "# location = input('Enter requested location (e.g. London,UK)')"
      ],
      "outputs": [],
      "execution_count": 2,
      "metadata": {
        "collapsed": false,
        "outputHidden": false,
        "inputHidden": false
      }
    },
    {
      "cell_type": "markdown",
      "source": [
        "## Forming the URL\n",
        "\n",
        "Now that we know for which location the user is interested we can form the proper url and print out the complete url formed."
      ],
      "metadata": {}
    },
    {
      "cell_type": "code",
      "source": [
        "url = \"http://api.openweathermap.org/data/2.5/weather?q={}&APPID={}&units=metric\".format(location, appid)\n",
        "\n",
        "print(url)"
      ],
      "outputs": [
        {
          "output_type": "stream",
          "name": "stdout",
          "text": [
            "http://api.openweathermap.org/data/2.5/weather?q=Lausanne&APPID=cc7787771556273e2c5082eb676e48e1&units=metric\n"
          ]
        }
      ],
      "execution_count": 3,
      "metadata": {
        "collapsed": false,
        "outputHidden": false,
        "inputHidden": false
      }
    },
    {
      "cell_type": "markdown",
      "source": [
        "**Note:** Once you have the right URL, you can just also paste it in the web address of your browser to get back the data. \n",
        "\n",
        "Try it now!\n"
      ],
      "metadata": {}
    },
    {
      "cell_type": "markdown",
      "source": [
        "However, if we want to automate a process and call it multiple times (eg for several days, several locations, etc), we have to write program, which is why we are showing this exercise!"
      ],
      "metadata": {}
    },
    {
      "cell_type": "markdown",
      "source": [
        "## Calling the webservice\n",
        "\n",
        "We call the service using the `requests` package, which returns a `Requests` object, which doesn't say much to us."
      ],
      "metadata": {}
    },
    {
      "cell_type": "code",
      "source": [
        "res = requests.get(url)\n",
        "print(\"\\n Res object is of type:\", type(res))"
      ],
      "outputs": [
        {
          "output_type": "stream",
          "name": "stdout",
          "text": [
            "\n",
            " Res object is of type: <class 'requests.models.Response'>\n"
          ]
        }
      ],
      "execution_count": 4,
      "metadata": {
        "collapsed": false,
        "outputHidden": false,
        "inputHidden": false
      }
    },
    {
      "cell_type": "markdown",
      "source": [
        "## Seeing what we received\n",
        "\n",
        "If we call the `json()` method of the `Requests` object it will return the json object returned by the service. \n",
        "\n",
        "We will use the \"pretty print\" function `pprint` so see it in a nice format."
      ],
      "metadata": {}
    },
    {
      "cell_type": "code",
      "source": [
        "data = res.json()\n",
        "pprint(data)"
      ],
      "outputs": [
        {
          "output_type": "stream",
          "name": "stdout",
          "text": [
            "{'base': 'stations',\n",
            " 'clouds': {'all': 90},\n",
            " 'cod': 200,\n",
            " 'coord': {'lat': 46.52, 'lon': 6.63},\n",
            " 'dt': 1569544202,\n",
            " 'id': 2659994,\n",
            " 'main': {'humidity': 87,\n",
            "          'pressure': 1018,\n",
            "          'temp': 13.72,\n",
            "          'temp_max': 16,\n",
            "          'temp_min': 10.56},\n",
            " 'name': 'Lausanne',\n",
            " 'sys': {'country': 'CH',\n",
            "         'id': 6935,\n",
            "         'message': 0.0152,\n",
            "         'sunrise': 1569561968,\n",
            "         'sunset': 1569604982,\n",
            "         'type': 1},\n",
            " 'timezone': 7200,\n",
            " 'weather': [{'description': 'overcast clouds',\n",
            "              'icon': '04n',\n",
            "              'id': 804,\n",
            "              'main': 'Clouds'}],\n",
            " 'wind': {'deg': 265.211, 'speed': 1.32}}\n"
          ]
        }
      ],
      "execution_count": 5,
      "metadata": {
        "collapsed": false,
        "outputHidden": false,
        "inputHidden": false
      }
    },
    {
      "cell_type": "markdown",
      "source": [
        "## Getting the rights parts from the data received\n",
        "\n",
        "And from the `data` object we can get the proper parts and formulate the final message to the user."
      ],
      "metadata": {}
    },
    {
      "cell_type": "code",
      "source": [
        "print(\"The current temperature in \", location, \" is \", data['main']['temp'], \"degrees, with \", data['weather'][0]['description'])"
      ],
      "outputs": [
        {
          "output_type": "stream",
          "name": "stdout",
          "text": [
            "The current temperature in  Lausanne  is  13.72 degrees, with  overcast clouds\n"
          ]
        }
      ],
      "execution_count": 6,
      "metadata": {
        "collapsed": false,
        "outputHidden": false,
        "inputHidden": false
      }
    },
    {
      "cell_type": "markdown",
      "source": [
        "## Further information\n",
        "\n",
        "You can see a video about the weather API below."
      ],
      "metadata": {}
    },
    {
      "cell_type": "code",
      "source": [
        "%%HTML\n",
        "<iframe width=\"560\" height=\"340\" src=\"https://www.youtube.com/watch?v=SXsaB9TUfkk\"></iframe>"
      ],
      "outputs": [
        {
          "output_type": "display_data",
          "data": {
            "text/plain": [
              "<IPython.core.display.HTML object>"
            ],
            "text/html": [
              "<iframe width=\"560\" height=\"340\" src=\"https://www.youtube.com/watch?v=SXsaB9TUfkk\"></iframe>\n"
            ]
          },
          "metadata": {}
        }
      ],
      "execution_count": 2,
      "metadata": {
        "collapsed": false,
        "outputHidden": false,
        "inputHidden": false
      }
    },
    {
      "cell_type": "markdown",
      "source": [
        "# Exercise:\n",
        "\n",
        "Now, you will try to use the historical API to get past temperature information for the city of Lausanne.\n",
        "Have a look how to use it here [https://openweathermap.org/history](https://openweathermap.org/history).\n",
        "For example, you can query it **\"by city id\"**.\n",
        "\n",
        "**Hints**\n",
        "\n",
        "1. What is the new URL? (see the link above)\n",
        "2. What is the city ID for Lausanne (see the response above!)."
      ],
      "metadata": {}
    },
    {
      "cell_type": "code",
      "source": [
        "# type your solution here\n",
        "\n"
      ],
      "outputs": [],
      "execution_count": 8,
      "metadata": {
        "collapsed": false,
        "outputHidden": false,
        "inputHidden": false
      }
    },
    {
      "cell_type": "code",
      "source": [],
      "outputs": [],
      "execution_count": null,
      "metadata": {
        "collapsed": false,
        "outputHidden": false,
        "inputHidden": false
      }
    },
    {
      "cell_type": "code",
      "source": [],
      "outputs": [],
      "execution_count": null,
      "metadata": {
        "collapsed": false,
        "outputHidden": false,
        "inputHidden": false
      }
    },
    {
      "cell_type": "code",
      "source": [],
      "outputs": [],
      "execution_count": null,
      "metadata": {
        "collapsed": false,
        "outputHidden": false,
        "inputHidden": false
      }
    },
    {
      "cell_type": "code",
      "source": [],
      "outputs": [],
      "execution_count": null,
      "metadata": {
        "collapsed": false,
        "outputHidden": false,
        "inputHidden": false
      }
    },
    {
      "cell_type": "code",
      "source": [],
      "outputs": [],
      "execution_count": null,
      "metadata": {
        "collapsed": false,
        "outputHidden": false,
        "inputHidden": false
      }
    },
    {
      "cell_type": "code",
      "source": [],
      "outputs": [],
      "execution_count": null,
      "metadata": {
        "collapsed": false,
        "outputHidden": false,
        "inputHidden": false
      }
    },
    {
      "cell_type": "code",
      "source": [],
      "outputs": [],
      "execution_count": null,
      "metadata": {
        "collapsed": false,
        "outputHidden": false,
        "inputHidden": false
      }
    },
    {
      "cell_type": "code",
      "source": [],
      "outputs": [],
      "execution_count": null,
      "metadata": {
        "collapsed": false,
        "outputHidden": false,
        "inputHidden": false
      }
    },
    {
      "cell_type": "code",
      "source": [],
      "outputs": [],
      "execution_count": null,
      "metadata": {
        "collapsed": false,
        "outputHidden": false,
        "inputHidden": false
      }
    },
    {
      "cell_type": "markdown",
      "source": [
        "**DON'T LOOK AT THIS UNTIL YOU TRIED ON YOUR OWN!**\n",
        "\n",
        "```python\n",
        "\n",
        "# one possible solution\n",
        "# note this is NOT going to return anything because it requires the purchase of the additional API\n",
        "# But at least you know that you are on the right path!!\n",
        "\n",
        "url = \"http://history.openweathermap.org/data/2.5/history/city?id=2659994&type=hour&APPID=cc7787771556273e2c5082eb676e48e1&units=metric\"\n",
        "\n",
        "res = requests.get(url)\n",
        "data = res.json()\n",
        "pprint(data)\n",
        "```"
      ],
      "metadata": {}
    },
    {
      "cell_type": "code",
      "source": [],
      "outputs": [],
      "execution_count": null,
      "metadata": {
        "collapsed": false,
        "outputHidden": false,
        "inputHidden": false
      }
    }
  ],
  "metadata": {
    "kernel_info": {
      "name": "python3"
    },
    "language_info": {
      "name": "python",
      "version": "3.7.3",
      "mimetype": "text/x-python",
      "codemirror_mode": {
        "name": "ipython",
        "version": 3
      },
      "pygments_lexer": "ipython3",
      "nbconvert_exporter": "python",
      "file_extension": ".py"
    },
    "kernelspec": {
      "name": "python3",
      "language": "python",
      "display_name": "Python 3"
    },
    "nteract": {
      "version": "0.15.0"
    }
  },
  "nbformat": 4,
  "nbformat_minor": 0
}
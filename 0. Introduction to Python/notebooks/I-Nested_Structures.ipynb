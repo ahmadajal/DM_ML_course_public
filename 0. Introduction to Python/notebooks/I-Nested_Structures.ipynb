{
 "cells": [
  {
   "cell_type": "markdown",
   "metadata": {},
   "source": [
    "# Combining (Nesting) Data Structures:"
   ]
  },
  {
   "cell_type": "markdown",
   "metadata": {},
   "source": [
    "So far, we have examined complex data structures (lists, sets, dictionaries) that contain \"scalar\" values (integers, strings, boolean, etc). \n",
    "\n",
    "In reality, we can store any type of value in these data structures.\n",
    "\n",
    "Consider the case of the following dictionary:\n"
   ]
  },
  {
   "cell_type": "code",
   "execution_count": null,
   "metadata": {},
   "outputs": [],
   "source": [
    "phones = {\n",
    "    \"Panos\": \"212-998-0803\",\n",
    "    \"Maria\": \"656-233-5555\",\n",
    "    \"John\": \"693-232-5776\",\n",
    "    \"Jake\": \"415-794-3423\"\n",
    "}"
   ]
  },
  {
   "cell_type": "markdown",
   "metadata": {},
   "source": [
    "Let's say that we want to have more than one phone assigned to Panos. It is not possible to simply assign the value to a new number, as this will just replace the current phone. For example:"
   ]
  },
  {
   "cell_type": "code",
   "execution_count": null,
   "metadata": {},
   "outputs": [],
   "source": [
    "phones[\"Panos\"] = \"917-888-4455\"\n",
    "phones"
   ]
  },
  {
   "cell_type": "markdown",
   "metadata": {},
   "source": [
    "You see that the phone number associated with `Panos` has the new phone (917-888-4455), and the old one (212-998-0803) has disappeared. So, how can we store multiple elements for the key `Panos`? Nested structures is the solution."
   ]
  },
  {
   "cell_type": "markdown",
   "metadata": {},
   "source": [
    "## Creating Nested Data Structures"
   ]
  },
  {
   "cell_type": "markdown",
   "metadata": {},
   "source": [
    "What we can do instead is to have **a list** as value for the \"Panos\" key. So, for example, we can rewrite the dictionary as:"
   ]
  },
  {
   "cell_type": "code",
   "execution_count": null,
   "metadata": {},
   "outputs": [],
   "source": [
    "phones = {\n",
    "    \"Panos\": [\"212-998-0803\", \"917-888-4455\"],\n",
    "    \"Maria\": [\"656-233-5555\"],\n",
    "    \"John\": [\"693-232-5776\"],\n",
    "    \"Jake\": [\"415-794-3423\"]\n",
    "}"
   ]
  },
  {
   "cell_type": "markdown",
   "metadata": {},
   "source": [
    "And if we check the value for Panos, you will see that we get back a list:"
   ]
  },
  {
   "cell_type": "code",
   "execution_count": null,
   "metadata": {},
   "outputs": [],
   "source": [
    "phones[\"Panos\"]"
   ]
  },
  {
   "cell_type": "markdown",
   "metadata": {},
   "source": [
    "And then we can add and remove phones for each person:"
   ]
  },
  {
   "cell_type": "code",
   "execution_count": null,
   "metadata": {},
   "outputs": [],
   "source": [
    "phones[\"Panos\"].append(\"800-929-2923\")\n",
    "phones[\"Jake\"].append(\"343-342-5455\")\n",
    "phones[\"Jake\"].append(\"343-656-8766\")\n",
    "phones[\"Jake\"].pop(0)  # Remove the first phone for Jake\n",
    "phones"
   ]
  },
  {
   "cell_type": "markdown",
   "metadata": {},
   "source": [
    "Alternatively, instead of having a list, we can use a *dictionary* as a value for each key. For example, we can use key values \"Work\", \"Cell\", \"Home\", etc for each phone, and have something like:"
   ]
  },
  {
   "cell_type": "code",
   "execution_count": null,
   "metadata": {},
   "outputs": [],
   "source": [
    "phones = {\n",
    "    \"Panos\": {\n",
    "        \"Work\": \"212-998-0803\",\n",
    "        \"Cell\": \"917-888-4455\"\n",
    "    },\n",
    "    \"Maria\": {\n",
    "        \"Work\": \"656-233-5555\"\n",
    "    },\n",
    "    \"John\": {\n",
    "        \"Cell\": \"693-232-5776\"\n",
    "    },\n",
    "    \"Jake\": {\n",
    "        \"Home\": \"415-794-3423\"\n",
    "    }\n",
    "}"
   ]
  },
  {
   "cell_type": "code",
   "execution_count": null,
   "metadata": {},
   "outputs": [],
   "source": [
    "phones"
   ]
  },
  {
   "cell_type": "markdown",
   "metadata": {},
   "source": [
    "## Accessing Data within Nested Structures\n",
    "\n"
   ]
  },
  {
   "cell_type": "markdown",
   "metadata": {},
   "source": [
    "To access the elements within complex structures, we combine bracket and indexing operators:"
   ]
  },
  {
   "cell_type": "code",
   "execution_count": null,
   "metadata": {},
   "outputs": [],
   "source": [
    "phones = {\n",
    "    'Jake': ['343-342-5455', '343-656-8766'],\n",
    "    'John': ['693-232-5776'],\n",
    "    'Maria': ['656-233-5555'],\n",
    "    'Panos': ['212-998-0803', '917-888-4455', '800-929-2923']\n",
    "}"
   ]
  },
  {
   "cell_type": "markdown",
   "metadata": {},
   "source": [
    "So, to access the phones for \"Panos\" we write "
   ]
  },
  {
   "cell_type": "code",
   "execution_count": null,
   "metadata": {},
   "outputs": [],
   "source": [
    "phones['Panos']"
   ]
  },
  {
   "cell_type": "markdown",
   "metadata": {},
   "source": [
    "or"
   ]
  },
  {
   "cell_type": "code",
   "execution_count": null,
   "metadata": {},
   "outputs": [],
   "source": [
    "phones.get('Panos')"
   ]
  },
  {
   "cell_type": "markdown",
   "metadata": {},
   "source": [
    "Now, if we want to access the second phone on the returned list, we write:"
   ]
  },
  {
   "cell_type": "code",
   "execution_count": null,
   "metadata": {},
   "outputs": [],
   "source": [
    "phones['Panos'][1]"
   ]
  },
  {
   "cell_type": "code",
   "execution_count": null,
   "metadata": {},
   "outputs": [],
   "source": [
    "phones.get('Panos')[1]"
   ]
  },
  {
   "cell_type": "markdown",
   "metadata": {},
   "source": [
    "Similarly, when we have a dictionary that contains dictionaries:"
   ]
  },
  {
   "cell_type": "code",
   "execution_count": null,
   "metadata": {},
   "outputs": [],
   "source": [
    "phones = {\n",
    "    \"Panos\": {\"Work\":\"212-998-0803\", \"Cell\": \"917-888-4455\"},\n",
    "    \"Maria\": {\"Work\":\"656-233-5555\"},\n",
    "    \"John\": {\"Cell\":\"693-232-5776\"},\n",
    "    \"Jake\": {\"Home\":\"415-794-3423\"}\n",
    "}"
   ]
  },
  {
   "cell_type": "code",
   "execution_count": null,
   "metadata": {},
   "outputs": [],
   "source": [
    "phones['Panos']['Cell']"
   ]
  },
  {
   "cell_type": "markdown",
   "metadata": {},
   "source": [
    "Or when we have a list of dictionaries:"
   ]
  },
  {
   "cell_type": "code",
   "execution_count": null,
   "metadata": {},
   "outputs": [],
   "source": [
    "citibike_stations = [\n",
    "    {'station_id': 72,  'capacity': 39, 'coords': {'lon': -73.9939, 'lat': 40.7673}, 'name': 'W 52 St & 11 Ave',   },\n",
    "    {'station_id': 79,  'capacity': 33, 'coords': {'lon': -74.0067, 'lat': 40.7191}, 'name': 'Franklin St & W Broadway'},\n",
    "    {'station_id': 82,  'capacity': 27, 'coords': {'lon': -74.0002, 'lat': 40.7673}, 'name': 'St James Pl & Pearl St'},\n",
    "    {'station_id': 83,  'capacity': 62, 'coords': {'lon': -73.9763, 'lat': 40.6838}, 'name': 'Atlantic Ave & Fort Greene Pl'},\n",
    "    {'station_id': 116, 'capacity': 39, 'coords': {'lon': -74.0015, 'lat': 40.7418}, 'name': 'W 17 St & 8 Ave'}\n",
    "]"
   ]
  },
  {
   "cell_type": "markdown",
   "metadata": {},
   "source": [
    "To access the name of the first station:"
   ]
  },
  {
   "cell_type": "code",
   "execution_count": null,
   "metadata": {},
   "outputs": [],
   "source": [
    "# Returns the first station entry\n",
    "citibike_stations[0]"
   ]
  },
  {
   "cell_type": "code",
   "execution_count": null,
   "metadata": {},
   "outputs": [],
   "source": [
    "# Get the name for the first station\n",
    "citibike_stations[0]['name']"
   ]
  },
  {
   "cell_type": "markdown",
   "metadata": {},
   "source": [
    "Or to access the coordinates:"
   ]
  },
  {
   "cell_type": "code",
   "execution_count": null,
   "metadata": {},
   "outputs": [],
   "source": [
    "citibike_stations[0]['coords']"
   ]
  },
  {
   "cell_type": "markdown",
   "metadata": {},
   "source": [
    "And if we want to access the latitude, from the coordinates:"
   ]
  },
  {
   "cell_type": "code",
   "execution_count": null,
   "metadata": {},
   "outputs": [],
   "source": [
    "citibike_stations[0]['coords']['lat']"
   ]
  },
  {
   "cell_type": "markdown",
   "metadata": {},
   "source": [
    "## Exercise"
   ]
  },
  {
   "cell_type": "markdown",
   "metadata": {},
   "source": [
    "You are given the following data structure.\n",
    "\n",
    "```python\n",
    "data = {\n",
    "    \"Panos\": {\n",
    "        \"Job\":\"Professor\", \n",
    "        \"YOB\": \"1976\", \n",
    "        \"Children\": [\"Gregory\", \"Anna\"]\n",
    "    }, \n",
    "    \"Joe\": {\n",
    "        \"Job\":\"Data Scientist\", \n",
    "        \"YOB\": \"1981\"\n",
    "    }\n",
    "}\n",
    "```\n",
    "\n",
    "You need to write code that\n",
    "\n",
    "* Prints the job of Joe\n",
    "* Prints the year of birth of Panos; prints the age of Panos\n",
    "* Prints the children of Panos\n",
    "* Prints the second child of Panos\n",
    "* Prints the number of people _entries_ in the data. (Notice that it is much harder to find all the people in the data, eg the children)\n",
    "* Checks if Maria is in the data\n",
    "* Checks if Anna is in the data\n",
    "* Checks if Panos has children. \n",
    "* Checks if Joe has children. How can you handle the lack of the corresponding key? Would your code work when the list of children is empty, instead of missing?"
   ]
  },
  {
   "cell_type": "code",
   "execution_count": null,
   "metadata": {},
   "outputs": [],
   "source": [
    "data = {\n",
    "    \"Panos\": {\n",
    "        \"Job\": \"Professor\",\n",
    "        \"YOB\": \"1976\",\n",
    "        \"Children\": [\"Gregory\", \"Anna\"]\n",
    "    },\n",
    "    \"Joe\": {\n",
    "        \"Job\": \"Data Scientist\",\n",
    "        \"YOB\": \"1981\"\n",
    "    }\n",
    "}"
   ]
  },
  {
   "cell_type": "code",
   "execution_count": null,
   "metadata": {},
   "outputs": [],
   "source": [
    "# Prints the job of Joe"
   ]
  },
  {
   "cell_type": "code",
   "execution_count": null,
   "metadata": {},
   "outputs": [],
   "source": [
    "# Prints the year of birth of Panos"
   ]
  },
  {
   "cell_type": "code",
   "execution_count": null,
   "metadata": {},
   "outputs": [],
   "source": [
    "# Prints the children of Panos"
   ]
  },
  {
   "cell_type": "code",
   "execution_count": null,
   "metadata": {},
   "outputs": [],
   "source": [
    "# Prints the second child of Panos"
   ]
  },
  {
   "cell_type": "code",
   "execution_count": null,
   "metadata": {},
   "outputs": [],
   "source": [
    "# Prints the number of people _entries_ in the data. \n",
    "# (Notice that it is much harder to find all the people in the data, eg the children)"
   ]
  },
  {
   "cell_type": "code",
   "execution_count": null,
   "metadata": {},
   "outputs": [],
   "source": [
    "# Checks if Maria is in the  data"
   ]
  },
  {
   "cell_type": "code",
   "execution_count": null,
   "metadata": {},
   "outputs": [],
   "source": [
    "# Checks if Anna is in the data\n",
    "# Notice that the in command *will not* look into the values"
   ]
  },
  {
   "cell_type": "code",
   "execution_count": null,
   "metadata": {},
   "outputs": [],
   "source": [
    "# Checks if Panos has children"
   ]
  },
  {
   "cell_type": "code",
   "execution_count": null,
   "metadata": {},
   "outputs": [],
   "source": [
    "# Checks if Joe has children"
   ]
  },
  {
   "cell_type": "markdown",
   "metadata": {
    "solution2": "shown",
    "solution2_first": true
   },
   "source": [
    "### Solution"
   ]
  },
  {
   "cell_type": "code",
   "execution_count": null,
   "metadata": {
    "solution2": "shown"
   },
   "outputs": [],
   "source": [
    "# Prints the job of Joe\n",
    "data['Joe']['Job']"
   ]
  },
  {
   "cell_type": "code",
   "execution_count": null,
   "metadata": {
    "solution2": "shown"
   },
   "outputs": [],
   "source": [
    "# Prints the year of birth of Panos\n",
    "data['Panos']['YOB']"
   ]
  },
  {
   "cell_type": "code",
   "execution_count": null,
   "metadata": {
    "solution2": "shown"
   },
   "outputs": [],
   "source": [
    "# Prints the children of Panos\n",
    "data['Panos']['Children']"
   ]
  },
  {
   "cell_type": "code",
   "execution_count": null,
   "metadata": {
    "solution2": "shown"
   },
   "outputs": [],
   "source": [
    "# Prints the second child of Panos\n",
    "data['Panos']['Children'][1]"
   ]
  },
  {
   "cell_type": "code",
   "execution_count": null,
   "metadata": {
    "solution2": "shown"
   },
   "outputs": [],
   "source": [
    "# Checks if Maria is in the data\n",
    "'Maria' in data.keys()"
   ]
  },
  {
   "cell_type": "code",
   "execution_count": null,
   "metadata": {
    "solution2": "shown"
   },
   "outputs": [],
   "source": [
    "# Checks if Maria is in the data, simpler\n",
    "'Maria' in data"
   ]
  },
  {
   "cell_type": "code",
   "execution_count": null,
   "metadata": {
    "solution2": "shown"
   },
   "outputs": [],
   "source": [
    "# Checks if Anna is in the data\n",
    "'Anna' in data\n",
    "# Notice that the in command *will not* look into the values\n",
    "# We need to use much more complex code to check all the data, beyond the keys"
   ]
  },
  {
   "cell_type": "code",
   "execution_count": null,
   "metadata": {
    "solution2": "shown"
   },
   "outputs": [],
   "source": [
    "# Checks if Panos has children\n",
    "\"Children\" in data[\"Panos\"]"
   ]
  },
  {
   "cell_type": "code",
   "execution_count": null,
   "metadata": {
    "solution2": "shown"
   },
   "outputs": [],
   "source": [
    "# Checks if Joe has children\n",
    "\"Children\" in data[\"Joe\"]"
   ]
  },
  {
   "cell_type": "code",
   "execution_count": null,
   "metadata": {
    "solution2": "shown"
   },
   "outputs": [],
   "source": [
    "# If the \"Children\" entry under Joe had an empty list, instead of being non-existence then we need to augment\n",
    "# our condition, and write something like:\n",
    "\"Children\" in data[\"Joe\"] and len(data[\"Joe\"][\"Children\"]) > 0"
   ]
  }
 ],
 "metadata": {
  "kernelspec": {
   "display_name": "Python 3",
   "language": "python",
   "name": "python3"
  },
  "language_info": {
   "codemirror_mode": {
    "name": "ipython",
    "version": 3
   },
   "file_extension": ".py",
   "mimetype": "text/x-python",
   "name": "python",
   "nbconvert_exporter": "python",
   "pygments_lexer": "ipython3",
   "version": "3.5.2"
  }
 },
 "nbformat": 4,
 "nbformat_minor": 1
}

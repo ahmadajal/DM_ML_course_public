{
 "cells": [
  {
   "cell_type": "markdown",
   "metadata": {},
   "source": [
    "# Clustering"
   ]
  },
  {
   "cell_type": "code",
   "execution_count": null,
   "metadata": {},
   "outputs": [],
   "source": [
    "import numpy as np\n",
    "import matplotlib.pyplot as plt\n",
    "# Though the following import is not directly being used, it is required\n",
    "# for 3D projection to work\n",
    "from mpl_toolkits.mplot3d import Axes3D\n",
    "%matplotlib inline\n",
    "from sklearn.cluster import KMeans\n",
    "from sklearn import datasets\n",
    "from sklearn.metrics import pairwise_distances_argmin\n",
    "from sklearn.datasets import load_sample_image\n",
    "from sklearn.utils import shuffle\n",
    "from time import time\n",
    "import pandas as pd"
   ]
  },
  {
   "cell_type": "code",
   "execution_count": null,
   "metadata": {},
   "outputs": [],
   "source": [
    "np.random.seed(5)\n"
   ]
  },
  {
   "cell_type": "markdown",
   "metadata": {},
   "source": [
    "## load data: iris data-set"
   ]
  },
  {
   "cell_type": "code",
   "execution_count": null,
   "metadata": {},
   "outputs": [],
   "source": [
    "iris = datasets.load_iris()\n",
    "X = iris.data[:, :2]\n",
    "y = iris.target"
   ]
  },
  {
   "cell_type": "markdown",
   "metadata": {},
   "source": [
    "Let's start with kmeans!"
   ]
  },
  {
   "cell_type": "code",
   "execution_count": null,
   "metadata": {},
   "outputs": [],
   "source": [
    "estimators = [('k_means_iris_8', KMeans(n_clusters=8)),\n",
    "              ('k_means_iris_3', KMeans(n_clusters=3))]"
   ]
  },
  {
   "cell_type": "code",
   "execution_count": null,
   "metadata": {},
   "outputs": [],
   "source": [
    "titles = ['8 clusters', '3 clusters']\n",
    "for i, (name, est) in enumerate(estimators):\n",
    "    plt.figure(figsize=(6, 4))\n",
    "#     ax = Axes3D(fig, rect=[0, 0, .95, 1], elev=48, azim=134)\n",
    "    est.fit(X)\n",
    "    labels = est.labels_\n",
    "\n",
    "    plt.scatter(X[:, 0], X[:, 1],\n",
    "               c=labels.astype(np.float), edgecolor='k')\n",
    "\n",
    "    plt.xlabel(iris.feature_names[0])\n",
    "    plt.ylabel(iris.feature_names[1])\n",
    "    plt.title(titles[i])"
   ]
  },
  {
   "cell_type": "markdown",
   "metadata": {},
   "source": [
    "Let's compare with the ground truth with actual labels."
   ]
  },
  {
   "cell_type": "code",
   "execution_count": null,
   "metadata": {},
   "outputs": [],
   "source": [
    "plt.scatter(X[:, 0], X[:, 1],\n",
    "               c=y, edgecolor='k')\n",
    "plt.xlabel(iris.feature_names[0])\n",
    "plt.ylabel(iris.feature_names[1])\n",
    "plt.title('ground truth')"
   ]
  },
  {
   "cell_type": "markdown",
   "metadata": {},
   "source": [
    "### compare with actual labels\n",
    "We can compare the resulting clusters with the actual labels. This gives us a sense of how good was our clustering."
   ]
  },
  {
   "cell_type": "code",
   "execution_count": null,
   "metadata": {},
   "outputs": [],
   "source": [
    "est = KMeans(n_clusters=3)\n",
    "est.fit(iris.data, iris.target)"
   ]
  },
  {
   "cell_type": "code",
   "execution_count": null,
   "metadata": {},
   "outputs": [],
   "source": [
    "est.labels_"
   ]
  },
  {
   "cell_type": "code",
   "execution_count": null,
   "metadata": {},
   "outputs": [],
   "source": [
    "iris.target"
   ]
  },
  {
   "cell_type": "markdown",
   "metadata": {},
   "source": [
    "It seems that the order of the target names and the kmeans cluster labels match. So we can quantify the performance of kmeans in terms of accuracy."
   ]
  },
  {
   "cell_type": "code",
   "execution_count": null,
   "metadata": {},
   "outputs": [],
   "source": [
    "# how accurate are the kmeans labels\n",
    "sum([1 if x else 0 for x in (est.labels_ == iris.target)]) / len(est.labels_)"
   ]
  },
  {
   "cell_type": "markdown",
   "metadata": {},
   "source": [
    "## Color quantization with k-means\n",
    "We will perform a pixel-wise Vector Quantization (VQ) of an image of the summer palace (China), reducing the number of colors required to show the image from 96,615 unique colors to 64, while preserving the overall appearance quality.\n",
    "\n",
    "In this example, pixels are represented in a 3D-space and K-means is used to find 64 color clusters. In the image processing literature, the codebook obtained from K-means (the cluster centers) is called the color palette. Using a single byte, up to 256 colors can be addressed, whereas an RGB encoding requires 3 bytes per pixel. The GIF file format, for example, uses such a palette.\n"
   ]
  },
  {
   "cell_type": "markdown",
   "metadata": {},
   "source": [
    "Let's first see the original image"
   ]
  },
  {
   "cell_type": "code",
   "execution_count": null,
   "metadata": {},
   "outputs": [],
   "source": [
    "# Load the Summer Palace photo\n",
    "china = load_sample_image(\"china.jpg\")\n",
    "\n",
    "# Convert to floats instead of the default 8 bits integer coding. Dividing by\n",
    "# 255 is important so that plt.imshow behaves works well on float data (need to\n",
    "# be in the range [0-1])\n",
    "china = np.array(china, dtype=np.float64) / 255\n",
    "\n",
    "# Load Image and transform to a 2D numpy array.\n",
    "# width, height, dimension (number of color channels (RGB))\n",
    "w, h, d = original_shape = tuple(china.shape)\n",
    "assert d == 3 # check if the number of channels is actually 3\n",
    "\n",
    "image_array = np.reshape(china, (w * h, d)) # reshaping the image to a 2D matrix with 3 columns\n",
    "# showing the original image\n",
    "plt.imshow(china)\n",
    "plt.title(\"original image\")\n",
    "plt.axis('off');"
   ]
  },
  {
   "cell_type": "markdown",
   "metadata": {},
   "source": [
    "Now we will quantize the image with 64 and 4 colors i.e. we will do kmeans with 64 and 4 clusters"
   ]
  },
  {
   "cell_type": "code",
   "execution_count": null,
   "metadata": {},
   "outputs": [],
   "source": [
    "n_colors = 64\n",
    "print(\"Fitting model with {} clusters on a small sub-sample of the data\".format(n_colors))\n",
    "t0 = time()\n",
    "image_array_sample = shuffle(image_array, random_state=0)[:1000]\n",
    "kmeans = KMeans(n_clusters=n_colors, random_state=0).fit(image_array_sample)\n",
    "print(\"done in %0.3fs.\" % (time() - t0))\n",
    "\n",
    "# Get labels for all points\n",
    "print(\"Predicting color indices on the full image (k-means)\")\n",
    "t0 = time()\n",
    "labels = kmeans.predict(image_array)\n",
    "print(\"done in %0.3fs.\" % (time() - t0))\n",
    "\n",
    "n_colors1 = 4\n",
    "print(\"Fitting model with {} clusters on a small sub-sample of the data\".format(n_colors1))\n",
    "t0 = time()\n",
    "image_array_sample = shuffle(image_array, random_state=0)[:1000]\n",
    "kmeans1 = KMeans(n_clusters=n_colors1, random_state=0).fit(image_array_sample)\n",
    "print(\"done in %0.3fs.\" % (time() - t0))\n",
    "\n",
    "# Get labels for all points\n",
    "print(\"Predicting color indices on the full image (k-means)\")\n",
    "t0 = time()\n",
    "labels1 = kmeans1.predict(image_array)\n",
    "print(\"done in %0.3fs.\" % (time() - t0))\n"
   ]
  },
  {
   "cell_type": "markdown",
   "metadata": {},
   "source": [
    "This function withh recreate the image. It will replace each pixel by its cluster center."
   ]
  },
  {
   "cell_type": "code",
   "execution_count": null,
   "metadata": {},
   "outputs": [],
   "source": [
    "def recreate_image(codebook, labels, w, h):\n",
    "    \"\"\"Recreate the (compressed) image from the code book & labels\"\"\"\n",
    "    d = codebook.shape[1]\n",
    "    image = np.zeros((w, h, d))\n",
    "    label_idx = 0\n",
    "    for i in range(w):\n",
    "        for j in range(h):\n",
    "            image[i][j] = codebook[labels[label_idx]]\n",
    "            label_idx += 1\n",
    "    return image"
   ]
  },
  {
   "cell_type": "code",
   "execution_count": null,
   "metadata": {},
   "outputs": [],
   "source": [
    "# Display all results, alongside original image\n",
    "plt.figure(1)\n",
    "plt.clf()\n",
    "plt.axis('off')\n",
    "plt.title('Original image (96,615 colors)')\n",
    "plt.imshow(china)\n",
    "\n",
    "plt.figure(2)\n",
    "plt.clf()\n",
    "plt.axis('off')\n",
    "plt.title('Quantized image ({} colors, K-Means)'.format(n_colors))\n",
    "plt.imshow(recreate_image(kmeans.cluster_centers_, labels, w, h))\n",
    "\n",
    "plt.figure(3)\n",
    "plt.clf()\n",
    "plt.axis('off')\n",
    "plt.title('Quantized image ({} colors, K-Means)'.format(n_colors1))\n",
    "plt.imshow(recreate_image(kmeans1.cluster_centers_, labels1, w, h))\n",
    "plt.show()"
   ]
  },
  {
   "cell_type": "markdown",
   "metadata": {},
   "source": [
    "## Hierarchial clustering"
   ]
  },
  {
   "cell_type": "code",
   "execution_count": null,
   "metadata": {},
   "outputs": [],
   "source": [
    "from sklearn.cluster import AgglomerativeClustering"
   ]
  },
  {
   "cell_type": "code",
   "execution_count": null,
   "metadata": {},
   "outputs": [],
   "source": [
    "clustering = AgglomerativeClustering(n_clusters=3)\n",
    "clustering.fit(iris.data, iris.target)"
   ]
  },
  {
   "cell_type": "code",
   "execution_count": null,
   "metadata": {},
   "outputs": [],
   "source": [
    "clustering.labels_"
   ]
  },
  {
   "cell_type": "code",
   "execution_count": null,
   "metadata": {},
   "outputs": [],
   "source": [
    "iris.target"
   ]
  },
  {
   "cell_type": "code",
   "execution_count": null,
   "metadata": {},
   "outputs": [],
   "source": [
    "reordered_target = np.zeros(len(iris.target))\n",
    "reordered_target[np.where(iris.target==0)[0]] = 1\n",
    "reordered_target[np.where(iris.target==2)[0]] = 2\n",
    "reordered_target"
   ]
  },
  {
   "cell_type": "code",
   "execution_count": null,
   "metadata": {},
   "outputs": [],
   "source": [
    "sum([1 if x else 0 for x in (clustering.labels_ == reordered_target)]) / len(clustering.labels_)"
   ]
  },
  {
   "cell_type": "markdown",
   "metadata": {},
   "source": [
    "### Dendogram"
   ]
  },
  {
   "cell_type": "code",
   "execution_count": null,
   "metadata": {},
   "outputs": [],
   "source": [
    "import scipy #scientific computations\n",
    "from scipy.cluster.hierarchy import dendrogram, linkage #hierarchical clustering\n",
    "from sklearn.cluster import AgglomerativeClustering\n",
    "\n",
    "Z = linkage(iris.data,'ward') #linkage: single, average, complete\n",
    "plt.figure(figsize=(25, 10))\n",
    "plt.title('Hierarchical Clustering Dendrogram', fontsize=20)\n",
    "plt.xlabel('Number of points in node (or index of point if no parenthesis)', fontsize=20)\n",
    "plt.ylabel('distance', fontsize=20)\n",
    "dendrogram(\n",
    "    Z,\n",
    "    leaf_rotation=90.,  # rotates the x axis labels\n",
    "    leaf_font_size=8.)   # font size for the x axis labels\n",
    "plt.show()"
   ]
  },
  {
   "cell_type": "markdown",
   "metadata": {},
   "source": [
    "### Comparing different linkage criterions\n",
    "For visualisation purposes we will truncate the dendrograms in this figure to 5 levels."
   ]
  },
  {
   "cell_type": "code",
   "execution_count": null,
   "metadata": {},
   "outputs": [],
   "source": [
    "fig, ax = plt.subplots(2,2, figsize=(25,12))\n",
    "#############################\n",
    "Z = linkage(iris.data,'ward') #linkage: single, average, complete\n",
    "ax[0][0].set_title('Hierarchical Clustering Dendrogram (ward)', fontsize=20)\n",
    "# ax[0][0].set_xlabel('Number of points in node (or index of point if no parenthesis)')\n",
    "# ax[0][0].set_ylabel('distance')\n",
    "dendrogram(\n",
    "    Z,\n",
    "    leaf_rotation=90., leaf_font_size=8.,\n",
    "    truncate_mode='level', p=5, ax=ax[0][0])   \n",
    "###########\n",
    "Z = linkage(iris.data,'complete') #linkage: single, average, complete\n",
    "ax[0][1].set_title('Hierarchical Clustering Dendrogram (complete)', fontsize=20)\n",
    "# ax[0][1].set_xlabel('Number of points in node (or index of point if no parenthesis)')\n",
    "# ax[0][1].set_ylabel('distance')\n",
    "dendrogram(\n",
    "    Z,\n",
    "    leaf_rotation=90., leaf_font_size=8.,\n",
    "    truncate_mode='level', p=5, ax=ax[0][1])  \n",
    "###########\n",
    "Z = linkage(iris.data,'single') #linkage: single, average, complete\n",
    "ax[1][0].set_title('Hierarchical Clustering Dendrogram (single)', fontsize=20)\n",
    "# ax[1][0].set_xlabel('Number of points in node (or index of point if no parenthesis)')\n",
    "# ax[1][0].set_ylabel('distance')\n",
    "dendrogram(\n",
    "    Z,\n",
    "    leaf_rotation=90., leaf_font_size=8.,\n",
    "    truncate_mode='level', p=5, ax=ax[1][0])  \n",
    "###########\n",
    "Z = linkage(iris.data,'average') #linkage: single, average, complete\n",
    "ax[1][1].set_title('Hierarchical Clustering Dendrogram (average)', fontsize=20)\n",
    "# ax[1][1].set_xlabel('Number of points in node (or index of point if no parenthesis)')\n",
    "# ax[1][1].set_ylabel('distance')\n",
    "dendrogram(\n",
    "    Z,\n",
    "    leaf_rotation=90., leaf_font_size=8.,\n",
    "    truncate_mode='level', p=5, ax=ax[1][1])  ;"
   ]
  },
  {
   "cell_type": "markdown",
   "metadata": {},
   "source": [
    "Try to observe the difference between different linkage types"
   ]
  },
  {
   "cell_type": "markdown",
   "metadata": {},
   "source": [
    "### comparing the run-time of k-means vs Hierachial"
   ]
  },
  {
   "cell_type": "markdown",
   "metadata": {},
   "source": [
    "For the small iris data-set"
   ]
  },
  {
   "cell_type": "code",
   "execution_count": null,
   "metadata": {},
   "outputs": [],
   "source": [
    "t0 = time()\n",
    "clustering = AgglomerativeClustering(n_clusters=3)\n",
    "clustering.fit(iris.data, iris.target)\n",
    "print(\"Hierarchial clustering done in %0.3fs.\" % (time() - t0))\n",
    "\n",
    "t0 = time()\n",
    "est = KMeans(n_clusters=3)\n",
    "est.fit(iris.data, iris.target)\n",
    "print(\"K-means clustering done in %0.3fs.\" % (time() - t0))"
   ]
  },
  {
   "cell_type": "markdown",
   "metadata": {},
   "source": [
    "With a larger data-set (Churn)"
   ]
  },
  {
   "cell_type": "code",
   "execution_count": null,
   "metadata": {},
   "outputs": [],
   "source": [
    "df = pd.read_csv(\"CHURN_DATA_PATH\")\n",
    "df.head()"
   ]
  },
  {
   "cell_type": "code",
   "execution_count": null,
   "metadata": {},
   "outputs": [],
   "source": [
    "z = df[\"TotalCharges\"].map(lambda x: x.replace('.', '', 1).isdigit())\n",
    "df = df[z]\n",
    "df.reset_index(inplace=True)\n",
    "df.shape"
   ]
  },
  {
   "cell_type": "code",
   "execution_count": null,
   "metadata": {},
   "outputs": [],
   "source": [
    "df[\"TotalCharges\"] = df[\"TotalCharges\"].astype(float)"
   ]
  },
  {
   "cell_type": "code",
   "execution_count": null,
   "metadata": {},
   "outputs": [],
   "source": [
    "X = df[[\"tenure\", \"MonthlyCharges\", \"TotalCharges\"]]\n",
    "y = df[\"Churn\"]"
   ]
  },
  {
   "cell_type": "code",
   "execution_count": null,
   "metadata": {},
   "outputs": [],
   "source": [
    "# encoding categorical features with label encoder\n",
    "from sklearn.preprocessing import LabelEncoder\n",
    "le = LabelEncoder()\n",
    "for col in [\"gender\", \"PhoneService\", \"TechSupport\", \"StreamingTV\", \"PaperlessBilling\"]:\n",
    "    encoded_col = pd.DataFrame(le.fit_transform(df[col]), columns=[col])\n",
    "    X = pd.concat((X, encoded_col), axis=1)\n",
    "X.head()"
   ]
  },
  {
   "cell_type": "code",
   "execution_count": null,
   "metadata": {},
   "outputs": [],
   "source": [
    "t0 = time()\n",
    "clustering = AgglomerativeClustering(n_clusters=2, linkage='complete')\n",
    "clustering.fit(X)\n",
    "print(\"Hierarchial clustering done in %0.3fs.\" % (time() - t0))\n",
    "\n",
    "t0 = time()\n",
    "est = KMeans(n_clusters=2)\n",
    "est.fit(X)\n",
    "print(\"K-means clustering done in %0.3fs.\" % (time() - t0))"
   ]
  },
  {
   "cell_type": "markdown",
   "metadata": {},
   "source": [
    "### Exercise\n",
    "In this exercise we want to observe how the run time of hierarchial clustering and kmeans increase by adding more data samples.\n",
    "\n",
    "We will create a synthetic data-set with 3 features and 4 classes. We will then cluster multiple subsamples of this data-set with different sizes and record the runtime for each algorithm. You will then see that kmeans is essentially a faster method!"
   ]
  },
  {
   "cell_type": "code",
   "execution_count": null,
   "metadata": {},
   "outputs": [],
   "source": [
    "from sklearn.datasets import make_classification\n",
    "X, y = make_classification(n_samples=10000, n_classes=4, n_features=3, n_informative=3, n_clusters_per_class=1,\n",
    "                      n_redundant=0, flip_y=0)"
   ]
  },
  {
   "cell_type": "code",
   "execution_count": null,
   "metadata": {},
   "outputs": [],
   "source": [
    "hierarchial_time = []\n",
    "kmeans_time = []\n",
    "for s in range(1000, 11000, 1000):\n",
    "    indices = np.random.choice(10000, size=s)\n",
    "    sample = X[indices]\n",
    "    \n",
    "    t0 = time()\n",
    "    # TO DO : AgglomerativeClustering with 4 clusters and linkage='complete'\n",
    "\n",
    "    t0 = time()\n",
    "    # TO DO : kmeans with 4 clusters"
   ]
  },
  {
   "cell_type": "code",
   "execution_count": null,
   "metadata": {},
   "outputs": [],
   "source": [
    "sizes = list(range(1000, 11000, 1000))\n",
    "plt.plot(sizes, hierarchial_time, label=\"hierarchial\")\n",
    "plt.plot(sizes, kmeans_time, label=\"kmeans\")\n",
    "plt.ylabel(\"time (seconds)\")\n",
    "plt.xlabel(\"number of samples\")\n",
    "plt.legend();"
   ]
  },
  {
   "cell_type": "code",
   "execution_count": null,
   "metadata": {},
   "outputs": [],
   "source": []
  },
  {
   "cell_type": "code",
   "execution_count": null,
   "metadata": {},
   "outputs": [],
   "source": []
  }
 ],
 "metadata": {
  "kernelspec": {
   "display_name": "Python 3",
   "language": "python",
   "name": "python3"
  },
  "language_info": {
   "codemirror_mode": {
    "name": "ipython",
    "version": 3
   },
   "file_extension": ".py",
   "mimetype": "text/x-python",
   "name": "python",
   "nbconvert_exporter": "python",
   "pygments_lexer": "ipython3",
   "version": "3.7.3"
  }
 },
 "nbformat": 4,
 "nbformat_minor": 2
}

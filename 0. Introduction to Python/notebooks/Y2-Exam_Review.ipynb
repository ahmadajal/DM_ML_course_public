{
 "cells": [
  {
   "cell_type": "markdown",
   "metadata": {},
   "source": [
    "# 0. Data types, Boolean Variables, Expressions"
   ]
  },
  {
   "cell_type": "markdown",
   "metadata": {},
   "source": [
    "### a. Simple example with string functions"
   ]
  },
  {
   "cell_type": "markdown",
   "metadata": {},
   "source": [
    "Write a function that shortens names as follows:   \n",
    "\n",
    "    lying Ted   -> lyin' Ted \n",
    "    smiling Joe -> smilin' Joe  \n",
    "    singing Sam -> singin' Sam  "
   ]
  },
  {
   "cell_type": "code",
   "execution_count": null,
   "metadata": {
    "collapsed": true
   },
   "outputs": [],
   "source": [
    "# Your function here"
   ]
  },
  {
   "cell_type": "markdown",
   "metadata": {},
   "source": [
    "**Answer:**<span style=\"color:white\">\n",
    "def nicknames(name):\n",
    "    name, adj = name.split()\n",
    "    return name[:-1] + \"' \"+adj"
   ]
  },
  {
   "cell_type": "markdown",
   "metadata": {},
   "source": [
    "### b. Simple example with Booleans"
   ]
  },
  {
   "cell_type": "markdown",
   "metadata": {},
   "source": [
    "Write a function that takes boolean values for whether it rains (`rain`) and whether I have an umbrella (`umbrella`), and returns True if I get wet (`wet`)"
   ]
  },
  {
   "cell_type": "code",
   "execution_count": null,
   "metadata": {
    "collapsed": true
   },
   "outputs": [],
   "source": [
    "# Your function here"
   ]
  },
  {
   "cell_type": "markdown",
   "metadata": {},
   "source": [
    "**Answer:**<span style=\"color:white\">\n",
    "def get_wet(rain, umbrella):\n",
    "    if rain==True and umbrella == False:\n",
    "        return True\n",
    "    return False"
   ]
  },
  {
   "cell_type": "markdown",
   "metadata": {},
   "source": [
    "### c. Simple example with expressions\n",
    "Write a function to calculate the area of a circle given a radius. The formula for this is:\n",
    "$$area \\quad = \\quad \\pi \\ r^2 $$\n",
    "\n",
    "You can use the `math` function to get the value of `pi`"
   ]
  },
  {
   "cell_type": "code",
   "execution_count": null,
   "metadata": {
    "collapsed": true
   },
   "outputs": [],
   "source": [
    "import math\n",
    "math.pi\n",
    "\n",
    "# Your function here"
   ]
  },
  {
   "cell_type": "markdown",
   "metadata": {},
   "source": [
    "**Answer:**<span style=\"color:white\">\n",
    "def area(r):\n",
    "    a = math.pi * (r**2)\n",
    "    return a"
   ]
  },
  {
   "cell_type": "markdown",
   "metadata": {},
   "source": [
    "# 1. Lists, Sets"
   ]
  },
  {
   "cell_type": "markdown",
   "metadata": {},
   "source": [
    "### a. List basics with string multiplication"
   ]
  },
  {
   "cell_type": "markdown",
   "metadata": {},
   "source": [
    "Consider this list of letters:\n",
    "\n",
    "    ['t', 'u', 'v', 'w', 'x', 'y', 'z']\n"
   ]
  },
  {
   "cell_type": "markdown",
   "metadata": {},
   "source": [
    "Create the following list:\n",
    "\n",
    "    ['t', 'uu', 'vvv', 'wwww', 'xxxxx', 'yyyyyy', 'zzzzzzz']\n",
    "    \n",
    "Hint: You can use `for` loops, a counter (`i+=1`), and string multiplication (`*`)."
   ]
  },
  {
   "cell_type": "code",
   "execution_count": null,
   "metadata": {
    "collapsed": true
   },
   "outputs": [],
   "source": [
    "letters = ['t', 'u', 'v', 'w', 'x', 'y', 'z']"
   ]
  },
  {
   "cell_type": "code",
   "execution_count": null,
   "metadata": {
    "collapsed": true
   },
   "outputs": [],
   "source": [
    "i = 0\n",
    "\n",
    "# for loop here"
   ]
  },
  {
   "cell_type": "markdown",
   "metadata": {},
   "source": [
    "**Answer:** <span style=\"color:white\">\n",
    "new_letters = []\n",
    "i = 1\n",
    "for l in letters:\n",
    "    new_letters.append(i*l)\n",
    "    i+=1\n",
    "new_letters"
   ]
  },
  {
   "cell_type": "markdown",
   "metadata": {},
   "source": [
    "Wrap your loop in a function so that you can produce this transformation for any list of input `letters`"
   ]
  },
  {
   "cell_type": "code",
   "execution_count": null,
   "metadata": {
    "collapsed": true
   },
   "outputs": [],
   "source": [
    "# def multiply(letters):\n",
    "    # function here"
   ]
  },
  {
   "cell_type": "markdown",
   "metadata": {},
   "source": [
    "**Answer:** <span style=\"color:white\">\n",
    "def multiply(letters):\n",
    "    new_letters = []\n",
    "    i = 1\n",
    "    for l in letters:\n",
    "        new_letters.append(i*l)\n",
    "        i+=1\n",
    "    return new_letters"
   ]
  },
  {
   "cell_type": "code",
   "execution_count": null,
   "metadata": {
    "collapsed": true
   },
   "outputs": [],
   "source": [
    "# Test the function on a new input \n",
    "# multiply(['ant', 'bat', 'cat'])"
   ]
  },
  {
   "cell_type": "markdown",
   "metadata": {},
   "source": [
    "### b. List basics with fish"
   ]
  },
  {
   "cell_type": "markdown",
   "metadata": {},
   "source": [
    "Consider this list of fish:"
   ]
  },
  {
   "cell_type": "code",
   "execution_count": null,
   "metadata": {
    "collapsed": true
   },
   "outputs": [],
   "source": [
    "fish = ['one fish', 'two fish', 'red fish', 'blue fish', 'old fish', 'new fish']"
   ]
  },
  {
   "cell_type": "code",
   "execution_count": null,
   "metadata": {
    "collapsed": true
   },
   "outputs": [],
   "source": [
    "# Check if the entry 'red fish' is in the list"
   ]
  },
  {
   "cell_type": "markdown",
   "metadata": {},
   "source": [
    "**Answer:** <span style=\"color:white\"> 'red fish' in fish"
   ]
  },
  {
   "cell_type": "code",
   "execution_count": null,
   "metadata": {
    "collapsed": true
   },
   "outputs": [],
   "source": [
    "# Check if 'fish' is in the list"
   ]
  },
  {
   "cell_type": "markdown",
   "metadata": {},
   "source": [
    "**Answer:** <span style=\"color:white\">'fish' in fish"
   ]
  },
  {
   "cell_type": "code",
   "execution_count": null,
   "metadata": {
    "collapsed": true,
    "slideshow": {
     "slide_type": "fragment"
    }
   },
   "outputs": [],
   "source": [
    "# Use a for loop to print any item containing the letter 'o'"
   ]
  },
  {
   "cell_type": "markdown",
   "metadata": {},
   "source": [
    "**Answer:** <span style=\"color:white\">\n",
    "for f in fish:\n",
    "    if 'o' in f:\n",
    "        print(f)"
   ]
  },
  {
   "cell_type": "markdown",
   "metadata": {},
   "source": [
    "Create the list with only the first, descriptive word of each item in `fish`. That is, create:\n",
    "     \n",
    "     descriptives = ['one', 'two', 'red', 'blue', 'old', 'new']"
   ]
  },
  {
   "cell_type": "code",
   "execution_count": null,
   "metadata": {
    "collapsed": true
   },
   "outputs": [],
   "source": [
    "# Use a for loop to create a new list with only the first, descriptive word of each item in fish\n",
    "descriptives = []\n",
    "\n",
    "# for loop here"
   ]
  },
  {
   "cell_type": "markdown",
   "metadata": {},
   "source": [
    "**Answer:** <span style=\"color:white\">\n",
    "descriptives = []\n",
    "for f in fish:\n",
    "    descriptives.append(f.split()[0])  \n",
    "print(descriptives)"
   ]
  },
  {
   "cell_type": "markdown",
   "metadata": {},
   "source": [
    "### c. Sets with MLK speeches"
   ]
  },
  {
   "cell_type": "markdown",
   "metadata": {},
   "source": [
    "Consider these two excerpts from speeches by Martin Luther King Jr."
   ]
  },
  {
   "cell_type": "code",
   "execution_count": null,
   "metadata": {
    "collapsed": true
   },
   "outputs": [],
   "source": [
    "martin1 = '''Injustice anywhere is a threat to justice everywhere. We are caught in an inescapable network of mutuality, \n",
    "            tied in a single garment of destiny. Whatever affects one directly, affects all indirectly. Never again can\n",
    "            we afford to live with the narrow, provincial outside agitator idea. Anyone who lives inside the United States\n",
    "            can never be considered an outsider anywhere within its bounds.'''\n",
    "martin2 = '''But we refuse to believe that the bank of justice is bankrupt. We refuse to believe that there are insufficient\n",
    "            funds in the great vaults of opportunity of this nation. And so, we've come to cash this check, a check that \n",
    "            will give us upon demand the riches of freedom and the security of justice.'''"
   ]
  },
  {
   "cell_type": "code",
   "execution_count": null,
   "metadata": {
    "collapsed": true
   },
   "outputs": [],
   "source": [
    "# Make a unique list of words that appear in each speech. \n",
    "# Make your list case INsensitive so that \"We\" and 'we' are not separate words."
   ]
  },
  {
   "cell_type": "markdown",
   "metadata": {},
   "source": [
    "**Answer:** <span style=\"color:white\"> \n",
    "martin1_words = set(martin1.lower().split())\n",
    "martin2_words = set(martin2.lower().split())"
   ]
  },
  {
   "cell_type": "code",
   "execution_count": null,
   "metadata": {
    "collapsed": true
   },
   "outputs": [],
   "source": [
    "# Find the words that are present in both speeches"
   ]
  },
  {
   "cell_type": "markdown",
   "metadata": {},
   "source": [
    "**Answer:** <span style=\"color:white\">\n",
    "martin1_words & martin2_words"
   ]
  },
  {
   "cell_type": "code",
   "execution_count": null,
   "metadata": {
    "collapsed": true
   },
   "outputs": [],
   "source": [
    "# Find the words that are present only in the first speech and not the second"
   ]
  },
  {
   "cell_type": "markdown",
   "metadata": {},
   "source": [
    "**Answer:** <span style=\"color:white\">\n",
    "martin1_words - martin2_words"
   ]
  },
  {
   "cell_type": "code",
   "execution_count": null,
   "metadata": {
    "collapsed": true
   },
   "outputs": [],
   "source": [
    "# Find the words that are present across either one or both speeches"
   ]
  },
  {
   "cell_type": "markdown",
   "metadata": {},
   "source": [
    "**Answer:** <span style=\"color:white\">\n",
    "martin1_words | martin2_words"
   ]
  },
  {
   "cell_type": "code",
   "execution_count": null,
   "metadata": {
    "collapsed": true
   },
   "outputs": [],
   "source": [
    "# Calculate the Jaccard similarity of the two excerpts (intersection / union)"
   ]
  },
  {
   "cell_type": "markdown",
   "metadata": {},
   "source": [
    "**Answer:** <span style=\"color:white\">\n",
    "len(martin1_words & martin2_words) / len(martin1_words | martin2_words)"
   ]
  },
  {
   "cell_type": "markdown",
   "metadata": {},
   "source": [
    "# 2. Dictionaries"
   ]
  },
  {
   "cell_type": "markdown",
   "metadata": {},
   "source": [
    "### a. Dictionaries and loops with Pasta"
   ]
  },
  {
   "cell_type": "markdown",
   "metadata": {},
   "source": [
    "Consider the following list of Pastas:"
   ]
  },
  {
   "cell_type": "code",
   "execution_count": null,
   "metadata": {
    "collapsed": true
   },
   "outputs": [],
   "source": [
    "pasta = {\n",
    "    'carbonara':  { 'ingredients': ['eggs','bacon'],\n",
    "                   'prep_time'   : 20\n",
    "                  },\n",
    "    'ziti':       { 'ingredients': ['ricotta', 'tomato', 'mozzarella'],\n",
    "                   'prep_time'   : 70\n",
    "                  },\n",
    "    'pesto':      { 'ingredients': ['basil', 'garlic', 'lemon', 'pine nuts'],\n",
    "                   'prep_time'   : 30\n",
    "                  },\n",
    "    'bolognese':  { 'ingredients': ['tomato', 'beef'],\n",
    "                   'prep_time'   : 90\n",
    "                  },\n",
    "    'alla vodka': { 'ingredients': ['vodka', 'tomato', 'cream'],\n",
    "                   'prep_time'   : 25\n",
    "                  },\n",
    "    'puttanesca': { 'ingredients': ['tomato', 'olive', 'onion'],   \n",
    "                   'prep_time'   : 40\n",
    "                  }\n",
    "}"
   ]
  },
  {
   "cell_type": "code",
   "execution_count": null,
   "metadata": {
    "collapsed": true
   },
   "outputs": [],
   "source": [
    "# Write a loop to print the name of each pasta and its ingredients"
   ]
  },
  {
   "cell_type": "markdown",
   "metadata": {},
   "source": [
    "**Answer:** <span style=\"color:white\">\n",
    "for k,v in pasta.items():\n",
    "    print(f\"Pasta {k:10s} is made with {v['ingredients']}\")"
   ]
  },
  {
   "cell_type": "code",
   "execution_count": null,
   "metadata": {
    "collapsed": true
   },
   "outputs": [],
   "source": [
    "# Write a loop to list all pastas with tomato as an ingredient"
   ]
  },
  {
   "cell_type": "markdown",
   "metadata": {},
   "source": [
    "**Answer:** <span style=\"color:white\">\n",
    "tomato_pastas = []\n",
    "for k,v in pasta.items():\n",
    "    if 'tomato' in v['ingredients']:\n",
    "        tomato_pastas.append(k)   \n",
    "print(f\"The pastas with tomatoes are {tomato_pastas}\")"
   ]
  },
  {
   "cell_type": "code",
   "execution_count": null,
   "metadata": {
    "collapsed": true
   },
   "outputs": [],
   "source": [
    "# Write a loop to find the pasta with the longest prep time "
   ]
  },
  {
   "cell_type": "markdown",
   "metadata": {},
   "source": [
    "**Answer:** <span style=\"color:white\">\n",
    "max_time = 0\n",
    "max_name = \"\"\n",
    "for k,v in pasta.items():\n",
    "    if v['prep_time']>max_time:\n",
    "        max_name = k\n",
    "        max_time = v['prep_time']\n",
    "print(f\"The pasta with the longest prep time is {max_name}, with {max_time} minutes of cooking.\")"
   ]
  },
  {
   "cell_type": "code",
   "execution_count": null,
   "metadata": {
    "collapsed": true
   },
   "outputs": [],
   "source": [
    "# Write a loop to add \"pasta\" and \"parmesan\" to each ingredient list"
   ]
  },
  {
   "cell_type": "markdown",
   "metadata": {},
   "source": [
    "**Answer:** <span style=\"color:white\">\n",
    "for k,v in pasta.items():\n",
    "    pasta[k]['ingredients'] += ['pasta', 'parmesan']\n",
    "pasta"
   ]
  },
  {
   "cell_type": "code",
   "execution_count": null,
   "metadata": {
    "collapsed": true
   },
   "outputs": [],
   "source": [
    "# Write a loop to get the unique ingredients we need to make all the pastas"
   ]
  },
  {
   "cell_type": "markdown",
   "metadata": {},
   "source": [
    "**Answer:** <span style=\"color:white\">\n",
    "unique_ingredients =[]\n",
    "for k,v in pasta.items():\n",
    "    unique_ingredients += v['ingredients']\n",
    "unique_ingredients = set(unique_ingredients)\n",
    "print(\"The unique ingredients are:\", unique_ingredients)"
   ]
  },
  {
   "cell_type": "markdown",
   "metadata": {},
   "source": [
    "### b. Making a dictionary of words and counts"
   ]
  },
  {
   "cell_type": "markdown",
   "metadata": {},
   "source": [
    "Consider the following song lyrics:"
   ]
  },
  {
   "cell_type": "code",
   "execution_count": null,
   "metadata": {
    "collapsed": true
   },
   "outputs": [],
   "source": [
    "happy = \"\"\"it might seem crazy what I'm 'bout to say\n",
    "sunshine she's here, you can take a break\n",
    "I'm a hot air balloon that could go to space\n",
    "with the air, like I don't care baby by the way\n",
    "huh, because I'm happy\n",
    "clap along if you feel like a room without a roof\n",
    "clap along if you feel like happiness is the truth\n",
    "clap along if you know what happiness is to you\n",
    "clap along if you feel like that's what you wanna do\n",
    "here come bad news, talking this and that\n",
    "well, give me all you got, and don't hold it back \n",
    "well, I should probably warn you I'll be just fine \n",
    "no offense to you, don't waste your time\n",
    "here's why\n",
    "because I'm happy\"\"\""
   ]
  },
  {
   "cell_type": "code",
   "execution_count": null,
   "metadata": {
    "collapsed": true
   },
   "outputs": [],
   "source": [
    "# How many lines are in the song?"
   ]
  },
  {
   "cell_type": "markdown",
   "metadata": {},
   "source": [
    "**Answer:** <span style=\"color:white\">\n",
    "len(happy.split(\"\\n\"))"
   ]
  },
  {
   "cell_type": "code",
   "execution_count": null,
   "metadata": {
    "collapsed": true
   },
   "outputs": [],
   "source": [
    "# Loop through the lines of the song and print all lines that ask us to \"clap\""
   ]
  },
  {
   "cell_type": "markdown",
   "metadata": {},
   "source": [
    "**Answer:** <span style=\"color:white\">\n",
    "for l in happy.split(\"\\n\"):\n",
    "    if \"clap\" in l:\n",
    "        print(l)"
   ]
  },
  {
   "cell_type": "code",
   "execution_count": null,
   "metadata": {
    "collapsed": true
   },
   "outputs": [],
   "source": [
    "# How many words are in the song?"
   ]
  },
  {
   "cell_type": "markdown",
   "metadata": {},
   "source": [
    "**Answer:** <span style=\"color:white\">\n",
    "len(happy.split())"
   ]
  },
  {
   "cell_type": "code",
   "execution_count": null,
   "metadata": {
    "collapsed": true
   },
   "outputs": [],
   "source": [
    "# What are the unique words?"
   ]
  },
  {
   "cell_type": "markdown",
   "metadata": {},
   "source": [
    "**Answer:** <span style=\"color:white\">\n",
    "unique_words = set(happy.split())"
   ]
  },
  {
   "cell_type": "code",
   "execution_count": null,
   "metadata": {
    "collapsed": true
   },
   "outputs": [],
   "source": [
    "# Using a loop, create a dictionary of unique words and the count of times each word appears"
   ]
  },
  {
   "cell_type": "markdown",
   "metadata": {},
   "source": [
    "**Answer:** <span style=\"color:white\">\n",
    "word_counts = {}\n",
    "for w in unique_words:\n",
    "    word_counts[w] = happy.count(w)\n",
    "word_counts"
   ]
  },
  {
   "cell_type": "markdown",
   "metadata": {},
   "source": [
    "### c. French-to-English translation"
   ]
  },
  {
   "cell_type": "markdown",
   "metadata": {},
   "source": [
    "Consider this dictionary of French-to-English translations:"
   ]
  },
  {
   "cell_type": "code",
   "execution_count": null,
   "metadata": {
    "collapsed": true
   },
   "outputs": [],
   "source": [
    "french ={\n",
    "    \"avant-garde\"  : \"ahead of its time\",\n",
    "    \"vis-a-vis\"    : \"regarding\",\n",
    "    \"armoire\"      : \"wardrobe\",\n",
    "    \"dossier\"      : \"file\",\n",
    "    \"entree\"       : \"main course\",\n",
    "    \"impasse\"      : \"deadlock\",\n",
    "    \"liaison\"      : \"connection\",\n",
    "    \"panache\"      : \"flamboyance\",\n",
    "    \"pince-nez\"    : \"spectacles\", \n",
    "    \"pret-a-porter\": \"ready-to-wear\",\n",
    "    \"prix-fixe\"    : \"fixed-price\",\n",
    "    \"sommelier\"    : \"wine expert\",\n",
    "    \"tete-a-tete\"  : \"private conversation\",\n",
    "    \"bric-a-brac\"  : \"junk\"}"
   ]
  },
  {
   "cell_type": "markdown",
   "metadata": {},
   "source": [
    "Let's perform a few steps:\n",
    "- We will find any French words in a sentence and print them\n",
    "- Then, we will replace these words with English\n",
    "- Finally, we will write a function to do this on any sentence\n",
    "\n",
    "Let's start with the following sentence."
   ]
  },
  {
   "cell_type": "code",
   "execution_count": null,
   "metadata": {
    "collapsed": true
   },
   "outputs": [],
   "source": [
    "sentence = \"vis-a-vis the armoire , i said she could pick it up tomorrow , but she said she didn't want any more bric-a-brac\"\n",
    "print(sentence)"
   ]
  },
  {
   "cell_type": "markdown",
   "metadata": {},
   "source": [
    "- Step 1: Write a loop to check if a word is in the dictionary."
   ]
  },
  {
   "cell_type": "code",
   "execution_count": null,
   "metadata": {
    "collapsed": true
   },
   "outputs": [],
   "source": [
    "# Split sentence into a list of words\n",
    "\n",
    "# Loop over the words...\n",
    "    # see if they are in the \"french\" dictionary\n",
    "    # if they are, print their translation"
   ]
  },
  {
   "cell_type": "markdown",
   "metadata": {},
   "source": [
    "**Answer:** <span style=\"color:white\">\n",
    "s = sentence.split()       # Split the sentence into words\n",
    "for w in s:                # Loop over words\n",
    "    if w in french:        # Check if w is in the \"french\" dictionary\n",
    "        print (french[w])  # If it is, print the translated value "
   ]
  },
  {
   "cell_type": "markdown",
   "metadata": {},
   "source": [
    "- Step 2: Now, make a new sentence, `translated`, that has the French words replaced with their English counterpart"
   ]
  },
  {
   "cell_type": "code",
   "execution_count": null,
   "metadata": {
    "collapsed": true
   },
   "outputs": [],
   "source": [
    "# Split sentence into a list of words\n",
    "# Initialize an empty translated sentence \n",
    "\n",
    "# Loop over the words...\n",
    "    # see if they are in the \"french\" dictionary\n",
    "    # if they are, translate them and add to translation\n",
    "    # Otherwise, add to translated"
   ]
  },
  {
   "cell_type": "markdown",
   "metadata": {},
   "source": [
    "**Answer:** <span style=\"color:white\">\n",
    "translated = []\n",
    "for w in s:\n",
    "    if w in french:\n",
    "        translated.append(french[w])\n",
    "    else:\n",
    "        translated.append(w)        \n",
    "\" \".join(translated)"
   ]
  },
  {
   "cell_type": "markdown",
   "metadata": {},
   "source": [
    "- Step 3: Now, make a function to do this for any sentence\n",
    "    "
   ]
  },
  {
   "cell_type": "code",
   "execution_count": null,
   "metadata": {
    "collapsed": true
   },
   "outputs": [],
   "source": [
    "# def translator(sentence):\n",
    "#     ...\n",
    "#     return translated     "
   ]
  },
  {
   "cell_type": "markdown",
   "metadata": {},
   "source": [
    "**Answer:** <span style=\"color:white\">\n",
    "def translate(s):\n",
    "    s = s.split()\n",
    "    translated = []\n",
    "    for w in s:\n",
    "        if w in french.keys():\n",
    "            translated.append(french[w])\n",
    "        else:\n",
    "            translated.append(w)\n",
    "    translated = \" \".join(translated)\n",
    "    return translated"
   ]
  },
  {
   "cell_type": "markdown",
   "metadata": {},
   "source": [
    "- Step 4: Using a list, do this for all sentences in the following list"
   ]
  },
  {
   "cell_type": "code",
   "execution_count": null,
   "metadata": {
    "collapsed": true
   },
   "outputs": [],
   "source": [
    "sentences = [\n",
    "\"in a tete-a-tete with my liaison i asked about the dossier , but he denied its existence ; we are at a real impasse\",\n",
    "\"as part of our prix-fixe meal , a sommelier will guide you in a choice of cabernets , followed by our entree of salmon\",\n",
    "\"you wear those pince-nez with such panache\",\n",
    "\"his design is too avant-garde for popular consumption ; it is definitely not suited for the pret-a-porter market\"]"
   ]
  },
  {
   "cell_type": "markdown",
   "metadata": {},
   "source": [
    "**Answer:** <span style=\"color:white\">\n",
    "for s in sentences:\n",
    "    print (translate(s))"
   ]
  },
  {
   "cell_type": "markdown",
   "metadata": {},
   "source": [
    "# 3. For loops"
   ]
  },
  {
   "cell_type": "markdown",
   "metadata": {},
   "source": [
    "### a. Tripling every third number"
   ]
  },
  {
   "cell_type": "markdown",
   "metadata": {},
   "source": [
    "Write a function that triples every third number in a list. For example, if:\n",
    "\n",
    "    input  = [ 1, 2, 3, 4, 5, 6 , 7, 8, 9  ]\n",
    "    output = [ 1, 2, 9, 4, 5, 18, 7, 8, 27 ]\n",
    "                     ^        ^         ^ "
   ]
  },
  {
   "cell_type": "code",
   "execution_count": null,
   "metadata": {
    "collapsed": true
   },
   "outputs": [],
   "source": [
    "nums  = [1, 2, 3, 4, 5, 6 , 7, 8, 9  ]"
   ]
  },
  {
   "cell_type": "code",
   "execution_count": null,
   "metadata": {
    "collapsed": true
   },
   "outputs": [],
   "source": [
    "# Begin by writing a loop that identifies and prints every third number, using a loop counter.\n",
    "i = 0\n",
    "\n",
    "# For loop"
   ]
  },
  {
   "cell_type": "markdown",
   "metadata": {},
   "source": [
    "**Answer:** <span style=\"color:white\">\n",
    "i=0\n",
    "for n in nums:\n",
    "    if i%3 == 0:\n",
    "        print(n)\n",
    "    i+=1"
   ]
  },
  {
   "cell_type": "code",
   "execution_count": null,
   "metadata": {
    "collapsed": true
   },
   "outputs": [],
   "source": [
    "# Modify the loop to create a new list of numbers with every third number tripled.\n",
    "new_nums = []\n",
    "\n",
    "# For loop"
   ]
  },
  {
   "cell_type": "markdown",
   "metadata": {},
   "source": [
    "**Answer:** <span style=\"color:white\">\n",
    "i = 1\n",
    "new_nums = []\n",
    "for n in nums:\n",
    "    if i%3 == 0:\n",
    "        new_nums.append(n*3)\n",
    "    else:\n",
    "        new_nums.append(n)\n",
    "    i+=1\n",
    "new_nums"
   ]
  },
  {
   "cell_type": "code",
   "execution_count": null,
   "metadata": {
    "collapsed": true
   },
   "outputs": [],
   "source": [
    "# Finally, wrap everything in a function\n",
    "\n",
    "# def triple_third(nums):"
   ]
  },
  {
   "cell_type": "markdown",
   "metadata": {},
   "source": [
    "**Answer:** <span style=\"color:white\">\n",
    "def triple_third(nums):    \n",
    "    i = 1\n",
    "    new_nums = []\n",
    "    for n in nums:\n",
    "        if i%3 == 0:\n",
    "            new_nums.append(n*3)\n",
    "        else:\n",
    "            new_nums.append(n)\n",
    "        i+=1\n",
    "    return new_nums"
   ]
  },
  {
   "cell_type": "code",
   "execution_count": null,
   "metadata": {
    "collapsed": true
   },
   "outputs": [],
   "source": [
    "# Test the function on original input\n",
    "# triple_third(nums)"
   ]
  },
  {
   "cell_type": "code",
   "execution_count": null,
   "metadata": {
    "collapsed": true
   },
   "outputs": [],
   "source": [
    "# Test the function on a new input\n",
    "# triple_third([1,1,1,1,1,1,2,2,2])"
   ]
  },
  {
   "cell_type": "markdown",
   "metadata": {},
   "source": [
    "### b. Pig latin"
   ]
  },
  {
   "cell_type": "markdown",
   "metadata": {},
   "source": [
    "Create a function that converts a sentence into pig latin. Recall that pig latin takes the first letter of every sentence, puts it at the end of the word, and adds \"ay\". For example:\n",
    "\n",
    "    \"the quick brown fox\"\n",
    "becomes\n",
    "\n",
    "    \"hetay uickqay rownbay oxfay\""
   ]
  },
  {
   "cell_type": "code",
   "execution_count": null,
   "metadata": {
    "collapsed": true
   },
   "outputs": [],
   "source": [
    "sentence = \"the quick brown fox\""
   ]
  },
  {
   "cell_type": "code",
   "execution_count": null,
   "metadata": {
    "collapsed": true
   },
   "outputs": [],
   "source": [
    "# Split the sentence into words"
   ]
  },
  {
   "cell_type": "markdown",
   "metadata": {},
   "source": [
    "**Answer:** <span style=\"color:white\">\n",
    "s = sentence.split()"
   ]
  },
  {
   "cell_type": "code",
   "execution_count": null,
   "metadata": {
    "collapsed": true
   },
   "outputs": [],
   "source": [
    "# Loop through the sentence, put the first letter last, and add 'ay'"
   ]
  },
  {
   "cell_type": "markdown",
   "metadata": {},
   "source": [
    "**Answer:** <span style=\"color:white\">\n",
    "for w in s:\n",
    "    print(w[1:] + w[0] + 'ay')"
   ]
  },
  {
   "cell_type": "code",
   "execution_count": null,
   "metadata": {
    "collapsed": true
   },
   "outputs": [],
   "source": [
    "# Store the results in a list and join it back together into a sentence"
   ]
  },
  {
   "cell_type": "markdown",
   "metadata": {},
   "source": [
    "**Answer:** <span style=\"color:white\">\n",
    "latin = []\n",
    "for w in s:\n",
    "    latin.append(w[1:] + w[0] + 'ay')\n",
    "\" \".join(latin)"
   ]
  },
  {
   "cell_type": "code",
   "execution_count": null,
   "metadata": {
    "collapsed": true
   },
   "outputs": [],
   "source": [
    "# Wrap the whole thing in a function"
   ]
  },
  {
   "cell_type": "markdown",
   "metadata": {},
   "source": [
    "**Answer:** <span style=\"color:white\">\n",
    "def pig_latin(sentence):\n",
    "    s = sentence.split()\n",
    "    latin = []\n",
    "    for w in s:\n",
    "        latin.append(w[1:] + w[0] + 'ay')\n",
    "    return \" \".join(latin)"
   ]
  },
  {
   "cell_type": "code",
   "execution_count": null,
   "metadata": {
    "collapsed": true
   },
   "outputs": [],
   "source": [
    "# Test the function\n",
    "# pig_latin(\"jumps over the lazy dog\")"
   ]
  },
  {
   "cell_type": "markdown",
   "metadata": {},
   "source": [
    "# 4. While loops"
   ]
  },
  {
   "cell_type": "markdown",
   "metadata": {},
   "source": [
    "### a. Simple examples"
   ]
  },
  {
   "cell_type": "code",
   "execution_count": null,
   "metadata": {
    "collapsed": true
   },
   "outputs": [],
   "source": [
    "# Write a while loop that squares a number until it exceeds 1000. Start with x = 1.5\n",
    "x=1.5 \n",
    "\n",
    "# While..."
   ]
  },
  {
   "cell_type": "markdown",
   "metadata": {},
   "source": [
    "**Answer:** <span style=\"color:white\">\n",
    "while x<1000:\n",
    "    x = x**2\n",
    "    print(x)"
   ]
  },
  {
   "cell_type": "code",
   "execution_count": null,
   "metadata": {
    "collapsed": true
   },
   "outputs": [],
   "source": [
    "# Write a while loop that adds items from the list \"colors\" to a string until the string length exceeds 20\n",
    "colors = ['red', 'yellow', 'green', 'blue', 'indigo', 'violet', 'chartreuse', 'magenta', 'gold']\n",
    "s = ''\n",
    "\n",
    "# While..."
   ]
  },
  {
   "cell_type": "markdown",
   "metadata": {},
   "source": [
    "**Answer:** <span style=\"color:white\">\n",
    "while len(s)<20:\n",
    "    s+=colors.pop()\n",
    "s"
   ]
  },
  {
   "cell_type": "code",
   "execution_count": null,
   "metadata": {
    "collapsed": true
   },
   "outputs": [],
   "source": [
    "# Write a loop that adds items from the list \"colors\" to a string until there is nothing left in the \"colors\" list \n",
    "# (e.g. the list is equal to [])\n",
    "colors =  ['red', 'yellow', 'green', 'blue', 'indigo', 'violet', 'chartreuse', 'magenta', 'gold']\n",
    "s = ''\n",
    "\n",
    "# While ..."
   ]
  },
  {
   "cell_type": "markdown",
   "metadata": {},
   "source": [
    "**Answer:** <span style=\"color:white\">\n",
    "while colors!=[]:\n",
    "    s+=colors.pop()    \n",
    "s"
   ]
  },
  {
   "cell_type": "code",
   "execution_count": null,
   "metadata": {
    "collapsed": true
   },
   "outputs": [],
   "source": [
    "# Write a loop that adds 5 to x and 6 to y until y exceeds x\n",
    "\n",
    "x = 10\n",
    "y = 2\n",
    "\n",
    "# While..."
   ]
  },
  {
   "cell_type": "markdown",
   "metadata": {},
   "source": [
    "**Answer:** <span style=\"color:white\">\n",
    "while x>=y:\n",
    "    x+=5\n",
    "    y+=6    \n",
    "    print(x,y)"
   ]
  },
  {
   "cell_type": "markdown",
   "metadata": {},
   "source": [
    "### b. Clocks"
   ]
  },
  {
   "cell_type": "markdown",
   "metadata": {},
   "source": [
    "Write a loop to tell me if I am late.\n",
    "- The clock will start in the morning, with some number of `hours` and `minutes`\n",
    "- The loop should increment by one minute at a time.\n",
    "    - If `minutes` exceeds 60, 60 should be removed from minutes and `hours` should be increased by 1\n",
    "    - It should print the time every 15 minutes\n",
    "    - If it is past noon, I am late"
   ]
  },
  {
   "cell_type": "code",
   "execution_count": null,
   "metadata": {
    "collapsed": true
   },
   "outputs": [],
   "source": [
    "hours = 8\n",
    "minutes = 53"
   ]
  },
  {
   "cell_type": "code",
   "execution_count": null,
   "metadata": {
    "collapsed": true
   },
   "outputs": [],
   "source": [
    "# Write a boolean statement to adjust hours and minutes, if minutes exceeds 60"
   ]
  },
  {
   "cell_type": "markdown",
   "metadata": {},
   "source": [
    "**Answer:** <span style=\"color:white\">\n",
    "if minutes>60:\n",
    "    minutes-=60\n",
    "    hours+=1"
   ]
  },
  {
   "cell_type": "code",
   "execution_count": null,
   "metadata": {
    "collapsed": true
   },
   "outputs": [],
   "source": [
    "# Write a statement to print the time if minutes are an even multiple of 15"
   ]
  },
  {
   "cell_type": "markdown",
   "metadata": {},
   "source": [
    "**Answer:** <span style=\"color:white\">\n",
    "if minutes%15 == 0:\n",
    "    print(f\"It's {hours}:{minutes:02.0f}\")"
   ]
  },
  {
   "cell_type": "code",
   "execution_count": null,
   "metadata": {
    "collapsed": true
   },
   "outputs": [],
   "source": [
    "# Write a function to print \"You're late\" if it's past noon"
   ]
  },
  {
   "cell_type": "markdown",
   "metadata": {},
   "source": [
    "**Answer:** <span style=\"color:white\">\n",
    "if hours>=12:\n",
    "    print(\"You're late\")"
   ]
  },
  {
   "cell_type": "code",
   "execution_count": null,
   "metadata": {
    "collapsed": true
   },
   "outputs": [],
   "source": [
    "# Wrap everything in a while loop that increments minute by minute until it's noon"
   ]
  },
  {
   "cell_type": "markdown",
   "metadata": {},
   "source": [
    "**Answer:** <span style=\"color:white\">\n",
    "while hours<12:\n",
    "    if minutes>=60:\n",
    "        minutes-=60\n",
    "        hours+=1\n",
    "    if minutes%15 == 0:\n",
    "        print(f\"It's {hours}:{minutes:02.0f}\")\n",
    "    if hours>=12:\n",
    "        print(\"You're late\")\n",
    "    minutes+=1"
   ]
  },
  {
   "cell_type": "code",
   "execution_count": null,
   "metadata": {
    "collapsed": true
   },
   "outputs": [],
   "source": [
    "# Now, put all of *this* in a function that takes 'hours', 'minutes' as its argument"
   ]
  },
  {
   "cell_type": "markdown",
   "metadata": {},
   "source": [
    "**Answer:** <span style=\"color:white\">\n",
    "def late(hours,minutes):\n",
    "    while hours<12:\n",
    "        if minutes>=60:\n",
    "            minutes-=60\n",
    "            hours+=1\n",
    "        if minutes%15 == 0:\n",
    "            print(f\"It's {hours}:{minutes:02.0f}\")\n",
    "        if hours>=12:\n",
    "            print(\"You're late\")\n",
    "        minutes+=1"
   ]
  },
  {
   "cell_type": "code",
   "execution_count": null,
   "metadata": {
    "collapsed": true
   },
   "outputs": [],
   "source": [
    "# Test the function\n",
    "# late(6,32)"
   ]
  },
  {
   "cell_type": "markdown",
   "metadata": {},
   "source": [
    "### c. Casablanca"
   ]
  },
  {
   "cell_type": "markdown",
   "metadata": {},
   "source": [
    "Consider the following list of classic quotes from the movie \"Casablanca.\""
   ]
  },
  {
   "cell_type": "code",
   "execution_count": null,
   "metadata": {
    "collapsed": true
   },
   "outputs": [],
   "source": [
    "casablanca = [\n",
    "    \"I'm shocked, shocked to find that gambling is going on in here!\\n... Sir, you're winning.\\n\",\n",
    "    \"What is your nationality?\\n... I'm a drunkard.\\n... That makes Rick a citizen of the world.\\n\",\n",
    "    \"Here's to looking at you, kid.\\n\",\n",
    "    \"We'll always have Paris.\\n\", \n",
    "    \"Of all the gin joints in all the world... She had to walk into mine.\\n\",\n",
    "    \"Go ahead and shoot. You'll be doing me a favor.\\n\",\n",
    "    \"Louis, I think this is the beginning of a beautiful friendship.\\n\",\n",
    "    \"You know, Rick, I have many a friend in Casablanca, but somehow, just because you despise me, you are the only one I trust.\\n\",\n",
    "    \"Rick, I'm going to miss you. Apparently, you're the only one in Casablanca with less scruples than I.\\n\",\n",
    "    \"I came to Casablanca for the waters.\\n... Waters?! We're in a DESERT!\\nI was misinformed.\\n\",\n",
    "    \"Round up the usual suspects!\\n\",\n",
    "    \"Remember, this gun is pointed right at your heart.\\n... That is my least vulnerable spot.\\n\",\n",
    "    \"You despise me don't you?\\n...Well if I gave you any thought I probably would.\\n\",\n",
    "    \"Where were you last night?\\n... That's so long ago, I don't remember.\\nWill I see you tonight?\\n...I never make plans that far ahead.\\n\"]"
   ]
  },
  {
   "cell_type": "markdown",
   "metadata": {},
   "source": [
    "In this exercise, we will:\n",
    "   - Sample a random line from the movie\n",
    "   - Write a while loop to keep sampling until we find a quote we're looking for\n",
    "   - Wrap this inside a function"
   ]
  },
  {
   "cell_type": "markdown",
   "metadata": {},
   "source": [
    " - Step 1: Print a random line from the movie. Remember that `random.choice()` can be used to sample items from the list"
   ]
  },
  {
   "cell_type": "code",
   "execution_count": null,
   "metadata": {
    "collapsed": true
   },
   "outputs": [],
   "source": [
    "import random"
   ]
  },
  {
   "cell_type": "code",
   "execution_count": null,
   "metadata": {
    "collapsed": true
   },
   "outputs": [],
   "source": [
    "# Get a random quote"
   ]
  },
  {
   "cell_type": "markdown",
   "metadata": {},
   "source": [
    "**Answer:** <span style=\"color:white\">\n",
    "quote = random.choice(casablanca)\n",
    "print(quote)"
   ]
  },
  {
   "cell_type": "markdown",
   "metadata": {},
   "source": [
    "- Step 2: Test whether a given `word` is in a random quote."
   ]
  },
  {
   "cell_type": "code",
   "execution_count": null,
   "metadata": {
    "collapsed": true
   },
   "outputs": [],
   "source": [
    "# Check if word is in random quote\n",
    "\n",
    "word = \"Rick\""
   ]
  },
  {
   "cell_type": "markdown",
   "metadata": {},
   "source": [
    "**Answer:** <span style=\"color:white\">\n",
    "quote = random.choice(casablanca)\n",
    "print(quote)\n",
    "print(f\"-- Is {word} in quote?\")\n",
    "print(word in quote)"
   ]
  },
  {
   "cell_type": "markdown",
   "metadata": {},
   "source": [
    "- Step 3: Write a while loop with to keep returning random lines until a quote with `word` is found."
   ]
  },
  {
   "cell_type": "code",
   "execution_count": null,
   "metadata": {
    "collapsed": true
   },
   "outputs": [],
   "source": [
    "# Keep returning random lines until a quote with word is found\n",
    "\n",
    "word = \"Rick\"\n",
    "found = False\n",
    "\n",
    "#while found==False:"
   ]
  },
  {
   "cell_type": "markdown",
   "metadata": {},
   "source": [
    "**Answer:** <span style=\"color:white\">\n",
    "found = False\n",
    "while found==False:    \n",
    "    quote = random.choice(casablanca)\n",
    "    print(quote)\n",
    "    if word in quote:\n",
    "        found=True"
   ]
  },
  {
   "cell_type": "markdown",
   "metadata": {},
   "source": [
    "- Step 4: Use a loop counter to prevent an infinite loop; if more than 5 random samples have been taken and the word hasn't been found, break the loop\n"
   ]
  },
  {
   "cell_type": "code",
   "execution_count": null,
   "metadata": {
    "collapsed": true
   },
   "outputs": [],
   "source": [
    "# Add a loop counter\n",
    "\n",
    "word = \"Rick\"\n",
    "found = False\n",
    "i = 1\n",
    "\n",
    "#while found==False:"
   ]
  },
  {
   "cell_type": "markdown",
   "metadata": {},
   "source": [
    "**Answer:** <span style=\"color:white\">\n",
    "i = 1\n",
    "found = False\n",
    "while found==False:\n",
    "    quote = random.choice(casablanca)    \n",
    "    print(quote)    \n",
    "    if word in quote:\n",
    "        found=True    \n",
    "    if i>=5:\n",
    "        break    \n",
    "    i+=1"
   ]
  },
  {
   "cell_type": "markdown",
   "metadata": {},
   "source": [
    "- Step 5: Wrap this inside a function. \n",
    "     - As an argument, your function should take the list `casablanca`, and the search word `word`\n",
    "     - It should return a random quote, or else the string \"quote not found\" if more than 5 iterations have been exceeded."
   ]
  },
  {
   "cell_type": "code",
   "execution_count": null,
   "metadata": {
    "collapsed": true
   },
   "outputs": [],
   "source": [
    "# Function to search for word in casablanca\n",
    "\n",
    "# def random_casablanca(casablanca, word):    "
   ]
  },
  {
   "cell_type": "markdown",
   "metadata": {},
   "source": [
    "**Answer:** <span style=\"color:white\">\n",
    "def random_casablanca(casablanca, word):    \n",
    "    i = 1\n",
    "    found = False\n",
    "    while found==False:\n",
    "        quote = random.choice(casablanca)\n",
    "        if word in quote:\n",
    "            found=True\n",
    "            return quote\n",
    "        if i>=5:\n",
    "            return \"Quote not found\"\n",
    "        i+=1    "
   ]
  },
  {
   "cell_type": "code",
   "execution_count": null,
   "metadata": {
    "collapsed": true
   },
   "outputs": [],
   "source": [
    "# Test the function \n",
    "# result = random_casablanca(casablanca, \"Casablanca\")\n",
    "# print(result)"
   ]
  }
 ],
 "metadata": {
  "kernelspec": {
   "display_name": "Python 3",
   "language": "python",
   "name": "python3"
  },
  "language_info": {
   "codemirror_mode": {
    "name": "ipython",
    "version": 3
   },
   "file_extension": ".py",
   "mimetype": "text/x-python",
   "name": "python",
   "nbconvert_exporter": "python",
   "pygments_lexer": "ipython3",
   "version": "3.6.6"
  },
  "latex_envs": {
   "LaTeX_envs_menu_present": true,
   "autoclose": false,
   "autocomplete": true,
   "bibliofile": "biblio.bib",
   "cite_by": "apalike",
   "current_citInitial": 1,
   "eqLabelWithNumbers": true,
   "eqNumInitial": 1,
   "hotkeys": {
    "equation": "Ctrl-E",
    "itemize": "Ctrl-I"
   },
   "labels_anchors": false,
   "latex_user_defs": false,
   "report_style_numbering": false,
   "user_envs_cfg": false
  },
  "toc": {
   "base_numbering": 1,
   "nav_menu": {},
   "number_sections": false,
   "sideBar": true,
   "skip_h1_title": false,
   "title_cell": "Table of Contents",
   "title_sidebar": "Contents",
   "toc_cell": false,
   "toc_position": {
    "height": "calc(100% - 180px)",
    "left": "10px",
    "top": "150px",
    "width": "427px"
   },
   "toc_section_display": true,
   "toc_window_display": true
  }
 },
 "nbformat": 4,
 "nbformat_minor": 2
}

{
 "cells": [
  {
   "cell_type": "markdown",
   "metadata": {},
   "source": [
    "# User-Defined Functions"
   ]
  },
  {
   "cell_type": "markdown",
   "metadata": {},
   "source": [
    "We will now learn how to write our own functions. \n",
    "\n",
    "Why do we want to do that?\n",
    "\n",
    "Because as programs become more complex, they start involving more and more steps. At some point, the code becomes very long, and it becomes difficult to understand what is going on. It is the equivalent of having a book without chapters, sections, or any form of structure. In fact, long code that is not using functions is often called \"spaghetti code\", because it is long and messy.\n",
    "\n",
    "So, once you start writing your code using functions, your program will start reading like a sequence of high-level steps, making your code much more readable. There are many other advantages, but at first, you will notice readability as the first key benefit.\n",
    "\n"
   ]
  },
  {
   "cell_type": "markdown",
   "metadata": {},
   "source": [
    "## Creating User Defined Functions\n"
   ]
  },
  {
   "cell_type": "markdown",
   "metadata": {},
   "source": [
    "To define a function in Python, we need the following:\n",
    "* Function definition in Python start with the `def` keyword\n",
    "* After `def` we put the name of the function\n",
    "* After the name of the function we put an opening parenthesis,  and\n",
    "* Inside the parentheses the names of zero or more input variables, separated by commas, followed by a closing parethesis, and\n",
    "* After the closing parentheses we have a colon `:`\n",
    "* Then we put a block of code with the actions for the function.\n",
    "* At the end of the function code, we have a `return` statement, followed by the output of the function"
   ]
  },
  {
   "cell_type": "markdown",
   "metadata": {},
   "source": [
    "Let's see a few examples"
   ]
  },
  {
   "cell_type": "markdown",
   "metadata": {},
   "source": [
    "## Example 1: Square a number"
   ]
  },
  {
   "cell_type": "markdown",
   "metadata": {},
   "source": [
    "We want to write a function that takes as input a number $x$ and returns back its square $x^2$. We will call the function `square`. So we write:"
   ]
  },
  {
   "cell_type": "code",
   "execution_count": null,
   "metadata": {},
   "outputs": [],
   "source": [
    "def square(x):\n",
    "    result = x*x\n",
    "    return result"
   ]
  },
  {
   "cell_type": "markdown",
   "metadata": {},
   "source": [
    "So, let's dissect the example above:\n",
    "\n",
    "* We start with the `def` keyword\n",
    "* After def we put the name of the function `square`\n",
    "* After the name of the function, `square` we have a pair of parentheses, with one input variable `x` inside\n",
    "* After the closing parentheses we have a colon `:`\n",
    "* Then we have our code that computes the square of x (`result = x*x`)\n",
    "* And at the end of the function code, we have a `return` statement that returns back the `result`"
   ]
  },
  {
   "cell_type": "markdown",
   "metadata": {},
   "source": [
    "Notice that nothing happens once you execute the cell above. To use the function, you need to call it. For example:"
   ]
  },
  {
   "cell_type": "code",
   "execution_count": null,
   "metadata": {},
   "outputs": [],
   "source": [
    "square(5)"
   ]
  },
  {
   "cell_type": "code",
   "execution_count": null,
   "metadata": {},
   "outputs": [],
   "source": [
    "square(40)"
   ]
  },
  {
   "cell_type": "code",
   "execution_count": null,
   "metadata": {},
   "outputs": [],
   "source": [
    "square(-1.2)"
   ]
  },
  {
   "cell_type": "code",
   "execution_count": null,
   "metadata": {},
   "outputs": [],
   "source": [
    "# notice that square function RETURNS a value that  we can store in variable y \n",
    "num = 3\n",
    "y = square(num) \n",
    "print(y)"
   ]
  },
  {
   "cell_type": "code",
   "execution_count": null,
   "metadata": {},
   "outputs": [],
   "source": [
    "for num in range(15):\n",
    "    y = square(num)\n",
    "    print(f\"The square of {num} is {y}\")"
   ]
  },
  {
   "cell_type": "markdown",
   "metadata": {},
   "source": [
    "_Note: If you try to execute the cell that use the function `square` but you have not executed the cell that contains the function definition, then you will get an error. In order to use a function, you first need to define it, and execute the corresponding code._"
   ]
  },
  {
   "cell_type": "markdown",
   "metadata": {},
   "source": [
    "## Example 2: From pounds to kilograms\n",
    "\n"
   ]
  },
  {
   "cell_type": "markdown",
   "metadata": {},
   "source": [
    "We want to write a function that converts weight from pounds to kilograms. The conversion is 1 pound = 0.453592 Kilograms.\n",
    "\n",
    "For example: Weight of 155 lbs is 70.30676 Kg"
   ]
  },
  {
   "cell_type": "markdown",
   "metadata": {},
   "source": [
    "Let's see first how we would write this as straightforward code, without a function:"
   ]
  },
  {
   "cell_type": "code",
   "execution_count": null,
   "metadata": {},
   "outputs": [],
   "source": [
    "weight_lbs = 155\n",
    "weight_kg = weight_lbs * 0.453592\n",
    "print(f\"{weight_lbs} lbs is {weight_kg} kgs\")"
   ]
  },
  {
   "cell_type": "markdown",
   "metadata": {},
   "source": [
    "And to avoid having a magic number, we may want to assign 0.453592 to a variable:"
   ]
  },
  {
   "cell_type": "code",
   "execution_count": null,
   "metadata": {},
   "outputs": [],
   "source": [
    "weight_lbs = 155\n",
    "kg_in_lb = 0.453592\n",
    "weight_kg = weight_lbs * kg_in_lb\n",
    "print(f\"{weight_lbs} lbs is {weight_kg} kgs\")"
   ]
  },
  {
   "cell_type": "markdown",
   "metadata": {},
   "source": [
    "Now, let's convert this into a function. We will call it `pounds_to_kg`.\n",
    "\n",
    "So lets see also what are the inputs and outputs: In this case it is simple, we have the weight in pounds as input, and we get as output the weight in kilograms."
   ]
  },
  {
   "cell_type": "code",
   "execution_count": null,
   "metadata": {},
   "outputs": [],
   "source": [
    "def pounds_to_kg(lbs):\n",
    "    kg_in_lb = 0.453592\n",
    "    kgs = lbs * kg_in_lb\n",
    "    return kgs"
   ]
  },
  {
   "cell_type": "markdown",
   "metadata": {},
   "source": [
    "And now that we have defined our function, we can use it:"
   ]
  },
  {
   "cell_type": "code",
   "execution_count": null,
   "metadata": {},
   "outputs": [],
   "source": [
    "weight_lbs = 155\n",
    "weight_kg = pounds_to_kg(weight_lbs)\n",
    "print(f\"{weight_lbs} lbs is {weight_kg} kgs\")"
   ]
  },
  {
   "cell_type": "markdown",
   "metadata": {},
   "source": [
    "Notice one thing: The `kg_in_lb = 0.453592` variable does not appear outside the function anymore. This is a simple example of abstraction: We do not need to care how the conversion happens, or what the calculation is anymore. We can simply use the function.\n",
    "\n",
    "Of course, in this example it is trivial, but as our code becomes more and more complex, hiding the details becomes more and more important"
   ]
  },
  {
   "cell_type": "markdown",
   "metadata": {},
   "source": [
    "### Attention: Common mistake, `print` instead of `return`"
   ]
  },
  {
   "cell_type": "markdown",
   "metadata": {},
   "source": [
    "Now, let's examine a common mistake. The code below takes the initial code, and fits it in a function."
   ]
  },
  {
   "cell_type": "code",
   "execution_count": null,
   "metadata": {},
   "outputs": [],
   "source": [
    "def pounds_to_kg(lbs):\n",
    "    kg_in_lb = 0.453592\n",
    "    weight_kg = lbs * kg_in_lb\n",
    "    print(f\"{lbs} lbs is {weight_kg} kgs\")"
   ]
  },
  {
   "cell_type": "markdown",
   "metadata": {},
   "source": [
    "What is the critical difference? The function above uses a `print` statement instead of a `return`. \n",
    "\n",
    "This is a very common mistake for beginners. It also takes a lot of time to overcome this, because the code \"works\", as we can see below."
   ]
  },
  {
   "cell_type": "code",
   "execution_count": null,
   "metadata": {},
   "outputs": [],
   "source": [
    "weight_lbs = 155\n",
    "pounds_to_kg(weight_lbs)"
   ]
  },
  {
   "cell_type": "markdown",
   "metadata": {},
   "source": [
    "However, see what happens if we change the code, and try to store the result of the function in a variable."
   ]
  },
  {
   "cell_type": "code",
   "execution_count": null,
   "metadata": {},
   "outputs": [],
   "source": [
    "weight_lbs = 155\n",
    "weight_kgs = pounds_to_kg(weight_lbs)\n",
    "print(f\"{weight_lbs} lbs is {weight_kgs} kgs\")"
   ]
  },
  {
   "cell_type": "markdown",
   "metadata": {},
   "source": [
    "Notice that the variable `weight_kgs` has the valune `None`. This happened because the function did not generate any output. **Printing is NOT a function output**. Only the `return` keyword generate the output for the function."
   ]
  },
  {
   "cell_type": "markdown",
   "metadata": {},
   "source": [
    "## Example 3: Meal with tip and tax"
   ]
  },
  {
   "cell_type": "markdown",
   "metadata": {},
   "source": [
    "Now let's revisit our example from the earlier sessions in the class: Compute the total cost of a meal. \n",
    "\n",
    "Suppose that we buy food for \\$30. We also need to pay the tax on top (which is 8.875\\% in NY), and put a tip, say 15\\%, on the pre-tax amount. The code for doing this calculation:"
   ]
  },
  {
   "cell_type": "code",
   "execution_count": null,
   "metadata": {},
   "outputs": [],
   "source": [
    "food = 30\n",
    "tax = 8.875/100\n",
    "tip = 15/100\n",
    "cost = food + food * tax + food * tip\n",
    "print(f\"The cost of the meal will be: ${cost}\")"
   ]
  },
  {
   "cell_type": "markdown",
   "metadata": {},
   "source": [
    "Now let's define a function called `meal_cost`. What are the inputs and outputs in this case?\n",
    "\n",
    "* Inputs: food cost, tax, tip\n",
    "* Output: Total cost\n",
    "\n"
   ]
  },
  {
   "cell_type": "code",
   "execution_count": null,
   "metadata": {},
   "outputs": [],
   "source": [
    "def meal_cost(food_cost, tax_rate, tip_perc):\n",
    "    total_cost = food_cost + food_cost * tax_rate + food * tip_perc\n",
    "    return total_cost"
   ]
  },
  {
   "cell_type": "code",
   "execution_count": null,
   "metadata": {},
   "outputs": [],
   "source": [
    "food = 30\n",
    "tax = 8.875/100\n",
    "tip = 15/100\n",
    "cost = meal_cost(food, tax, tip)\n",
    "print(f\"The cost of the meal will be: ${cost}\")"
   ]
  },
  {
   "cell_type": "markdown",
   "metadata": {},
   "source": [
    "Now, let's start making some changes. Say that we want to enter the tax as a percentage, and not as a small decimal. So we would like to have `tax = 8.875` instead of `tax = 8.875/100`. Similarly for the tip. We also want the cost to be rounded to two decimals"
   ]
  },
  {
   "cell_type": "code",
   "execution_count": null,
   "metadata": {},
   "outputs": [],
   "source": [
    "def meal_cost(food_cost, tax_rate, tip_perc):\n",
    "    total_cost = food_cost + food_cost * (tax_rate/100) + food_cost * (tip_perc/100)\n",
    "    total_cost = round(total_cost,2)\n",
    "    return total_cost"
   ]
  },
  {
   "cell_type": "code",
   "execution_count": null,
   "metadata": {},
   "outputs": [],
   "source": [
    "food = 30\n",
    "tax = 8.875\n",
    "tip = 15\n",
    "cost = meal_cost(food, tax, tip)\n",
    "print(f\"The cost of the meal will be: ${cost}\")"
   ]
  },
  {
   "cell_type": "markdown",
   "metadata": {},
   "source": [
    "## Example 4: Get the length of a text in words\n",
    "\n"
   ]
  },
  {
   "cell_type": "markdown",
   "metadata": {},
   "source": [
    "We will now write a non-math oriented function. We want a function that takes as input a piece of text, and returns the number of words in it. What is the length of the article in words? For simplicity we assume that words are separated by spaces."
   ]
  },
  {
   "cell_type": "code",
   "execution_count": null,
   "metadata": {},
   "outputs": [],
   "source": [
    "article = \"\"\"One person was believed to be missing after an oil rig storage platform exploded Sunday night on Lake Pontchartrain, just north and west of New Orleans. Seven people were taken to hospitals after the explosion, and three of them remained in critical condition Monday morning, Mike Guillot, the director of emergency medical services at East Jefferson General Hospital, said at a news conference. The other four were released. Sheriff Joe Lopinto of Jefferson Parish said at the news conference, We are fairly confident there is an eighth person, adding that search efforts were continuing, and the Coast Guard had contacted the family of the person. No fatalities had been reported as of Monday morning. The blast occurred shortly after seven pm near St Charles Parish and the city of Kenner. The platform is in unincorporated Jefferson Parish. Officials are still investigating the cause of the explosion, but the City of Kenner said on its Facebook page that authorities on the scene report that cleaning chemicals ignited on the surface of the oil rig platform.\"\"\"\n",
    "print(article)"
   ]
  },
  {
   "cell_type": "code",
   "execution_count": null,
   "metadata": {},
   "outputs": [],
   "source": [
    "words = article.split(\" \")\n",
    "print(words)"
   ]
  },
  {
   "cell_type": "code",
   "execution_count": null,
   "metadata": {},
   "outputs": [],
   "source": [
    "len_words = len(words)\n",
    "print(len_words)"
   ]
  },
  {
   "cell_type": "markdown",
   "metadata": {},
   "source": [
    "So, in this case, we have the input being the string variable that contains the text, and the output is a number."
   ]
  },
  {
   "cell_type": "code",
   "execution_count": null,
   "metadata": {},
   "outputs": [],
   "source": [
    "def article_length(text):\n",
    "    words = text.split(\" \")\n",
    "    length = len(words)\n",
    "    return length"
   ]
  },
  {
   "cell_type": "code",
   "execution_count": null,
   "metadata": {},
   "outputs": [],
   "source": [
    "len_words = article_length(article)\n",
    "print(f\"The article length is {len_words} words\")"
   ]
  },
  {
   "cell_type": "markdown",
   "metadata": {},
   "source": [
    "## Exercise 1: Check if a number is within a range\n"
   ]
  },
  {
   "cell_type": "markdown",
   "metadata": {},
   "source": [
    "\n",
    "Write a function `in_range` that checks if a number `n` is within a given range `(a ... b)` (inclusive on both ends) and returns `True` or `False`. The function takes `n`, `a`, and `b` as parameters.\n",
    "\n"
   ]
  },
  {
   "cell_type": "code",
   "execution_count": null,
   "metadata": {},
   "outputs": [],
   "source": [
    "# your code here"
   ]
  },
  {
   "cell_type": "markdown",
   "metadata": {
    "solution2": "shown",
    "solution2_first": true
   },
   "source": [
    "### Solution"
   ]
  },
  {
   "cell_type": "code",
   "execution_count": null,
   "metadata": {
    "solution2": "shown"
   },
   "outputs": [],
   "source": [
    "def in_range(n, a, b):\n",
    "    if n>=a and n <=b:\n",
    "        return True\n",
    "    else:\n",
    "        return False"
   ]
  },
  {
   "cell_type": "code",
   "execution_count": null,
   "metadata": {
    "solution2": "shown"
   },
   "outputs": [],
   "source": [
    "n = 10\n",
    "a = 5\n",
    "b = 15\n",
    "in_range(n, a, b)"
   ]
  },
  {
   "cell_type": "code",
   "execution_count": null,
   "metadata": {
    "solution2": "shown"
   },
   "outputs": [],
   "source": [
    "n = 2\n",
    "a = 5\n",
    "b = 15\n",
    "in_range(n, a, b)"
   ]
  },
  {
   "cell_type": "markdown",
   "metadata": {},
   "source": [
    "## Exercise 2: Remove duplicate entries from a list, and sort"
   ]
  },
  {
   "cell_type": "markdown",
   "metadata": {},
   "source": [
    "Write a `dedup` function that takes as input a list and returns back another list, with only unique elements and sorted. For example, if the input is `[1,2,5,5,5,3,3,3,3,4,5]` the returned list should be `[1, 2, 3, 4, 5]`. If the input is `['New York', 'New York',  'Paris', 'London', 'Paris']` the returned list should be `['London', 'New York', 'Paris']`."
   ]
  },
  {
   "cell_type": "code",
   "execution_count": null,
   "metadata": {},
   "outputs": [],
   "source": [
    "def dedup(input_list):\n",
    "    ... #your code here"
   ]
  },
  {
   "cell_type": "code",
   "execution_count": null,
   "metadata": {},
   "outputs": [],
   "source": [
    "# Running the code below should return [1, 2, 3, 4, 5]\n",
    "in_list = [1,2,5,5,5,3,3,3,3,4,5]\n",
    "dedup(in_list)"
   ]
  },
  {
   "cell_type": "code",
   "execution_count": null,
   "metadata": {},
   "outputs": [],
   "source": [
    "# Running the code below should return ['London', 'New York', 'Paris']\n",
    "in_list = ['New York', 'New York',  'Paris', 'London', 'Paris']\n",
    "dedup(in_list)"
   ]
  },
  {
   "cell_type": "markdown",
   "metadata": {
    "solution2": "shown",
    "solution2_first": true
   },
   "source": [
    "### Solution"
   ]
  },
  {
   "cell_type": "code",
   "execution_count": null,
   "metadata": {
    "solution2": "shown"
   },
   "outputs": [],
   "source": [
    "def dedup(input_list):\n",
    "    nodupes = set(input_list)\n",
    "    result = sorted(nodupes)\n",
    "    return result"
   ]
  },
  {
   "cell_type": "code",
   "execution_count": null,
   "metadata": {
    "solution2": "shown"
   },
   "outputs": [],
   "source": [
    "in_list = [1,2,5,5,5,3,3,3,3,4,5]\n",
    "dedup(in_list)"
   ]
  },
  {
   "cell_type": "code",
   "execution_count": null,
   "metadata": {
    "solution2": "shown"
   },
   "outputs": [],
   "source": [
    "in_list = ['New York', 'New York',  'Paris', 'London', 'Paris']\n",
    "dedup(in_list)"
   ]
  },
  {
   "cell_type": "code",
   "execution_count": null,
   "metadata": {},
   "outputs": [],
   "source": []
  }
 ],
 "metadata": {
  "kernelspec": {
   "display_name": "Python 3",
   "language": "python",
   "name": "python3"
  },
  "language_info": {
   "codemirror_mode": {
    "name": "ipython",
    "version": 3
   },
   "file_extension": ".py",
   "mimetype": "text/x-python",
   "name": "python",
   "nbconvert_exporter": "python",
   "pygments_lexer": "ipython3",
   "version": "3.6.6"
  }
 },
 "nbformat": 4,
 "nbformat_minor": 1
}

{
 "cells": [
  {
   "cell_type": "markdown",
   "metadata": {},
   "source": [
    "# Using the Surprise library\n",
    "\n",
    "[Surprise](http://surpriselib.com/) is a Python scikit building and analyzing recommender systems that deal with explicit rating data. Its name stands for Simple Python RecommendatIon System Engine."
   ]
  },
  {
   "cell_type": "code",
   "execution_count": 1,
   "metadata": {},
   "outputs": [],
   "source": [
    "from surprise import KNNBasic\n",
    "from surprise import SVD\n",
    "from surprise import Dataset\n",
    "from collections import defaultdict\n",
    "from surprise import get_dataset_dir\n",
    "from surprise.model_selection import train_test_split\n",
    "import io\n",
    "import time\n",
    "import matplotlib.pyplot as plt\n",
    "%matplotlib inline"
   ]
  },
  {
   "cell_type": "markdown",
   "metadata": {},
   "source": [
    "Below we will create an SVD model using the 100k dataset from MovieLens. This takes a few seconds to run so be patient!"
   ]
  },
  {
   "cell_type": "code",
   "execution_count": 2,
   "metadata": {},
   "outputs": [],
   "source": [
    "\n",
    "# First train an SVD algorithm on the movielens dataset.\n",
    "data = Dataset.load_builtin('ml-100k') # there are a couple of famous Rec System datasets available in this library\n",
    "trainset = data.build_full_trainset()\n",
    "algo = SVD()\n",
    "algo.fit(trainset)\n",
    "\n",
    "# Then predict ratings for all pairs (u, i) that are NOT in the training set.\n",
    "testset = trainset.build_anti_testset() # Return a list of ratings that can be used as a testset\n",
    "predictions = algo.test(testset)"
   ]
  },
  {
   "cell_type": "code",
   "execution_count": 5,
   "metadata": {},
   "outputs": [
    {
     "name": "stdout",
     "output_type": "stream",
     "text": [
      "[Prediction(uid='196', iid='302', r_ui=3.52986, est=4.261726904081705, details={'was_impossible': False}), Prediction(uid='196', iid='377', r_ui=3.52986, est=2.779626499603194, details={'was_impossible': False}), Prediction(uid='196', iid='51', r_ui=3.52986, est=3.5185868946605665, details={'was_impossible': False}), Prediction(uid='196', iid='346', r_ui=3.52986, est=3.6546897854832348, details={'was_impossible': False}), Prediction(uid='196', iid='474', r_ui=3.52986, est=4.249149513494704, details={'was_impossible': False})]\n"
     ]
    }
   ],
   "source": [
    "# some examples of predictions\n",
    "print(predictions[:5])"
   ]
  },
  {
   "cell_type": "markdown",
   "metadata": {},
   "source": [
    "## Some helper functions\n",
    "\n",
    "We have built the predictions. Now we can visualize them. We first write these helpers functions."
   ]
  },
  {
   "cell_type": "code",
   "execution_count": 6,
   "metadata": {},
   "outputs": [],
   "source": [
    "from tmdb_class import TMDB # The class to retrive the movie poster images\n",
    "\n",
    "def read_item_names():\n",
    "    '''Read the u.item file from MovieLens 100-k dataset and return two\n",
    "    mappings to convert raw ids into movie names and movie names into raw ids.\n",
    "    '''\n",
    "\n",
    "    file_name = get_dataset_dir() + '/ml-100k/ml-100k/u.item'\n",
    "    rid_to_name = {}\n",
    "    name_to_rid = {}\n",
    "    with io.open(file_name, 'r', encoding='ISO-8859-1') as f:\n",
    "        for line in f:\n",
    "            line = line.split('|')\n",
    "            rid_to_name[line[0]] = line[1]\n",
    "            name_to_rid[line[1]] = line[0]\n",
    "\n",
    "    return rid_to_name, name_to_rid\n",
    "\n",
    "\n",
    "def get_top_n(predictions, n=10):\n",
    "    '''Return the top-N recommendation for each user from a set of predictions.\n",
    "\n",
    "    Args:\n",
    "        predictions(list of Prediction objects): The list of predictions, as\n",
    "            returned by the test method of an algorithm.\n",
    "        n(int): The number of recommendation to output for each user. Default\n",
    "            is 10.\n",
    "\n",
    "    Returns:\n",
    "    A dict where keys are user (raw) ids and values are lists of tuples:\n",
    "        [(raw item id, rating estimation), ...] of size n.\n",
    "    '''\n",
    "\n",
    "    # First map the predictions to each user.\n",
    "    top_n = defaultdict(list) # This is used to group a sequence of key-value pairs into a dictionary of lists\n",
    "    for uid, iid, true_r, est, _ in predictions:\n",
    "        top_n[uid].append((iid, est))\n",
    "\n",
    "    # Then sort the predictions for each user and retrieve the k highest ones.\n",
    "    for uid, user_ratings in top_n.items():\n",
    "        user_ratings.sort(key=lambda x: x[1], reverse=True)\n",
    "        top_n[uid] = user_ratings[:n]\n",
    "\n",
    "    return top_n\n"
   ]
  },
  {
   "cell_type": "markdown",
   "metadata": {},
   "source": [
    "# Visualizing the recommendations\n",
    "\n",
    "We can see for each user what are the top recommended movies."
   ]
  },
  {
   "cell_type": "code",
   "execution_count": 8,
   "metadata": {},
   "outputs": [
    {
     "data": {
      "text/plain": [
       "[('114', 4.639253139063324),\n",
       " ('272', 4.586688462070978),\n",
       " ('178', 4.577128644063579),\n",
       " ('483', 4.450129334790051),\n",
       " ('169', 4.444367508925861),\n",
       " ('963', 4.4000679939409295),\n",
       " ('156', 4.385139371254366),\n",
       " ('480', 4.373013197382889),\n",
       " ('223', 4.360117208893587),\n",
       " ('199', 4.332008744542402)]"
      ]
     },
     "execution_count": 8,
     "metadata": {},
     "output_type": "execute_result"
    }
   ],
   "source": [
    "top_n = get_top_n(predictions)\n",
    "top_n['943']"
   ]
  },
  {
   "cell_type": "code",
   "execution_count": 9,
   "metadata": {
    "scrolled": false
   },
   "outputs": [
    {
     "name": "stdout",
     "output_type": "stream",
     "text": [
      "1 ['408', '483', '474', '357', '318', '480', '511', '285', '514', '1007']\n",
      "1 ['Close Shave, A (1995)', 'Casablanca (1942)', 'Dr. Strangelove or: How I Learned to Stop Worrying and Love the Bomb (1963)', \"One Flew Over the Cuckoo's Nest (1975)\", \"Schindler's List (1993)\", 'North by Northwest (1959)', 'Lawrence of Arabia (1962)', 'Secrets & Lies (1996)', 'Annie Hall (1977)', 'Waiting for Guffman (1996)']\n",
      "Close Shave, A (1995)\n",
      "None\n",
      "Casablanca (1942)\n",
      "http://image.tmdb.org/t/p/w200/wOBKAoUJZb5qTsWv5XXvVV2vUzz.jpg\n"
     ]
    },
    {
     "data": {
      "text/html": [
       "<img src=\"http://image.tmdb.org/t/p/w200/wOBKAoUJZb5qTsWv5XXvVV2vUzz.jpg\"/>"
      ],
      "text/plain": [
       "<IPython.core.display.Image object>"
      ]
     },
     "metadata": {},
     "output_type": "display_data"
    },
    {
     "name": "stdout",
     "output_type": "stream",
     "text": [
      "Dr. Strangelove or: How I Learned to Stop Worrying and Love the Bomb (1963)\n",
      "http://image.tmdb.org/t/p/w200/tviJ68Wj4glQk3CPMvdvExYHxX.jpg\n"
     ]
    },
    {
     "data": {
      "text/html": [
       "<img src=\"http://image.tmdb.org/t/p/w200/tviJ68Wj4glQk3CPMvdvExYHxX.jpg\"/>"
      ],
      "text/plain": [
       "<IPython.core.display.Image object>"
      ]
     },
     "metadata": {},
     "output_type": "display_data"
    },
    {
     "name": "stdout",
     "output_type": "stream",
     "text": [
      "One Flew Over the Cuckoo's Nest (1975)\n",
      "http://image.tmdb.org/t/p/w200/2Sns5oMb356JNdBHgBETjIpRYy9.jpg\n"
     ]
    },
    {
     "data": {
      "text/html": [
       "<img src=\"http://image.tmdb.org/t/p/w200/2Sns5oMb356JNdBHgBETjIpRYy9.jpg\"/>"
      ],
      "text/plain": [
       "<IPython.core.display.Image object>"
      ]
     },
     "metadata": {},
     "output_type": "display_data"
    },
    {
     "name": "stdout",
     "output_type": "stream",
     "text": [
      "Schindler's List (1993)\n",
      "http://image.tmdb.org/t/p/w200/yPisjyLweCl1tbgwgtzBCNCBle.jpg\n"
     ]
    },
    {
     "data": {
      "text/html": [
       "<img src=\"http://image.tmdb.org/t/p/w200/yPisjyLweCl1tbgwgtzBCNCBle.jpg\"/>"
      ],
      "text/plain": [
       "<IPython.core.display.Image object>"
      ]
     },
     "metadata": {},
     "output_type": "display_data"
    },
    {
     "name": "stdout",
     "output_type": "stream",
     "text": [
      "North by Northwest (1959)\n",
      "http://image.tmdb.org/t/p/w200/aNV789h3oHm2pTHK5Bdq5RuiumZ.jpg\n"
     ]
    },
    {
     "data": {
      "text/html": [
       "<img src=\"http://image.tmdb.org/t/p/w200/aNV789h3oHm2pTHK5Bdq5RuiumZ.jpg\"/>"
      ],
      "text/plain": [
       "<IPython.core.display.Image object>"
      ]
     },
     "metadata": {},
     "output_type": "display_data"
    },
    {
     "name": "stdout",
     "output_type": "stream",
     "text": [
      "Lawrence of Arabia (1962)\n",
      "http://image.tmdb.org/t/p/w200/nQbjWEbYWr3PaIWvOLVkOaBX4DG.jpg\n"
     ]
    },
    {
     "data": {
      "text/html": [
       "<img src=\"http://image.tmdb.org/t/p/w200/nQbjWEbYWr3PaIWvOLVkOaBX4DG.jpg\"/>"
      ],
      "text/plain": [
       "<IPython.core.display.Image object>"
      ]
     },
     "metadata": {},
     "output_type": "display_data"
    },
    {
     "name": "stdout",
     "output_type": "stream",
     "text": [
      "Secrets & Lies (1996)\n",
      "http://image.tmdb.org/t/p/w200/8uinoRlLK1wh2l7l7P2PqnuxRiS.jpg\n"
     ]
    },
    {
     "data": {
      "text/html": [
       "<img src=\"http://image.tmdb.org/t/p/w200/8uinoRlLK1wh2l7l7P2PqnuxRiS.jpg\"/>"
      ],
      "text/plain": [
       "<IPython.core.display.Image object>"
      ]
     },
     "metadata": {},
     "output_type": "display_data"
    },
    {
     "name": "stdout",
     "output_type": "stream",
     "text": [
      "Annie Hall (1977)\n",
      "http://image.tmdb.org/t/p/w200/bK9bLXwxWuXX5mbq75PZqjvAtfG.jpg\n"
     ]
    },
    {
     "data": {
      "text/html": [
       "<img src=\"http://image.tmdb.org/t/p/w200/bK9bLXwxWuXX5mbq75PZqjvAtfG.jpg\"/>"
      ],
      "text/plain": [
       "<IPython.core.display.Image object>"
      ]
     },
     "metadata": {},
     "output_type": "display_data"
    },
    {
     "name": "stdout",
     "output_type": "stream",
     "text": [
      "Waiting for Guffman (1996)\n",
      "http://image.tmdb.org/t/p/w200/4rjbIRSS5DZAmyMzCgKnsC89LOB.jpg\n"
     ]
    },
    {
     "data": {
      "text/html": [
       "<img src=\"http://image.tmdb.org/t/p/w200/4rjbIRSS5DZAmyMzCgKnsC89LOB.jpg\"/>"
      ],
      "text/plain": [
       "<IPython.core.display.Image object>"
      ]
     },
     "metadata": {},
     "output_type": "display_data"
    }
   ],
   "source": [
    "import re\n",
    "from IPython.display import Image\n",
    "from IPython.display import display, HTML\n",
    "\n",
    "top_n = get_top_n(predictions, n=10)\n",
    "\n",
    "# Read the mappings raw id <-> movie name\n",
    "rid_to_name, name_to_rid = read_item_names()\n",
    "\n",
    "# Print the recommended items for user id 1\n",
    "uid = '1'\n",
    "user_ratings = top_n[uid]\n",
    "recommended_items = [iid for (iid, _) in user_ratings]\n",
    "print(uid, recommended_items)\n",
    "\n",
    "# Convert ids into names.\n",
    "item_names = [rid_to_name[rid]\n",
    "              for rid in recommended_items]\n",
    "\n",
    "print(uid, item_names)\n",
    "\n",
    "for name in item_names:\n",
    "    print(name)\n",
    "    clean_name = re.sub(r'\\([^)]*\\)', '', name) # this remove the year of the movie which is in between paranthesis\n",
    "    url = TMDB().get_poster_path_by_name(clean_name)\n",
    "    print(url)\n",
    "    if url:\n",
    "        display(Image(url=url))"
   ]
  },
  {
   "cell_type": "markdown",
   "metadata": {},
   "source": [
    "## Cross-validation using surprise\n",
    "This package also provides for you built-in cross-validation to split the data to multiple folds."
   ]
  },
  {
   "cell_type": "code",
   "execution_count": 10,
   "metadata": {},
   "outputs": [
    {
     "name": "stdout",
     "output_type": "stream",
     "text": [
      "Evaluating RMSE of algorithm SVD on 5 split(s).\n",
      "\n",
      "                  Fold 1  Fold 2  Fold 3  Fold 4  Fold 5  Mean    Std     \n",
      "RMSE (testset)    0.9314  0.9447  0.9404  0.9311  0.9337  0.9363  0.0054  \n",
      "Fit time          4.38    4.13    4.10    4.12    4.12    4.17    0.11    \n",
      "Test time         0.24    0.22    0.22    0.23    0.22    0.22    0.01    \n"
     ]
    }
   ],
   "source": [
    "from surprise.model_selection import cross_validate\n",
    "\n",
    "algo = SVD()\n",
    "\n",
    "# Run 5-fold cross-validation and print results.\n",
    "cross_validate(algo, data, measures=['RMSE'], cv=5, verbose=True);"
   ]
  },
  {
   "cell_type": "markdown",
   "metadata": {},
   "source": [
    "### User-based collaborative filtering with surprise!"
   ]
  },
  {
   "cell_type": "code",
   "execution_count": 11,
   "metadata": {},
   "outputs": [
    {
     "name": "stdout",
     "output_type": "stream",
     "text": [
      "Evaluating RMSE of algorithm KNNWithMeans on 5 split(s).\n",
      "\n",
      "                  Fold 1  Fold 2  Fold 3  Fold 4  Fold 5  Mean    Std     \n",
      "RMSE (testset)    0.9546  0.9577  0.9502  0.9502  0.9387  0.9503  0.0064  \n",
      "Fit time          1.58    1.59    1.57    1.55    1.58    1.57    0.01    \n",
      "Test time         3.16    3.12    3.14    3.17    3.18    3.15    0.02    \n"
     ]
    }
   ],
   "source": [
    "from surprise import KNNWithMeans\n",
    "\n",
    "sim_options = {\n",
    "    'name': 'pearson', #let's use pearson similarity which can be seen as mean-centered cosine similarity\n",
    "    'user_based': True #we will do user-based CF\n",
    "}\n",
    "knn_means = KNNWithMeans(k=40, min_k=1, sim_options=sim_options, verbose=False)\n",
    "\n",
    "# Run 5-fold cross-validation and print results.\n",
    "cross_validate(knn_means, data, measures=['RMSE'], cv=5, verbose=True);"
   ]
  },
  {
   "cell_type": "markdown",
   "metadata": {},
   "source": [
    "## Precision- Recall @k"
   ]
  },
  {
   "cell_type": "code",
   "execution_count": 12,
   "metadata": {},
   "outputs": [],
   "source": [
    "def precision_recall_at_k(predictions, k=10, threshold=3.5):\n",
    "    '''Return precision and recall at k metrics for each user.'''\n",
    "\n",
    "    # First map the predictions to each user.\n",
    "    user_est_true = defaultdict(list)\n",
    "    for uid, _, true_r, est, _ in predictions:\n",
    "        user_est_true[uid].append((est, true_r))\n",
    "\n",
    "    precisions = dict()\n",
    "    recalls = dict()\n",
    "    for uid, user_ratings in user_est_true.items():\n",
    "\n",
    "        # Sort user ratings by estimated value\n",
    "        user_ratings.sort(key=lambda x: x[0], reverse=True)\n",
    "\n",
    "        # Number of relevant items\n",
    "        n_rel = sum((true_r >= threshold) for (_, true_r) in user_ratings)\n",
    "\n",
    "        # Number of recommended items in top k\n",
    "        n_rec_k = sum((est >= threshold) for (est, _) in user_ratings[:k])\n",
    "\n",
    "        # Number of relevant and recommended items in top k\n",
    "        n_rel_and_rec_k = sum(((true_r >= threshold) and (est >= threshold))\n",
    "                              for (est, true_r) in user_ratings[:k])\n",
    "\n",
    "        # Precision@K: Proportion of recommended items that are relevant\n",
    "        precisions[uid] = n_rel_and_rec_k / n_rec_k if n_rec_k != 0 else 1\n",
    "\n",
    "        # Recall@K: Proportion of relevant items that are recommended\n",
    "        recalls[uid] = n_rel_and_rec_k / n_rel if n_rel != 0 else 1\n",
    "\n",
    "    return precisions, recalls\n"
   ]
  },
  {
   "cell_type": "code",
   "execution_count": 13,
   "metadata": {},
   "outputs": [
    {
     "data": {
      "image/png": "[encoded data removed]",
      "text/plain": [
       "<Figure size 432x288 with 1 Axes>"
      ]
     },
     "metadata": {
      "needs_background": "light"
     },
     "output_type": "display_data"
    },
    {
     "name": "stdout",
     "output_type": "stream",
     "text": [
      "precision @ 20 for SVD 0.7464738933785767\n",
      "recall @ 20 for SVD 0.648948064864878\n"
     ]
    }
   ],
   "source": [
    "trainset, testset = train_test_split(data, test_size=0.2)\n",
    "algo = SVD()\n",
    "\n",
    "algo.fit(trainset)\n",
    "predictions = algo.test(testset)\n",
    "\n",
    "precision = []\n",
    "recall = []\n",
    "for k in range(10):\n",
    "    precisions, recalls = precision_recall_at_k(predictions, k=k, threshold=3.5) # rating > 3 = relevant, rating < 3 = irrelevant\n",
    "\n",
    "    # Precision and recall can then be averaged over all users\n",
    "    precision.append( sum(prec for prec in precisions.values()) / len(precisions) )\n",
    "    recall.append( sum(rec for rec in recalls.values()) / len(recalls) )\n",
    "\n",
    "plt.plot(range(10), recall, 'ro-', label=\"recall\")\n",
    "plt.plot(range(10), precision, 'go-', label=\"precision\")\n",
    "plt.title(\"precision and recall for SVD\")\n",
    "plt.legend()\n",
    "plt.show();\n",
    "\n",
    "precisions, recalls = precision_recall_at_k(predictions, k=20, threshold=3.5)\n",
    "\n",
    "print(\"precision @ 20 for SVD\", sum(prec for prec in precisions.values()) / len(precisions))\n",
    "print(\"recall @ 20 for SVD\", sum(rec for rec in recalls.values()) / len(recalls))\n"
   ]
  },
  {
   "cell_type": "code",
   "execution_count": 14,
   "metadata": {},
   "outputs": [
    {
     "data": {
      "image/png": "[encoded data removed]",
      "text/plain": [
       "<Figure size 432x288 with 1 Axes>"
      ]
     },
     "metadata": {
      "needs_background": "light"
     },
     "output_type": "display_data"
    },
    {
     "name": "stdout",
     "output_type": "stream",
     "text": [
      "precision @ 20 for user-based knn 0.743469015340104\n",
      "recall @ 20 for user-based knn 0.6332713162077663\n"
     ]
    }
   ],
   "source": [
    "algo = KNNWithMeans(k=40, min_k=1, sim_options=sim_options, verbose=False)\n",
    "\n",
    "algo.fit(trainset)\n",
    "predictions = algo.test(testset)\n",
    "\n",
    "precision = []\n",
    "recall = []\n",
    "for k in range(10):\n",
    "    precisions, recalls = precision_recall_at_k(predictions, k=k, threshold=3.5) # rating > 3 = relevant, rating < 3 = irrelevant\n",
    "\n",
    "    # Precision and recall can then be averaged over all users\n",
    "    precision.append( sum(prec for prec in precisions.values()) / len(precisions) )\n",
    "    recall.append( sum(rec for rec in recalls.values()) / len(recalls) )\n",
    "\n",
    "\n",
    "plt.plot(range(10), recall, 'ro-', label=\"recall\")\n",
    "plt.plot(range(10), precision, 'go-', label=\"precision\")\n",
    "plt.legend()\n",
    "plt.title(\"precision and recall for user-based knn\")\n",
    "plt.show();\n",
    "\n",
    "precisions, recalls = precision_recall_at_k(predictions, k=20, threshold=3.5)\n",
    "\n",
    "print(\"precision @ 20 for user-based knn\", sum(prec for prec in precisions.values()) / len(precisions))\n",
    "print(\"recall @ 20 for user-based knn\", sum(rec for rec in recalls.values()) / len(recalls))"
   ]
  },
  {
   "cell_type": "markdown",
   "metadata": {},
   "source": [
    "## precision-recall curve\n",
    "We will now observe the area under precision recall curve for tow methods: SVD and KNN."
   ]
  },
  {
   "cell_type": "code",
   "execution_count": 15,
   "metadata": {},
   "outputs": [
    {
     "data": {
      "image/png": "[encoded data removed]",
      "text/plain": [
       "<Figure size 432x288 with 1 Axes>"
      ]
     },
     "metadata": {
      "needs_background": "light"
     },
     "output_type": "display_data"
    }
   ],
   "source": [
    "from inspect import signature\n",
    "\n",
    "algo = SVD()\n",
    "\n",
    "algo.fit(trainset)\n",
    "predictions = algo.test(testset)\n",
    "\n",
    "precision = []\n",
    "recall = []\n",
    "for k in range(20):\n",
    "    precisions, recalls = precision_recall_at_k(predictions, k=k, threshold=3.5) \n",
    "\n",
    "    # Precision and recall can then be averaged over all users\n",
    "    precision.append( sum(prec for prec in precisions.values()) / len(precisions) )\n",
    "    recall.append( sum(rec for rec in recalls.values()) / len(recalls) )\n",
    "\n",
    "# In matplotlib < 1.5, plt.fill_between does not have a 'step' argument\n",
    "step_kwargs = ({'step': 'post'}\n",
    "               if 'step' in signature(plt.fill_between).parameters\n",
    "               else {})\n",
    "plt.step(recall, precision, color='b', alpha=0.2,\n",
    "         where='post')\n",
    "plt.fill_between(recall, precision, alpha=0.2, color='b', **step_kwargs)\n",
    "\n",
    "plt.xlabel('Recall')\n",
    "plt.ylabel('Precision')\n",
    "plt.title('Precision-Recall curve for SVD');"
   ]
  },
  {
   "cell_type": "code",
   "execution_count": 16,
   "metadata": {},
   "outputs": [
    {
     "data": {
      "image/png": "[encoded data removed]",
      "text/plain": [
       "<Figure size 432x288 with 1 Axes>"
      ]
     },
     "metadata": {
      "needs_background": "light"
     },
     "output_type": "display_data"
    }
   ],
   "source": [
    "algo =  KNNWithMeans(k=40, min_k=1, sim_options=sim_options, verbose=False)\n",
    "\n",
    "algo.fit(trainset)\n",
    "predictions = algo.test(testset)\n",
    "\n",
    "precision = []\n",
    "recall = []\n",
    "for k in range(20):\n",
    "    precisions, recalls = precision_recall_at_k(predictions, k=k, threshold=3.5) \n",
    "\n",
    "    # Precision and recall can then be averaged over all users\n",
    "    precision.append( sum(prec for prec in precisions.values()) / len(precisions) )\n",
    "    recall.append( sum(rec for rec in recalls.values()) / len(recalls) )\n",
    "\n",
    "# In matplotlib < 1.5, plt.fill_between does not have a 'step' argument\n",
    "step_kwargs = ({'step': 'post'}\n",
    "               if 'step' in signature(plt.fill_between).parameters\n",
    "               else {})\n",
    "plt.step(recall, precision, color='b', alpha=0.2,\n",
    "         where='post')\n",
    "plt.fill_between(recall, precision, alpha=0.2, color='b', **step_kwargs)\n",
    "\n",
    "plt.xlabel('Recall')\n",
    "plt.ylabel('Precision')\n",
    "plt.title('Precision-Recall curve for user-based KNN');"
   ]
  },
  {
   "cell_type": "markdown",
   "metadata": {},
   "source": [
    "## Tuning hyperr-parameters with surprise\n",
    "As we saw we have built-in cross-validation in this package. We can use this to tune the hyper-parameters of our recommender system, eg tuning the number of neighbours in KNN or the number of factors (or the reduced dimensionality) in SVD."
   ]
  },
  {
   "cell_type": "code",
   "execution_count": 17,
   "metadata": {},
   "outputs": [],
   "source": [
    "from surprise.model_selection import GridSearchCV"
   ]
  },
  {
   "cell_type": "code",
   "execution_count": 18,
   "metadata": {},
   "outputs": [
    {
     "name": "stderr",
     "output_type": "stream",
     "text": [
      "[Parallel(n_jobs=-1)]: Using backend LokyBackend with 32 concurrent workers.\n",
      "[Parallel(n_jobs=-1)]: Done  12 out of  20 | elapsed:   26.6s remaining:   17.7s\n",
      "[Parallel(n_jobs=-1)]: Done  20 out of  20 | elapsed:   43.4s finished\n"
     ]
    }
   ],
   "source": [
    "SVD_grid_search = GridSearchCV(SVD, param_grid={'n_factors': [50, 100, 200, 300]}, measures=['RMSE'], cv=5,\n",
    "                               refit=True, joblib_verbose=2, n_jobs=-1)\n",
    "SVD_grid_search.fit(data)"
   ]
  },
  {
   "cell_type": "code",
   "execution_count": 19,
   "metadata": {},
   "outputs": [
    {
     "name": "stdout",
     "output_type": "stream",
     "text": [
      "best parameter: {'rmse': {'n_factors': 50}}\n",
      "best rmse:  {'rmse': 0.934150282024882}\n",
      "\n",
      "\n"
     ]
    },
    {
     "data": {
      "text/plain": [
       "{'split0_test_rmse': array([0.92919313, 0.93420735, 0.94101626, 0.94223897]),\n",
       " 'split1_test_rmse': array([0.93433629, 0.93564695, 0.94135909, 0.94694603]),\n",
       " 'split2_test_rmse': array([0.94384528, 0.9409202 , 0.94575799, 0.94959188]),\n",
       " 'split3_test_rmse': array([0.93941775, 0.94136428, 0.94179999, 0.9473005 ]),\n",
       " 'split4_test_rmse': array([0.92395894, 0.92767885, 0.93403353, 0.93282546]),\n",
       " 'mean_test_rmse': array([0.93415028, 0.93596352, 0.94079337, 0.94378057]),\n",
       " 'std_test_rmse': array([0.00707405, 0.00501113, 0.0037875 , 0.00597616]),\n",
       " 'rank_test_rmse': array([1, 2, 3, 4]),\n",
       " 'mean_fit_time': array([ 2.65849977,  4.25446105,  7.63755264, 12.31614447]),\n",
       " 'std_fit_time': array([0.13431237, 0.10559521, 0.04500649, 0.1172346 ]),\n",
       " 'mean_test_time': array([0.2438201 , 0.24539914, 0.26483588, 0.25924931]),\n",
       " 'std_test_time': array([0.01219437, 0.01394729, 0.00488798, 0.01407351]),\n",
       " 'params': [{'n_factors': 50},\n",
       "  {'n_factors': 100},\n",
       "  {'n_factors': 200},\n",
       "  {'n_factors': 300}],\n",
       " 'param_n_factors': [50, 100, 200, 300]}"
      ]
     },
     "execution_count": 19,
     "metadata": {},
     "output_type": "execute_result"
    }
   ],
   "source": [
    "print(\"best parameter:\", SVD_grid_search.best_params)\n",
    "print(\"best rmse: \", SVD_grid_search.best_score)\n",
    "# you can even see the whole cv results\n",
    "print(\"\\n\")\n",
    "SVD_grid_search.cv_results"
   ]
  },
  {
   "cell_type": "markdown",
   "metadata": {},
   "source": [
    "Now for KNN"
   ]
  },
  {
   "cell_type": "code",
   "execution_count": 52,
   "metadata": {},
   "outputs": [
    {
     "name": "stdout",
     "output_type": "stream",
     "text": [
      "{'name': 'pearson', 'user_based': True}\n"
     ]
    }
   ],
   "source": [
    "print(sim_options)"
   ]
  },
  {
   "cell_type": "code",
   "execution_count": 54,
   "metadata": {},
   "outputs": [
    {
     "name": "stderr",
     "output_type": "stream",
     "text": [
      "[Parallel(n_jobs=-1)]: Using backend LokyBackend with 32 concurrent workers.\n",
      "[Parallel(n_jobs=-1)]: Done  12 out of  20 | elapsed:   23.9s remaining:   16.0s\n",
      "[Parallel(n_jobs=-1)]: Done  20 out of  20 | elapsed:   37.1s finished\n"
     ]
    },
    {
     "name": "stdout",
     "output_type": "stream",
     "text": [
      "Computing the pearson similarity matrix...\n",
      "Done computing similarity matrix.\n"
     ]
    }
   ],
   "source": [
    "KNN_grid_search = GridSearchCV(KNNWithMeans, param_grid={'k': [20, 30, 40, 50], \n",
    "                                                         'sim_options': {'name': ['pearson'], 'user_based': [True]}}, \n",
    "                               measures=['RMSE'], cv=5,\n",
    "                               refit=True, joblib_verbose=2, n_jobs=-1)\n",
    "KNN_grid_search.fit(data)"
   ]
  },
  {
   "cell_type": "code",
   "execution_count": 55,
   "metadata": {},
   "outputs": [
    {
     "name": "stdout",
     "output_type": "stream",
     "text": [
      "best parameter: {'rmse': {'k': 50, 'sim_options': {'name': 'pearson', 'user_based': True}}}\n",
      "best rmse:  {'rmse': 0.9495389757947457}\n",
      "\n",
      "\n"
     ]
    },
    {
     "data": {
      "text/plain": [
       "{'split0_test_rmse': array([0.96628175, 0.96051719, 0.95864725, 0.95797863]),\n",
       " 'split1_test_rmse': array([0.95489787, 0.9481922 , 0.9461357 , 0.94476868]),\n",
       " 'split2_test_rmse': array([0.95549887, 0.94895746, 0.94689389, 0.94593273]),\n",
       " 'split3_test_rmse': array([0.95835789, 0.95209653, 0.95017564, 0.94946202]),\n",
       " 'split4_test_rmse': array([0.95874484, 0.95305395, 0.95061274, 0.94955281]),\n",
       " 'mean_test_rmse': array([0.95875624, 0.95256347, 0.95049305, 0.94953898]),\n",
       " 'std_test_rmse': array([0.00405684, 0.00437794, 0.00443952, 0.0046259 ]),\n",
       " 'rank_test_rmse': array([4, 3, 2, 1]),\n",
       " 'mean_fit_time': array([1.50345488, 1.5440764 , 1.56165185, 1.52338228]),\n",
       " 'std_fit_time': array([0.04457607, 0.08058297, 0.07987968, 0.09862941]),\n",
       " 'mean_test_time': array([2.62045274, 2.8986362 , 3.18634043, 3.5256145 ]),\n",
       " 'std_test_time': array([0.13073785, 0.07294217, 0.03138703, 0.19812655]),\n",
       " 'params': [{'k': 20, 'sim_options': {'name': 'pearson', 'user_based': True}},\n",
       "  {'k': 30, 'sim_options': {'name': 'pearson', 'user_based': True}},\n",
       "  {'k': 40, 'sim_options': {'name': 'pearson', 'user_based': True}},\n",
       "  {'k': 50, 'sim_options': {'name': 'pearson', 'user_based': True}}],\n",
       " 'param_k': [20, 30, 40, 50],\n",
       " 'param_sim_options': [{'name': 'pearson', 'user_based': True},\n",
       "  {'name': 'pearson', 'user_based': True},\n",
       "  {'name': 'pearson', 'user_based': True},\n",
       "  {'name': 'pearson', 'user_based': True}]}"
      ]
     },
     "execution_count": 55,
     "metadata": {},
     "output_type": "execute_result"
    }
   ],
   "source": [
    "print(\"best parameter:\", KNN_grid_search.best_params)\n",
    "print(\"best rmse: \", KNN_grid_search.best_score)\n",
    "# you can even see the whole cv results\n",
    "print(\"\\n\")\n",
    "KNN_grid_search.cv_results"
   ]
  },
  {
   "cell_type": "markdown",
   "metadata": {},
   "source": [
    "Let's save the best SVD model. We will use it later."
   ]
  },
  {
   "cell_type": "code",
   "execution_count": 50,
   "metadata": {},
   "outputs": [],
   "source": [
    "best_model_svd = SVD_grid_search.best_estimator['rmse']"
   ]
  },
  {
   "cell_type": "code",
   "execution_count": 54,
   "metadata": {},
   "outputs": [],
   "source": [
    "import pickle\n",
    "file_name = \"best_model_svd\"\n",
    "pickle.dump(best_model_svd, open(file_name, 'wb'))"
   ]
  },
  {
   "cell_type": "code",
   "execution_count": 56,
   "metadata": {},
   "outputs": [
    {
     "data": {
      "text/plain": [
       "Prediction(uid='6', iid='908', r_ui=None, est=2.3044446712435964, details={'was_impossible': False})"
      ]
     },
     "execution_count": 56,
     "metadata": {},
     "output_type": "execute_result"
    }
   ],
   "source": [
    "m = pickle.load(open(\"best_model_svd\", 'rb'))\n",
    "m.predict('6', '908')"
   ]
  }
 ],
 "metadata": {
  "kernelspec": {
   "display_name": "Python 3",
   "language": "python",
   "name": "python3"
  },
  "language_info": {
   "codemirror_mode": {
    "name": "ipython",
    "version": 3
   },
   "file_extension": ".py",
   "mimetype": "text/x-python",
   "name": "python",
   "nbconvert_exporter": "python",
   "pygments_lexer": "ipython3",
   "version": "3.7.3"
  },
  "nteract": {
   "version": "0.15.0"
  }
 },
 "nbformat": 4,
 "nbformat_minor": 1
}

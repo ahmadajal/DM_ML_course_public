{
  "cells": [
    {
      "cell_type": "code",
      "source": [
        "import numpy as np\n",
        "import matplotlib.pyplot as plt\n",
        "%matplotlib inline\n",
        "from sklearn.cluster import KMeans\n",
        "import pandas as pd"
      ],
      "outputs": [],
      "execution_count": 1,
      "metadata": {}
    },
    {
      "cell_type": "code",
      "source": [
        "df = pd.read_csv(\"quiz3_grades_without_names.csv\")\n",
        "df.head()"
      ],
      "outputs": [
        {
          "output_type": "execute_result",
          "execution_count": 31,
          "data": {
            "text/html": [
              "<div>\n",
              "<style scoped>\n",
              "    .dataframe tbody tr th:only-of-type {\n",
              "        vertical-align: middle;\n",
              "    }\n",
              "\n",
              "    .dataframe tbody tr th {\n",
              "        vertical-align: top;\n",
              "    }\n",
              "\n",
              "    .dataframe thead th {\n",
              "        text-align: right;\n",
              "    }\n",
              "</style>\n",
              "<table border=\"1\" class=\"dataframe\">\n",
              "  <thead>\n",
              "    <tr style=\"text-align: right;\">\n",
              "      <th></th>\n",
              "      <th>Grade/10.00</th>\n",
              "      <th>Q. 1 /1.00</th>\n",
              "      <th>Q. 2 /1.00</th>\n",
              "      <th>Q. 3 /1.00</th>\n",
              "      <th>Q. 4 /1.00</th>\n",
              "      <th>Q. 5 /1.00</th>\n",
              "      <th>Q. 6 /1.00</th>\n",
              "      <th>Q. 7 /1.00</th>\n",
              "      <th>Q. 8 /1.00</th>\n",
              "      <th>Q. 9 /1.00</th>\n",
              "      <th>Q. 10 /1.00</th>\n",
              "    </tr>\n",
              "  </thead>\n",
              "  <tbody>\n",
              "    <tr>\n",
              "      <td>0</td>\n",
              "      <td>8.0</td>\n",
              "      <td>1.0</td>\n",
              "      <td>1.0</td>\n",
              "      <td>1.0</td>\n",
              "      <td>0.0</td>\n",
              "      <td>1.0</td>\n",
              "      <td>0.0</td>\n",
              "      <td>1.0</td>\n",
              "      <td>1.0</td>\n",
              "      <td>1.0</td>\n",
              "      <td>1.0</td>\n",
              "    </tr>\n",
              "    <tr>\n",
              "      <td>1</td>\n",
              "      <td>8.0</td>\n",
              "      <td>1.0</td>\n",
              "      <td>1.0</td>\n",
              "      <td>1.0</td>\n",
              "      <td>1.0</td>\n",
              "      <td>0.0</td>\n",
              "      <td>1.0</td>\n",
              "      <td>1.0</td>\n",
              "      <td>1.0</td>\n",
              "      <td>1.0</td>\n",
              "      <td>0.0</td>\n",
              "    </tr>\n",
              "    <tr>\n",
              "      <td>2</td>\n",
              "      <td>10.0</td>\n",
              "      <td>1.0</td>\n",
              "      <td>1.0</td>\n",
              "      <td>1.0</td>\n",
              "      <td>1.0</td>\n",
              "      <td>1.0</td>\n",
              "      <td>1.0</td>\n",
              "      <td>1.0</td>\n",
              "      <td>1.0</td>\n",
              "      <td>1.0</td>\n",
              "      <td>1.0</td>\n",
              "    </tr>\n",
              "    <tr>\n",
              "      <td>3</td>\n",
              "      <td>6.0</td>\n",
              "      <td>1.0</td>\n",
              "      <td>0.0</td>\n",
              "      <td>1.0</td>\n",
              "      <td>1.0</td>\n",
              "      <td>0.0</td>\n",
              "      <td>1.0</td>\n",
              "      <td>1.0</td>\n",
              "      <td>0.0</td>\n",
              "      <td>1.0</td>\n",
              "      <td>0.0</td>\n",
              "    </tr>\n",
              "    <tr>\n",
              "      <td>4</td>\n",
              "      <td>9.0</td>\n",
              "      <td>1.0</td>\n",
              "      <td>1.0</td>\n",
              "      <td>1.0</td>\n",
              "      <td>1.0</td>\n",
              "      <td>1.0</td>\n",
              "      <td>1.0</td>\n",
              "      <td>1.0</td>\n",
              "      <td>1.0</td>\n",
              "      <td>1.0</td>\n",
              "      <td>0.0</td>\n",
              "    </tr>\n",
              "  </tbody>\n",
              "</table>\n",
              "</div>"
            ],
            "text/plain": [
              "   Grade/10.00  Q. 1 /1.00  Q. 2 /1.00  Q. 3 /1.00  Q. 4 /1.00  Q. 5 /1.00  \\\n",
              "0          8.0         1.0         1.0         1.0         0.0         1.0   \n",
              "1          8.0         1.0         1.0         1.0         1.0         0.0   \n",
              "2         10.0         1.0         1.0         1.0         1.0         1.0   \n",
              "3          6.0         1.0         0.0         1.0         1.0         0.0   \n",
              "4          9.0         1.0         1.0         1.0         1.0         1.0   \n",
              "\n",
              "   Q. 6 /1.00  Q. 7 /1.00  Q. 8 /1.00  Q. 9 /1.00  Q. 10 /1.00  \n",
              "0         0.0         1.0         1.0         1.0          1.0  \n",
              "1         1.0         1.0         1.0         1.0          0.0  \n",
              "2         1.0         1.0         1.0         1.0          1.0  \n",
              "3         1.0         1.0         0.0         1.0          0.0  \n",
              "4         1.0         1.0         1.0         1.0          0.0  "
            ]
          },
          "metadata": {}
        }
      ],
      "execution_count": 31,
      "metadata": {}
    },
    {
      "cell_type": "code",
      "source": [
        "df.shape"
      ],
      "outputs": [
        {
          "output_type": "execute_result",
          "execution_count": 32,
          "data": {
            "text/plain": [
              "(40, 11)"
            ]
          },
          "metadata": {}
        }
      ],
      "execution_count": 32,
      "metadata": {}
    },
    {
      "cell_type": "code",
      "source": [
        "# last row is average\n",
        "avg = df.iloc[39,:]\n",
        "df.drop(39, axis=0, inplace=True)"
      ],
      "outputs": [],
      "execution_count": 33,
      "metadata": {}
    },
    {
      "cell_type": "code",
      "source": [
        "avg"
      ],
      "outputs": [
        {
          "output_type": "execute_result",
          "execution_count": 34,
          "data": {
            "text/plain": [
              "Grade/10.00    7.65\n",
              "Q. 1 /1.00     0.92\n",
              "Q. 2 /1.00     0.79\n",
              "Q. 3 /1.00     0.90\n",
              "Q. 4 /1.00     0.74\n",
              "Q. 5 /1.00     0.72\n",
              "Q. 6 /1.00     0.79\n",
              "Q. 7 /1.00     0.56\n",
              "Q. 8 /1.00     0.95\n",
              "Q. 9 /1.00     0.69\n",
              "Q. 10 /1.00    0.56\n",
              "Name: 39, dtype: float64"
            ]
          },
          "metadata": {}
        }
      ],
      "execution_count": 34,
      "metadata": {}
    },
    {
      "cell_type": "code",
      "source": [
        "avg.drop(\"Grade/10.00\").plot(kind = 'bar', figsize=(10, 7))\n",
        "plt.ylabel(\"avg score\", fontsize=15)\n",
        "plt.xlabel(\"question\", fontsize=15)"
      ],
      "outputs": [
        {
          "output_type": "execute_result",
          "execution_count": 41,
          "data": {
            "text/plain": [
              "Text(0.5, 0, 'question')"
            ]
          },
          "metadata": {}
        },
        {
          "output_type": "display_data",
          "data": {
            "image/png": "[encoded data removed]",
            "text/plain": [
              "<Figure size 720x504 with 1 Axes>"
            ]
          },
          "metadata": {
            "needs_background": "light"
          }
        }
      ],
      "execution_count": 41,
      "metadata": {}
    },
    {
      "cell_type": "code",
      "source": [
        "grades = pd.DataFrame(df[\"Grade/10.00\"])"
      ],
      "outputs": [],
      "execution_count": 45,
      "metadata": {}
    },
    {
      "cell_type": "code",
      "source": [
        "losses = []\n",
        "for k in range(1, 11):\n",
        "    est = KMeans(n_clusters=k)\n",
        "    est.fit(grades)\n",
        "    losses.append(est.inertia_)"
      ],
      "outputs": [],
      "execution_count": 46,
      "metadata": {}
    },
    {
      "cell_type": "code",
      "source": [
        "plt.figure(figsize=(10,7))\n",
        "plt.plot(range(1,11), losses)\n",
        "plt.ylabel(\"loss\", fontsize=15)\n",
        "plt.xlabel(\"number of clusters\", fontsize=15);"
      ],
      "outputs": [
        {
          "output_type": "display_data",
          "data": {
            "image/png": "[encoded data removed]",
            "text/plain": [
              "<Figure size 720x504 with 1 Axes>"
            ]
          },
          "metadata": {
            "needs_background": "light"
          }
        }
      ],
      "execution_count": 47,
      "metadata": {}
    },
    {
      "cell_type": "markdown",
      "source": [
        "Seems that 5 or 6 clusters should be enough."
      ],
      "metadata": {}
    },
    {
      "cell_type": "code",
      "source": [
        "# cluster centers for 5 clusters\n",
        "est = KMeans(n_clusters=5)\n",
        "est.fit(grades)\n",
        "print(sorted(est.cluster_centers_))"
      ],
      "outputs": [
        {
          "output_type": "stream",
          "name": "stdout",
          "text": [
            "[array([4.58]), array([6.76]), array([7.98333333]), array([8.9875]), array([10.])]\n"
          ]
        }
      ],
      "execution_count": 49,
      "metadata": {}
    },
    {
      "cell_type": "code",
      "source": [],
      "outputs": [],
      "execution_count": null,
      "metadata": {}
    }
  ],
  "metadata": {
    "kernelspec": {
      "display_name": "Python 3",
      "language": "python",
      "name": "python3"
    },
    "language_info": {
      "codemirror_mode": {
        "name": "ipython",
        "version": 3
      },
      "file_extension": ".py",
      "mimetype": "text/x-python",
      "name": "python",
      "nbconvert_exporter": "python",
      "pygments_lexer": "ipython3",
      "version": "3.7.3"
    },
    "nteract": {
      "version": "0.15.0"
    }
  },
  "nbformat": 4,
  "nbformat_minor": 2
}
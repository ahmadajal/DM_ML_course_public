{
 "cells": [
  {
   "cell_type": "markdown",
   "metadata": {},
   "source": [
    "# LE 12 - Task 2: Some simple Statistics tasks\n",
    "\n",
    "**Table of Contents**\n",
    "\n",
    "1. Arithmetic Mean\n",
    "2. Mean Squared Error\n",
    "\n",
    "    A. Bias of an estimator <br>\n",
    "    B. Variance of an estimator"
   ]
  },
  {
   "cell_type": "markdown",
   "metadata": {},
   "source": [
    "## 1. The Arithmetic Mean"
   ]
  },
  {
   "cell_type": "markdown",
   "metadata": {},
   "source": [
    "$$ Mean(x) = \\sum_{i=1}^{n} x_i$$"
   ]
  },
  {
   "cell_type": "markdown",
   "metadata": {},
   "source": [
    "Embedded a formatted code block:\n",
    "    \n",
    "```python\n",
    "x=[1,3,9,4]\n",
    "x_bar=1/4*sum(x)\n",
    "```"
   ]
  },
  {
   "cell_type": "code",
   "execution_count": 2,
   "metadata": {},
   "outputs": [
    {
     "data": {
      "text/plain": [
       "4.25"
      ]
     },
     "execution_count": 2,
     "metadata": {},
     "output_type": "execute_result"
    }
   ],
   "source": [
    "# actual python calculation\n",
    "x=[1,3,9,4]\n",
    "x_bar=1/len(x)*sum(x)\n",
    "x_bar"
   ]
  },
  {
   "cell_type": "markdown",
   "metadata": {},
   "source": [
    "## Mean Squared Error\n",
    "\n",
    "$$ MSE(x) = bias^2(x) + var^2(x) $$\n",
    "\n",
    "For further information see [http://www.statisticshowto.com/mean-squared-error](http://www.statisticshowto.com/mean-squared-error)"
   ]
  }
 ],
 "metadata": {
  "kernelspec": {
   "display_name": "Python 3",
   "language": "python",
   "name": "python3"
  },
  "language_info": {
   "codemirror_mode": {
    "name": "ipython",
    "version": 3
   },
   "file_extension": ".py",
   "mimetype": "text/x-python",
   "name": "python",
   "nbconvert_exporter": "python",
   "pygments_lexer": "ipython3",
   "version": "3.7.3"
  }
 },
 "nbformat": 4,
 "nbformat_minor": 2
}

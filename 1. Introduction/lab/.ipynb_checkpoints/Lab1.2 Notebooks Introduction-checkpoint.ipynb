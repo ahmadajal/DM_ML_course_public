{
 "cells": [
  {
   "cell_type": "markdown",
   "metadata": {},
   "source": [
    "# Python Notebooks\n",
    "\n",
    "## Goals\n",
    "Our goal for with this notebook is to learn to use markdown and to create an interactive notebook that summarizes a project or a deliverable.\n",
    "\n",
    "## Introduction\n",
    "\n",
    "Notebooks represent an interactive way of sharing knowledge and code. Here we review some elementary ways of creating your notebooks.\n",
    "\n",
    "If you have installed anaconda on your PC, then you can start a notebook by opening the terminal and typing:\n",
    "\n",
    "```bash\n",
    "jupyter notebook\n",
    "```\n",
    "\n",
    "First, notebooks and files can be uploaded to the current directory by dragging a notebook file onto the notebook list.\n",
    "\n",
    "A notebook exist of cells that contain either code or markdown. Markdown is very similar to html, but simplified and here are:\n",
    "- The basic [syntactic blocks](https://dataplatform.cloud.ibm.com/docs/content/wsj/analyze-data/markd-jupyter.html), and \n",
    "- A more [lengthy introduction](https://about.gitlab.com/handbook/product/technical-writing/markdown-guide/).\n",
    "- Try markdown on your own in [Google Colab](https://colab.research.google.com/notebooks/markdown_guide.ipynb)\n",
    "\n",
    "By default a cell, contains code. If you want the cell to understand markdown, you can press ```Esc``` and then the letter ```M```, or go to the menu on the top and select: Cell -> Cell Type -> Markdown."
   ]
  },
  {
   "cell_type": "markdown",
   "metadata": {},
   "source": [
    "You can execute some basic terminal commands in a notebook. You just have to preface it with the exclamation mark symbol ```!```. Such as:\n",
    "\n",
    "```\n",
    "!pwd\n",
    "```\n",
    "\n",
    "or \n",
    "\n",
    "```\n",
    "!ls\n",
    "```\n",
    "\n",
    "but to change a directory you use \n",
    "\n",
    "```\n",
    "%cd [directory name]\n",
    "```\n",
    "\n",
    "and to install a package for python you can issue\n",
    "```\n",
    "!pip install [package name]\n",
    "```\n",
    "\n",
    "Try some of those here below:"
   ]
  },
  {
   "cell_type": "code",
   "execution_count": 9,
   "metadata": {},
   "outputs": [
    {
     "name": "stdout",
     "output_type": "stream",
     "text": [
      "/home/nbuser/library\r\n"
     ]
    }
   ],
   "source": [
    "# testing ground\n",
    "# remove the '#' from the line below \n",
    "#!pwd"
   ]
  },
  {
   "cell_type": "markdown",
   "metadata": {},
   "source": [
    "<div class=\"alert alert-block alert-info\">\n",
    "\n",
    "\n",
    "<h2>Shortcuts</h2>\n",
    "\n",
    "It's good to learn the following shortcuts:\n",
    "\n",
    "\n",
    "- Basic navigation: enter, shift-enter\n",
    "- Saving the notebook: s\n",
    "- Change Cell types: y (code), m (markdown), 1-6 (change text size)\n",
    "- Cell creation: a (create cell above), b (create cell below)\n",
    "- Cell editing: x, c, v,  d (delete cell), z\n",
    "</div>\n",
    "\n",
    "(Note: To make different colored boxes, you can also use the following variations:\n",
    "> ```<div class=\"alert alert-block alert-warning\">```\n",
    "    \n",
    ">```<div class=\"alert alert-block alert-success\">```\n",
    "    \n",
    ">```<div class=\"alert alert-block alert-danger\">```   "
   ]
  },
  {
   "cell_type": "markdown",
   "metadata": {},
   "source": [
    "## Basic Markdown\n",
    "\n",
    "Assuming your cell is in markdown mode, to create a title you use the `#` (hash) symbol\n",
    "\n",
    "> ```# My Project for this class```\n",
    "\n",
    "will give\n",
    "\n",
    "# My Project for this class\n",
    "\n",
    "To create a smaller heading you use more hashes\n",
    "\n",
    "> ```### Introduction to the project```\n",
    "\n",
    "### Introduction to the project\n",
    "\n",
    "It is also very easy to create numbered or unnumbered lists as follows\n",
    "\n",
    "> ```\n",
    "- First itme\n",
    "- Second item\n",
    "- ...\n",
    "```\n",
    "\n",
    "giving \n",
    "- First itme\n",
    "- Second item\n",
    "- ...\n",
    "\n",
    "or replace the - with numbers 1. 2. 3. for a numbered list\n",
    "\n"
   ]
  },
  {
   "cell_type": "markdown",
   "metadata": {},
   "source": [
    "## HTML code\n",
    "\n",
    "### Images\n",
    "In a notebook, you may also enter html code like this:\n",
    "\n",
    "```html\n",
    "<img src='https://upload.wikimedia.org/wikipedia/commons/7/77/Logo_HEC_Lausanne.png' width=\"200\">\n",
    "```\n",
    "\n",
    "which will give the following\n",
    "\n",
    "<img src='https://upload.wikimedia.org/wikipedia/commons/7/77/Logo_HEC_Lausanne.png' width=\"200\">\n",
    "\n",
    "Alternatively, you may insert an inline image as follows\n",
    "\n",
    "```\n",
    "![Python Logo](https://upload.wikimedia.org/wikipedia/commons/c/c3/Python-logo-notext.svg)\n",
    "```\n",
    "which will render as\n",
    "![Python Logo](https://upload.wikimedia.org/wikipedia/commons/c/c3/Python-logo-notext.svg)\n",
    "\n",
    "### Weblinks\n",
    "\n",
    "and you can also create weblinks if you want to point to page outside the document, such as using [Azure Notebooks](https://notebooks.azure.com/Microsoft/projects/2018-Intro-Python) for running notebooks on the cloud."
   ]
  },
  {
   "cell_type": "markdown",
   "metadata": {},
   "source": [
    "## Tables\n",
    "\n",
    "Below is an example of a tables\n",
    "\n",
    "```\n",
    "First column name | Second column name\n",
    "--- | ---\n",
    "Row 1, Col 1 | Row 1, Col 2\n",
    "Row 2, Col 1 | Row 2, Col 2\n",
    "```\n",
    "\n",
    "which will show as\n",
    "\n",
    "First column name | Second column name\n",
    "--- | ---\n",
    "Row 1, Col 1 | Row 1, Col 2\n",
    "Row 2, Col 1 | Row 2, Col 2\n",
    "\n",
    "\n",
    "\n",
    "\n",
    "## Math Expressions\n",
    "\n",
    "It is also very easy to insert mathematial equations, so that you can describe the mathematics of your solution to a problem:\n",
    "\n",
    "$$c = \\sqrt{a^2 + b^2}$$\n",
    "\n",
    "which is written, if you are familiar with Latex, as follows:\n",
    "\n",
    "```\n",
    "$$c = \\sqrt{a^2 + b^2}$$\n",
    "```"
   ]
  },
  {
   "cell_type": "markdown",
   "metadata": {},
   "source": [
    "## Embedding videos\n",
    "\n",
    "Of course, you can make your notebook also contain various education material, including videos:"
   ]
  },
  {
   "cell_type": "code",
   "execution_count": 3,
   "metadata": {},
   "outputs": [
    {
     "data": {
      "image/jpeg": "[encoded data removed]",
      "text/html": [
       "\n",
       "        <iframe\n",
       "            width=\"400\"\n",
       "            height=\"300\"\n",
       "            src=\"https://www.youtube.com/embed/HW29067qVWk\"\n",
       "            frameborder=\"0\"\n",
       "            allowfullscreen\n",
       "        ></iframe>\n",
       "        "
      ],
      "text/plain": [
       "<IPython.lib.display.YouTubeVideo at 0x7f4cb05da470>"
      ]
     },
     "execution_count": 3,
     "metadata": {},
     "output_type": "execute_result"
    }
   ],
   "source": [
    "from IPython.lib.display import YouTubeVideo\n",
    "YouTubeVideo('HW29067qVWk')"
   ]
  },
  {
   "cell_type": "markdown",
   "metadata": {},
   "source": [
    "You can also embed a video using solely HTML:\n",
    "\n",
    "```\n",
    "%%HTML\n",
    "<iframe width=\"560\" src=\"https://www.youtube.com/embed/inN8seMm7UI\"></iframe>```"
   ]
  },
  {
   "cell_type": "code",
   "execution_count": 4,
   "metadata": {},
   "outputs": [
    {
     "data": {
      "text/html": [
       "<iframe width=\"560\" height=\"340\" src=\"https://www.youtube.com/embed/inN8seMm7UI\"></iframe>"
      ],
      "text/plain": [
       "<IPython.core.display.HTML object>"
      ]
     },
     "metadata": {},
     "output_type": "display_data"
    }
   ],
   "source": [
    "%%HTML\n",
    "<iframe width=\"560\" height=\"340\" src=\"https://www.youtube.com/embed/inN8seMm7UI\"></iframe>"
   ]
  },
  {
   "cell_type": "markdown",
   "metadata": {},
   "source": [
    "## Interactive Components\n",
    "\n",
    "You can connect your existing Python code with interactive components, such as button, sliders,...\n",
    "\n",
    "The following code will convert inches to cm, using an interactive slider."
   ]
  },
  {
   "cell_type": "code",
   "execution_count": 5,
   "metadata": {},
   "outputs": [
    {
     "data": {
      "application/vnd.jupyter.widget-view+json": {
       "model_id": "8c86bb33b2ba4f10821ab91da4f94868",
       "version_major": 2,
       "version_minor": 0
      },
      "text/plain": [
       "interactive(children=(IntSlider(value=2, description='inches', max=8), Output()), _dom_classes=('widget-intera…"
      ]
     },
     "metadata": {},
     "output_type": "display_data"
    }
   ],
   "source": [
    "from ipywidgets import interact\n",
    "\n",
    "def inches_to_cm(inches=2):\n",
    "    return '%.2f inches is %.2f cm' % (inches, inches*2.54)\n",
    "\n",
    "interact(inches_to_cm, inches=(0,8,1));\n"
   ]
  },
  {
   "cell_type": "markdown",
   "metadata": {},
   "source": [
    "You can find a list of available widgets [here](https://ipywidgets.readthedocs.io/en/stable/examples/Widget%20List.html) and you may read an article with more [advanced applications](https://towardsdatascience.com/interactive-controls-for-jupyter-notebooks-f5c94829aee6) of the widgets. \n"
   ]
  },
  {
   "cell_type": "markdown",
   "metadata": {},
   "source": [
    "## Graphs\n",
    "\n",
    "In a notebook you can also embed graphs from the analysis of your dataset, including barcharts, scatterplots, piecharts, jointplots and others."
   ]
  },
  {
   "cell_type": "code",
   "execution_count": 7,
   "metadata": {},
   "outputs": [
    {
     "data": {
      "image/png": "[encoded data removed]",
      "text/plain": [
       "<matplotlib.figure.Figure at 0x7f4cae2f9908>"
      ]
     },
     "metadata": {},
     "output_type": "display_data"
    }
   ],
   "source": [
    "%matplotlib inline\n",
    "import matplotlib.pyplot as plt; plt.rcdefaults()\n",
    "import numpy as np\n",
    "import matplotlib.pyplot as plt\n",
    "\n",
    "objects = ('Python', 'C++', 'Java', 'Perl', 'Scala', 'Lisp')\n",
    "y_pos = np.arange(len(objects))\n",
    "usage = [10,8,6,4,2,1]\n",
    "\n",
    "plt.bar(y_pos, usage, align='center', alpha=0.5)\n",
    "plt.xticks(y_pos, objects)\n",
    "plt.ylabel('Usage')\n",
    "plt.title('Programming language usage')\n",
    "\n",
    "plt.show()"
   ]
  },
  {
   "cell_type": "markdown",
   "metadata": {},
   "source": [
    "## More tutorials\n",
    "\n",
    "I recommend that you also go over some of the notebook and Python tutorials below. The first link contains tutorials about Markdown and Jupyter notebooks in Google Colab and Azure Notebooks. The rest are general tutorials.\n",
    "\n",
    "- https://colab.research.google.com/\n",
    "- https://notebooks.azure.com/wesm/projects/python-for-data-analysis\n",
    "- [http://mbakker7.github.io/exploratory_computing_with_python/](http://mbakker7.github.io/exploratory_computing_with_python/)\n",
    "\n",
    "- [A gallery of interesting Jupyter notebooks](https://github.com/jupyter/jupyter/wiki/A-gallery-of-interesting-Jupyter-Notebooks#pandas-for-data-analysis)\n",
    "\n",
    "- [Datasets for your project](https://blog.bigml.com/list-of-public-data-sources-fit-for-machine-learning/)"
   ]
  },
  {
   "cell_type": "markdown",
   "metadata": {},
   "source": [
    "## Getting Help Interactively\n",
    "\n",
    "If you are writing some Python code in a cell, and we you don't remember exact what parameters are used you can do the following, e.g., for the ```count``` command:\n",
    "\n",
    "> ```python\n",
    "import pandas as pd\n",
    "df = pd.DataFrame?\n",
    "```\n",
    "\n",
    "A popup will come up from the bottom of the screen with the function definition.\n",
    "\n",
    "Of course, more than usual, you also don't remember the exact function as well! For this autocomplete can help! You can also use the ```tab``` to help with the autocomplete, eg. ```pd.Data```[press tab now] \n",
    "\n",
    "Try it on your own:"
   ]
  },
  {
   "cell_type": "code",
   "execution_count": 1,
   "metadata": {},
   "outputs": [],
   "source": [
    "import pandas as pd"
   ]
  },
  {
   "cell_type": "code",
   "execution_count": 2,
   "metadata": {},
   "outputs": [],
   "source": []
  },
  {
   "cell_type": "code",
   "execution_count": null,
   "metadata": {},
   "outputs": [],
   "source": []
  },
  {
   "cell_type": "markdown",
   "metadata": {},
   "source": [
    "## Advanced Features\n",
    "### Measuring time\n",
    "\n",
    "Many times, you will try various versions of your Python code and try to optimize it, i.e., make it run faster. How do you know that some different code is faster than your existing?\n",
    "\n",
    "A very useful 'magic' command is the ```timeit``` which let's you measure the time it takes to run a command, or all the commands in a cell. Such a command will help you try different versions of your code and identify the most efficient variant. You can reach the same destination via multiple paths, but some are faster than others!"
   ]
  },
  {
   "cell_type": "code",
   "execution_count": 1,
   "metadata": {},
   "outputs": [
    {
     "name": "stdout",
     "output_type": "stream",
     "text": [
      "47.4 ms ± 1.5 ms per loop (mean ± std. dev. of 7 runs, 10 loops each)\n"
     ]
    }
   ],
   "source": [
    "%timeit l = [k for k in range(10**6)]"
   ]
  }
 ],
 "metadata": {
  "kernelspec": {
   "display_name": "Python 3",
   "language": "python",
   "name": "python3"
  },
  "language_info": {
   "codemirror_mode": {
    "name": "ipython",
    "version": 3
   },
   "file_extension": ".py",
   "mimetype": "text/x-python",
   "name": "python",
   "nbconvert_exporter": "python",
   "pygments_lexer": "ipython3",
   "version": "3.6.7"
  }
 },
 "nbformat": 4,
 "nbformat_minor": 2
}

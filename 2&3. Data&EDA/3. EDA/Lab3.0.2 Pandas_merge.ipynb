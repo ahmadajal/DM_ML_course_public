{
  "cells": [
    {
      "cell_type": "markdown",
      "source": [
        "# Merging Datasets and Inner Join\n",
        "\n",
        "We continue with advanced Pandas operations, namely how to merge different dataframes. What we describe here is also explained in the pdf file:\n",
        "\n",
        "`4. Pandas_Merge.pdf`\n",
        "\n",
        "In many cases the data that we need to answer our question reside in different files or DataFrames. So we have to *merge* them. How do we do it?\n",
        "\n",
        "We have to specify which two DataFrames we wish to join and also *how* they will joined, ie what is the common identifier/key.\n",
        "\n",
        "For example, one dataframe may hold the transaction details and the customer id, and another dataframe can hold the details of each customer (city, telephone) and the customer id. By bringing these two together we have a complete overview.\n",
        "\n",
        "\n",
        "- *Inner Join*: Taking the inner on a column will return only those rows from the two DataFrames that have a common value in that column.<br><br>\n",
        "`A.merge(B, how=\"inner\", on=”ID\")`"
      ],
      "metadata": {}
    },
    {
      "cell_type": "code",
      "source": [
        "import pandas as pd\n",
        "\n",
        "transactions = pd.read_csv(\"https://raw.githubusercontent.com/ahmadajal/DM_ML_course_public/master/2%263.%20Data%26EDA/data/data_merge_examples/transactions.csv\")\n",
        "transactions.head()"
      ],
      "outputs": [
        {
          "output_type": "execute_result",
          "execution_count": 17,
          "data": {
            "text/plain": [
              "   Customer   TransDate  Quantity  PurchAmount    Cost\n",
              "0    149332  15.11.2005         1       199.95  107.00\n",
              "1    172951  29.08.2008         1       199.95  108.00\n",
              "2    120621  19.10.2007         1        99.95   49.00\n",
              "3    149236  14.11.2005         1        39.95   18.95\n",
              "4    149236  12.06.2007         1        79.95   35.00"
            ],
            "text/html": [
              "<div>\n",
              "<style scoped>\n",
              "    .dataframe tbody tr th:only-of-type {\n",
              "        vertical-align: middle;\n",
              "    }\n",
              "\n",
              "    .dataframe tbody tr th {\n",
              "        vertical-align: top;\n",
              "    }\n",
              "\n",
              "    .dataframe thead th {\n",
              "        text-align: right;\n",
              "    }\n",
              "</style>\n",
              "<table border=\"1\" class=\"dataframe\">\n",
              "  <thead>\n",
              "    <tr style=\"text-align: right;\">\n",
              "      <th></th>\n",
              "      <th>Customer</th>\n",
              "      <th>TransDate</th>\n",
              "      <th>Quantity</th>\n",
              "      <th>PurchAmount</th>\n",
              "      <th>Cost</th>\n",
              "    </tr>\n",
              "  </thead>\n",
              "  <tbody>\n",
              "    <tr>\n",
              "      <th>0</th>\n",
              "      <td>149332</td>\n",
              "      <td>15.11.2005</td>\n",
              "      <td>1</td>\n",
              "      <td>199.95</td>\n",
              "      <td>107.00</td>\n",
              "    </tr>\n",
              "    <tr>\n",
              "      <th>1</th>\n",
              "      <td>172951</td>\n",
              "      <td>29.08.2008</td>\n",
              "      <td>1</td>\n",
              "      <td>199.95</td>\n",
              "      <td>108.00</td>\n",
              "    </tr>\n",
              "    <tr>\n",
              "      <th>2</th>\n",
              "      <td>120621</td>\n",
              "      <td>19.10.2007</td>\n",
              "      <td>1</td>\n",
              "      <td>99.95</td>\n",
              "      <td>49.00</td>\n",
              "    </tr>\n",
              "    <tr>\n",
              "      <th>3</th>\n",
              "      <td>149236</td>\n",
              "      <td>14.11.2005</td>\n",
              "      <td>1</td>\n",
              "      <td>39.95</td>\n",
              "      <td>18.95</td>\n",
              "    </tr>\n",
              "    <tr>\n",
              "      <th>4</th>\n",
              "      <td>149236</td>\n",
              "      <td>12.06.2007</td>\n",
              "      <td>1</td>\n",
              "      <td>79.95</td>\n",
              "      <td>35.00</td>\n",
              "    </tr>\n",
              "  </tbody>\n",
              "</table>\n",
              "</div>"
            ]
          },
          "metadata": {}
        }
      ],
      "execution_count": 17,
      "metadata": {
        "collapsed": false,
        "outputHidden": false,
        "inputHidden": false
      }
    },
    {
      "cell_type": "code",
      "source": [
        "demographics = pd.read_csv(\"https://raw.githubusercontent.com/ahmadajal/DM_ML_course_public/master/2%263.%20Data%26EDA/data/data_merge_examples/demographics.csv\")\n",
        "demographics.head()"
      ],
      "outputs": [
        {
          "output_type": "execute_result",
          "execution_count": 18,
          "data": {
            "text/plain": [
              "   Customer Gender   Birthdate       ZIP    JoinDate\n",
              "0     80365      f  26.08.1991  US-06332  15.09.2009\n",
              "1     42886      f  04.05.1987  US-08055  12.06.2011\n",
              "2     84374      m  10.07.1977  US-06400  10.08.1988\n",
              "3     42291      m  12.07.1963  US-04533  23.07.1998\n",
              "4    100001      m  08.05.1974  US-02332  21.02.1992"
            ],
            "text/html": [
              "<div>\n",
              "<style scoped>\n",
              "    .dataframe tbody tr th:only-of-type {\n",
              "        vertical-align: middle;\n",
              "    }\n",
              "\n",
              "    .dataframe tbody tr th {\n",
              "        vertical-align: top;\n",
              "    }\n",
              "\n",
              "    .dataframe thead th {\n",
              "        text-align: right;\n",
              "    }\n",
              "</style>\n",
              "<table border=\"1\" class=\"dataframe\">\n",
              "  <thead>\n",
              "    <tr style=\"text-align: right;\">\n",
              "      <th></th>\n",
              "      <th>Customer</th>\n",
              "      <th>Gender</th>\n",
              "      <th>Birthdate</th>\n",
              "      <th>ZIP</th>\n",
              "      <th>JoinDate</th>\n",
              "    </tr>\n",
              "  </thead>\n",
              "  <tbody>\n",
              "    <tr>\n",
              "      <th>0</th>\n",
              "      <td>80365</td>\n",
              "      <td>f</td>\n",
              "      <td>26.08.1991</td>\n",
              "      <td>US-06332</td>\n",
              "      <td>15.09.2009</td>\n",
              "    </tr>\n",
              "    <tr>\n",
              "      <th>1</th>\n",
              "      <td>42886</td>\n",
              "      <td>f</td>\n",
              "      <td>04.05.1987</td>\n",
              "      <td>US-08055</td>\n",
              "      <td>12.06.2011</td>\n",
              "    </tr>\n",
              "    <tr>\n",
              "      <th>2</th>\n",
              "      <td>84374</td>\n",
              "      <td>m</td>\n",
              "      <td>10.07.1977</td>\n",
              "      <td>US-06400</td>\n",
              "      <td>10.08.1988</td>\n",
              "    </tr>\n",
              "    <tr>\n",
              "      <th>3</th>\n",
              "      <td>42291</td>\n",
              "      <td>m</td>\n",
              "      <td>12.07.1963</td>\n",
              "      <td>US-04533</td>\n",
              "      <td>23.07.1998</td>\n",
              "    </tr>\n",
              "    <tr>\n",
              "      <th>4</th>\n",
              "      <td>100001</td>\n",
              "      <td>m</td>\n",
              "      <td>08.05.1974</td>\n",
              "      <td>US-02332</td>\n",
              "      <td>21.02.1992</td>\n",
              "    </tr>\n",
              "  </tbody>\n",
              "</table>\n",
              "</div>"
            ]
          },
          "metadata": {}
        }
      ],
      "execution_count": 18,
      "metadata": {
        "collapsed": false,
        "outputHidden": false,
        "inputHidden": false
      }
    },
    {
      "cell_type": "markdown",
      "source": [
        "---\n",
        "# Exercise\n",
        "---\n",
        "\n",
        "Merge transactions and demographics by `Customer` using an [inner join](https://pandas.pydata.org/pandas-docs/stable/reference/api/pandas.DataFrame.merge.html). And select those customers with birthdate in the year of 1980 (Hint: use `dt.year`)\n",
        "\n",
        "Note: When merging the columns of the left (right) DataFrame will get a suffix of _x (_y)"
      ],
      "metadata": {}
    },
    {
      "cell_type": "code",
      "source": [
        "# YOUR SOLUTION\n",
        "\n",
        "# Adjust the format of column \"TransDate\" to datetime\n",
        "transactions[\"TransDate\"] = pd.to_datetime(transactions[\"TransDate\"]) \n",
        "# Adjust the format of column \"Birthdate\" to datetime\n",
        "demographics[\"Birthdate\"] =  pd.to_datetime(demographics[\"Birthdate\"]) \n",
        "\n",
        "\n",
        "# the join\n",
        "df_merged = transactions.merge(demographics, how=\"inner\", on=\"Customer\")\n",
        "df_merged.head()"
      ],
      "outputs": [],
      "execution_count": null,
      "metadata": {
        "collapsed": false,
        "outputHidden": false,
        "inputHidden": false
      }
    },
    {
      "cell_type": "code",
      "source": [
        "# now do the selection\n",
        "merge1980_2=df_merged.loc[df_merged[\"Birthdate\"]...etc]"
      ],
      "outputs": [],
      "execution_count": null,
      "metadata": {
        "collapsed": false,
        "outputHidden": false,
        "inputHidden": false
      }
    },
    {
      "cell_type": "markdown",
      "source": [
        "# Full Outer Join\n",
        "\n",
        "The full outer join will merge two dataframes on a column `c` and will return the *union* of all the rows/values. When there are no corresponding joins on the other dataframe, NaNs (Not a Number), NaTs (Not a Time) will be placed. \n"
      ],
      "metadata": {}
    },
    {
      "cell_type": "code",
      "source": [
        "# Join 2 dataframes with outer join\n",
        "pd.options.display.max_rows = 10\n",
        "transactions.merge(demographics, how=\"outer\", on=\"Customer\")"
      ],
      "outputs": [
        {
          "output_type": "execute_result",
          "execution_count": 6,
          "data": {
            "text/plain": [
              "        Customer   TransDate  Quantity  ...   Birthdate       ZIP    JoinDate\n",
              "0         149332  15.11.2005       1.0  ...  07.07.1998  US-08873  05.11.2005\n",
              "1         149332  13.12.2005       1.0  ...  07.07.1998  US-08873  05.11.2005\n",
              "2         149332  05.10.2006       1.0  ...  07.07.1998  US-08873  05.11.2005\n",
              "3         172951  29.08.2008       1.0  ...  16.11.1963  US-11378  04.04.1980\n",
              "4         172951  29.08.2008       1.0  ...  16.11.1963  US-11378  04.04.1980\n",
              "...          ...         ...       ...  ...         ...       ...         ...\n",
              "224190    200995         NaN       NaN  ...  09.11.1992  US-62035  11.01.1978\n",
              "224191    200996         NaN       NaN  ...  26.08.1976  US-17844  05.04.2005\n",
              "224192    200997         NaN       NaN  ...  21.06.1997  US-30324  09.10.1995\n",
              "224193    200998         NaN       NaN  ...  02.05.1967  US-10017  11.06.1988\n",
              "224194    200999         NaN       NaN  ...  09.09.1961  US-07950  15.08.1984\n",
              "\n",
              "[224195 rows x 9 columns]"
            ],
            "text/html": [
              "<div>\n",
              "<style scoped>\n",
              "    .dataframe tbody tr th:only-of-type {\n",
              "        vertical-align: middle;\n",
              "    }\n",
              "\n",
              "    .dataframe tbody tr th {\n",
              "        vertical-align: top;\n",
              "    }\n",
              "\n",
              "    .dataframe thead th {\n",
              "        text-align: right;\n",
              "    }\n",
              "</style>\n",
              "<table border=\"1\" class=\"dataframe\">\n",
              "  <thead>\n",
              "    <tr style=\"text-align: right;\">\n",
              "      <th></th>\n",
              "      <th>Customer</th>\n",
              "      <th>TransDate</th>\n",
              "      <th>Quantity</th>\n",
              "      <th>PurchAmount</th>\n",
              "      <th>Cost</th>\n",
              "      <th>Gender</th>\n",
              "      <th>Birthdate</th>\n",
              "      <th>ZIP</th>\n",
              "      <th>JoinDate</th>\n",
              "    </tr>\n",
              "  </thead>\n",
              "  <tbody>\n",
              "    <tr>\n",
              "      <th>0</th>\n",
              "      <td>149332</td>\n",
              "      <td>15.11.2005</td>\n",
              "      <td>1.0</td>\n",
              "      <td>199.95</td>\n",
              "      <td>107.00</td>\n",
              "      <td>m</td>\n",
              "      <td>07.07.1998</td>\n",
              "      <td>US-08873</td>\n",
              "      <td>05.11.2005</td>\n",
              "    </tr>\n",
              "    <tr>\n",
              "      <th>1</th>\n",
              "      <td>149332</td>\n",
              "      <td>13.12.2005</td>\n",
              "      <td>1.0</td>\n",
              "      <td>49.95</td>\n",
              "      <td>24.87</td>\n",
              "      <td>m</td>\n",
              "      <td>07.07.1998</td>\n",
              "      <td>US-08873</td>\n",
              "      <td>05.11.2005</td>\n",
              "    </tr>\n",
              "    <tr>\n",
              "      <th>2</th>\n",
              "      <td>149332</td>\n",
              "      <td>05.10.2006</td>\n",
              "      <td>1.0</td>\n",
              "      <td>24.95</td>\n",
              "      <td>12.50</td>\n",
              "      <td>m</td>\n",
              "      <td>07.07.1998</td>\n",
              "      <td>US-08873</td>\n",
              "      <td>05.11.2005</td>\n",
              "    </tr>\n",
              "    <tr>\n",
              "      <th>3</th>\n",
              "      <td>172951</td>\n",
              "      <td>29.08.2008</td>\n",
              "      <td>1.0</td>\n",
              "      <td>199.95</td>\n",
              "      <td>108.00</td>\n",
              "      <td>m</td>\n",
              "      <td>16.11.1963</td>\n",
              "      <td>US-11378</td>\n",
              "      <td>04.04.1980</td>\n",
              "    </tr>\n",
              "    <tr>\n",
              "      <th>4</th>\n",
              "      <td>172951</td>\n",
              "      <td>29.08.2008</td>\n",
              "      <td>1.0</td>\n",
              "      <td>249.95</td>\n",
              "      <td>162.50</td>\n",
              "      <td>m</td>\n",
              "      <td>16.11.1963</td>\n",
              "      <td>US-11378</td>\n",
              "      <td>04.04.1980</td>\n",
              "    </tr>\n",
              "    <tr>\n",
              "      <th>...</th>\n",
              "      <td>...</td>\n",
              "      <td>...</td>\n",
              "      <td>...</td>\n",
              "      <td>...</td>\n",
              "      <td>...</td>\n",
              "      <td>...</td>\n",
              "      <td>...</td>\n",
              "      <td>...</td>\n",
              "      <td>...</td>\n",
              "    </tr>\n",
              "    <tr>\n",
              "      <th>224190</th>\n",
              "      <td>200995</td>\n",
              "      <td>NaN</td>\n",
              "      <td>NaN</td>\n",
              "      <td>NaN</td>\n",
              "      <td>NaN</td>\n",
              "      <td>f</td>\n",
              "      <td>09.11.1992</td>\n",
              "      <td>US-62035</td>\n",
              "      <td>11.01.1978</td>\n",
              "    </tr>\n",
              "    <tr>\n",
              "      <th>224191</th>\n",
              "      <td>200996</td>\n",
              "      <td>NaN</td>\n",
              "      <td>NaN</td>\n",
              "      <td>NaN</td>\n",
              "      <td>NaN</td>\n",
              "      <td>m</td>\n",
              "      <td>26.08.1976</td>\n",
              "      <td>US-17844</td>\n",
              "      <td>05.04.2005</td>\n",
              "    </tr>\n",
              "    <tr>\n",
              "      <th>224192</th>\n",
              "      <td>200997</td>\n",
              "      <td>NaN</td>\n",
              "      <td>NaN</td>\n",
              "      <td>NaN</td>\n",
              "      <td>NaN</td>\n",
              "      <td>f</td>\n",
              "      <td>21.06.1997</td>\n",
              "      <td>US-30324</td>\n",
              "      <td>09.10.1995</td>\n",
              "    </tr>\n",
              "    <tr>\n",
              "      <th>224193</th>\n",
              "      <td>200998</td>\n",
              "      <td>NaN</td>\n",
              "      <td>NaN</td>\n",
              "      <td>NaN</td>\n",
              "      <td>NaN</td>\n",
              "      <td>m</td>\n",
              "      <td>02.05.1967</td>\n",
              "      <td>US-10017</td>\n",
              "      <td>11.06.1988</td>\n",
              "    </tr>\n",
              "    <tr>\n",
              "      <th>224194</th>\n",
              "      <td>200999</td>\n",
              "      <td>NaN</td>\n",
              "      <td>NaN</td>\n",
              "      <td>NaN</td>\n",
              "      <td>NaN</td>\n",
              "      <td>f</td>\n",
              "      <td>09.09.1961</td>\n",
              "      <td>US-07950</td>\n",
              "      <td>15.08.1984</td>\n",
              "    </tr>\n",
              "  </tbody>\n",
              "</table>\n",
              "<p>224195 rows × 9 columns</p>\n",
              "</div>"
            ]
          },
          "metadata": {}
        }
      ],
      "execution_count": 6,
      "metadata": {
        "collapsed": false,
        "outputHidden": false,
        "inputHidden": false
      }
    },
    {
      "cell_type": "markdown",
      "source": [
        "*Sidenote:* Selecting missing and non-missing values"
      ],
      "metadata": {}
    },
    {
      "cell_type": "code",
      "source": [
        "# select missing values\n",
        "transactions.loc[pd.isnull(myData[\"PurchAmount\"]), ]"
      ],
      "outputs": [],
      "execution_count": null,
      "metadata": {
        "collapsed": false,
        "outputHidden": false,
        "inputHidden": false
      }
    },
    {
      "cell_type": "code",
      "source": [
        "# select non-missing values\n",
        "myData.loc[ ~ pd.isnull(myData[\"PurchAmount\"]), ]"
      ],
      "outputs": [],
      "execution_count": null,
      "metadata": {
        "collapsed": false,
        "outputHidden": false,
        "inputHidden": false
      }
    },
    {
      "cell_type": "markdown",
      "source": [
        "# Left and Right Outer joins"
      ],
      "metadata": {}
    },
    {
      "cell_type": "code",
      "source": [
        "# merging left outer join\n",
        "# use all the observations from transactions but only those that much from demographics\n",
        "transactions.merge(demographics, how=\"left\", on=\"Customer\")"
      ],
      "outputs": [],
      "execution_count": null,
      "metadata": {
        "collapsed": false,
        "outputHidden": false,
        "inputHidden": false
      }
    },
    {
      "cell_type": "code",
      "source": [
        "# do the same for right outer joins"
      ],
      "outputs": [],
      "execution_count": null,
      "metadata": {
        "collapsed": false,
        "outputHidden": false,
        "inputHidden": false
      }
    }
  ],
  "metadata": {
    "kernel_info": {
      "name": "python3"
    },
    "language_info": {
      "name": "python",
      "version": "3.7.3",
      "mimetype": "text/x-python",
      "codemirror_mode": {
        "name": "ipython",
        "version": 3
      },
      "pygments_lexer": "ipython3",
      "nbconvert_exporter": "python",
      "file_extension": ".py"
    },
    "kernelspec": {
      "name": "python3",
      "language": "python",
      "display_name": "Python 3"
    },
    "nteract": {
      "version": "0.15.0"
    }
  },
  "nbformat": 4,
  "nbformat_minor": 0
}
{
  "nbformat": 4,
  "nbformat_minor": 0,
  "metadata": {
    "colab": {
      "name": "Text_Similarity.ipynb",
      "provenance": [],
      "collapsed_sections": []
    },
    "kernelspec": {
      "name": "python3",
      "display_name": "Python 3"
    }
  },
  "cells": [
    {
      "cell_type": "code",
      "metadata": {
        "id": "GQi481ap9CEM",
        "colab_type": "code",
        "colab": {}
      },
      "source": [
        "#nltk.download('punkt')\n",
        "# we update and install spaCy\n",
        "# !pip install -U spacy"
      ],
      "execution_count": 0,
      "outputs": []
    },
    {
      "cell_type": "code",
      "metadata": {
        "id": "fe7twV8Q7dGg",
        "colab_type": "code",
        "outputId": "bc6c34fc-554e-470b-bd46-085f21c5c48b",
        "colab": {
          "base_uri": "https://localhost:8080/",
          "height": 476
        }
      },
      "source": [
        "pip install wikipedia"
      ],
      "execution_count": 0,
      "outputs": [
        {
          "output_type": "stream",
          "text": [
            "Collecting wikipedia\n",
            "  Downloading https://files.pythonhosted.org/packages/67/35/25e68fbc99e672127cc6fbb14b8ec1ba3dfef035bf1e4c90f78f24a80b7d/wikipedia-1.4.0.tar.gz\n",
            "Requirement already satisfied: beautifulsoup4 in /usr/local/lib/python3.6/dist-packages (from wikipedia) (4.6.3)\n",
            "Requirement already satisfied: requests<3.0.0,>=2.0.0 in /usr/local/lib/python3.6/dist-packages (from wikipedia) (2.21.0)\n",
            "Requirement already satisfied: chardet<3.1.0,>=3.0.2 in /usr/local/lib/python3.6/dist-packages (from requests<3.0.0,>=2.0.0->wikipedia) (3.0.4)\n",
            "Requirement already satisfied: idna<2.9,>=2.5 in /usr/local/lib/python3.6/dist-packages (from requests<3.0.0,>=2.0.0->wikipedia) (2.8)\n",
            "Requirement already satisfied: certifi>=2017.4.17 in /usr/local/lib/python3.6/dist-packages (from requests<3.0.0,>=2.0.0->wikipedia) (2019.9.11)\n",
            "Requirement already satisfied: urllib3<1.25,>=1.21.1 in /usr/local/lib/python3.6/dist-packages (from requests<3.0.0,>=2.0.0->wikipedia) (1.24.3)\n",
            "Building wheels for collected packages: wikipedia\n",
            "  Building wheel for wikipedia (setup.py) ... \u001b[?25l\u001b[?25hdone\n",
            "  Created wheel for wikipedia: filename=wikipedia-1.4.0-cp36-none-any.whl size=11686 sha256=23cd4e62e127ab6f50aa48fc199a024422faad27a52bdb317eaa62787b49cf7d\n",
            "  Stored in directory: /root/.cache/pip/wheels/87/2a/18/4e471fd96d12114d16fe4a446d00c3b38fb9efcb744bd31f4a\n",
            "Successfully built wikipedia\n",
            "Installing collected packages: wikipedia\n",
            "Successfully installed wikipedia-1.4.0\n"
          ],
          "name": "stdout"
        }
      ]
    },
    {
      "cell_type": "markdown",
      "metadata": {
        "id": "uY-QWMKHuWPx",
        "colab_type": "text"
      },
      "source": [
        "It's much easier to use an existing library that does all this preprocessing for us (but it's limited to wikipedia articles)."
      ]
    },
    {
      "cell_type": "code",
      "metadata": {
        "id": "_S39iF0Wsu2u",
        "colab_type": "code",
        "colab": {}
      },
      "source": [
        "import wikipedia\n",
        "\n",
        "topics = [\"Albert Einstein\",\n",
        "          \"Ada Lovelace\",\n",
        "          \"Abraham Lincoln\",\n",
        "          \"Stephen Hawking\",\n",
        "          \"Steve Jobs\",\n",
        "          \"Bill Gates\",\n",
        "          \"Bill Clinton\"\n",
        "]\n",
        "\n",
        "data = [wikipedia.summary(topics[p], sentences=20) for p in range(len(topics))]\n",
        "\n",
        "# we will try this later\n",
        "# data = [wikipedia.page(topics[p]).content for p in range(len(topics))]"
      ],
      "execution_count": 0,
      "outputs": []
    },
    {
      "cell_type": "code",
      "metadata": {
        "id": "szdCm_N2s1xP",
        "colab_type": "code",
        "outputId": "00dd5170-0d32-4bcf-b27c-6b56cd0fc4cc",
        "colab": {
          "base_uri": "https://localhost:8080/",
          "height": 233
        }
      },
      "source": [
        "# show the first sentences about Ada Lovelace\n",
        "data[1]"
      ],
      "execution_count": 0,
      "outputs": [
        {
          "output_type": "execute_result",
          "data": {
            "text/plain": [
              "'Augusta Ada King, Countess of Lovelace (née Byron; 10 December 1815 – 27 November 1852) was an English mathematician and writer, chiefly known for her work on Charles Babbage\\'s proposed mechanical general-purpose computer, the Analytical Engine. She was the first to recognise that the machine had applications beyond pure calculation, and published the first algorithm intended to be carried out by such a machine. As a result, she is sometimes regarded as the first to recognise the full potential of a \"computing machine\" and one of the first computer programmers.Lovelace was the only legitimate child of poet Lord Byron and his wife Lady Byron. All of Byron\\'s other children were born out of wedlock to other women. Byron separated from his wife a month after Ada was born and left England forever four months later. He commemorated the parting in a poem that begins, \"Is thy face like thy mother\\'s my fair child! ADA! sole daughter of my house and heart?\". He died of disease in the Greek War of Independence when Ada was eight years old. Her mother remained bitter and promoted Ada\\'s interest in mathematics and logic in an effort to prevent her from developing her father\\'s perceived insanity.'"
            ]
          },
          "metadata": {
            "tags": []
          },
          "execution_count": 52
        }
      ]
    },
    {
      "cell_type": "markdown",
      "metadata": {
        "id": "MKC0hmfgZesx",
        "colab_type": "text"
      },
      "source": [
        "## Converting the text into vectors"
      ]
    },
    {
      "cell_type": "code",
      "metadata": {
        "id": "abDmZVMZLuXP",
        "colab_type": "code",
        "colab": {}
      },
      "source": [
        "from sklearn.feature_extraction.text import CountVectorizer\n",
        "from sklearn.feature_extraction import stop_words\n",
        "import pandas as pd\n",
        "\n",
        "stopwords = stop_words.ENGLISH_STOP_WORDS\n",
        "\n",
        "# using default tokenizer \n",
        "count = CountVectorizer(ngram_range=(1,2), stop_words = None)\n",
        "bow = count.fit_transform(data)"
      ],
      "execution_count": 0,
      "outputs": []
    },
    {
      "cell_type": "markdown",
      "metadata": {
        "id": "UAwCpPh9ZYOB",
        "colab_type": "text"
      },
      "source": [
        "## Computing the Cosine Similarity"
      ]
    },
    {
      "cell_type": "code",
      "metadata": {
        "id": "aq3E7gSBWnNE",
        "colab_type": "code",
        "outputId": "d680353f-0db4-4aad-9118-e15f339eefa8",
        "colab": {
          "base_uri": "https://localhost:8080/",
          "height": 92
        }
      },
      "source": [
        "from sklearn.metrics.pairwise import cosine_similarity\n",
        "\n",
        "# compute first item against all the rest\n",
        "cosine_similarity(bow[0:1], bow)"
      ],
      "execution_count": 0,
      "outputs": [
        {
          "output_type": "execute_result",
          "data": {
            "text/plain": [
              "array([[1.        , 0.49048836, 0.524366  , 0.69213911, 0.59472915,\n",
              "        0.50936923, 0.53733868]])"
            ]
          },
          "metadata": {
            "tags": []
          },
          "execution_count": 54
        }
      ]
    },
    {
      "cell_type": "markdown",
      "metadata": {
        "id": "nA4_Z07bY9xd",
        "colab_type": "text"
      },
      "source": [
        "We see that the maximum cosine similarity is achieved for the 4th item and it is 0.69. The above shows that \"Albert Einstein\" is more similar to \"Steven Hawking\".\n",
        "\n",
        "Now let's see all the pairwise similarities.\n"
      ]
    },
    {
      "cell_type": "markdown",
      "metadata": {
        "id": "u5OzgKfcZtSb",
        "colab_type": "text"
      },
      "source": [
        ""
      ]
    },
    {
      "cell_type": "code",
      "metadata": {
        "id": "UmUb5yL3YwIp",
        "colab_type": "code",
        "outputId": "8c4154b1-6167-4786-f6bf-9e5748baa98f",
        "colab": {
          "base_uri": "https://localhost:8080/",
          "height": 312
        }
      },
      "source": [
        "pairwise_similarities = cosine_similarity(bow, bow)\n",
        "\n",
        "pairwise_df = pd.DataFrame(\n",
        "    pairwise_similarities,\n",
        "    columns = topics,\n",
        "    index = topics\n",
        ")\n",
        "pairwise_df"
      ],
      "execution_count": 0,
      "outputs": [
        {
          "output_type": "execute_result",
          "data": {
            "text/html": [
              "<div>\n",
              "<style scoped>\n",
              "    .dataframe tbody tr th:only-of-type {\n",
              "        vertical-align: middle;\n",
              "    }\n",
              "\n",
              "    .dataframe tbody tr th {\n",
              "        vertical-align: top;\n",
              "    }\n",
              "\n",
              "    .dataframe thead th {\n",
              "        text-align: right;\n",
              "    }\n",
              "</style>\n",
              "<table border=\"1\" class=\"dataframe\">\n",
              "  <thead>\n",
              "    <tr style=\"text-align: right;\">\n",
              "      <th></th>\n",
              "      <th>Albert Einstein</th>\n",
              "      <th>Ada Lovelace</th>\n",
              "      <th>Abraham Lincoln</th>\n",
              "      <th>Stephen Hawking</th>\n",
              "      <th>Steve Jobs</th>\n",
              "      <th>Bill Gates</th>\n",
              "      <th>Bill Clinton</th>\n",
              "    </tr>\n",
              "  </thead>\n",
              "  <tbody>\n",
              "    <tr>\n",
              "      <th>Albert Einstein</th>\n",
              "      <td>1.000000</td>\n",
              "      <td>0.490488</td>\n",
              "      <td>0.524366</td>\n",
              "      <td>0.692139</td>\n",
              "      <td>0.594729</td>\n",
              "      <td>0.509369</td>\n",
              "      <td>0.537339</td>\n",
              "    </tr>\n",
              "    <tr>\n",
              "      <th>Ada Lovelace</th>\n",
              "      <td>0.490488</td>\n",
              "      <td>1.000000</td>\n",
              "      <td>0.436276</td>\n",
              "      <td>0.511915</td>\n",
              "      <td>0.527538</td>\n",
              "      <td>0.421445</td>\n",
              "      <td>0.503255</td>\n",
              "    </tr>\n",
              "    <tr>\n",
              "      <th>Abraham Lincoln</th>\n",
              "      <td>0.524366</td>\n",
              "      <td>0.436276</td>\n",
              "      <td>1.000000</td>\n",
              "      <td>0.510995</td>\n",
              "      <td>0.568423</td>\n",
              "      <td>0.478992</td>\n",
              "      <td>0.480819</td>\n",
              "    </tr>\n",
              "    <tr>\n",
              "      <th>Stephen Hawking</th>\n",
              "      <td>0.692139</td>\n",
              "      <td>0.511915</td>\n",
              "      <td>0.510995</td>\n",
              "      <td>1.000000</td>\n",
              "      <td>0.622700</td>\n",
              "      <td>0.469529</td>\n",
              "      <td>0.547745</td>\n",
              "    </tr>\n",
              "    <tr>\n",
              "      <th>Steve Jobs</th>\n",
              "      <td>0.594729</td>\n",
              "      <td>0.527538</td>\n",
              "      <td>0.568423</td>\n",
              "      <td>0.622700</td>\n",
              "      <td>1.000000</td>\n",
              "      <td>0.548664</td>\n",
              "      <td>0.554570</td>\n",
              "    </tr>\n",
              "    <tr>\n",
              "      <th>Bill Gates</th>\n",
              "      <td>0.509369</td>\n",
              "      <td>0.421445</td>\n",
              "      <td>0.478992</td>\n",
              "      <td>0.469529</td>\n",
              "      <td>0.548664</td>\n",
              "      <td>1.000000</td>\n",
              "      <td>0.473785</td>\n",
              "    </tr>\n",
              "    <tr>\n",
              "      <th>Bill Clinton</th>\n",
              "      <td>0.537339</td>\n",
              "      <td>0.503255</td>\n",
              "      <td>0.480819</td>\n",
              "      <td>0.547745</td>\n",
              "      <td>0.554570</td>\n",
              "      <td>0.473785</td>\n",
              "      <td>1.000000</td>\n",
              "    </tr>\n",
              "  </tbody>\n",
              "</table>\n",
              "</div>"
            ],
            "text/plain": [
              "                 Albert Einstein  Ada Lovelace  ...  Bill Gates  Bill Clinton\n",
              "Albert Einstein         1.000000      0.490488  ...    0.509369      0.537339\n",
              "Ada Lovelace            0.490488      1.000000  ...    0.421445      0.503255\n",
              "Abraham Lincoln         0.524366      0.436276  ...    0.478992      0.480819\n",
              "Stephen Hawking         0.692139      0.511915  ...    0.469529      0.547745\n",
              "Steve Jobs              0.594729      0.527538  ...    0.548664      0.554570\n",
              "Bill Gates              0.509369      0.421445  ...    1.000000      0.473785\n",
              "Bill Clinton            0.537339      0.503255  ...    0.473785      1.000000\n",
              "\n",
              "[7 rows x 7 columns]"
            ]
          },
          "metadata": {
            "tags": []
          },
          "execution_count": 55
        }
      ]
    },
    {
      "cell_type": "code",
      "metadata": {
        "id": "EcX5XMaEalYJ",
        "colab_type": "code",
        "outputId": "4efbb632-38ea-40b2-f26b-0421f9a8c18a",
        "colab": {
          "base_uri": "https://localhost:8080/",
          "height": 381
        }
      },
      "source": [
        "import seaborn as sns\n",
        "import matplotlib.pyplot as plt\n",
        "\n",
        "# show it \n",
        "plt.figure(figsize=(15,5))\n",
        "sns.heatmap(\n",
        "    pairwise_df,\n",
        "    cmap='OrRd',\n",
        "    linewidth=1,\n",
        "    annot=True\n",
        ")"
      ],
      "execution_count": 0,
      "outputs": [
        {
          "output_type": "execute_result",
          "data": {
            "text/plain": [
              "<matplotlib.axes._subplots.AxesSubplot at 0x7f63e0bd8240>"
            ]
          },
          "metadata": {
            "tags": []
          },
          "execution_count": 56
        },
        {
          "output_type": "display_data",
          "data": {
            "image/png": "[encoded data removed]",
            "text/plain": [
              "<Figure size 1080x360 with 2 Axes>"
            ]
          },
          "metadata": {
            "tags": []
          }
        }
      ]
    },
    {
      "cell_type": "markdown",
      "metadata": {
        "id": "-pBWchtQgjio",
        "colab_type": "text"
      },
      "source": [
        "# Exercise 1\n",
        "\n",
        "In the first block, uncomment this code:\n",
        "\n",
        "> `# data = [wikipedia.page(topics[p]).content for p in range(len(topics))]`\n",
        "\n",
        "to get the full text from each wikipedia entry, not just a summary.\n",
        "\n",
        "**Questions**:\n",
        "1. What do you notice in the pairwise similarities?\n",
        "2. Why is this happening?"
      ]
    },
    {
      "cell_type": "markdown",
      "metadata": {
        "id": "ozD1H2ofhKg5",
        "colab_type": "text"
      },
      "source": [
        "# Exercise 2\n",
        "\n",
        "We will remedy what you noticed before. \n",
        "\n",
        "1. How can we do it?\n",
        "2. How does the new pairwise matrix look like now?"
      ]
    },
    {
      "cell_type": "code",
      "metadata": {
        "id": "wkY1b59sa2gV",
        "colab_type": "code",
        "colab": {}
      },
      "source": [
        ""
      ],
      "execution_count": 0,
      "outputs": []
    }
  ]
}
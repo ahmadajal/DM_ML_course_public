{
 "cells": [
  {
   "cell_type": "markdown",
   "metadata": {},
   "source": [
    "# Classifying hand-written digits with deep learning"
   ]
  },
  {
   "cell_type": "markdown",
   "metadata": {},
   "source": [
    "## Keras package\n",
    "Keras is simply a wrapper around more complex numerical computation engines such as TensorFlow and Theano.\n",
    "\n",
    "Keras abstracts away much of the complexity of building a deep neural network, leaving us with a very simple, nice, and easy to use interface to rapidly build, test, and deploy deep learning architectures.\n",
    "\n",
    "When it comes to Keras you have two choices for a backend engine — either TensorFlow or Theano. Theano is older than TensorFlow and was originally the only choice when selecting a backend for Keras.\n",
    "TensorFlow is extremely flexible, allowing you to deploy network computation to multiple CPUs, GPUs, servers, or even mobile systems without having to change a single line of code. Therefore, it is preferable to install Keras on TensorFlow backend."
   ]
  },
  {
   "cell_type": "markdown",
   "metadata": {},
   "source": [
    "### Installing Keras on the TensorFlow backend"
   ]
  },
  {
   "cell_type": "code",
   "execution_count": null,
   "metadata": {},
   "outputs": [],
   "source": [
    "!pip install --upgrade tensorflow"
   ]
  },
  {
   "cell_type": "code",
   "execution_count": null,
   "metadata": {},
   "outputs": [],
   "source": [
    "!pip install keras"
   ]
  },
  {
   "cell_type": "code",
   "execution_count": 1,
   "metadata": {},
   "outputs": [
    {
     "name": "stderr",
     "output_type": "stream",
     "text": [
      "Using TensorFlow backend.\n"
     ]
    }
   ],
   "source": [
    "%matplotlib inline\n",
    "import numpy as np\n",
    "import matplotlib.pyplot as plt\n",
    "plt.rcParams['figure.figsize'] = (5,5) # Make the figures a bit bigger\n",
    "from sklearn.datasets import load_digits\n",
    "from keras.utils import np_utils"
   ]
  },
  {
   "cell_type": "markdown",
   "metadata": {},
   "source": [
    "## Load training data"
   ]
  },
  {
   "cell_type": "code",
   "execution_count": 2,
   "metadata": {},
   "outputs": [
    {
     "data": {
      "image/png": "[encoded data removed]",
      "text/plain": [
       "<Figure size 432x288 with 1 Axes>"
      ]
     },
     "metadata": {
      "needs_background": "light"
     },
     "output_type": "display_data"
    },
    {
     "data": {
      "text/plain": [
       "<matplotlib.image.AxesImage at 0x7f5b772138d0>"
      ]
     },
     "execution_count": 2,
     "metadata": {},
     "output_type": "execute_result"
    },
    {
     "data": {
      "image/png": "[encoded data removed]",
      "text/plain": [
       "<Figure size 432x288 with 1 Axes>"
      ]
     },
     "metadata": {
      "needs_background": "light"
     },
     "output_type": "display_data"
    }
   ],
   "source": [
    "np.random.seed(1125)\n",
    "nb_classes = 10\n",
    "\n",
    "# the data, shuffled and split between tran and test sets\n",
    "digits = load_digits()\n",
    "X = digits.data\n",
    "y = digits.target\n",
    "plt.imshow(X[7].reshape((8,8)), plt.get_cmap('Greys_r'), interpolation='nearest')\n",
    "plt.show()\n",
    "plt.imshow(X[1].reshape((8,8)), plt.get_cmap('Greys_r'), interpolation='nearest')"
   ]
  },
  {
   "cell_type": "code",
   "execution_count": 3,
   "metadata": {},
   "outputs": [],
   "source": [
    "# train/test split\n",
    "from sklearn.model_selection import train_test_split\n",
    "X_train, X_test, Y_train, Y_test = train_test_split(X, y, test_size=0.2)\n",
    "Y_train = np_utils.to_categorical(Y_train, nb_classes) #convert target labels to one-hot vectors\n",
    "Y_test = np_utils.to_categorical(Y_test, nb_classes)   #convert target labels to one-hot vectors"
   ]
  },
  {
   "cell_type": "markdown",
   "metadata": {},
   "source": [
    "## Building a simple neural-network with Keras\n",
    "\n",
    "Source: https://github.com/wxs/keras-mnist-tutorial"
   ]
  },
  {
   "cell_type": "code",
   "execution_count": 4,
   "metadata": {},
   "outputs": [],
   "source": [
    "from keras.models import Sequential\n",
    "from keras.layers.core import Dense, Dropout, Activation\n",
    "from keras import optimizers\n",
    "np.random.seed(1125)"
   ]
  },
  {
   "cell_type": "markdown",
   "metadata": {},
   "source": [
    "# Build the neural network\n",
    "Build the neural-network. Here we'll do a simple 3 layer fully connected network."
   ]
  },
  {
   "cell_type": "code",
   "execution_count": 21,
   "metadata": {},
   "outputs": [],
   "source": [
    "model = Sequential()\n",
    "model.add(Dense(512, input_shape=(64,)))\n",
    "model.add(Activation('relu')) # An \"activation\" is just a non-linear function applied to the output\n",
    "                              # of the layer above. Here, with a \"rectified linear unit\",\n",
    "                              # we clamp all values below 0 to 0.\n",
    "                           \n",
    "model.add(Dropout(0.2))   # Dropout helps protect the model from memorizing or \"overfitting\" the training data\n",
    "model.add(Dense(512))\n",
    "model.add(Activation('relu'))                            \n",
    "model.add(Dropout(0.2))\n",
    "model.add(Dense(10))\n",
    "model.add(Activation('softmax')) # This special \"softmax\" activation among other things,\n",
    "                                 # ensures the output is a valid probaility distribution, that is\n",
    "                                 # that its values are all non-negative and sum to 1."
   ]
  },
  {
   "cell_type": "markdown",
   "metadata": {},
   "source": [
    "## Compile the model\n",
    "Keras is built on top of TensorFlow. This package allows you to define a *computation graph* in Python, which can be compiled and run efficiently on the CPU or GPU without the overhead of the Python interpreter.\n",
    "\n",
    "When compiing a model, Keras asks you to specify your **loss function** and your **optimizer**. The loss function we'll use here is called *categorical crossentropy*, and is a loss function well-suited to comparing two probability distributions.\n",
    "\n",
    "Here our predictions are probability distributions across the ten different digits (e.g. \"we're 80% confident this image is a 3, 10% sure it's an 8, 5% it's a 2, etc.\"), and the target is a probability distribution with 100% for the correct category, and 0 for everything else. The cross-entropy is a measure of how different your predicted distribution is from the target distribution. [More detail at Wikipedia](https://en.wikipedia.org/wiki/Cross_entropy)\n",
    "\n",
    "The optimizer helps determine how quickly the model learns, how resistent it is to getting \"stuck\" or \"blowing up\". Keras provides common optimizer functions as documented [here](https://keras.io/optimizers/)"
   ]
  },
  {
   "cell_type": "code",
   "execution_count": 22,
   "metadata": {},
   "outputs": [],
   "source": [
    "optimizer = optimizers.SGD(lr=0.01, decay=1e-6, momentum=0.9, nesterov=True)\n",
    "model.compile(loss='categorical_crossentropy', optimizer=optimizer, metrics=['accuracy'])"
   ]
  },
  {
   "cell_type": "markdown",
   "metadata": {},
   "source": [
    "## Train the model!\n",
    "This is the fun part: you can feed the training data loaded in earlier into this model and it will learn to classify digits"
   ]
  },
  {
   "cell_type": "code",
   "execution_count": 23,
   "metadata": {},
   "outputs": [
    {
     "name": "stdout",
     "output_type": "stream",
     "text": [
      "Train on 1437 samples, validate on 360 samples\n",
      "Epoch 1/20\n",
      "1437/1437 [==============================] - 0s 226us/step - loss: 2.2649 - accuracy: 0.6430 - val_loss: 0.2240 - val_accuracy: 0.9250\n",
      "Epoch 2/20\n",
      "1437/1437 [==============================] - 0s 119us/step - loss: 0.2049 - accuracy: 0.9367 - val_loss: 0.1443 - val_accuracy: 0.9444\n",
      "Epoch 3/20\n",
      "1437/1437 [==============================] - 0s 119us/step - loss: 0.1326 - accuracy: 0.9562 - val_loss: 0.0937 - val_accuracy: 0.9778\n",
      "Epoch 4/20\n",
      "1437/1437 [==============================] - 0s 123us/step - loss: 0.0883 - accuracy: 0.9680 - val_loss: 0.1219 - val_accuracy: 0.9583\n",
      "Epoch 5/20\n",
      "1437/1437 [==============================] - 0s 125us/step - loss: 0.0729 - accuracy: 0.9791 - val_loss: 0.1033 - val_accuracy: 0.9750\n",
      "Epoch 6/20\n",
      "1437/1437 [==============================] - 0s 122us/step - loss: 0.0569 - accuracy: 0.9812 - val_loss: 0.0877 - val_accuracy: 0.9750\n",
      "Epoch 7/20\n",
      "1437/1437 [==============================] - 0s 120us/step - loss: 0.0504 - accuracy: 0.9833 - val_loss: 0.1132 - val_accuracy: 0.9639\n",
      "Epoch 8/20\n",
      "1437/1437 [==============================] - 0s 120us/step - loss: 0.0351 - accuracy: 0.9875 - val_loss: 0.0730 - val_accuracy: 0.9806\n",
      "Epoch 9/20\n",
      "1437/1437 [==============================] - 0s 117us/step - loss: 0.0449 - accuracy: 0.9875 - val_loss: 0.0685 - val_accuracy: 0.9861\n",
      "Epoch 10/20\n",
      "1437/1437 [==============================] - 0s 121us/step - loss: 0.0363 - accuracy: 0.9875 - val_loss: 0.0643 - val_accuracy: 0.9778\n",
      "Epoch 11/20\n",
      "1437/1437 [==============================] - 0s 119us/step - loss: 0.0236 - accuracy: 0.9923 - val_loss: 0.0998 - val_accuracy: 0.9667\n",
      "Epoch 12/20\n",
      "1437/1437 [==============================] - 0s 118us/step - loss: 0.0225 - accuracy: 0.9930 - val_loss: 0.0748 - val_accuracy: 0.9778\n",
      "Epoch 13/20\n",
      "1437/1437 [==============================] - 0s 122us/step - loss: 0.0225 - accuracy: 0.9958 - val_loss: 0.0723 - val_accuracy: 0.9750\n",
      "Epoch 14/20\n",
      "1437/1437 [==============================] - 0s 125us/step - loss: 0.0207 - accuracy: 0.9930 - val_loss: 0.0694 - val_accuracy: 0.9806\n",
      "Epoch 15/20\n",
      "1437/1437 [==============================] - 0s 122us/step - loss: 0.0144 - accuracy: 0.9972 - val_loss: 0.0600 - val_accuracy: 0.9806\n",
      "Epoch 16/20\n",
      "1437/1437 [==============================] - 0s 123us/step - loss: 0.0172 - accuracy: 0.9951 - val_loss: 0.0755 - val_accuracy: 0.9722\n",
      "Epoch 17/20\n",
      "1437/1437 [==============================] - 0s 119us/step - loss: 0.0176 - accuracy: 0.9944 - val_loss: 0.0772 - val_accuracy: 0.9750\n",
      "Epoch 18/20\n",
      "1437/1437 [==============================] - 0s 122us/step - loss: 0.0147 - accuracy: 0.9965 - val_loss: 0.0804 - val_accuracy: 0.9694\n",
      "Epoch 19/20\n",
      "1437/1437 [==============================] - 0s 120us/step - loss: 0.0162 - accuracy: 0.9958 - val_loss: 0.0855 - val_accuracy: 0.9750\n",
      "Epoch 20/20\n",
      "1437/1437 [==============================] - 0s 119us/step - loss: 0.0164 - accuracy: 0.9923 - val_loss: 0.0672 - val_accuracy: 0.9750\n"
     ]
    }
   ],
   "source": [
    "model_hist = model.fit(X_train, Y_train,\n",
    "                       batch_size=64, epochs=20,\n",
    "                       verbose=1, validation_data=(X_test, Y_test))"
   ]
  },
  {
   "cell_type": "markdown",
   "metadata": {},
   "source": [
    "## Finally, evaluate its performance"
   ]
  },
  {
   "cell_type": "code",
   "execution_count": 24,
   "metadata": {},
   "outputs": [
    {
     "name": "stdout",
     "output_type": "stream",
     "text": [
      "Test loss: 0.0672050437020112\n",
      "Test accuracy: 0.9750000238418579\n"
     ]
    },
    {
     "data": {
      "image/png": "[encoded data removed]",
      "text/plain": [
       "<Figure size 504x504 with 1 Axes>"
      ]
     },
     "metadata": {
      "needs_background": "light"
     },
     "output_type": "display_data"
    }
   ],
   "source": [
    "score = model.evaluate(X_test, Y_test, verbose=0)\n",
    "print('Test loss:', score[0])\n",
    "print('Test accuracy:', score[1])\n",
    "plt.figure(figsize=(7,7))\n",
    "plt.plot(model_hist.history['val_accuracy'])\n",
    "plt.xlabel(\"#Epochs\")\n",
    "plt.ylabel(\"Validation Accuracy\")\n",
    "plt.show()"
   ]
  },
  {
   "cell_type": "markdown",
   "metadata": {},
   "source": [
    "### Inspecting the output\n",
    "\n",
    "It's always a good idea to inspect the output and make sure everything looks sane. Here we'll look at some examples it gets right, and some examples it gets wrong."
   ]
  },
  {
   "cell_type": "code",
   "execution_count": 25,
   "metadata": {},
   "outputs": [],
   "source": [
    "# The predict_classes function outputs the highest probability class\n",
    "# according to the trained classifier for each input example.\n",
    "predicted_classes = model.predict_classes(X_test)\n",
    "\n",
    "# Check which items we got right / wrong\n",
    "actual_classes = np.where(Y_test==1)[1]\n",
    "\n",
    "correct_indices = np.nonzero(predicted_classes == actual_classes)[0]\n",
    "incorrect_indices = np.nonzero(predicted_classes != actual_classes)[0]"
   ]
  },
  {
   "cell_type": "code",
   "execution_count": 26,
   "metadata": {
    "scrolled": false
   },
   "outputs": [
    {
     "data": {
      "image/png": "[encoded data removed]",
      "text/plain": [
       "<Figure size 360x360 with 9 Axes>"
      ]
     },
     "metadata": {
      "needs_background": "light"
     },
     "output_type": "display_data"
    },
    {
     "data": {
      "image/png": "[encoded data removed]",
      "text/plain": [
       "<Figure size 360x360 with 9 Axes>"
      ]
     },
     "metadata": {
      "needs_background": "light"
     },
     "output_type": "display_data"
    }
   ],
   "source": [
    "fig, axes = plt.subplots(3, 3, figsize=(5, 5))\n",
    "for i, ax in enumerate(axes.flatten()):\n",
    "    ax.imshow(X_test[correct_indices[i]].reshape(8,8), cmap='gray', interpolation='none')\n",
    "    ax.set_title(\"Pred: {}, True: {}\".format(predicted_classes[correct_indices[i]], actual_classes[correct_indices[i]]))\n",
    "plt.suptitle('Correct Predictions', y=1.05, size=14)\n",
    "plt.tight_layout()\n",
    "    \n",
    "fig, axes = plt.subplots(3, 3, figsize=(5, 5))\n",
    "for i, ax in enumerate(axes.flatten()):\n",
    "    ax.imshow(X_test[incorrect_indices[i]].reshape(8,8), cmap='gray', interpolation='none')\n",
    "    ax.set_title(\"Pred: {}, True: {}\".format(predicted_classes[incorrect_indices[i]], actual_classes[incorrect_indices[i]]))\n",
    "plt.suptitle('Incorrect Predictions', y=1.05, size=14)\n",
    "plt.tight_layout()"
   ]
  },
  {
   "cell_type": "markdown",
   "metadata": {},
   "source": [
    "# That's all!"
   ]
  },
  {
   "cell_type": "markdown",
   "metadata": {},
   "source": [
    "There are lots of other great examples at the Keras homepage at http://keras.io and in the source code at https://github.com/fchollet/keras"
   ]
  }
 ],
 "metadata": {
  "kernelspec": {
   "display_name": "Python 3",
   "language": "python",
   "name": "python3"
  },
  "language_info": {
   "codemirror_mode": {
    "name": "ipython",
    "version": 3
   },
   "file_extension": ".py",
   "mimetype": "text/x-python",
   "name": "python",
   "nbconvert_exporter": "python",
   "pygments_lexer": "ipython3",
   "version": "3.7.3"
  }
 },
 "nbformat": 4,
 "nbformat_minor": 1
}
